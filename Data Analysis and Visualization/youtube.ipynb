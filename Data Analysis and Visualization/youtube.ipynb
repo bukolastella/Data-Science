{
 "cells": [
  {
   "cell_type": "code",
   "execution_count": 1,
   "metadata": {},
   "outputs": [],
   "source": [
    "import pandas as pd\n",
    "import numpy as np\n",
    "import matplotlib.pyplot as plt\n",
    "%matplotlib inline"
   ]
  },
  {
   "cell_type": "code",
   "execution_count": 2,
   "metadata": {},
   "outputs": [],
   "source": [
    "path = 'C:\\\\Users\\ABOLARIN BUKOLA\\Documents\\Data set\\CAvideos.csv\\youtube.csv'"
   ]
  },
  {
   "cell_type": "code",
   "execution_count": 3,
   "metadata": {},
   "outputs": [],
   "source": [
    "df = pd.read_csv(path)"
   ]
  },
  {
   "cell_type": "code",
   "execution_count": 4,
   "metadata": {},
   "outputs": [
    {
     "data": {
      "text/html": [
       "<div>\n",
       "<style scoped>\n",
       "    .dataframe tbody tr th:only-of-type {\n",
       "        vertical-align: middle;\n",
       "    }\n",
       "\n",
       "    .dataframe tbody tr th {\n",
       "        vertical-align: top;\n",
       "    }\n",
       "\n",
       "    .dataframe thead th {\n",
       "        text-align: right;\n",
       "    }\n",
       "</style>\n",
       "<table border=\"1\" class=\"dataframe\">\n",
       "  <thead>\n",
       "    <tr style=\"text-align: right;\">\n",
       "      <th></th>\n",
       "      <th>video_id</th>\n",
       "      <th>trending_date</th>\n",
       "      <th>title</th>\n",
       "      <th>channel_title</th>\n",
       "      <th>category_id</th>\n",
       "      <th>publish_time</th>\n",
       "      <th>tags</th>\n",
       "      <th>views</th>\n",
       "      <th>likes</th>\n",
       "      <th>dislikes</th>\n",
       "      <th>comment_count</th>\n",
       "      <th>thumbnail_link</th>\n",
       "      <th>comments_disabled</th>\n",
       "      <th>ratings_disabled</th>\n",
       "      <th>video_error_or_removed</th>\n",
       "      <th>description</th>\n",
       "    </tr>\n",
       "  </thead>\n",
       "  <tbody>\n",
       "    <tr>\n",
       "      <td>0</td>\n",
       "      <td>n1WpP7iowLc</td>\n",
       "      <td>17.14.11</td>\n",
       "      <td>Eminem - Walk On Water (Audio) ft. Beyoncé</td>\n",
       "      <td>EminemVEVO</td>\n",
       "      <td>10</td>\n",
       "      <td>2017-11-10T17:00:03.000Z</td>\n",
       "      <td>Eminem|\"Walk\"|\"On\"|\"Water\"|\"Aftermath/Shady/In...</td>\n",
       "      <td>17158579</td>\n",
       "      <td>787425</td>\n",
       "      <td>43420</td>\n",
       "      <td>125882</td>\n",
       "      <td>https://i.ytimg.com/vi/n1WpP7iowLc/default.jpg</td>\n",
       "      <td>False</td>\n",
       "      <td>False</td>\n",
       "      <td>False</td>\n",
       "      <td>Eminem's new track Walk on Water ft. Beyoncé i...</td>\n",
       "    </tr>\n",
       "    <tr>\n",
       "      <td>1</td>\n",
       "      <td>0dBIkQ4Mz1M</td>\n",
       "      <td>17.14.11</td>\n",
       "      <td>PLUSH - Bad Unboxing Fan Mail</td>\n",
       "      <td>iDubbbzTV</td>\n",
       "      <td>23</td>\n",
       "      <td>2017-11-13T17:00:00.000Z</td>\n",
       "      <td>plush|\"bad unboxing\"|\"unboxing\"|\"fan mail\"|\"id...</td>\n",
       "      <td>1014651</td>\n",
       "      <td>127794</td>\n",
       "      <td>1688</td>\n",
       "      <td>13030</td>\n",
       "      <td>https://i.ytimg.com/vi/0dBIkQ4Mz1M/default.jpg</td>\n",
       "      <td>False</td>\n",
       "      <td>False</td>\n",
       "      <td>False</td>\n",
       "      <td>STill got a lot of packages. Probably will las...</td>\n",
       "    </tr>\n",
       "    <tr>\n",
       "      <td>2</td>\n",
       "      <td>5qpjK5DgCt4</td>\n",
       "      <td>17.14.11</td>\n",
       "      <td>Racist Superman | Rudy Mancuso, King Bach &amp; Le...</td>\n",
       "      <td>Rudy Mancuso</td>\n",
       "      <td>23</td>\n",
       "      <td>2017-11-12T19:05:24.000Z</td>\n",
       "      <td>racist superman|\"rudy\"|\"mancuso\"|\"king\"|\"bach\"...</td>\n",
       "      <td>3191434</td>\n",
       "      <td>146035</td>\n",
       "      <td>5339</td>\n",
       "      <td>8181</td>\n",
       "      <td>https://i.ytimg.com/vi/5qpjK5DgCt4/default.jpg</td>\n",
       "      <td>False</td>\n",
       "      <td>False</td>\n",
       "      <td>False</td>\n",
       "      <td>WATCH MY PREVIOUS VIDEO ▶ \\n\\nSUBSCRIBE ► http...</td>\n",
       "    </tr>\n",
       "    <tr>\n",
       "      <td>3</td>\n",
       "      <td>d380meD0W0M</td>\n",
       "      <td>17.14.11</td>\n",
       "      <td>I Dare You: GOING BALD!?</td>\n",
       "      <td>nigahiga</td>\n",
       "      <td>24</td>\n",
       "      <td>2017-11-12T18:01:41.000Z</td>\n",
       "      <td>ryan|\"higa\"|\"higatv\"|\"nigahiga\"|\"i dare you\"|\"...</td>\n",
       "      <td>2095828</td>\n",
       "      <td>132239</td>\n",
       "      <td>1989</td>\n",
       "      <td>17518</td>\n",
       "      <td>https://i.ytimg.com/vi/d380meD0W0M/default.jpg</td>\n",
       "      <td>False</td>\n",
       "      <td>False</td>\n",
       "      <td>False</td>\n",
       "      <td>I know it's been a while since we did this sho...</td>\n",
       "    </tr>\n",
       "    <tr>\n",
       "      <td>4</td>\n",
       "      <td>2Vv-BfVoq4g</td>\n",
       "      <td>17.14.11</td>\n",
       "      <td>Ed Sheeran - Perfect (Official Music Video)</td>\n",
       "      <td>Ed Sheeran</td>\n",
       "      <td>10</td>\n",
       "      <td>2017-11-09T11:04:14.000Z</td>\n",
       "      <td>edsheeran|\"ed sheeran\"|\"acoustic\"|\"live\"|\"cove...</td>\n",
       "      <td>33523622</td>\n",
       "      <td>1634130</td>\n",
       "      <td>21082</td>\n",
       "      <td>85067</td>\n",
       "      <td>https://i.ytimg.com/vi/2Vv-BfVoq4g/default.jpg</td>\n",
       "      <td>False</td>\n",
       "      <td>False</td>\n",
       "      <td>False</td>\n",
       "      <td>🎧: https://ad.gt/yt-perfect\\n💰: https://atlant...</td>\n",
       "    </tr>\n",
       "  </tbody>\n",
       "</table>\n",
       "</div>"
      ],
      "text/plain": [
       "      video_id trending_date  \\\n",
       "0  n1WpP7iowLc      17.14.11   \n",
       "1  0dBIkQ4Mz1M      17.14.11   \n",
       "2  5qpjK5DgCt4      17.14.11   \n",
       "3  d380meD0W0M      17.14.11   \n",
       "4  2Vv-BfVoq4g      17.14.11   \n",
       "\n",
       "                                               title channel_title  \\\n",
       "0         Eminem - Walk On Water (Audio) ft. Beyoncé    EminemVEVO   \n",
       "1                      PLUSH - Bad Unboxing Fan Mail     iDubbbzTV   \n",
       "2  Racist Superman | Rudy Mancuso, King Bach & Le...  Rudy Mancuso   \n",
       "3                           I Dare You: GOING BALD!?      nigahiga   \n",
       "4        Ed Sheeran - Perfect (Official Music Video)    Ed Sheeran   \n",
       "\n",
       "   category_id              publish_time  \\\n",
       "0           10  2017-11-10T17:00:03.000Z   \n",
       "1           23  2017-11-13T17:00:00.000Z   \n",
       "2           23  2017-11-12T19:05:24.000Z   \n",
       "3           24  2017-11-12T18:01:41.000Z   \n",
       "4           10  2017-11-09T11:04:14.000Z   \n",
       "\n",
       "                                                tags     views    likes  \\\n",
       "0  Eminem|\"Walk\"|\"On\"|\"Water\"|\"Aftermath/Shady/In...  17158579   787425   \n",
       "1  plush|\"bad unboxing\"|\"unboxing\"|\"fan mail\"|\"id...   1014651   127794   \n",
       "2  racist superman|\"rudy\"|\"mancuso\"|\"king\"|\"bach\"...   3191434   146035   \n",
       "3  ryan|\"higa\"|\"higatv\"|\"nigahiga\"|\"i dare you\"|\"...   2095828   132239   \n",
       "4  edsheeran|\"ed sheeran\"|\"acoustic\"|\"live\"|\"cove...  33523622  1634130   \n",
       "\n",
       "   dislikes  comment_count                                  thumbnail_link  \\\n",
       "0     43420         125882  https://i.ytimg.com/vi/n1WpP7iowLc/default.jpg   \n",
       "1      1688          13030  https://i.ytimg.com/vi/0dBIkQ4Mz1M/default.jpg   \n",
       "2      5339           8181  https://i.ytimg.com/vi/5qpjK5DgCt4/default.jpg   \n",
       "3      1989          17518  https://i.ytimg.com/vi/d380meD0W0M/default.jpg   \n",
       "4     21082          85067  https://i.ytimg.com/vi/2Vv-BfVoq4g/default.jpg   \n",
       "\n",
       "   comments_disabled  ratings_disabled  video_error_or_removed  \\\n",
       "0              False             False                   False   \n",
       "1              False             False                   False   \n",
       "2              False             False                   False   \n",
       "3              False             False                   False   \n",
       "4              False             False                   False   \n",
       "\n",
       "                                         description  \n",
       "0  Eminem's new track Walk on Water ft. Beyoncé i...  \n",
       "1  STill got a lot of packages. Probably will las...  \n",
       "2  WATCH MY PREVIOUS VIDEO ▶ \\n\\nSUBSCRIBE ► http...  \n",
       "3  I know it's been a while since we did this sho...  \n",
       "4  🎧: https://ad.gt/yt-perfect\\n💰: https://atlant...  "
      ]
     },
     "execution_count": 4,
     "metadata": {},
     "output_type": "execute_result"
    }
   ],
   "source": [
    "df.head()"
   ]
  },
  {
   "cell_type": "code",
   "execution_count": 5,
   "metadata": {},
   "outputs": [
    {
     "data": {
      "text/plain": [
       "27604      3\n",
       "124117     3\n",
       "103431     3\n",
       "180342     3\n",
       "145805     3\n",
       "          ..\n",
       "350846     1\n",
       "1131133    1\n",
       "4301571    1\n",
       "29307      1\n",
       "67585      1\n",
       "Name: views, Length: 40170, dtype: int64"
      ]
     },
     "execution_count": 5,
     "metadata": {},
     "output_type": "execute_result"
    }
   ],
   "source": [
    "df['views'].value_counts(ascending = False)"
   ]
  },
  {
   "cell_type": "code",
   "execution_count": 6,
   "metadata": {},
   "outputs": [
    {
     "data": {
      "text/plain": [
       "0        17158579\n",
       "1         1014651\n",
       "2         3191434\n",
       "3         2095828\n",
       "4        33523622\n",
       "           ...   \n",
       "40876       80685\n",
       "40877      103339\n",
       "40878      773347\n",
       "40879      115225\n",
       "40880      107392\n",
       "Name: views, Length: 40881, dtype: int64"
      ]
     },
     "execution_count": 6,
     "metadata": {},
     "output_type": "execute_result"
    }
   ],
   "source": [
    "df['views']"
   ]
  },
  {
   "cell_type": "code",
   "execution_count": 7,
   "metadata": {},
   "outputs": [
    {
     "name": "stdout",
     "output_type": "stream",
     "text": [
      "<class 'pandas.core.frame.DataFrame'>\n",
      "RangeIndex: 40881 entries, 0 to 40880\n",
      "Data columns (total 16 columns):\n",
      "video_id                  40881 non-null object\n",
      "trending_date             40881 non-null object\n",
      "title                     40881 non-null object\n",
      "channel_title             40881 non-null object\n",
      "category_id               40881 non-null int64\n",
      "publish_time              40881 non-null object\n",
      "tags                      40881 non-null object\n",
      "views                     40881 non-null int64\n",
      "likes                     40881 non-null int64\n",
      "dislikes                  40881 non-null int64\n",
      "comment_count             40881 non-null int64\n",
      "thumbnail_link            40881 non-null object\n",
      "comments_disabled         40881 non-null bool\n",
      "ratings_disabled          40881 non-null bool\n",
      "video_error_or_removed    40881 non-null bool\n",
      "description               39585 non-null object\n",
      "dtypes: bool(3), int64(5), object(8)\n",
      "memory usage: 4.2+ MB\n"
     ]
    }
   ],
   "source": [
    "df.info()"
   ]
  },
  {
   "cell_type": "code",
   "execution_count": 8,
   "metadata": {},
   "outputs": [
    {
     "data": {
      "text/html": [
       "<div>\n",
       "<style scoped>\n",
       "    .dataframe tbody tr th:only-of-type {\n",
       "        vertical-align: middle;\n",
       "    }\n",
       "\n",
       "    .dataframe tbody tr th {\n",
       "        vertical-align: top;\n",
       "    }\n",
       "\n",
       "    .dataframe thead th {\n",
       "        text-align: right;\n",
       "    }\n",
       "</style>\n",
       "<table border=\"1\" class=\"dataframe\">\n",
       "  <thead>\n",
       "    <tr style=\"text-align: right;\">\n",
       "      <th></th>\n",
       "      <th>video_id</th>\n",
       "      <th>trending_date</th>\n",
       "      <th>title</th>\n",
       "      <th>channel_title</th>\n",
       "      <th>category_id</th>\n",
       "      <th>publish_time</th>\n",
       "      <th>tags</th>\n",
       "      <th>views</th>\n",
       "      <th>likes</th>\n",
       "      <th>dislikes</th>\n",
       "      <th>comment_count</th>\n",
       "      <th>thumbnail_link</th>\n",
       "      <th>comments_disabled</th>\n",
       "      <th>ratings_disabled</th>\n",
       "      <th>video_error_or_removed</th>\n",
       "      <th>description</th>\n",
       "    </tr>\n",
       "  </thead>\n",
       "  <tbody>\n",
       "    <tr>\n",
       "      <td>98</td>\n",
       "      <td>lHcXhBojpeQ</td>\n",
       "      <td>17.14.11</td>\n",
       "      <td>三屆TVB視帝，拋棄10年青梅竹馬髮妻，為娶小三還不惜與母絕交！</td>\n",
       "      <td>明星百曉生</td>\n",
       "      <td>22</td>\n",
       "      <td>2017-11-12T12:49:50.000Z</td>\n",
       "      <td>[none]</td>\n",
       "      <td>88061</td>\n",
       "      <td>47</td>\n",
       "      <td>58</td>\n",
       "      <td>17</td>\n",
       "      <td>https://i.ytimg.com/vi/lHcXhBojpeQ/default.jpg</td>\n",
       "      <td>False</td>\n",
       "      <td>False</td>\n",
       "      <td>False</td>\n",
       "      <td>NaN</td>\n",
       "    </tr>\n",
       "    <tr>\n",
       "      <td>115</td>\n",
       "      <td>_QHEPUKBn9g</td>\n",
       "      <td>17.14.11</td>\n",
       "      <td>‘Too Alabama for Alabama’: SNL brutally mocks ...</td>\n",
       "      <td>MAXI POWER</td>\n",
       "      <td>23</td>\n",
       "      <td>2017-11-12T05:01:18.000Z</td>\n",
       "      <td>[none]</td>\n",
       "      <td>20163</td>\n",
       "      <td>44</td>\n",
       "      <td>34</td>\n",
       "      <td>8</td>\n",
       "      <td>https://i.ytimg.com/vi/_QHEPUKBn9g/default.jpg</td>\n",
       "      <td>False</td>\n",
       "      <td>False</td>\n",
       "      <td>False</td>\n",
       "      <td>NaN</td>\n",
       "    </tr>\n",
       "    <tr>\n",
       "      <td>128</td>\n",
       "      <td>JdHovvb0KD4</td>\n",
       "      <td>17.14.11</td>\n",
       "      <td>Pres. Trump: Putin's Denials Of Interference I...</td>\n",
       "      <td>The View</td>\n",
       "      <td>25</td>\n",
       "      <td>2017-11-13T16:10:21.000Z</td>\n",
       "      <td>donald trump|\"vladimir putin\"|\"the view\"|\"hot ...</td>\n",
       "      <td>72253</td>\n",
       "      <td>1217</td>\n",
       "      <td>146</td>\n",
       "      <td>569</td>\n",
       "      <td>https://i.ytimg.com/vi/JdHovvb0KD4/default.jpg</td>\n",
       "      <td>False</td>\n",
       "      <td>False</td>\n",
       "      <td>False</td>\n",
       "      <td>NaN</td>\n",
       "    </tr>\n",
       "    <tr>\n",
       "      <td>165</td>\n",
       "      <td>OA0vhAKUD0g</td>\n",
       "      <td>17.14.11</td>\n",
       "      <td>Outlander S03E09 i'm melting with you''</td>\n",
       "      <td>Ella bell</td>\n",
       "      <td>1</td>\n",
       "      <td>2017-11-12T22:33:48.000Z</td>\n",
       "      <td>[none]</td>\n",
       "      <td>32941</td>\n",
       "      <td>149</td>\n",
       "      <td>2</td>\n",
       "      <td>5</td>\n",
       "      <td>https://i.ytimg.com/vi/OA0vhAKUD0g/default.jpg</td>\n",
       "      <td>False</td>\n",
       "      <td>False</td>\n",
       "      <td>False</td>\n",
       "      <td>NaN</td>\n",
       "    </tr>\n",
       "    <tr>\n",
       "      <td>179</td>\n",
       "      <td>psDauoxUj9A</td>\n",
       "      <td>17.14.11</td>\n",
       "      <td>شاهد انبهار الاعلام المصري  بتأهل المغرب لكأس ...</td>\n",
       "      <td>Info Press</td>\n",
       "      <td>17</td>\n",
       "      <td>2017-11-11T22:04:37.000Z</td>\n",
       "      <td>[none]</td>\n",
       "      <td>624328</td>\n",
       "      <td>7100</td>\n",
       "      <td>398</td>\n",
       "      <td>971</td>\n",
       "      <td>https://i.ytimg.com/vi/psDauoxUj9A/default.jpg</td>\n",
       "      <td>False</td>\n",
       "      <td>False</td>\n",
       "      <td>False</td>\n",
       "      <td>NaN</td>\n",
       "    </tr>\n",
       "    <tr>\n",
       "      <td>182</td>\n",
       "      <td>SwnP04VvfOY</td>\n",
       "      <td>17.14.11</td>\n",
       "      <td>بالفيديو ... سعد الحريري يتلقى معلومة من خلف ا...</td>\n",
       "      <td>tayyar.org</td>\n",
       "      <td>25</td>\n",
       "      <td>2017-11-12T20:09:03.000Z</td>\n",
       "      <td>[none]</td>\n",
       "      <td>40454</td>\n",
       "      <td>2</td>\n",
       "      <td>5</td>\n",
       "      <td>2</td>\n",
       "      <td>https://i.ytimg.com/vi/SwnP04VvfOY/default.jpg</td>\n",
       "      <td>False</td>\n",
       "      <td>False</td>\n",
       "      <td>False</td>\n",
       "      <td>NaN</td>\n",
       "    </tr>\n",
       "    <tr>\n",
       "      <td>276</td>\n",
       "      <td>W2om14p_xfw</td>\n",
       "      <td>17.15.11</td>\n",
       "      <td>Writer: My Kids Can't Be Friends With White Pe...</td>\n",
       "      <td>The View</td>\n",
       "      <td>24</td>\n",
       "      <td>2017-11-14T16:32:12.000Z</td>\n",
       "      <td>the view|\"new york times\"|\"parenting\"|\"family\"...</td>\n",
       "      <td>89444</td>\n",
       "      <td>753</td>\n",
       "      <td>45</td>\n",
       "      <td>666</td>\n",
       "      <td>https://i.ytimg.com/vi/W2om14p_xfw/default.jpg</td>\n",
       "      <td>False</td>\n",
       "      <td>False</td>\n",
       "      <td>False</td>\n",
       "      <td>NaN</td>\n",
       "    </tr>\n",
       "    <tr>\n",
       "      <td>350</td>\n",
       "      <td>tEklSDpLpzY</td>\n",
       "      <td>17.15.11</td>\n",
       "      <td>习大大李克强乘风破浪全线出击 中日韩东盟空前合体 特朗普遭重创提前出局？</td>\n",
       "      <td>炮座新观察【各路嘉宾 每日热评】</td>\n",
       "      <td>25</td>\n",
       "      <td>2017-11-14T18:47:19.000Z</td>\n",
       "      <td>歼20|\"军情\"|\"军事\"|\"中国\"|\"评论\"|\"房兵\"|\"李莉\"|\"张召忠\"|\"张彬\"|\"...</td>\n",
       "      <td>37593</td>\n",
       "      <td>146</td>\n",
       "      <td>23</td>\n",
       "      <td>20</td>\n",
       "      <td>https://i.ytimg.com/vi/tEklSDpLpzY/default.jpg</td>\n",
       "      <td>False</td>\n",
       "      <td>False</td>\n",
       "      <td>False</td>\n",
       "      <td>NaN</td>\n",
       "    </tr>\n",
       "    <tr>\n",
       "      <td>371</td>\n",
       "      <td>S-5IU_xdAIg</td>\n",
       "      <td>17.15.11</td>\n",
       "      <td>WATCH LIVE: Attorney General Sessions testifie...</td>\n",
       "      <td>PBS NewsHour</td>\n",
       "      <td>25</td>\n",
       "      <td>2017-11-14T22:07:58.000Z</td>\n",
       "      <td>[none]</td>\n",
       "      <td>46905</td>\n",
       "      <td>228</td>\n",
       "      <td>29</td>\n",
       "      <td>0</td>\n",
       "      <td>https://i.ytimg.com/vi/S-5IU_xdAIg/default.jpg</td>\n",
       "      <td>True</td>\n",
       "      <td>False</td>\n",
       "      <td>False</td>\n",
       "      <td>NaN</td>\n",
       "    </tr>\n",
       "    <tr>\n",
       "      <td>437</td>\n",
       "      <td>e3cAjHLA-iU</td>\n",
       "      <td>17.16.11</td>\n",
       "      <td>Il fait la statue et échappe à la police penda...</td>\n",
       "      <td>jean registre</td>\n",
       "      <td>22</td>\n",
       "      <td>2017-11-15T03:09:59.000Z</td>\n",
       "      <td>[none]</td>\n",
       "      <td>5386</td>\n",
       "      <td>7</td>\n",
       "      <td>2</td>\n",
       "      <td>1</td>\n",
       "      <td>https://i.ytimg.com/vi/e3cAjHLA-iU/default.jpg</td>\n",
       "      <td>False</td>\n",
       "      <td>False</td>\n",
       "      <td>False</td>\n",
       "      <td>NaN</td>\n",
       "    </tr>\n",
       "  </tbody>\n",
       "</table>\n",
       "</div>"
      ],
      "text/plain": [
       "        video_id trending_date  \\\n",
       "98   lHcXhBojpeQ      17.14.11   \n",
       "115  _QHEPUKBn9g      17.14.11   \n",
       "128  JdHovvb0KD4      17.14.11   \n",
       "165  OA0vhAKUD0g      17.14.11   \n",
       "179  psDauoxUj9A      17.14.11   \n",
       "182  SwnP04VvfOY      17.14.11   \n",
       "276  W2om14p_xfw      17.15.11   \n",
       "350  tEklSDpLpzY      17.15.11   \n",
       "371  S-5IU_xdAIg      17.15.11   \n",
       "437  e3cAjHLA-iU      17.16.11   \n",
       "\n",
       "                                                 title     channel_title  \\\n",
       "98                    三屆TVB視帝，拋棄10年青梅竹馬髮妻，為娶小三還不惜與母絕交！             明星百曉生   \n",
       "115  ‘Too Alabama for Alabama’: SNL brutally mocks ...        MAXI POWER   \n",
       "128  Pres. Trump: Putin's Denials Of Interference I...          The View   \n",
       "165            Outlander S03E09 i'm melting with you''         Ella bell   \n",
       "179  شاهد انبهار الاعلام المصري  بتأهل المغرب لكأس ...        Info Press   \n",
       "182  بالفيديو ... سعد الحريري يتلقى معلومة من خلف ا...        tayyar.org   \n",
       "276  Writer: My Kids Can't Be Friends With White Pe...          The View   \n",
       "350               习大大李克强乘风破浪全线出击 中日韩东盟空前合体 特朗普遭重创提前出局？  炮座新观察【各路嘉宾 每日热评】   \n",
       "371  WATCH LIVE: Attorney General Sessions testifie...      PBS NewsHour   \n",
       "437  Il fait la statue et échappe à la police penda...     jean registre   \n",
       "\n",
       "     category_id              publish_time  \\\n",
       "98            22  2017-11-12T12:49:50.000Z   \n",
       "115           23  2017-11-12T05:01:18.000Z   \n",
       "128           25  2017-11-13T16:10:21.000Z   \n",
       "165            1  2017-11-12T22:33:48.000Z   \n",
       "179           17  2017-11-11T22:04:37.000Z   \n",
       "182           25  2017-11-12T20:09:03.000Z   \n",
       "276           24  2017-11-14T16:32:12.000Z   \n",
       "350           25  2017-11-14T18:47:19.000Z   \n",
       "371           25  2017-11-14T22:07:58.000Z   \n",
       "437           22  2017-11-15T03:09:59.000Z   \n",
       "\n",
       "                                                  tags   views  likes  \\\n",
       "98                                              [none]   88061     47   \n",
       "115                                             [none]   20163     44   \n",
       "128  donald trump|\"vladimir putin\"|\"the view\"|\"hot ...   72253   1217   \n",
       "165                                             [none]   32941    149   \n",
       "179                                             [none]  624328   7100   \n",
       "182                                             [none]   40454      2   \n",
       "276  the view|\"new york times\"|\"parenting\"|\"family\"...   89444    753   \n",
       "350  歼20|\"军情\"|\"军事\"|\"中国\"|\"评论\"|\"房兵\"|\"李莉\"|\"张召忠\"|\"张彬\"|\"...   37593    146   \n",
       "371                                             [none]   46905    228   \n",
       "437                                             [none]    5386      7   \n",
       "\n",
       "     dislikes  comment_count                                  thumbnail_link  \\\n",
       "98         58             17  https://i.ytimg.com/vi/lHcXhBojpeQ/default.jpg   \n",
       "115        34              8  https://i.ytimg.com/vi/_QHEPUKBn9g/default.jpg   \n",
       "128       146            569  https://i.ytimg.com/vi/JdHovvb0KD4/default.jpg   \n",
       "165         2              5  https://i.ytimg.com/vi/OA0vhAKUD0g/default.jpg   \n",
       "179       398            971  https://i.ytimg.com/vi/psDauoxUj9A/default.jpg   \n",
       "182         5              2  https://i.ytimg.com/vi/SwnP04VvfOY/default.jpg   \n",
       "276        45            666  https://i.ytimg.com/vi/W2om14p_xfw/default.jpg   \n",
       "350        23             20  https://i.ytimg.com/vi/tEklSDpLpzY/default.jpg   \n",
       "371        29              0  https://i.ytimg.com/vi/S-5IU_xdAIg/default.jpg   \n",
       "437         2              1  https://i.ytimg.com/vi/e3cAjHLA-iU/default.jpg   \n",
       "\n",
       "     comments_disabled  ratings_disabled  video_error_or_removed description  \n",
       "98               False             False                   False         NaN  \n",
       "115              False             False                   False         NaN  \n",
       "128              False             False                   False         NaN  \n",
       "165              False             False                   False         NaN  \n",
       "179              False             False                   False         NaN  \n",
       "182              False             False                   False         NaN  \n",
       "276              False             False                   False         NaN  \n",
       "350              False             False                   False         NaN  \n",
       "371               True             False                   False         NaN  \n",
       "437              False             False                   False         NaN  "
      ]
     },
     "execution_count": 8,
     "metadata": {},
     "output_type": "execute_result"
    }
   ],
   "source": [
    "df[df['description'].apply(lambda x: pd.isna(x) )].head(10)"
   ]
  },
  {
   "cell_type": "code",
   "execution_count": 9,
   "metadata": {},
   "outputs": [],
   "source": [
    "df['description'].fillna(' ', inplace = True)"
   ]
  },
  {
   "cell_type": "code",
   "execution_count": 10,
   "metadata": {},
   "outputs": [
    {
     "data": {
      "text/html": [
       "<div>\n",
       "<style scoped>\n",
       "    .dataframe tbody tr th:only-of-type {\n",
       "        vertical-align: middle;\n",
       "    }\n",
       "\n",
       "    .dataframe tbody tr th {\n",
       "        vertical-align: top;\n",
       "    }\n",
       "\n",
       "    .dataframe thead th {\n",
       "        text-align: right;\n",
       "    }\n",
       "</style>\n",
       "<table border=\"1\" class=\"dataframe\">\n",
       "  <thead>\n",
       "    <tr style=\"text-align: right;\">\n",
       "      <th></th>\n",
       "      <th>video_id</th>\n",
       "      <th>trending_date</th>\n",
       "      <th>title</th>\n",
       "      <th>channel_title</th>\n",
       "      <th>category_id</th>\n",
       "      <th>publish_time</th>\n",
       "      <th>tags</th>\n",
       "      <th>views</th>\n",
       "      <th>likes</th>\n",
       "      <th>dislikes</th>\n",
       "      <th>comment_count</th>\n",
       "      <th>thumbnail_link</th>\n",
       "      <th>comments_disabled</th>\n",
       "      <th>ratings_disabled</th>\n",
       "      <th>video_error_or_removed</th>\n",
       "      <th>description</th>\n",
       "    </tr>\n",
       "  </thead>\n",
       "  <tbody>\n",
       "  </tbody>\n",
       "</table>\n",
       "</div>"
      ],
      "text/plain": [
       "Empty DataFrame\n",
       "Columns: [video_id, trending_date, title, channel_title, category_id, publish_time, tags, views, likes, dislikes, comment_count, thumbnail_link, comments_disabled, ratings_disabled, video_error_or_removed, description]\n",
       "Index: []"
      ]
     },
     "execution_count": 10,
     "metadata": {},
     "output_type": "execute_result"
    }
   ],
   "source": [
    "df[df['description'].apply(lambda x: pd.isna(x) )].head(3)"
   ]
  },
  {
   "cell_type": "code",
   "execution_count": 11,
   "metadata": {},
   "outputs": [],
   "source": [
    "cdf =  df[\"trending_date\"].apply(lambda x:'20' + x[:2]).value_counts().to_frame().reset_index().rename(columns={'index':'year', 'trending_date':'No_of_videos'})"
   ]
  },
  {
   "cell_type": "code",
   "execution_count": 12,
   "metadata": {},
   "outputs": [
    {
     "data": {
      "text/html": [
       "<div>\n",
       "<style scoped>\n",
       "    .dataframe tbody tr th:only-of-type {\n",
       "        vertical-align: middle;\n",
       "    }\n",
       "\n",
       "    .dataframe tbody tr th {\n",
       "        vertical-align: top;\n",
       "    }\n",
       "\n",
       "    .dataframe thead th {\n",
       "        text-align: right;\n",
       "    }\n",
       "</style>\n",
       "<table border=\"1\" class=\"dataframe\">\n",
       "  <thead>\n",
       "    <tr style=\"text-align: right;\">\n",
       "      <th></th>\n",
       "      <th>year</th>\n",
       "      <th>No_of_videos</th>\n",
       "    </tr>\n",
       "  </thead>\n",
       "  <tbody>\n",
       "    <tr>\n",
       "      <td>0</td>\n",
       "      <td>2018</td>\n",
       "      <td>31289</td>\n",
       "    </tr>\n",
       "    <tr>\n",
       "      <td>1</td>\n",
       "      <td>2017</td>\n",
       "      <td>9592</td>\n",
       "    </tr>\n",
       "  </tbody>\n",
       "</table>\n",
       "</div>"
      ],
      "text/plain": [
       "   year  No_of_videos\n",
       "0  2018         31289\n",
       "1  2017          9592"
      ]
     },
     "execution_count": 12,
     "metadata": {},
     "output_type": "execute_result"
    }
   ],
   "source": [
    "cdf"
   ]
  },
  {
   "cell_type": "code",
   "execution_count": 13,
   "metadata": {},
   "outputs": [],
   "source": [
    "import seaborn as sns"
   ]
  },
  {
   "cell_type": "code",
   "execution_count": 14,
   "metadata": {},
   "outputs": [
    {
     "data": {
      "text/plain": [
       "[Text(0, 0.5, 'No. of videos'), Text(0.5, 0, 'Year')]"
      ]
     },
     "execution_count": 14,
     "metadata": {},
     "output_type": "execute_result"
    },
    {
     "data": {
      "image/png": "[encoded data removed]",
      "text/plain": [
       "<Figure size 432x288 with 1 Axes>"
      ]
     },
     "metadata": {
      "needs_background": "light"
     },
     "output_type": "display_data"
    }
   ],
   "source": [
    "fig, ax = plt.subplots()\n",
    "sns.barplot(x = 'year', y = 'No_of_videos', data = cdf)\n",
    "ax.set(xlabel = 'Year', ylabel= 'No. of videos')"
   ]
  },
  {
   "cell_type": "code",
   "execution_count": 15,
   "metadata": {},
   "outputs": [
    {
     "data": {
      "text/plain": [
       "2018    0.765368\n",
       "2017    0.234632\n",
       "Name: trending_date, dtype: float64"
      ]
     },
     "execution_count": 15,
     "metadata": {},
     "output_type": "execute_result"
    }
   ],
   "source": [
    "df['trending_date'].apply(lambda x: '20' + x[:2]).value_counts(normalize = True)"
   ]
  },
  {
   "cell_type": "code",
   "execution_count": 16,
   "metadata": {},
   "outputs": [
    {
     "data": {
      "text/html": [
       "<div>\n",
       "<style scoped>\n",
       "    .dataframe tbody tr th:only-of-type {\n",
       "        vertical-align: middle;\n",
       "    }\n",
       "\n",
       "    .dataframe tbody tr th {\n",
       "        vertical-align: top;\n",
       "    }\n",
       "\n",
       "    .dataframe thead th {\n",
       "        text-align: right;\n",
       "    }\n",
       "</style>\n",
       "<table border=\"1\" class=\"dataframe\">\n",
       "  <thead>\n",
       "    <tr style=\"text-align: right;\">\n",
       "      <th></th>\n",
       "      <th>video_id</th>\n",
       "      <th>trending_date</th>\n",
       "      <th>title</th>\n",
       "      <th>channel_title</th>\n",
       "      <th>category_id</th>\n",
       "      <th>publish_time</th>\n",
       "      <th>tags</th>\n",
       "      <th>views</th>\n",
       "      <th>likes</th>\n",
       "      <th>dislikes</th>\n",
       "      <th>comment_count</th>\n",
       "      <th>thumbnail_link</th>\n",
       "      <th>comments_disabled</th>\n",
       "      <th>ratings_disabled</th>\n",
       "      <th>video_error_or_removed</th>\n",
       "      <th>description</th>\n",
       "    </tr>\n",
       "  </thead>\n",
       "  <tbody>\n",
       "    <tr>\n",
       "      <td>count</td>\n",
       "      <td>40881</td>\n",
       "      <td>40881</td>\n",
       "      <td>40881</td>\n",
       "      <td>40881</td>\n",
       "      <td>40881.000000</td>\n",
       "      <td>40881</td>\n",
       "      <td>40881</td>\n",
       "      <td>4.088100e+04</td>\n",
       "      <td>4.088100e+04</td>\n",
       "      <td>4.088100e+04</td>\n",
       "      <td>4.088100e+04</td>\n",
       "      <td>40881</td>\n",
       "      <td>40881</td>\n",
       "      <td>40881</td>\n",
       "      <td>40881</td>\n",
       "      <td>40881</td>\n",
       "    </tr>\n",
       "    <tr>\n",
       "      <td>unique</td>\n",
       "      <td>24427</td>\n",
       "      <td>205</td>\n",
       "      <td>24573</td>\n",
       "      <td>5076</td>\n",
       "      <td>NaN</td>\n",
       "      <td>23613</td>\n",
       "      <td>20157</td>\n",
       "      <td>NaN</td>\n",
       "      <td>NaN</td>\n",
       "      <td>NaN</td>\n",
       "      <td>NaN</td>\n",
       "      <td>24422</td>\n",
       "      <td>2</td>\n",
       "      <td>2</td>\n",
       "      <td>2</td>\n",
       "      <td>22346</td>\n",
       "    </tr>\n",
       "    <tr>\n",
       "      <td>top</td>\n",
       "      <td>VYOjWnS4cMY</td>\n",
       "      <td>18.21.01</td>\n",
       "      <td>Drake - God's Plan (Official Audio)</td>\n",
       "      <td>SET India</td>\n",
       "      <td>NaN</td>\n",
       "      <td>2017-12-20T23:00:00.000Z</td>\n",
       "      <td>[none]</td>\n",
       "      <td>NaN</td>\n",
       "      <td>NaN</td>\n",
       "      <td>NaN</td>\n",
       "      <td>NaN</td>\n",
       "      <td>https://i.ytimg.com/vi/UceaB4D0jpo/default.jpg</td>\n",
       "      <td>False</td>\n",
       "      <td>False</td>\n",
       "      <td>False</td>\n",
       "      <td></td>\n",
       "    </tr>\n",
       "    <tr>\n",
       "      <td>freq</td>\n",
       "      <td>8</td>\n",
       "      <td>200</td>\n",
       "      <td>15</td>\n",
       "      <td>192</td>\n",
       "      <td>NaN</td>\n",
       "      <td>11</td>\n",
       "      <td>2385</td>\n",
       "      <td>NaN</td>\n",
       "      <td>NaN</td>\n",
       "      <td>NaN</td>\n",
       "      <td>NaN</td>\n",
       "      <td>8</td>\n",
       "      <td>40298</td>\n",
       "      <td>40602</td>\n",
       "      <td>40854</td>\n",
       "      <td>1296</td>\n",
       "    </tr>\n",
       "    <tr>\n",
       "      <td>mean</td>\n",
       "      <td>NaN</td>\n",
       "      <td>NaN</td>\n",
       "      <td>NaN</td>\n",
       "      <td>NaN</td>\n",
       "      <td>20.795553</td>\n",
       "      <td>NaN</td>\n",
       "      <td>NaN</td>\n",
       "      <td>1.147036e+06</td>\n",
       "      <td>3.958269e+04</td>\n",
       "      <td>2.009195e+03</td>\n",
       "      <td>5.042975e+03</td>\n",
       "      <td>NaN</td>\n",
       "      <td>NaN</td>\n",
       "      <td>NaN</td>\n",
       "      <td>NaN</td>\n",
       "      <td>NaN</td>\n",
       "    </tr>\n",
       "    <tr>\n",
       "      <td>std</td>\n",
       "      <td>NaN</td>\n",
       "      <td>NaN</td>\n",
       "      <td>NaN</td>\n",
       "      <td>NaN</td>\n",
       "      <td>6.775054</td>\n",
       "      <td>NaN</td>\n",
       "      <td>NaN</td>\n",
       "      <td>3.390913e+06</td>\n",
       "      <td>1.326895e+05</td>\n",
       "      <td>1.900837e+04</td>\n",
       "      <td>2.157902e+04</td>\n",
       "      <td>NaN</td>\n",
       "      <td>NaN</td>\n",
       "      <td>NaN</td>\n",
       "      <td>NaN</td>\n",
       "      <td>NaN</td>\n",
       "    </tr>\n",
       "    <tr>\n",
       "      <td>min</td>\n",
       "      <td>NaN</td>\n",
       "      <td>NaN</td>\n",
       "      <td>NaN</td>\n",
       "      <td>NaN</td>\n",
       "      <td>1.000000</td>\n",
       "      <td>NaN</td>\n",
       "      <td>NaN</td>\n",
       "      <td>7.330000e+02</td>\n",
       "      <td>0.000000e+00</td>\n",
       "      <td>0.000000e+00</td>\n",
       "      <td>0.000000e+00</td>\n",
       "      <td>NaN</td>\n",
       "      <td>NaN</td>\n",
       "      <td>NaN</td>\n",
       "      <td>NaN</td>\n",
       "      <td>NaN</td>\n",
       "    </tr>\n",
       "    <tr>\n",
       "      <td>25%</td>\n",
       "      <td>NaN</td>\n",
       "      <td>NaN</td>\n",
       "      <td>NaN</td>\n",
       "      <td>NaN</td>\n",
       "      <td>20.000000</td>\n",
       "      <td>NaN</td>\n",
       "      <td>NaN</td>\n",
       "      <td>1.439020e+05</td>\n",
       "      <td>2.191000e+03</td>\n",
       "      <td>9.900000e+01</td>\n",
       "      <td>4.170000e+02</td>\n",
       "      <td>NaN</td>\n",
       "      <td>NaN</td>\n",
       "      <td>NaN</td>\n",
       "      <td>NaN</td>\n",
       "      <td>NaN</td>\n",
       "    </tr>\n",
       "    <tr>\n",
       "      <td>50%</td>\n",
       "      <td>NaN</td>\n",
       "      <td>NaN</td>\n",
       "      <td>NaN</td>\n",
       "      <td>NaN</td>\n",
       "      <td>24.000000</td>\n",
       "      <td>NaN</td>\n",
       "      <td>NaN</td>\n",
       "      <td>3.712040e+05</td>\n",
       "      <td>8.780000e+03</td>\n",
       "      <td>3.030000e+02</td>\n",
       "      <td>1.301000e+03</td>\n",
       "      <td>NaN</td>\n",
       "      <td>NaN</td>\n",
       "      <td>NaN</td>\n",
       "      <td>NaN</td>\n",
       "      <td>NaN</td>\n",
       "    </tr>\n",
       "    <tr>\n",
       "      <td>75%</td>\n",
       "      <td>NaN</td>\n",
       "      <td>NaN</td>\n",
       "      <td>NaN</td>\n",
       "      <td>NaN</td>\n",
       "      <td>24.000000</td>\n",
       "      <td>NaN</td>\n",
       "      <td>NaN</td>\n",
       "      <td>9.633020e+05</td>\n",
       "      <td>2.871700e+04</td>\n",
       "      <td>9.500000e+02</td>\n",
       "      <td>3.713000e+03</td>\n",
       "      <td>NaN</td>\n",
       "      <td>NaN</td>\n",
       "      <td>NaN</td>\n",
       "      <td>NaN</td>\n",
       "      <td>NaN</td>\n",
       "    </tr>\n",
       "    <tr>\n",
       "      <td>max</td>\n",
       "      <td>NaN</td>\n",
       "      <td>NaN</td>\n",
       "      <td>NaN</td>\n",
       "      <td>NaN</td>\n",
       "      <td>43.000000</td>\n",
       "      <td>NaN</td>\n",
       "      <td>NaN</td>\n",
       "      <td>1.378431e+08</td>\n",
       "      <td>5.053338e+06</td>\n",
       "      <td>1.602383e+06</td>\n",
       "      <td>1.114800e+06</td>\n",
       "      <td>NaN</td>\n",
       "      <td>NaN</td>\n",
       "      <td>NaN</td>\n",
       "      <td>NaN</td>\n",
       "      <td>NaN</td>\n",
       "    </tr>\n",
       "  </tbody>\n",
       "</table>\n",
       "</div>"
      ],
      "text/plain": [
       "           video_id trending_date                                title  \\\n",
       "count         40881         40881                                40881   \n",
       "unique        24427           205                                24573   \n",
       "top     VYOjWnS4cMY      18.21.01  Drake - God's Plan (Official Audio)   \n",
       "freq              8           200                                   15   \n",
       "mean            NaN           NaN                                  NaN   \n",
       "std             NaN           NaN                                  NaN   \n",
       "min             NaN           NaN                                  NaN   \n",
       "25%             NaN           NaN                                  NaN   \n",
       "50%             NaN           NaN                                  NaN   \n",
       "75%             NaN           NaN                                  NaN   \n",
       "max             NaN           NaN                                  NaN   \n",
       "\n",
       "       channel_title   category_id              publish_time    tags  \\\n",
       "count          40881  40881.000000                     40881   40881   \n",
       "unique          5076           NaN                     23613   20157   \n",
       "top        SET India           NaN  2017-12-20T23:00:00.000Z  [none]   \n",
       "freq             192           NaN                        11    2385   \n",
       "mean             NaN     20.795553                       NaN     NaN   \n",
       "std              NaN      6.775054                       NaN     NaN   \n",
       "min              NaN      1.000000                       NaN     NaN   \n",
       "25%              NaN     20.000000                       NaN     NaN   \n",
       "50%              NaN     24.000000                       NaN     NaN   \n",
       "75%              NaN     24.000000                       NaN     NaN   \n",
       "max              NaN     43.000000                       NaN     NaN   \n",
       "\n",
       "               views         likes      dislikes  comment_count  \\\n",
       "count   4.088100e+04  4.088100e+04  4.088100e+04   4.088100e+04   \n",
       "unique           NaN           NaN           NaN            NaN   \n",
       "top              NaN           NaN           NaN            NaN   \n",
       "freq             NaN           NaN           NaN            NaN   \n",
       "mean    1.147036e+06  3.958269e+04  2.009195e+03   5.042975e+03   \n",
       "std     3.390913e+06  1.326895e+05  1.900837e+04   2.157902e+04   \n",
       "min     7.330000e+02  0.000000e+00  0.000000e+00   0.000000e+00   \n",
       "25%     1.439020e+05  2.191000e+03  9.900000e+01   4.170000e+02   \n",
       "50%     3.712040e+05  8.780000e+03  3.030000e+02   1.301000e+03   \n",
       "75%     9.633020e+05  2.871700e+04  9.500000e+02   3.713000e+03   \n",
       "max     1.378431e+08  5.053338e+06  1.602383e+06   1.114800e+06   \n",
       "\n",
       "                                        thumbnail_link comments_disabled  \\\n",
       "count                                            40881             40881   \n",
       "unique                                           24422                 2   \n",
       "top     https://i.ytimg.com/vi/UceaB4D0jpo/default.jpg             False   \n",
       "freq                                                 8             40298   \n",
       "mean                                               NaN               NaN   \n",
       "std                                                NaN               NaN   \n",
       "min                                                NaN               NaN   \n",
       "25%                                                NaN               NaN   \n",
       "50%                                                NaN               NaN   \n",
       "75%                                                NaN               NaN   \n",
       "max                                                NaN               NaN   \n",
       "\n",
       "       ratings_disabled video_error_or_removed description  \n",
       "count             40881                  40881       40881  \n",
       "unique                2                      2       22346  \n",
       "top               False                  False              \n",
       "freq              40602                  40854        1296  \n",
       "mean                NaN                    NaN         NaN  \n",
       "std                 NaN                    NaN         NaN  \n",
       "min                 NaN                    NaN         NaN  \n",
       "25%                 NaN                    NaN         NaN  \n",
       "50%                 NaN                    NaN         NaN  \n",
       "75%                 NaN                    NaN         NaN  \n",
       "max                 NaN                    NaN         NaN  "
      ]
     },
     "execution_count": 16,
     "metadata": {},
     "output_type": "execute_result"
    }
   ],
   "source": [
    "df.describe(include = 'all')"
   ]
  },
  {
   "cell_type": "code",
   "execution_count": 17,
   "metadata": {},
   "outputs": [
    {
     "data": {
      "text/html": [
       "<div>\n",
       "<style scoped>\n",
       "    .dataframe tbody tr th:only-of-type {\n",
       "        vertical-align: middle;\n",
       "    }\n",
       "\n",
       "    .dataframe tbody tr th {\n",
       "        vertical-align: top;\n",
       "    }\n",
       "\n",
       "    .dataframe thead th {\n",
       "        text-align: right;\n",
       "    }\n",
       "</style>\n",
       "<table border=\"1\" class=\"dataframe\">\n",
       "  <thead>\n",
       "    <tr style=\"text-align: right;\">\n",
       "      <th></th>\n",
       "      <th>category_id</th>\n",
       "      <th>views</th>\n",
       "      <th>likes</th>\n",
       "      <th>dislikes</th>\n",
       "      <th>comment_count</th>\n",
       "    </tr>\n",
       "  </thead>\n",
       "  <tbody>\n",
       "    <tr>\n",
       "      <td>count</td>\n",
       "      <td>40881.000000</td>\n",
       "      <td>4.088100e+04</td>\n",
       "      <td>4.088100e+04</td>\n",
       "      <td>4.088100e+04</td>\n",
       "      <td>4.088100e+04</td>\n",
       "    </tr>\n",
       "    <tr>\n",
       "      <td>mean</td>\n",
       "      <td>20.795553</td>\n",
       "      <td>1.147036e+06</td>\n",
       "      <td>3.958269e+04</td>\n",
       "      <td>2.009195e+03</td>\n",
       "      <td>5.042975e+03</td>\n",
       "    </tr>\n",
       "    <tr>\n",
       "      <td>std</td>\n",
       "      <td>6.775054</td>\n",
       "      <td>3.390913e+06</td>\n",
       "      <td>1.326895e+05</td>\n",
       "      <td>1.900837e+04</td>\n",
       "      <td>2.157902e+04</td>\n",
       "    </tr>\n",
       "    <tr>\n",
       "      <td>min</td>\n",
       "      <td>1.000000</td>\n",
       "      <td>7.330000e+02</td>\n",
       "      <td>0.000000e+00</td>\n",
       "      <td>0.000000e+00</td>\n",
       "      <td>0.000000e+00</td>\n",
       "    </tr>\n",
       "    <tr>\n",
       "      <td>25%</td>\n",
       "      <td>20.000000</td>\n",
       "      <td>1.439020e+05</td>\n",
       "      <td>2.191000e+03</td>\n",
       "      <td>9.900000e+01</td>\n",
       "      <td>4.170000e+02</td>\n",
       "    </tr>\n",
       "    <tr>\n",
       "      <td>50%</td>\n",
       "      <td>24.000000</td>\n",
       "      <td>3.712040e+05</td>\n",
       "      <td>8.780000e+03</td>\n",
       "      <td>3.030000e+02</td>\n",
       "      <td>1.301000e+03</td>\n",
       "    </tr>\n",
       "    <tr>\n",
       "      <td>75%</td>\n",
       "      <td>24.000000</td>\n",
       "      <td>9.633020e+05</td>\n",
       "      <td>2.871700e+04</td>\n",
       "      <td>9.500000e+02</td>\n",
       "      <td>3.713000e+03</td>\n",
       "    </tr>\n",
       "    <tr>\n",
       "      <td>max</td>\n",
       "      <td>43.000000</td>\n",
       "      <td>1.378431e+08</td>\n",
       "      <td>5.053338e+06</td>\n",
       "      <td>1.602383e+06</td>\n",
       "      <td>1.114800e+06</td>\n",
       "    </tr>\n",
       "  </tbody>\n",
       "</table>\n",
       "</div>"
      ],
      "text/plain": [
       "        category_id         views         likes      dislikes  comment_count\n",
       "count  40881.000000  4.088100e+04  4.088100e+04  4.088100e+04   4.088100e+04\n",
       "mean      20.795553  1.147036e+06  3.958269e+04  2.009195e+03   5.042975e+03\n",
       "std        6.775054  3.390913e+06  1.326895e+05  1.900837e+04   2.157902e+04\n",
       "min        1.000000  7.330000e+02  0.000000e+00  0.000000e+00   0.000000e+00\n",
       "25%       20.000000  1.439020e+05  2.191000e+03  9.900000e+01   4.170000e+02\n",
       "50%       24.000000  3.712040e+05  8.780000e+03  3.030000e+02   1.301000e+03\n",
       "75%       24.000000  9.633020e+05  2.871700e+04  9.500000e+02   3.713000e+03\n",
       "max       43.000000  1.378431e+08  5.053338e+06  1.602383e+06   1.114800e+06"
      ]
     },
     "execution_count": 17,
     "metadata": {},
     "output_type": "execute_result"
    }
   ],
   "source": [
    "df.describe()"
   ]
  },
  {
   "cell_type": "code",
   "execution_count": 18,
   "metadata": {},
   "outputs": [
    {
     "data": {
      "text/plain": [
       "[Text(0, 0.5, 'No. of videos'), Text(0.5, 0, 'Views')]"
      ]
     },
     "execution_count": 18,
     "metadata": {},
     "output_type": "execute_result"
    },
    {
     "data": {
      "image/png": "[encoded data removed]",
      "text/plain": [
       "<Figure size 432x288 with 1 Axes>"
      ]
     },
     "metadata": {
      "needs_background": "light"
     },
     "output_type": "display_data"
    }
   ],
   "source": [
    "fig,ax = plt.subplots()\n",
    "sns.distplot(df[df['views'] < 25e6]['views'], kde = False, hist_kws = {'alpha': 1}, ax=ax)\n",
    "ax.set(xlabel = 'Views', ylabel = \"No. of videos\")"
   ]
  },
  {
   "cell_type": "code",
   "execution_count": 19,
   "metadata": {},
   "outputs": [
    {
     "data": {
      "text/plain": [
       "video_id                  30996\n",
       "trending_date             30996\n",
       "title                     30996\n",
       "channel_title             30996\n",
       "category_id               30996\n",
       "publish_time              30996\n",
       "tags                      30996\n",
       "views                     30996\n",
       "likes                     30996\n",
       "dislikes                  30996\n",
       "comment_count             30996\n",
       "thumbnail_link            30996\n",
       "comments_disabled         30996\n",
       "ratings_disabled          30996\n",
       "video_error_or_removed    30996\n",
       "description               30996\n",
       "dtype: int64"
      ]
     },
     "execution_count": 19,
     "metadata": {},
     "output_type": "execute_result"
    }
   ],
   "source": [
    "df[df['views'].apply(lambda x: x < 1e6)].count()"
   ]
  },
  {
   "cell_type": "code",
   "execution_count": 20,
   "metadata": {},
   "outputs": [
    {
     "data": {
      "text/plain": [
       "40881"
      ]
     },
     "execution_count": 20,
     "metadata": {},
     "output_type": "execute_result"
    }
   ],
   "source": [
    "df['views'].count()"
   ]
  },
  {
   "cell_type": "code",
   "execution_count": 21,
   "metadata": {},
   "outputs": [
    {
     "data": {
      "text/plain": [
       "75.8200631100022"
      ]
     },
     "execution_count": 21,
     "metadata": {},
     "output_type": "execute_result"
    }
   ],
   "source": [
    "df[df['views'] < 1e6]['views'].count()/ df['views'].count() * 100"
   ]
  },
  {
   "cell_type": "code",
   "execution_count": 22,
   "metadata": {},
   "outputs": [
    {
     "data": {
      "text/plain": [
       "83.52780020058218"
      ]
     },
     "execution_count": 22,
     "metadata": {},
     "output_type": "execute_result"
    }
   ],
   "source": [
    "df[df['views'] < 1.5e6]['views'].count() / df['views'].count() * 100"
   ]
  },
  {
   "cell_type": "code",
   "execution_count": 23,
   "metadata": {},
   "outputs": [
    {
     "data": {
      "text/plain": [
       "96.18893862674592"
      ]
     },
     "execution_count": 23,
     "metadata": {},
     "output_type": "execute_result"
    }
   ],
   "source": [
    "df[df['views'] < 5e6]['views'].count() / df['views'].count() * 100"
   ]
  },
  {
   "cell_type": "code",
   "execution_count": 24,
   "metadata": {},
   "outputs": [
    {
     "data": {
      "text/plain": [
       "[Text(0, 0.5, 'No. of videos'), Text(0.5, 0, 'Likes')]"
      ]
     },
     "execution_count": 24,
     "metadata": {},
     "output_type": "execute_result"
    },
    {
     "data": {
      "image/png": "[encoded data removed]",
      "text/plain": [
       "<Figure size 432x288 with 1 Axes>"
      ]
     },
     "metadata": {
      "needs_background": "light"
     },
     "output_type": "display_data"
    }
   ],
   "source": [
    "fig,ax = plt.subplots()\n",
    "sns.distplot(df['likes'], kde = False, hist_kws={'alpha': 1}, ax=ax)\n",
    "ax.set(xlabel = 'Likes', ylabel = 'No. of videos')"
   ]
  },
  {
   "cell_type": "code",
   "execution_count": 25,
   "metadata": {},
   "outputs": [
    {
     "data": {
      "text/plain": [
       "[Text(0, 0.5, 'No.of videos'), Text(0.5, 0, 'Likes')]"
      ]
     },
     "execution_count": 25,
     "metadata": {},
     "output_type": "execute_result"
    },
    {
     "data": {
      "image/png": "[encoded data removed]",
      "text/plain": [
       "<Figure size 432x288 with 1 Axes>"
      ]
     },
     "metadata": {
      "needs_background": "light"
     },
     "output_type": "display_data"
    }
   ],
   "source": [
    "fig,ax = plt.subplots()\n",
    "sns.distplot(df[df['likes'] <= 5e5]['likes'] , kde = False, hist_kws = {'alpha': 1}, ax= ax )\n",
    "ax.set(xlabel = 'Likes', ylabel = 'No.of videos')"
   ]
  },
  {
   "cell_type": "code",
   "execution_count": 26,
   "metadata": {},
   "outputs": [
    {
     "data": {
      "text/plain": [
       "[Text(0, 0.5, 'No.of videos'), Text(0.5, 0, 'Likes')]"
      ]
     },
     "execution_count": 26,
     "metadata": {},
     "output_type": "execute_result"
    },
    {
     "data": {
      "image/png": "[encoded data removed]",
      "text/plain": [
       "<Figure size 432x288 with 1 Axes>"
      ]
     },
     "metadata": {
      "needs_background": "light"
     },
     "output_type": "display_data"
    }
   ],
   "source": [
    "fig,ax = plt.subplots()\n",
    "sns.barplot(df[df['likes'] < 1e6]['likes'] , data = df )\n",
    "ax.set(xlabel = 'Likes', ylabel = 'No.of videos')"
   ]
  },
  {
   "cell_type": "code",
   "execution_count": 27,
   "metadata": {},
   "outputs": [
    {
     "data": {
      "text/plain": [
       "[Text(0, 0.5, 'No.of videos'), Text(0.5, 0, 'Likes')]"
      ]
     },
     "execution_count": 27,
     "metadata": {},
     "output_type": "execute_result"
    },
    {
     "data": {
      "image/png": "[encoded data removed]",
      "text/plain": [
       "<Figure size 432x288 with 1 Axes>"
      ]
     },
     "metadata": {
      "needs_background": "light"
     },
     "output_type": "display_data"
    }
   ],
   "source": [
    "fig,ax = plt.subplots()\n",
    "sns.distplot(df[df['likes'] <= 1e5]['likes'] , kde = False, hist_kws = {'alpha': 1}, ax= ax )\n",
    "ax.set(xlabel = 'Likes', ylabel = 'No.of videos')"
   ]
  },
  {
   "cell_type": "code",
   "execution_count": 28,
   "metadata": {},
   "outputs": [
    {
     "data": {
      "text/plain": [
       "80.5802206403953"
      ]
     },
     "execution_count": 28,
     "metadata": {},
     "output_type": "execute_result"
    }
   ],
   "source": [
    "df[df['likes'] < 4e4]['likes'].count() / df['likes'].count() * 100"
   ]
  },
  {
   "cell_type": "code",
   "execution_count": 29,
   "metadata": {},
   "outputs": [
    {
     "data": {
      "text/plain": [
       "91.32849000758299"
      ]
     },
     "execution_count": 29,
     "metadata": {},
     "output_type": "execute_result"
    }
   ],
   "source": [
    "df[df['likes'] < 1e5]['likes'].count() / df['likes'].count() * 100"
   ]
  },
  {
   "cell_type": "code",
   "execution_count": 30,
   "metadata": {},
   "outputs": [
    {
     "data": {
      "text/plain": [
       "[Text(0, 0.5, 'No. of videos'), Text(0.5, 0, 'Comment Count')]"
      ]
     },
     "execution_count": 30,
     "metadata": {},
     "output_type": "execute_result"
    },
    {
     "data": {
      "image/png": "[encoded data removed]",
      "text/plain": [
       "<Figure size 432x288 with 1 Axes>"
      ]
     },
     "metadata": {
      "needs_background": "light"
     },
     "output_type": "display_data"
    }
   ],
   "source": [
    "fig,ax = plt.subplots()\n",
    "sns.distplot(df['comment_count'], kde = False, hist_kws ={'alpha': 1}, ax= ax)\n",
    "ax.set(xlabel = 'Comment Count', ylabel = 'No. of videos')"
   ]
  },
  {
   "cell_type": "code",
   "execution_count": null,
   "metadata": {},
   "outputs": [],
   "source": []
  },
  {
   "cell_type": "code",
   "execution_count": 31,
   "metadata": {},
   "outputs": [
    {
     "data": {
      "text/plain": [
       "[Text(0, 0.5, 'No. of videos'), Text(0.5, 0, 'Comment Count')]"
      ]
     },
     "execution_count": 31,
     "metadata": {},
     "output_type": "execute_result"
    },
    {
     "data": {
      "image/png": "[encoded data removed]",
      "text/plain": [
       "<Figure size 432x288 with 1 Axes>"
      ]
     },
     "metadata": {
      "needs_background": "light"
     },
     "output_type": "display_data"
    }
   ],
   "source": [
    "fig,ax = plt.subplots()\n",
    "sns.distplot(df[df['comment_count'] < 1e5]['comment_count'] , kde = False, hist_kws ={'alpha': 1}, ax= ax)\n",
    "ax.set(xlabel = 'Comment Count', ylabel = 'No. of videos')"
   ]
  },
  {
   "cell_type": "code",
   "execution_count": 32,
   "metadata": {},
   "outputs": [
    {
     "data": {
      "text/plain": [
       "95.24473471783959"
      ]
     },
     "execution_count": 32,
     "metadata": {},
     "output_type": "execute_result"
    }
   ],
   "source": [
    "df[df['comment_count'] < 2e4]['comment_count'].count()/ df['comment_count'].count() * 100"
   ]
  },
  {
   "cell_type": "code",
   "execution_count": 33,
   "metadata": {},
   "outputs": [
    {
     "data": {
      "text/plain": [
       "98.24368288446956"
      ]
     },
     "execution_count": 33,
     "metadata": {},
     "output_type": "execute_result"
    }
   ],
   "source": [
    "df[df['comment_count'] < 4e4]['comment_count'].count()/ df['comment_count'].count() * 100"
   ]
  },
  {
   "cell_type": "code",
   "execution_count": 34,
   "metadata": {},
   "outputs": [
    {
     "data": {
      "text/plain": [
       "<pandas.core.groupby.generic.DataFrameGroupBy object at 0x0000022634248E48>"
      ]
     },
     "execution_count": 34,
     "metadata": {},
     "output_type": "execute_result"
    }
   ],
   "source": [
    "grouped = df.groupby('video_id')\n",
    "grouped"
   ]
  },
  {
   "cell_type": "code",
   "execution_count": 35,
   "metadata": {},
   "outputs": [
    {
     "data": {
      "text/html": [
       "<div>\n",
       "<style scoped>\n",
       "    .dataframe tbody tr th:only-of-type {\n",
       "        vertical-align: middle;\n",
       "    }\n",
       "\n",
       "    .dataframe tbody tr th {\n",
       "        vertical-align: top;\n",
       "    }\n",
       "\n",
       "    .dataframe thead th {\n",
       "        text-align: right;\n",
       "    }\n",
       "</style>\n",
       "<table border=\"1\" class=\"dataframe\">\n",
       "  <thead>\n",
       "    <tr style=\"text-align: right;\">\n",
       "      <th></th>\n",
       "      <th>video_id</th>\n",
       "      <th>trending_date</th>\n",
       "      <th>title</th>\n",
       "      <th>channel_title</th>\n",
       "      <th>category_id</th>\n",
       "      <th>publish_time</th>\n",
       "      <th>tags</th>\n",
       "      <th>views</th>\n",
       "      <th>likes</th>\n",
       "      <th>dislikes</th>\n",
       "      <th>comment_count</th>\n",
       "      <th>thumbnail_link</th>\n",
       "      <th>comments_disabled</th>\n",
       "      <th>ratings_disabled</th>\n",
       "      <th>video_error_or_removed</th>\n",
       "      <th>description</th>\n",
       "    </tr>\n",
       "  </thead>\n",
       "  <tbody>\n",
       "    <tr>\n",
       "      <td>0</td>\n",
       "      <td>n1WpP7iowLc</td>\n",
       "      <td>17.14.11</td>\n",
       "      <td>Eminem - Walk On Water (Audio) ft. Beyoncé</td>\n",
       "      <td>EminemVEVO</td>\n",
       "      <td>10</td>\n",
       "      <td>2017-11-10T17:00:03.000Z</td>\n",
       "      <td>Eminem|\"Walk\"|\"On\"|\"Water\"|\"Aftermath/Shady/In...</td>\n",
       "      <td>17158579</td>\n",
       "      <td>787425</td>\n",
       "      <td>43420</td>\n",
       "      <td>125882</td>\n",
       "      <td>https://i.ytimg.com/vi/n1WpP7iowLc/default.jpg</td>\n",
       "      <td>False</td>\n",
       "      <td>False</td>\n",
       "      <td>False</td>\n",
       "      <td>Eminem's new track Walk on Water ft. Beyoncé i...</td>\n",
       "    </tr>\n",
       "    <tr>\n",
       "      <td>1</td>\n",
       "      <td>0dBIkQ4Mz1M</td>\n",
       "      <td>17.14.11</td>\n",
       "      <td>PLUSH - Bad Unboxing Fan Mail</td>\n",
       "      <td>iDubbbzTV</td>\n",
       "      <td>23</td>\n",
       "      <td>2017-11-13T17:00:00.000Z</td>\n",
       "      <td>plush|\"bad unboxing\"|\"unboxing\"|\"fan mail\"|\"id...</td>\n",
       "      <td>1014651</td>\n",
       "      <td>127794</td>\n",
       "      <td>1688</td>\n",
       "      <td>13030</td>\n",
       "      <td>https://i.ytimg.com/vi/0dBIkQ4Mz1M/default.jpg</td>\n",
       "      <td>False</td>\n",
       "      <td>False</td>\n",
       "      <td>False</td>\n",
       "      <td>STill got a lot of packages. Probably will las...</td>\n",
       "    </tr>\n",
       "    <tr>\n",
       "      <td>2</td>\n",
       "      <td>5qpjK5DgCt4</td>\n",
       "      <td>17.14.11</td>\n",
       "      <td>Racist Superman | Rudy Mancuso, King Bach &amp; Le...</td>\n",
       "      <td>Rudy Mancuso</td>\n",
       "      <td>23</td>\n",
       "      <td>2017-11-12T19:05:24.000Z</td>\n",
       "      <td>racist superman|\"rudy\"|\"mancuso\"|\"king\"|\"bach\"...</td>\n",
       "      <td>3191434</td>\n",
       "      <td>146035</td>\n",
       "      <td>5339</td>\n",
       "      <td>8181</td>\n",
       "      <td>https://i.ytimg.com/vi/5qpjK5DgCt4/default.jpg</td>\n",
       "      <td>False</td>\n",
       "      <td>False</td>\n",
       "      <td>False</td>\n",
       "      <td>WATCH MY PREVIOUS VIDEO ▶ \\n\\nSUBSCRIBE ► http...</td>\n",
       "    </tr>\n",
       "    <tr>\n",
       "      <td>3</td>\n",
       "      <td>d380meD0W0M</td>\n",
       "      <td>17.14.11</td>\n",
       "      <td>I Dare You: GOING BALD!?</td>\n",
       "      <td>nigahiga</td>\n",
       "      <td>24</td>\n",
       "      <td>2017-11-12T18:01:41.000Z</td>\n",
       "      <td>ryan|\"higa\"|\"higatv\"|\"nigahiga\"|\"i dare you\"|\"...</td>\n",
       "      <td>2095828</td>\n",
       "      <td>132239</td>\n",
       "      <td>1989</td>\n",
       "      <td>17518</td>\n",
       "      <td>https://i.ytimg.com/vi/d380meD0W0M/default.jpg</td>\n",
       "      <td>False</td>\n",
       "      <td>False</td>\n",
       "      <td>False</td>\n",
       "      <td>I know it's been a while since we did this sho...</td>\n",
       "    </tr>\n",
       "    <tr>\n",
       "      <td>4</td>\n",
       "      <td>2Vv-BfVoq4g</td>\n",
       "      <td>17.14.11</td>\n",
       "      <td>Ed Sheeran - Perfect (Official Music Video)</td>\n",
       "      <td>Ed Sheeran</td>\n",
       "      <td>10</td>\n",
       "      <td>2017-11-09T11:04:14.000Z</td>\n",
       "      <td>edsheeran|\"ed sheeran\"|\"acoustic\"|\"live\"|\"cove...</td>\n",
       "      <td>33523622</td>\n",
       "      <td>1634130</td>\n",
       "      <td>21082</td>\n",
       "      <td>85067</td>\n",
       "      <td>https://i.ytimg.com/vi/2Vv-BfVoq4g/default.jpg</td>\n",
       "      <td>False</td>\n",
       "      <td>False</td>\n",
       "      <td>False</td>\n",
       "      <td>🎧: https://ad.gt/yt-perfect\\n💰: https://atlant...</td>\n",
       "    </tr>\n",
       "    <tr>\n",
       "      <td>...</td>\n",
       "      <td>...</td>\n",
       "      <td>...</td>\n",
       "      <td>...</td>\n",
       "      <td>...</td>\n",
       "      <td>...</td>\n",
       "      <td>...</td>\n",
       "      <td>...</td>\n",
       "      <td>...</td>\n",
       "      <td>...</td>\n",
       "      <td>...</td>\n",
       "      <td>...</td>\n",
       "      <td>...</td>\n",
       "      <td>...</td>\n",
       "      <td>...</td>\n",
       "      <td>...</td>\n",
       "      <td>...</td>\n",
       "    </tr>\n",
       "    <tr>\n",
       "      <td>40876</td>\n",
       "      <td>sGolxsMSGfQ</td>\n",
       "      <td>18.14.06</td>\n",
       "      <td>HOW2: How to Solve a Mystery</td>\n",
       "      <td>Annoying Orange</td>\n",
       "      <td>24</td>\n",
       "      <td>2018-06-13T18:00:07.000Z</td>\n",
       "      <td>annoying orange|\"funny\"|\"fruit\"|\"talking\"|\"ani...</td>\n",
       "      <td>80685</td>\n",
       "      <td>1701</td>\n",
       "      <td>99</td>\n",
       "      <td>1312</td>\n",
       "      <td>https://i.ytimg.com/vi/sGolxsMSGfQ/default.jpg</td>\n",
       "      <td>False</td>\n",
       "      <td>False</td>\n",
       "      <td>False</td>\n",
       "      <td>🚨 NEW MERCH! http://amzn.to/annoyingorange 🚨➤ ...</td>\n",
       "    </tr>\n",
       "    <tr>\n",
       "      <td>40877</td>\n",
       "      <td>8HNuRNi8t70</td>\n",
       "      <td>18.14.06</td>\n",
       "      <td>Eli Lik Lik Episode 13 Partie 01</td>\n",
       "      <td>Elhiwar Ettounsi</td>\n",
       "      <td>24</td>\n",
       "      <td>2018-06-13T19:01:18.000Z</td>\n",
       "      <td>hkayet tounsia|\"elhiwar ettounsi\"|\"denya okhra...</td>\n",
       "      <td>103339</td>\n",
       "      <td>460</td>\n",
       "      <td>66</td>\n",
       "      <td>51</td>\n",
       "      <td>https://i.ytimg.com/vi/8HNuRNi8t70/default.jpg</td>\n",
       "      <td>False</td>\n",
       "      <td>False</td>\n",
       "      <td>False</td>\n",
       "      <td>► Retrouvez vos programmes préférés : https://...</td>\n",
       "    </tr>\n",
       "    <tr>\n",
       "      <td>40878</td>\n",
       "      <td>GWlKEM3m2EE</td>\n",
       "      <td>18.14.06</td>\n",
       "      <td>KINGDOM HEARTS III – SQUARE ENIX E3 SHOWCASE 2...</td>\n",
       "      <td>Kingdom Hearts</td>\n",
       "      <td>20</td>\n",
       "      <td>2018-06-11T17:30:53.000Z</td>\n",
       "      <td>Kingdom Hearts|\"KH3\"|\"Kingdom Hearts 3\"|\"Froze...</td>\n",
       "      <td>773347</td>\n",
       "      <td>25900</td>\n",
       "      <td>224</td>\n",
       "      <td>3881</td>\n",
       "      <td>https://i.ytimg.com/vi/GWlKEM3m2EE/default.jpg</td>\n",
       "      <td>False</td>\n",
       "      <td>False</td>\n",
       "      <td>False</td>\n",
       "      <td>Find out more about Kingdom Hearts 3: https://...</td>\n",
       "    </tr>\n",
       "    <tr>\n",
       "      <td>40879</td>\n",
       "      <td>lbMKLzQ4cNQ</td>\n",
       "      <td>18.14.06</td>\n",
       "      <td>Trump Advisor Grovels To Trudeau</td>\n",
       "      <td>The Young Turks</td>\n",
       "      <td>25</td>\n",
       "      <td>2018-06-13T04:00:05.000Z</td>\n",
       "      <td>180612__TB02SorryExcuse|\"News\"|\"Politics\"|\"The...</td>\n",
       "      <td>115225</td>\n",
       "      <td>2115</td>\n",
       "      <td>182</td>\n",
       "      <td>1672</td>\n",
       "      <td>https://i.ytimg.com/vi/lbMKLzQ4cNQ/default.jpg</td>\n",
       "      <td>False</td>\n",
       "      <td>False</td>\n",
       "      <td>False</td>\n",
       "      <td>Peter Navarro isn’t talking so tough now. Ana ...</td>\n",
       "    </tr>\n",
       "    <tr>\n",
       "      <td>40880</td>\n",
       "      <td>POTgw38-m58</td>\n",
       "      <td>18.14.06</td>\n",
       "      <td>【完整版】遇到恐怖情人該怎麼辦？2018.06.13小明星大跟班</td>\n",
       "      <td>我愛小明星大跟班</td>\n",
       "      <td>24</td>\n",
       "      <td>2018-06-13T16:00:03.000Z</td>\n",
       "      <td>吳宗憲|\"吳姍儒\"|\"小明星大跟班\"|\"Sandy\"|\"Jacky wu\"|\"憲哥\"|\"中天...</td>\n",
       "      <td>107392</td>\n",
       "      <td>300</td>\n",
       "      <td>62</td>\n",
       "      <td>251</td>\n",
       "      <td>https://i.ytimg.com/vi/POTgw38-m58/default.jpg</td>\n",
       "      <td>False</td>\n",
       "      <td>False</td>\n",
       "      <td>False</td>\n",
       "      <td>藝人：李妍瑾、玉兔、班傑、LaLa、小優、少少專家：陳筱屏(律師)、Wendy(心理師)、羅...</td>\n",
       "    </tr>\n",
       "  </tbody>\n",
       "</table>\n",
       "<p>40701 rows × 16 columns</p>\n",
       "</div>"
      ],
      "text/plain": [
       "          video_id trending_date  \\\n",
       "0      n1WpP7iowLc      17.14.11   \n",
       "1      0dBIkQ4Mz1M      17.14.11   \n",
       "2      5qpjK5DgCt4      17.14.11   \n",
       "3      d380meD0W0M      17.14.11   \n",
       "4      2Vv-BfVoq4g      17.14.11   \n",
       "...            ...           ...   \n",
       "40876  sGolxsMSGfQ      18.14.06   \n",
       "40877  8HNuRNi8t70      18.14.06   \n",
       "40878  GWlKEM3m2EE      18.14.06   \n",
       "40879  lbMKLzQ4cNQ      18.14.06   \n",
       "40880  POTgw38-m58      18.14.06   \n",
       "\n",
       "                                                   title     channel_title  \\\n",
       "0             Eminem - Walk On Water (Audio) ft. Beyoncé        EminemVEVO   \n",
       "1                          PLUSH - Bad Unboxing Fan Mail         iDubbbzTV   \n",
       "2      Racist Superman | Rudy Mancuso, King Bach & Le...      Rudy Mancuso   \n",
       "3                               I Dare You: GOING BALD!?          nigahiga   \n",
       "4            Ed Sheeran - Perfect (Official Music Video)        Ed Sheeran   \n",
       "...                                                  ...               ...   \n",
       "40876                       HOW2: How to Solve a Mystery   Annoying Orange   \n",
       "40877                   Eli Lik Lik Episode 13 Partie 01  Elhiwar Ettounsi   \n",
       "40878  KINGDOM HEARTS III – SQUARE ENIX E3 SHOWCASE 2...    Kingdom Hearts   \n",
       "40879                   Trump Advisor Grovels To Trudeau   The Young Turks   \n",
       "40880                   【完整版】遇到恐怖情人該怎麼辦？2018.06.13小明星大跟班          我愛小明星大跟班   \n",
       "\n",
       "       category_id              publish_time  \\\n",
       "0               10  2017-11-10T17:00:03.000Z   \n",
       "1               23  2017-11-13T17:00:00.000Z   \n",
       "2               23  2017-11-12T19:05:24.000Z   \n",
       "3               24  2017-11-12T18:01:41.000Z   \n",
       "4               10  2017-11-09T11:04:14.000Z   \n",
       "...            ...                       ...   \n",
       "40876           24  2018-06-13T18:00:07.000Z   \n",
       "40877           24  2018-06-13T19:01:18.000Z   \n",
       "40878           20  2018-06-11T17:30:53.000Z   \n",
       "40879           25  2018-06-13T04:00:05.000Z   \n",
       "40880           24  2018-06-13T16:00:03.000Z   \n",
       "\n",
       "                                                    tags     views    likes  \\\n",
       "0      Eminem|\"Walk\"|\"On\"|\"Water\"|\"Aftermath/Shady/In...  17158579   787425   \n",
       "1      plush|\"bad unboxing\"|\"unboxing\"|\"fan mail\"|\"id...   1014651   127794   \n",
       "2      racist superman|\"rudy\"|\"mancuso\"|\"king\"|\"bach\"...   3191434   146035   \n",
       "3      ryan|\"higa\"|\"higatv\"|\"nigahiga\"|\"i dare you\"|\"...   2095828   132239   \n",
       "4      edsheeran|\"ed sheeran\"|\"acoustic\"|\"live\"|\"cove...  33523622  1634130   \n",
       "...                                                  ...       ...      ...   \n",
       "40876  annoying orange|\"funny\"|\"fruit\"|\"talking\"|\"ani...     80685     1701   \n",
       "40877  hkayet tounsia|\"elhiwar ettounsi\"|\"denya okhra...    103339      460   \n",
       "40878  Kingdom Hearts|\"KH3\"|\"Kingdom Hearts 3\"|\"Froze...    773347    25900   \n",
       "40879  180612__TB02SorryExcuse|\"News\"|\"Politics\"|\"The...    115225     2115   \n",
       "40880  吳宗憲|\"吳姍儒\"|\"小明星大跟班\"|\"Sandy\"|\"Jacky wu\"|\"憲哥\"|\"中天...    107392      300   \n",
       "\n",
       "       dislikes  comment_count  \\\n",
       "0         43420         125882   \n",
       "1          1688          13030   \n",
       "2          5339           8181   \n",
       "3          1989          17518   \n",
       "4         21082          85067   \n",
       "...         ...            ...   \n",
       "40876        99           1312   \n",
       "40877        66             51   \n",
       "40878       224           3881   \n",
       "40879       182           1672   \n",
       "40880        62            251   \n",
       "\n",
       "                                       thumbnail_link  comments_disabled  \\\n",
       "0      https://i.ytimg.com/vi/n1WpP7iowLc/default.jpg              False   \n",
       "1      https://i.ytimg.com/vi/0dBIkQ4Mz1M/default.jpg              False   \n",
       "2      https://i.ytimg.com/vi/5qpjK5DgCt4/default.jpg              False   \n",
       "3      https://i.ytimg.com/vi/d380meD0W0M/default.jpg              False   \n",
       "4      https://i.ytimg.com/vi/2Vv-BfVoq4g/default.jpg              False   \n",
       "...                                               ...                ...   \n",
       "40876  https://i.ytimg.com/vi/sGolxsMSGfQ/default.jpg              False   \n",
       "40877  https://i.ytimg.com/vi/8HNuRNi8t70/default.jpg              False   \n",
       "40878  https://i.ytimg.com/vi/GWlKEM3m2EE/default.jpg              False   \n",
       "40879  https://i.ytimg.com/vi/lbMKLzQ4cNQ/default.jpg              False   \n",
       "40880  https://i.ytimg.com/vi/POTgw38-m58/default.jpg              False   \n",
       "\n",
       "       ratings_disabled  video_error_or_removed  \\\n",
       "0                 False                   False   \n",
       "1                 False                   False   \n",
       "2                 False                   False   \n",
       "3                 False                   False   \n",
       "4                 False                   False   \n",
       "...                 ...                     ...   \n",
       "40876             False                   False   \n",
       "40877             False                   False   \n",
       "40878             False                   False   \n",
       "40879             False                   False   \n",
       "40880             False                   False   \n",
       "\n",
       "                                             description  \n",
       "0      Eminem's new track Walk on Water ft. Beyoncé i...  \n",
       "1      STill got a lot of packages. Probably will las...  \n",
       "2      WATCH MY PREVIOUS VIDEO ▶ \\n\\nSUBSCRIBE ► http...  \n",
       "3      I know it's been a while since we did this sho...  \n",
       "4      🎧: https://ad.gt/yt-perfect\\n💰: https://atlant...  \n",
       "...                                                  ...  \n",
       "40876  🚨 NEW MERCH! http://amzn.to/annoyingorange 🚨➤ ...  \n",
       "40877  ► Retrouvez vos programmes préférés : https://...  \n",
       "40878  Find out more about Kingdom Hearts 3: https://...  \n",
       "40879  Peter Navarro isn’t talking so tough now. Ana ...  \n",
       "40880  藝人：李妍瑾、玉兔、班傑、LaLa、小優、少少專家：陳筱屏(律師)、Wendy(心理師)、羅...  \n",
       "\n",
       "[40701 rows x 16 columns]"
      ]
     },
     "execution_count": 35,
     "metadata": {},
     "output_type": "execute_result"
    }
   ],
   "source": [
    "grouped.head()"
   ]
  },
  {
   "cell_type": "code",
   "execution_count": 36,
   "metadata": {},
   "outputs": [],
   "source": [
    "def contains_capitalized_word(s):\n",
    "    for w in s.split():\n",
    "        if w.isupper():\n",
    "            return True\n",
    "        else:\n",
    "            return False\n",
    "\n",
    "df['contain_capitalized'] = df['title'].apply(contains_capitalized_word)   "
   ]
  },
  {
   "cell_type": "code",
   "execution_count": 37,
   "metadata": {},
   "outputs": [],
   "source": [
    "cdf = df['contain_capitalized'].value_counts().to_frame().reset_index().rename(columns={'index': 'state'})"
   ]
  },
  {
   "cell_type": "code",
   "execution_count": 38,
   "metadata": {},
   "outputs": [
    {
     "data": {
      "text/plain": [
       "<matplotlib.axes._subplots.AxesSubplot at 0x22634269608>"
      ]
     },
     "execution_count": 38,
     "metadata": {},
     "output_type": "execute_result"
    },
    {
     "data": {
      "image/png": "[encoded data removed]",
      "text/plain": [
       "<Figure size 432x288 with 1 Axes>"
      ]
     },
     "metadata": {
      "needs_background": "light"
     },
     "output_type": "display_data"
    }
   ],
   "source": [
    "fig,ax = plt.subplots()\n",
    "sns.barplot(x = 'state', y = 'contain_capitalized', data = cdf)"
   ]
  },
  {
   "cell_type": "code",
   "execution_count": 39,
   "metadata": {},
   "outputs": [],
   "source": [
    "def contains_capitalized_word(s):\n",
    "    for w in s.split():\n",
    "        if w.isupper():\n",
    "            return True\n",
    "        else:\n",
    "            return False\n",
    "\n",
    "df['contain_capitalized'] = df['title'].apply(contains_capitalized_word)   \n"
   ]
  },
  {
   "cell_type": "code",
   "execution_count": 40,
   "metadata": {},
   "outputs": [],
   "source": [
    "value_counts = df['contain_capitalized'].value_counts().to_dict()"
   ]
  },
  {
   "cell_type": "code",
   "execution_count": 41,
   "metadata": {},
   "outputs": [
    {
     "data": {
      "text/plain": [
       "Text(0.5, 1.0, 'Title Contains Capitalized Word')"
      ]
     },
     "execution_count": 41,
     "metadata": {},
     "output_type": "execute_result"
    },
    {
     "data": {
      "image/png": "[encoded data removed]",
      "text/plain": [
       "<Figure size 432x288 with 1 Axes>"
      ]
     },
     "metadata": {},
     "output_type": "display_data"
    }
   ],
   "source": [
    "fig,ax = plt.subplots()\n",
    "ax.pie([value_counts[False], value_counts[True]], labels= ['No', 'Yes'])\n",
    "ax.set_title('Title Contains Capitalized Word')"
   ]
  },
  {
   "cell_type": "code",
   "execution_count": 42,
   "metadata": {},
   "outputs": [
    {
     "data": {
      "text/html": [
       "<div>\n",
       "<style scoped>\n",
       "    .dataframe tbody tr th:only-of-type {\n",
       "        vertical-align: middle;\n",
       "    }\n",
       "\n",
       "    .dataframe tbody tr th {\n",
       "        vertical-align: top;\n",
       "    }\n",
       "\n",
       "    .dataframe thead th {\n",
       "        text-align: right;\n",
       "    }\n",
       "</style>\n",
       "<table border=\"1\" class=\"dataframe\">\n",
       "  <thead>\n",
       "    <tr style=\"text-align: right;\">\n",
       "      <th></th>\n",
       "      <th>category_id</th>\n",
       "      <th>views</th>\n",
       "      <th>likes</th>\n",
       "      <th>dislikes</th>\n",
       "      <th>comment_count</th>\n",
       "      <th>comments_disabled</th>\n",
       "      <th>ratings_disabled</th>\n",
       "      <th>video_error_or_removed</th>\n",
       "      <th>contain_capitalized</th>\n",
       "    </tr>\n",
       "  </thead>\n",
       "  <tbody>\n",
       "    <tr>\n",
       "      <td>category_id</td>\n",
       "      <td>1.000000</td>\n",
       "      <td>-0.139610</td>\n",
       "      <td>-0.144363</td>\n",
       "      <td>-0.028731</td>\n",
       "      <td>-0.068848</td>\n",
       "      <td>0.038741</td>\n",
       "      <td>0.018377</td>\n",
       "      <td>-0.030002</td>\n",
       "      <td>0.027505</td>\n",
       "    </tr>\n",
       "    <tr>\n",
       "      <td>views</td>\n",
       "      <td>-0.139610</td>\n",
       "      <td>1.000000</td>\n",
       "      <td>0.828964</td>\n",
       "      <td>0.557621</td>\n",
       "      <td>0.693107</td>\n",
       "      <td>0.004424</td>\n",
       "      <td>0.005745</td>\n",
       "      <td>0.001928</td>\n",
       "      <td>-0.007610</td>\n",
       "    </tr>\n",
       "    <tr>\n",
       "      <td>likes</td>\n",
       "      <td>-0.144363</td>\n",
       "      <td>0.828964</td>\n",
       "      <td>1.000000</td>\n",
       "      <td>0.460427</td>\n",
       "      <td>0.836585</td>\n",
       "      <td>-0.023057</td>\n",
       "      <td>-0.024729</td>\n",
       "      <td>0.001953</td>\n",
       "      <td>0.045881</td>\n",
       "    </tr>\n",
       "    <tr>\n",
       "      <td>dislikes</td>\n",
       "      <td>-0.028731</td>\n",
       "      <td>0.557621</td>\n",
       "      <td>0.460427</td>\n",
       "      <td>1.000000</td>\n",
       "      <td>0.643494</td>\n",
       "      <td>-0.005282</td>\n",
       "      <td>-0.008762</td>\n",
       "      <td>0.000636</td>\n",
       "      <td>-0.008099</td>\n",
       "    </tr>\n",
       "    <tr>\n",
       "      <td>comment_count</td>\n",
       "      <td>-0.068848</td>\n",
       "      <td>0.693107</td>\n",
       "      <td>0.836585</td>\n",
       "      <td>0.643494</td>\n",
       "      <td>1.000000</td>\n",
       "      <td>-0.028109</td>\n",
       "      <td>-0.016602</td>\n",
       "      <td>0.003117</td>\n",
       "      <td>0.049997</td>\n",
       "    </tr>\n",
       "    <tr>\n",
       "      <td>comments_disabled</td>\n",
       "      <td>0.038741</td>\n",
       "      <td>0.004424</td>\n",
       "      <td>-0.023057</td>\n",
       "      <td>-0.005282</td>\n",
       "      <td>-0.028109</td>\n",
       "      <td>1.000000</td>\n",
       "      <td>0.147903</td>\n",
       "      <td>-0.003092</td>\n",
       "      <td>-0.029134</td>\n",
       "    </tr>\n",
       "    <tr>\n",
       "      <td>ratings_disabled</td>\n",
       "      <td>0.018377</td>\n",
       "      <td>0.005745</td>\n",
       "      <td>-0.024729</td>\n",
       "      <td>-0.008762</td>\n",
       "      <td>-0.016602</td>\n",
       "      <td>0.147903</td>\n",
       "      <td>1.000000</td>\n",
       "      <td>-0.002131</td>\n",
       "      <td>-0.003791</td>\n",
       "    </tr>\n",
       "    <tr>\n",
       "      <td>video_error_or_removed</td>\n",
       "      <td>-0.030002</td>\n",
       "      <td>0.001928</td>\n",
       "      <td>0.001953</td>\n",
       "      <td>0.000636</td>\n",
       "      <td>0.003117</td>\n",
       "      <td>-0.003092</td>\n",
       "      <td>-0.002131</td>\n",
       "      <td>1.000000</td>\n",
       "      <td>-0.013344</td>\n",
       "    </tr>\n",
       "    <tr>\n",
       "      <td>contain_capitalized</td>\n",
       "      <td>0.027505</td>\n",
       "      <td>-0.007610</td>\n",
       "      <td>0.045881</td>\n",
       "      <td>-0.008099</td>\n",
       "      <td>0.049997</td>\n",
       "      <td>-0.029134</td>\n",
       "      <td>-0.003791</td>\n",
       "      <td>-0.013344</td>\n",
       "      <td>1.000000</td>\n",
       "    </tr>\n",
       "  </tbody>\n",
       "</table>\n",
       "</div>"
      ],
      "text/plain": [
       "                        category_id     views     likes  dislikes  \\\n",
       "category_id                1.000000 -0.139610 -0.144363 -0.028731   \n",
       "views                     -0.139610  1.000000  0.828964  0.557621   \n",
       "likes                     -0.144363  0.828964  1.000000  0.460427   \n",
       "dislikes                  -0.028731  0.557621  0.460427  1.000000   \n",
       "comment_count             -0.068848  0.693107  0.836585  0.643494   \n",
       "comments_disabled          0.038741  0.004424 -0.023057 -0.005282   \n",
       "ratings_disabled           0.018377  0.005745 -0.024729 -0.008762   \n",
       "video_error_or_removed    -0.030002  0.001928  0.001953  0.000636   \n",
       "contain_capitalized        0.027505 -0.007610  0.045881 -0.008099   \n",
       "\n",
       "                        comment_count  comments_disabled  ratings_disabled  \\\n",
       "category_id                 -0.068848           0.038741          0.018377   \n",
       "views                        0.693107           0.004424          0.005745   \n",
       "likes                        0.836585          -0.023057         -0.024729   \n",
       "dislikes                     0.643494          -0.005282         -0.008762   \n",
       "comment_count                1.000000          -0.028109         -0.016602   \n",
       "comments_disabled           -0.028109           1.000000          0.147903   \n",
       "ratings_disabled            -0.016602           0.147903          1.000000   \n",
       "video_error_or_removed       0.003117          -0.003092         -0.002131   \n",
       "contain_capitalized          0.049997          -0.029134         -0.003791   \n",
       "\n",
       "                        video_error_or_removed  contain_capitalized  \n",
       "category_id                          -0.030002             0.027505  \n",
       "views                                 0.001928            -0.007610  \n",
       "likes                                 0.001953             0.045881  \n",
       "dislikes                              0.000636            -0.008099  \n",
       "comment_count                         0.003117             0.049997  \n",
       "comments_disabled                    -0.003092            -0.029134  \n",
       "ratings_disabled                     -0.002131            -0.003791  \n",
       "video_error_or_removed                1.000000            -0.013344  \n",
       "contain_capitalized                  -0.013344             1.000000  "
      ]
     },
     "execution_count": 42,
     "metadata": {},
     "output_type": "execute_result"
    }
   ],
   "source": [
    "df.corr()"
   ]
  },
  {
   "cell_type": "code",
   "execution_count": 43,
   "metadata": {},
   "outputs": [
    {
     "data": {
      "text/plain": [
       "<matplotlib.axes._subplots.AxesSubplot at 0x226342f8d48>"
      ]
     },
     "execution_count": 43,
     "metadata": {},
     "output_type": "execute_result"
    },
    {
     "data": {
      "image/png": "[encoded data removed]",
      "text/plain": [
       "<Figure size 432x288 with 2 Axes>"
      ]
     },
     "metadata": {
      "needs_background": "light"
     },
     "output_type": "display_data"
    }
   ],
   "source": [
    "fig,ax = plt.subplots()\n",
    "sns.heatmap(df.corr(), annot = True, ax = ax)"
   ]
  },
  {
   "cell_type": "code",
   "execution_count": 44,
   "metadata": {},
   "outputs": [
    {
     "data": {
      "text/html": [
       "<div>\n",
       "<style scoped>\n",
       "    .dataframe tbody tr th:only-of-type {\n",
       "        vertical-align: middle;\n",
       "    }\n",
       "\n",
       "    .dataframe tbody tr th {\n",
       "        vertical-align: top;\n",
       "    }\n",
       "\n",
       "    .dataframe thead th {\n",
       "        text-align: right;\n",
       "    }\n",
       "</style>\n",
       "<table border=\"1\" class=\"dataframe\">\n",
       "  <thead>\n",
       "    <tr style=\"text-align: right;\">\n",
       "      <th></th>\n",
       "      <th>channel_title</th>\n",
       "      <th>video_count</th>\n",
       "    </tr>\n",
       "  </thead>\n",
       "  <tbody>\n",
       "    <tr>\n",
       "      <td>3276</td>\n",
       "      <td>SET India</td>\n",
       "      <td>192</td>\n",
       "    </tr>\n",
       "    <tr>\n",
       "      <td>2356</td>\n",
       "      <td>MSNBC</td>\n",
       "      <td>189</td>\n",
       "    </tr>\n",
       "    <tr>\n",
       "      <td>1244</td>\n",
       "      <td>FBE</td>\n",
       "      <td>188</td>\n",
       "    </tr>\n",
       "    <tr>\n",
       "      <td>3887</td>\n",
       "      <td>The Young Turks</td>\n",
       "      <td>186</td>\n",
       "    </tr>\n",
       "    <tr>\n",
       "      <td>3096</td>\n",
       "      <td>REACT</td>\n",
       "      <td>183</td>\n",
       "    </tr>\n",
       "    <tr>\n",
       "      <td>4213</td>\n",
       "      <td>VikatanTV</td>\n",
       "      <td>182</td>\n",
       "    </tr>\n",
       "    <tr>\n",
       "      <td>634</td>\n",
       "      <td>CNN</td>\n",
       "      <td>182</td>\n",
       "    </tr>\n",
       "    <tr>\n",
       "      <td>3808</td>\n",
       "      <td>The Late Show with Stephen Colbert</td>\n",
       "      <td>172</td>\n",
       "    </tr>\n",
       "    <tr>\n",
       "      <td>3119</td>\n",
       "      <td>RadaanMedia</td>\n",
       "      <td>168</td>\n",
       "    </tr>\n",
       "    <tr>\n",
       "      <td>117</td>\n",
       "      <td>ARY Digital</td>\n",
       "      <td>168</td>\n",
       "    </tr>\n",
       "    <tr>\n",
       "      <td>2958</td>\n",
       "      <td>Philip DeFranco</td>\n",
       "      <td>167</td>\n",
       "    </tr>\n",
       "    <tr>\n",
       "      <td>2338</td>\n",
       "      <td>MLG Highlights</td>\n",
       "      <td>165</td>\n",
       "    </tr>\n",
       "    <tr>\n",
       "      <td>843</td>\n",
       "      <td>Comment Awards</td>\n",
       "      <td>163</td>\n",
       "    </tr>\n",
       "    <tr>\n",
       "      <td>588</td>\n",
       "      <td>BuzzFeedVideo</td>\n",
       "      <td>160</td>\n",
       "    </tr>\n",
       "    <tr>\n",
       "      <td>1511</td>\n",
       "      <td>Good Mythical Morning</td>\n",
       "      <td>157</td>\n",
       "    </tr>\n",
       "    <tr>\n",
       "      <td>831</td>\n",
       "      <td>CollegeHumor</td>\n",
       "      <td>153</td>\n",
       "    </tr>\n",
       "    <tr>\n",
       "      <td>3902</td>\n",
       "      <td>TheEllenShow</td>\n",
       "      <td>150</td>\n",
       "    </tr>\n",
       "    <tr>\n",
       "      <td>546</td>\n",
       "      <td>Breakfast Club Power 105.1 FM</td>\n",
       "      <td>149</td>\n",
       "    </tr>\n",
       "    <tr>\n",
       "      <td>3864</td>\n",
       "      <td>The View</td>\n",
       "      <td>149</td>\n",
       "    </tr>\n",
       "    <tr>\n",
       "      <td>2167</td>\n",
       "      <td>Late Night with Seth Meyers</td>\n",
       "      <td>148</td>\n",
       "    </tr>\n",
       "  </tbody>\n",
       "</table>\n",
       "</div>"
      ],
      "text/plain": [
       "                           channel_title  video_count\n",
       "3276                           SET India          192\n",
       "2356                               MSNBC          189\n",
       "1244                                 FBE          188\n",
       "3887                     The Young Turks          186\n",
       "3096                               REACT          183\n",
       "4213                           VikatanTV          182\n",
       "634                                  CNN          182\n",
       "3808  The Late Show with Stephen Colbert          172\n",
       "3119                         RadaanMedia          168\n",
       "117                          ARY Digital          168\n",
       "2958                     Philip DeFranco          167\n",
       "2338                      MLG Highlights          165\n",
       "843                       Comment Awards          163\n",
       "588                        BuzzFeedVideo          160\n",
       "1511               Good Mythical Morning          157\n",
       "831                         CollegeHumor          153\n",
       "3902                        TheEllenShow          150\n",
       "546        Breakfast Club Power 105.1 FM          149\n",
       "3864                            The View          149\n",
       "2167         Late Night with Seth Meyers          148"
      ]
     },
     "execution_count": 44,
     "metadata": {},
     "output_type": "execute_result"
    }
   ],
   "source": [
    "df.groupby('channel_title').size().reset_index(name = 'video_count').sort_values('video_count', ascending = False).head(20)"
   ]
  },
  {
   "cell_type": "code",
   "execution_count": null,
   "metadata": {},
   "outputs": [],
   "source": []
  }
 ],
 "metadata": {
  "kernelspec": {
   "display_name": "Python 3",
   "language": "python",
   "name": "python3"
  },
  "language_info": {
   "codemirror_mode": {
    "name": "ipython",
    "version": 3
   },
   "file_extension": ".py",
   "mimetype": "text/x-python",
   "name": "python",
   "nbconvert_exporter": "python",
   "pygments_lexer": "ipython3",
   "version": "3.7.4"
  }
 },
 "nbformat": 4,
 "nbformat_minor": 2
}
