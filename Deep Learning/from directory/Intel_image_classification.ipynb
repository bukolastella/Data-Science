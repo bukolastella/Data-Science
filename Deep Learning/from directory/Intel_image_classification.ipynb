{
  "nbformat": 4,
  "nbformat_minor": 0,
  "metadata": {
    "colab": {
      "name": "Intel_image_classification.ipynb",
      "provenance": [],
      "collapsed_sections": [],
      "authorship_tag": "ABX9TyMSim0ShrPuYNVyq2o/jylX",
      "include_colab_link": true
    },
    "kernelspec": {
      "name": "python3",
      "display_name": "Python 3"
    }
  },
  "cells": [
    {
      "cell_type": "markdown",
      "metadata": {
        "id": "view-in-github",
        "colab_type": "text"
      },
      "source": [
        "<a href=\"https://colab.research.google.com/github/bukolastella/Data-Science/blob/master/Deep%20Learning/from%20directory/Intel_image_classification.ipynb\" target=\"_parent\"><img src=\"https://colab.research.google.com/assets/colab-badge.svg\" alt=\"Open In Colab\"/></a>"
      ]
    },
    {
      "cell_type": "code",
      "metadata": {
        "id": "SQRCSs3jBOvA",
        "colab_type": "code",
        "colab": {
          "base_uri": "https://localhost:8080/",
          "height": 122
        },
        "outputId": "91a91aa3-6c81-4234-d4f4-05c0d8b19fed"
      },
      "source": [
        "from google.colab import drive\n",
        "drive.mount('/content/gdrive')"
      ],
      "execution_count": null,
      "outputs": [
        {
          "output_type": "stream",
          "text": [
            "Go to this URL in a browser: https://accounts.google.com/o/oauth2/auth?client_id=947318989803-6bn6qk8qdgf4n4g3pfee6491hc0brc4i.apps.googleusercontent.com&redirect_uri=urn%3aietf%3awg%3aoauth%3a2.0%3aoob&response_type=code&scope=email%20https%3a%2f%2fwww.googleapis.com%2fauth%2fdocs.test%20https%3a%2f%2fwww.googleapis.com%2fauth%2fdrive%20https%3a%2f%2fwww.googleapis.com%2fauth%2fdrive.photos.readonly%20https%3a%2f%2fwww.googleapis.com%2fauth%2fpeopleapi.readonly\n",
            "\n",
            "Enter your authorization code:\n",
            "··········\n",
            "Mounted at /content/gdrive\n"
          ],
          "name": "stdout"
        }
      ]
    },
    {
      "cell_type": "code",
      "metadata": {
        "id": "rwPw2IFiBrfS",
        "colab_type": "code",
        "colab": {}
      },
      "source": [
        "import os\n",
        "os.environ['KAGGLE_CONFIG_DIR'] = \"/content/gdrive/My Drive/kaggle\""
      ],
      "execution_count": null,
      "outputs": []
    },
    {
      "cell_type": "code",
      "metadata": {
        "id": "oCOKmVJcBxCT",
        "colab_type": "code",
        "colab": {
          "base_uri": "https://localhost:8080/",
          "height": 34
        },
        "outputId": "98916e85-d4be-4ef8-e2d5-93b4ae093af3"
      },
      "source": [
        "%cd /content/gdrive/My Drive/kaggle"
      ],
      "execution_count": null,
      "outputs": [
        {
          "output_type": "stream",
          "text": [
            "/content/gdrive/My Drive/kaggle\n"
          ],
          "name": "stdout"
        }
      ]
    },
    {
      "cell_type": "code",
      "metadata": {
        "id": "fD9VUnvIB_Vd",
        "colab_type": "code",
        "colab": {}
      },
      "source": [
        "#!kaggle datasets download -d puneet6060/intel-image-classification"
      ],
      "execution_count": null,
      "outputs": []
    },
    {
      "cell_type": "code",
      "metadata": {
        "id": "36dAs-YEHohO",
        "colab_type": "code",
        "colab": {
          "base_uri": "https://localhost:8080/",
          "height": 85
        },
        "outputId": "8a7caef1-be66-4810-b74f-10686c39348b"
      },
      "source": [
        "!ls"
      ],
      "execution_count": null,
      "outputs": [
        {
          "output_type": "stream",
          "text": [
            "a-rfr-ed.jpg  cell-images-for-detecting-malaria.zip  readme.md\tseg_train\n",
            "b\t      DB1_B\t\t\t\t     real\tSOCOFing\n",
            "big.file      intel-image-classification.zip\t     seg_pred\ttrain\n",
            "cell_images   kaggle.json\t\t\t     seg_test\n"
          ],
          "name": "stdout"
        }
      ]
    },
    {
      "cell_type": "code",
      "metadata": {
        "id": "hw3AGDkzCEFb",
        "colab_type": "code",
        "colab": {}
      },
      "source": [
        "#!unzip '/content/gdrive/My Drive/kaggle/intel-image-classification.zip'"
      ],
      "execution_count": null,
      "outputs": []
    },
    {
      "cell_type": "code",
      "metadata": {
        "id": "LPyrLI-wCRem",
        "colab_type": "code",
        "colab": {
          "base_uri": "https://localhost:8080/",
          "height": 34
        },
        "outputId": "58e70909-7eb7-4163-c1aa-a69725424b1b"
      },
      "source": [
        "#import necessary libraries\n",
        "import tensorflow as tf\n",
        "from tensorflow import keras\n",
        "import numpy as np\n",
        "import pandas as pd\n",
        "from keras.preprocessing.image import ImageDataGenerator"
      ],
      "execution_count": null,
      "outputs": [
        {
          "output_type": "stream",
          "text": [
            "Using TensorFlow backend.\n"
          ],
          "name": "stderr"
        }
      ]
    },
    {
      "cell_type": "code",
      "metadata": {
        "id": "fAqAfxAbDElZ",
        "colab_type": "code",
        "colab": {}
      },
      "source": [
        "train_dir = '/content/gdrive/My Drive/kaggle/seg_train/seg_train'\n",
        "test_dir = '/content/gdrive/My Drive/kaggle/seg_test/seg_test'"
      ],
      "execution_count": null,
      "outputs": []
    },
    {
      "cell_type": "code",
      "metadata": {
        "id": "yRZWUpImTHb1",
        "colab_type": "code",
        "colab": {}
      },
      "source": [
        "datagen = dict(rescale = 1./255, validation_split = 0.2)"
      ],
      "execution_count": null,
      "outputs": []
    },
    {
      "cell_type": "code",
      "metadata": {
        "id": "3KqIvKKnDqsM",
        "colab_type": "code",
        "colab": {}
      },
      "source": [
        "train_datagen = ImageDataGenerator(**datagen, horizontal_flip = True,)\n",
        "valid_datagen = ImageDataGenerator(**datagen)\n",
        "test_datagen = ImageDataGenerator(rescale = 1./255)"
      ],
      "execution_count": null,
      "outputs": []
    },
    {
      "cell_type": "code",
      "metadata": {
        "id": "aZAV42LQE8zA",
        "colab_type": "code",
        "colab": {
          "base_uri": "https://localhost:8080/",
          "height": 34
        },
        "outputId": "8a6e3e09-d411-4054-b98f-d8bb70215927"
      },
      "source": [
        "train_generator = train_datagen.flow_from_directory(\n",
        "    train_dir,\n",
        "    shuffle = True,\n",
        "    seed = 42,\n",
        "    target_size = (150,150),\n",
        "    subset = 'training'\n",
        ")"
      ],
      "execution_count": null,
      "outputs": [
        {
          "output_type": "stream",
          "text": [
            "Found 11230 images belonging to 6 classes.\n"
          ],
          "name": "stdout"
        }
      ]
    },
    {
      "cell_type": "code",
      "metadata": {
        "id": "dX1RbMkxFN5i",
        "colab_type": "code",
        "colab": {
          "base_uri": "https://localhost:8080/",
          "height": 34
        },
        "outputId": "cf0b4b5c-c88c-4a70-8243-dde4f0e0771d"
      },
      "source": [
        "valid_generator = valid_datagen.flow_from_directory(\n",
        "    train_dir,\n",
        "    shuffle = True,\n",
        "    seed = 42,\n",
        "    target_size = (150,150),\n",
        "    subset = 'validation'\n",
        ")"
      ],
      "execution_count": null,
      "outputs": [
        {
          "output_type": "stream",
          "text": [
            "Found 2804 images belonging to 6 classes.\n"
          ],
          "name": "stdout"
        }
      ]
    },
    {
      "cell_type": "code",
      "metadata": {
        "id": "KKYBXksKFdXE",
        "colab_type": "code",
        "colab": {
          "base_uri": "https://localhost:8080/",
          "height": 34
        },
        "outputId": "1e6d20ee-a620-4b42-819b-77e14550dcc2"
      },
      "source": [
        "test_generator = test_datagen.flow_from_directory(\n",
        "    test_dir,\n",
        "    shuffle = False,\n",
        "    target_size = (150,150)\n",
        ")"
      ],
      "execution_count": null,
      "outputs": [
        {
          "output_type": "stream",
          "text": [
            "Found 3000 images belonging to 6 classes.\n"
          ],
          "name": "stdout"
        }
      ]
    },
    {
      "cell_type": "markdown",
      "metadata": {
        "id": "9UsbGVevFxDc",
        "colab_type": "text"
      },
      "source": [
        "**MODEL**"
      ]
    },
    {
      "cell_type": "code",
      "metadata": {
        "id": "A-LtboiuFv8t",
        "colab_type": "code",
        "colab": {}
      },
      "source": [
        "from keras.layers import Conv2D, MaxPooling2D, Dense, Flatten\n",
        "from keras import layers\n",
        "from keras import optimizers\n",
        "from keras import  Sequential"
      ],
      "execution_count": null,
      "outputs": []
    },
    {
      "cell_type": "code",
      "metadata": {
        "id": "TrXBnFQ-GcDK",
        "colab_type": "code",
        "colab": {}
      },
      "source": [
        "model = Sequential([\n",
        "                    Conv2D(32, 3, padding='same',activation='relu',kernel_initializer='he_uniform', input_shape = [150, 150, 3]),\n",
        "                    MaxPooling2D(2),\n",
        "                    Conv2D(32, 3, padding='same',kernel_initializer='he_uniform', activation='relu'),\n",
        "                    MaxPooling2D(2),\n",
        "                    Conv2D(64, 3, padding='same',kernel_initializer='he_uniform',activation='relu'),\n",
        "                    MaxPooling2D(2),\n",
        "                    Conv2D(64, 3, padding='same', kernel_initializer='he_uniform',activation='relu'),\n",
        "                    MaxPooling2D(2),\n",
        "                    Flatten(),\n",
        "                    Dense(128,kernel_initializer='he_uniform',activation = 'relu'),\n",
        "                    Dense(6, activation = 'softmax'),\n",
        "                    ])"
      ],
      "execution_count": null,
      "outputs": []
    },
    {
      "cell_type": "code",
      "metadata": {
        "id": "a04KbZT0GmFP",
        "colab_type": "code",
        "colab": {}
      },
      "source": [
        "model.compile(optimizer = optimizers.Adam(1e-4), loss = 'categorical_crossentropy', metrics = ['accuracy'])"
      ],
      "execution_count": null,
      "outputs": []
    },
    {
      "cell_type": "code",
      "metadata": {
        "id": "p07DtnWgGpim",
        "colab_type": "code",
        "colab": {
          "base_uri": "https://localhost:8080/",
          "height": 697
        },
        "outputId": "3c18759c-0433-4182-f8a6-46962fa5323f"
      },
      "source": [
        "steps = np.ceil(train_generator.samples/train_generator.batch_size)\n",
        "val_steps = np.ceil(valid_generator.samples/valid_generator.batch_size)\n",
        "early_stopping_cb = tf.keras.callbacks.EarlyStopping(monitor='val_loss', patience=10)\n",
        "\n",
        "history = model.fit(train_generator, epochs = 20, steps_per_epoch= steps, validation_steps= val_steps, validation_data= (valid_generator))"
      ],
      "execution_count": null,
      "outputs": [
        {
          "output_type": "stream",
          "text": [
            "Epoch 1/20\n",
            "351/351 [==============================] - 4617s 13s/step - loss: 1.1512 - accuracy: 0.5562 - val_loss: 1.0414 - val_accuracy: 0.6177\n",
            "Epoch 2/20\n",
            "351/351 [==============================] - 32s 92ms/step - loss: 0.8703 - accuracy: 0.6710 - val_loss: 1.0839 - val_accuracy: 0.6316\n",
            "Epoch 3/20\n",
            "351/351 [==============================] - 32s 91ms/step - loss: 0.7560 - accuracy: 0.7191 - val_loss: 0.7224 - val_accuracy: 0.7389\n",
            "Epoch 4/20\n",
            "351/351 [==============================] - 32s 91ms/step - loss: 0.6642 - accuracy: 0.7569 - val_loss: 0.3553 - val_accuracy: 0.7422\n",
            "Epoch 5/20\n",
            "351/351 [==============================] - 31s 89ms/step - loss: 0.6056 - accuracy: 0.7832 - val_loss: 0.4154 - val_accuracy: 0.7885\n",
            "Epoch 6/20\n",
            "351/351 [==============================] - 31s 88ms/step - loss: 0.5566 - accuracy: 0.7980 - val_loss: 0.6064 - val_accuracy: 0.7814\n",
            "Epoch 7/20\n",
            "351/351 [==============================] - 30s 86ms/step - loss: 0.5224 - accuracy: 0.8142 - val_loss: 0.6837 - val_accuracy: 0.8039\n",
            "Epoch 8/20\n",
            "351/351 [==============================] - 31s 90ms/step - loss: 0.4855 - accuracy: 0.8209 - val_loss: 0.9045 - val_accuracy: 0.8021\n",
            "Epoch 9/20\n",
            "351/351 [==============================] - 30s 86ms/step - loss: 0.4704 - accuracy: 0.8295 - val_loss: 0.2772 - val_accuracy: 0.8138\n",
            "Epoch 10/20\n",
            "351/351 [==============================] - 30s 87ms/step - loss: 0.4406 - accuracy: 0.8390 - val_loss: 0.3778 - val_accuracy: 0.8121\n",
            "Epoch 11/20\n",
            "351/351 [==============================] - 31s 88ms/step - loss: 0.4301 - accuracy: 0.8466 - val_loss: 0.8137 - val_accuracy: 0.8174\n",
            "Epoch 12/20\n",
            "351/351 [==============================] - 30s 87ms/step - loss: 0.3981 - accuracy: 0.8599 - val_loss: 0.5585 - val_accuracy: 0.8199\n",
            "Epoch 13/20\n",
            "351/351 [==============================] - 30s 87ms/step - loss: 0.3684 - accuracy: 0.8705 - val_loss: 0.8336 - val_accuracy: 0.8260\n",
            "Epoch 14/20\n",
            "351/351 [==============================] - 31s 89ms/step - loss: 0.3542 - accuracy: 0.8743 - val_loss: 0.3273 - val_accuracy: 0.8039\n",
            "Epoch 15/20\n",
            "351/351 [==============================] - 31s 89ms/step - loss: 0.3390 - accuracy: 0.8797 - val_loss: 1.0178 - val_accuracy: 0.7974\n",
            "Epoch 16/20\n",
            "351/351 [==============================] - 31s 88ms/step - loss: 0.3176 - accuracy: 0.8893 - val_loss: 0.5398 - val_accuracy: 0.8302\n",
            "Epoch 17/20\n",
            "351/351 [==============================] - 31s 88ms/step - loss: 0.3046 - accuracy: 0.8936 - val_loss: 0.2180 - val_accuracy: 0.8217\n",
            "Epoch 18/20\n",
            "351/351 [==============================] - 33s 93ms/step - loss: 0.2924 - accuracy: 0.8985 - val_loss: 0.7564 - val_accuracy: 0.8181\n",
            "Epoch 19/20\n",
            "351/351 [==============================] - 30s 86ms/step - loss: 0.2700 - accuracy: 0.9051 - val_loss: 0.1604 - val_accuracy: 0.8359\n",
            "Epoch 20/20\n",
            "351/351 [==============================] - 32s 90ms/step - loss: 0.2485 - accuracy: 0.9157 - val_loss: 0.3832 - val_accuracy: 0.8263\n"
          ],
          "name": "stdout"
        }
      ]
    },
    {
      "cell_type": "code",
      "metadata": {
        "id": "BtA0sfFHInkm",
        "colab_type": "code",
        "colab": {
          "base_uri": "https://localhost:8080/",
          "height": 341
        },
        "outputId": "a4e6a402-06d1-499d-81cc-b9bc08229254"
      },
      "source": [
        "import matplotlib.pyplot as plt\n",
        "pd.DataFrame(history.history).plot(figsize = (8,5))\n",
        "plt.grid(True)\n",
        "plt.gca().set_ylim(0,1)"
      ],
      "execution_count": null,
      "outputs": [
        {
          "output_type": "execute_result",
          "data": {
            "text/plain": [
              "(0.0, 1.0)"
            ]
          },
          "metadata": {
            "tags": []
          },
          "execution_count": 18
        },
        {
          "output_type": "display_data",
          "data": {
            "image/png": "[encoded data removed]",
            "text/plain": [
              "<Figure size 576x360 with 1 Axes>"
            ]
          },
          "metadata": {
            "tags": [],
            "needs_background": "light"
          }
        }
      ]
    },
    {
      "cell_type": "code",
      "metadata": {
        "id": "nb2_zugUNtKF",
        "colab_type": "code",
        "colab": {
          "base_uri": "https://localhost:8080/",
          "height": 527
        },
        "outputId": "17b21fde-7cce-4e3c-ea9b-d3aa88705eee"
      },
      "source": [
        "model.summary()"
      ],
      "execution_count": null,
      "outputs": [
        {
          "output_type": "stream",
          "text": [
            "Model: \"sequential_1\"\n",
            "_________________________________________________________________\n",
            "Layer (type)                 Output Shape              Param #   \n",
            "=================================================================\n",
            "conv2d_1 (Conv2D)            (None, 150, 150, 32)      896       \n",
            "_________________________________________________________________\n",
            "max_pooling2d_1 (MaxPooling2 (None, 75, 75, 32)        0         \n",
            "_________________________________________________________________\n",
            "conv2d_2 (Conv2D)            (None, 75, 75, 32)        9248      \n",
            "_________________________________________________________________\n",
            "max_pooling2d_2 (MaxPooling2 (None, 37, 37, 32)        0         \n",
            "_________________________________________________________________\n",
            "conv2d_3 (Conv2D)            (None, 37, 37, 64)        18496     \n",
            "_________________________________________________________________\n",
            "max_pooling2d_3 (MaxPooling2 (None, 18, 18, 64)        0         \n",
            "_________________________________________________________________\n",
            "conv2d_4 (Conv2D)            (None, 18, 18, 64)        36928     \n",
            "_________________________________________________________________\n",
            "max_pooling2d_4 (MaxPooling2 (None, 9, 9, 64)          0         \n",
            "_________________________________________________________________\n",
            "flatten_1 (Flatten)          (None, 5184)              0         \n",
            "_________________________________________________________________\n",
            "dense_1 (Dense)              (None, 128)               663680    \n",
            "_________________________________________________________________\n",
            "dense_2 (Dense)              (None, 6)                 774       \n",
            "=================================================================\n",
            "Total params: 730,022\n",
            "Trainable params: 730,022\n",
            "Non-trainable params: 0\n",
            "_________________________________________________________________\n"
          ],
          "name": "stdout"
        }
      ]
    },
    {
      "cell_type": "code",
      "metadata": {
        "id": "19z_1B0dPbay",
        "colab_type": "code",
        "colab": {}
      },
      "source": [
        ""
      ],
      "execution_count": null,
      "outputs": []
    }
  ]
}