{
  "nbformat": 4,
  "nbformat_minor": 0,
  "metadata": {
    "colab": {
      "name": "Copy of Rock_Paper_Scissor.ipynb",
      "provenance": [],
      "collapsed_sections": [],
      "mount_file_id": "1A_WALJ5EZFr2J2pW90goXWwNXktmnWkp",
      "authorship_tag": "ABX9TyMsicGeuDO2o8v8gXkPA23C",
      "include_colab_link": true
    },
    "kernelspec": {
      "name": "python3",
      "display_name": "Python 3"
    },
    "accelerator": "GPU"
  },
  "cells": [
    {
      "cell_type": "markdown",
      "metadata": {
        "id": "view-in-github",
        "colab_type": "text"
      },
      "source": [
        "<a href=\"https://colab.research.google.com/github/bukolastella/Data-Science/blob/master/Deep%20Learning/from%20directory/%20Latest%20commitCopy_of_Rock_Paper_Scissor.ipynb\" target=\"_parent\"><img src=\"https://colab.research.google.com/assets/colab-badge.svg\" alt=\"Open In Colab\"/></a>"
      ]
    },
    {
      "cell_type": "code",
      "metadata": {
        "id": "sVJ1Zc8UTCrN",
        "colab_type": "code",
        "colab": {
          "base_uri": "https://localhost:8080/",
          "height": 51
        },
        "outputId": "a51da8ec-337e-4c53-c6e2-c9213468ed43"
      },
      "source": [
        "%load_ext tensorboard"
      ],
      "execution_count": null,
      "outputs": [
        {
          "output_type": "stream",
          "text": [
            "The tensorboard extension is already loaded. To reload it, use:\n",
            "  %reload_ext tensorboard\n"
          ],
          "name": "stdout"
        }
      ]
    },
    {
      "cell_type": "code",
      "metadata": {
        "id": "sYUc-9c8bYli",
        "colab_type": "code",
        "colab": {}
      },
      "source": [
        ""
      ],
      "execution_count": null,
      "outputs": []
    },
    {
      "cell_type": "code",
      "metadata": {
        "id": "NxCQQnRLbZBC",
        "colab_type": "code",
        "colab": {}
      },
      "source": [
        ""
      ],
      "execution_count": null,
      "outputs": []
    },
    {
      "cell_type": "code",
      "metadata": {
        "id": "DoAX120hmtSQ",
        "colab_type": "code",
        "colab": {}
      },
      "source": [
        "from tensorflow import keras\n",
        "import tensorflow as tf\n",
        "import os,datetime\n",
        "import tensorflow_datasets as tfds"
      ],
      "execution_count": null,
      "outputs": []
    },
    {
      "cell_type": "code",
      "metadata": {
        "id": "oN8h89bLnXjZ",
        "colab_type": "code",
        "colab": {
          "base_uri": "https://localhost:8080/",
          "height": 1000
        },
        "outputId": "62e00573-204f-4f07-dc12-54f5f076feb2"
      },
      "source": [
        "tfds.list_builders() "
      ],
      "execution_count": null,
      "outputs": [
        {
          "output_type": "execute_result",
          "data": {
            "text/plain": [
              "['abstract_reasoning',\n",
              " 'aeslc',\n",
              " 'aflw2k3d',\n",
              " 'amazon_us_reviews',\n",
              " 'arc',\n",
              " 'bair_robot_pushing_small',\n",
              " 'beans',\n",
              " 'big_patent',\n",
              " 'bigearthnet',\n",
              " 'billsum',\n",
              " 'binarized_mnist',\n",
              " 'binary_alpha_digits',\n",
              " 'c4',\n",
              " 'caltech101',\n",
              " 'caltech_birds2010',\n",
              " 'caltech_birds2011',\n",
              " 'cars196',\n",
              " 'cassava',\n",
              " 'cats_vs_dogs',\n",
              " 'celeb_a',\n",
              " 'celeb_a_hq',\n",
              " 'cfq',\n",
              " 'chexpert',\n",
              " 'cifar10',\n",
              " 'cifar100',\n",
              " 'cifar10_1',\n",
              " 'cifar10_corrupted',\n",
              " 'citrus_leaves',\n",
              " 'cityscapes',\n",
              " 'civil_comments',\n",
              " 'clevr',\n",
              " 'cmaterdb',\n",
              " 'cnn_dailymail',\n",
              " 'coco',\n",
              " 'coil100',\n",
              " 'colorectal_histology',\n",
              " 'colorectal_histology_large',\n",
              " 'cos_e',\n",
              " 'curated_breast_imaging_ddsm',\n",
              " 'cycle_gan',\n",
              " 'deep_weeds',\n",
              " 'definite_pronoun_resolution',\n",
              " 'diabetic_retinopathy_detection',\n",
              " 'div2k',\n",
              " 'dmlab',\n",
              " 'downsampled_imagenet',\n",
              " 'dsprites',\n",
              " 'dtd',\n",
              " 'duke_ultrasound',\n",
              " 'dummy_dataset_shared_generator',\n",
              " 'dummy_mnist',\n",
              " 'emnist',\n",
              " 'eraser_multi_rc',\n",
              " 'esnli',\n",
              " 'eurosat',\n",
              " 'fashion_mnist',\n",
              " 'flic',\n",
              " 'flores',\n",
              " 'food101',\n",
              " 'gap',\n",
              " 'gigaword',\n",
              " 'glue',\n",
              " 'groove',\n",
              " 'higgs',\n",
              " 'horses_or_humans',\n",
              " 'i_naturalist2017',\n",
              " 'image_label_folder',\n",
              " 'imagenet2012',\n",
              " 'imagenet2012_corrupted',\n",
              " 'imagenet_resized',\n",
              " 'imagenette',\n",
              " 'imagewang',\n",
              " 'imdb_reviews',\n",
              " 'iris',\n",
              " 'kitti',\n",
              " 'kmnist',\n",
              " 'lfw',\n",
              " 'librispeech',\n",
              " 'librispeech_lm',\n",
              " 'libritts',\n",
              " 'lm1b',\n",
              " 'lost_and_found',\n",
              " 'lsun',\n",
              " 'malaria',\n",
              " 'math_dataset',\n",
              " 'mnist',\n",
              " 'mnist_corrupted',\n",
              " 'movie_rationales',\n",
              " 'moving_mnist',\n",
              " 'multi_news',\n",
              " 'multi_nli',\n",
              " 'multi_nli_mismatch',\n",
              " 'natural_questions',\n",
              " 'newsroom',\n",
              " 'nsynth',\n",
              " 'omniglot',\n",
              " 'open_images_v4',\n",
              " 'opinosis',\n",
              " 'oxford_flowers102',\n",
              " 'oxford_iiit_pet',\n",
              " 'para_crawl',\n",
              " 'patch_camelyon',\n",
              " 'pet_finder',\n",
              " 'places365_small',\n",
              " 'plant_leaves',\n",
              " 'plant_village',\n",
              " 'plantae_k',\n",
              " 'qa4mre',\n",
              " 'quickdraw_bitmap',\n",
              " 'reddit_tifu',\n",
              " 'resisc45',\n",
              " 'rock_paper_scissors',\n",
              " 'rock_you',\n",
              " 'scan',\n",
              " 'scene_parse150',\n",
              " 'scicite',\n",
              " 'scientific_papers',\n",
              " 'shapes3d',\n",
              " 'smallnorb',\n",
              " 'snli',\n",
              " 'so2sat',\n",
              " 'speech_commands',\n",
              " 'squad',\n",
              " 'stanford_dogs',\n",
              " 'stanford_online_products',\n",
              " 'starcraft_video',\n",
              " 'sun397',\n",
              " 'super_glue',\n",
              " 'svhn_cropped',\n",
              " 'ted_hrlr_translate',\n",
              " 'ted_multi_translate',\n",
              " 'tf_flowers',\n",
              " 'the300w_lp',\n",
              " 'tiny_shakespeare',\n",
              " 'titanic',\n",
              " 'trivia_qa',\n",
              " 'uc_merced',\n",
              " 'ucf101',\n",
              " 'vgg_face2',\n",
              " 'visual_domain_decathlon',\n",
              " 'voc',\n",
              " 'wider_face',\n",
              " 'wikihow',\n",
              " 'wikipedia',\n",
              " 'wmt14_translate',\n",
              " 'wmt15_translate',\n",
              " 'wmt16_translate',\n",
              " 'wmt17_translate',\n",
              " 'wmt18_translate',\n",
              " 'wmt19_translate',\n",
              " 'wmt_t2t_translate',\n",
              " 'wmt_translate',\n",
              " 'xnli',\n",
              " 'xsum',\n",
              " 'yelp_polarity_reviews']"
            ]
          },
          "metadata": {
            "tags": []
          },
          "execution_count": 293
        }
      ]
    },
    {
      "cell_type": "code",
      "metadata": {
        "id": "jC4NSoLWnA11",
        "colab_type": "code",
        "colab": {}
      },
      "source": [
        "df, info = tfds.load('rock_paper_scissors', with_info = True, as_supervised = True)"
      ],
      "execution_count": null,
      "outputs": []
    },
    {
      "cell_type": "code",
      "metadata": {
        "id": "l2vnEV2ko9sQ",
        "colab_type": "code",
        "colab": {
          "base_uri": "https://localhost:8080/",
          "height": 51
        },
        "outputId": "dafa29f4-e9d4-4796-c0a2-ba08e005d9e9"
      },
      "source": [
        "df"
      ],
      "execution_count": null,
      "outputs": [
        {
          "output_type": "execute_result",
          "data": {
            "text/plain": [
              "{'test': <DatasetV1Adapter shapes: ((300, 300, 3), ()), types: (tf.uint8, tf.int64)>,\n",
              " 'train': <DatasetV1Adapter shapes: ((300, 300, 3), ()), types: (tf.uint8, tf.int64)>}"
            ]
          },
          "metadata": {
            "tags": []
          },
          "execution_count": 295
        }
      ]
    },
    {
      "cell_type": "code",
      "metadata": {
        "id": "vGkw5CgN0okc",
        "colab_type": "code",
        "colab": {
          "base_uri": "https://localhost:8080/",
          "height": 34
        },
        "outputId": "a7164c29-9105-4422-9aa4-1634f0d8aa04"
      },
      "source": [
        "info.splits[\"train\"].num_examples"
      ],
      "execution_count": null,
      "outputs": [
        {
          "output_type": "execute_result",
          "data": {
            "text/plain": [
              "2520"
            ]
          },
          "metadata": {
            "tags": []
          },
          "execution_count": 296
        }
      ]
    },
    {
      "cell_type": "code",
      "metadata": {
        "id": "FF2s9SLE0qq5",
        "colab_type": "code",
        "colab": {
          "base_uri": "https://localhost:8080/",
          "height": 425
        },
        "outputId": "73068a75-e1f2-4c02-c269-30dbbee37a8e"
      },
      "source": [
        "info"
      ],
      "execution_count": null,
      "outputs": [
        {
          "output_type": "execute_result",
          "data": {
            "text/plain": [
              "tfds.core.DatasetInfo(\n",
              "    name='rock_paper_scissors',\n",
              "    version=3.0.0,\n",
              "    description='Images of hands playing rock, paper, scissor game.',\n",
              "    homepage='http://laurencemoroney.com/rock-paper-scissors-dataset',\n",
              "    features=FeaturesDict({\n",
              "        'image': Image(shape=(300, 300, 3), dtype=tf.uint8),\n",
              "        'label': ClassLabel(shape=(), dtype=tf.int64, num_classes=3),\n",
              "    }),\n",
              "    total_num_examples=2892,\n",
              "    splits={\n",
              "        'test': 372,\n",
              "        'train': 2520,\n",
              "    },\n",
              "    supervised_keys=('image', 'label'),\n",
              "    citation=\"\"\"@ONLINE {rps,\n",
              "    author = \"Laurence Moroney\",\n",
              "    title = \"Rock, Paper, Scissors Dataset\",\n",
              "    month = \"feb\",\n",
              "    year = \"2019\",\n",
              "    url = \"http://laurencemoroney.com/rock-paper-scissors-dataset\"\n",
              "    }\"\"\",\n",
              "    redistribution_info=,\n",
              ")"
            ]
          },
          "metadata": {
            "tags": []
          },
          "execution_count": 297
        }
      ]
    },
    {
      "cell_type": "code",
      "metadata": {
        "id": "etfsYkzX3zNi",
        "colab_type": "code",
        "colab": {}
      },
      "source": [
        "class_names = info.features['label'].names"
      ],
      "execution_count": null,
      "outputs": []
    },
    {
      "cell_type": "code",
      "metadata": {
        "id": "FvuuaB5p_ARF",
        "colab_type": "code",
        "colab": {}
      },
      "source": [
        "num_validation = 0.1 * info.splits['train'].num_examples"
      ],
      "execution_count": null,
      "outputs": []
    },
    {
      "cell_type": "code",
      "metadata": {
        "id": "BhofL4EBEawP",
        "colab_type": "code",
        "colab": {
          "base_uri": "https://localhost:8080/",
          "height": 34
        },
        "outputId": "f533b849-11d2-4a70-86ec-43fda286650d"
      },
      "source": [
        "#A float\n",
        "num_validation"
      ],
      "execution_count": null,
      "outputs": [
        {
          "output_type": "execute_result",
          "data": {
            "text/plain": [
              "252.0"
            ]
          },
          "metadata": {
            "tags": []
          },
          "execution_count": 300
        }
      ]
    },
    {
      "cell_type": "code",
      "metadata": {
        "id": "4OPrzddsIIX6",
        "colab_type": "code",
        "colab": {}
      },
      "source": [
        "#Turning it to an integer as a float may cause problem along the way\n",
        "num_validation = tf.cast(num_validation, tf.int64)"
      ],
      "execution_count": null,
      "outputs": []
    },
    {
      "cell_type": "code",
      "metadata": {
        "id": "UiLihZAKJPpM",
        "colab_type": "code",
        "colab": {}
      },
      "source": [
        "train_data = df['train']\n",
        "test_images = df['test']"
      ],
      "execution_count": null,
      "outputs": []
    },
    {
      "cell_type": "code",
      "metadata": {
        "id": "FvFvDgkvECuK",
        "colab_type": "code",
        "colab": {
          "base_uri": "https://localhost:8080/",
          "height": 34
        },
        "outputId": "d96ac1b2-dcf6-4a22-a938-eb7024deb195"
      },
      "source": [
        "train_data"
      ],
      "execution_count": null,
      "outputs": [
        {
          "output_type": "execute_result",
          "data": {
            "text/plain": [
              "<DatasetV1Adapter shapes: ((300, 300, 3), ()), types: (tf.uint8, tf.int64)>"
            ]
          },
          "metadata": {
            "tags": []
          },
          "execution_count": 303
        }
      ]
    },
    {
      "cell_type": "code",
      "metadata": {
        "id": "isOzpJLmHbME",
        "colab_type": "code",
        "colab": {}
      },
      "source": [
        "#Since we are performing hold out validation we want to scale and shuffle at all times before taking out the validation set\n",
        "def preprocess(image, labels):\n",
        "  image = tf.cast(image, tf.float32)\n",
        "  image /= 255.\n",
        "  return image,labels"
      ],
      "execution_count": null,
      "outputs": []
    },
    {
      "cell_type": "code",
      "metadata": {
        "id": "ZwH8NzjhI9Q8",
        "colab_type": "code",
        "colab": {}
      },
      "source": [
        "valid_train_data = train_data.map(preprocess)\n",
        "test_images = test_images.map(preprocess)"
      ],
      "execution_count": null,
      "outputs": []
    },
    {
      "cell_type": "code",
      "metadata": {
        "id": "sCEwoCDzEPB8",
        "colab_type": "code",
        "colab": {
          "base_uri": "https://localhost:8080/",
          "height": 34
        },
        "outputId": "6d5a0af8-3871-4928-999a-7fb5bbf744d6"
      },
      "source": [
        "valid_train_data"
      ],
      "execution_count": null,
      "outputs": [
        {
          "output_type": "execute_result",
          "data": {
            "text/plain": [
              "<DatasetV1Adapter shapes: ((300, 300, 3), ()), types: (tf.float32, tf.int64)>"
            ]
          },
          "metadata": {
            "tags": []
          },
          "execution_count": 306
        }
      ]
    },
    {
      "cell_type": "code",
      "metadata": {
        "id": "K4lVNqNmJo5n",
        "colab_type": "code",
        "colab": {}
      },
      "source": [
        "#Shuffle the data \n",
        "valid_train_data_shuffled = valid_train_data.shuffle(1000)"
      ],
      "execution_count": null,
      "outputs": []
    },
    {
      "cell_type": "code",
      "metadata": {
        "id": "8p70IpzKKtzf",
        "colab_type": "code",
        "colab": {}
      },
      "source": [
        "#Let's set out the validation data from the train data\n",
        "valid_data = valid_train_data_shuffled.take(num_validation)\n",
        "train_data = valid_train_data_shuffled.skip(num_validation)"
      ],
      "execution_count": null,
      "outputs": []
    },
    {
      "cell_type": "code",
      "metadata": {
        "id": "ABEYmbLOLDSQ",
        "colab_type": "code",
        "colab": {}
      },
      "source": [
        "#Set no of bath size for test\n",
        "num_test = info.splits['test'].num_examples\n",
        "num_test = tf.cast(num_test, tf.int64)"
      ],
      "execution_count": null,
      "outputs": []
    },
    {
      "cell_type": "code",
      "metadata": {
        "id": "gQSJPScCLhU1",
        "colab_type": "code",
        "colab": {
          "base_uri": "https://localhost:8080/",
          "height": 34
        },
        "outputId": "d896307f-2a46-4edc-cf02-33857cc7d0c8"
      },
      "source": [
        "num_test"
      ],
      "execution_count": null,
      "outputs": [
        {
          "output_type": "execute_result",
          "data": {
            "text/plain": [
              "<tf.Tensor: shape=(), dtype=int64, numpy=372>"
            ]
          },
          "metadata": {
            "tags": []
          },
          "execution_count": 310
        }
      ]
    },
    {
      "cell_type": "code",
      "metadata": {
        "id": "TBW0BvgRLlm0",
        "colab_type": "code",
        "colab": {}
      },
      "source": [
        "batch_size = 32\n",
        "train_data = train_data.batch(batch_size).prefetch(1)\n",
        "valid_data = valid_data.batch(num_validation).prefetch(1)\n",
        "test_images = test_images.batch(num_test).prefetch(1)"
      ],
      "execution_count": null,
      "outputs": []
    },
    {
      "cell_type": "code",
      "metadata": {
        "id": "JZ8_FIlBLuVW",
        "colab_type": "code",
        "colab": {}
      },
      "source": [
        "train_images, train_labels = next(iter(train_data))\n",
        "valid_images, valid_labels = next(iter(valid_data))\n",
        "test_images, test_labels = next(iter(test_images))"
      ],
      "execution_count": null,
      "outputs": []
    },
    {
      "cell_type": "code",
      "metadata": {
        "id": "UtVaA2BWXLIK",
        "colab_type": "code",
        "colab": {
          "base_uri": "https://localhost:8080/",
          "height": 34
        },
        "outputId": "d10e88e1-b860-4119-e0d3-040e8b46264f"
      },
      "source": [
        "valid_images.shape"
      ],
      "execution_count": null,
      "outputs": [
        {
          "output_type": "execute_result",
          "data": {
            "text/plain": [
              "TensorShape([252, 300, 300, 3])"
            ]
          },
          "metadata": {
            "tags": []
          },
          "execution_count": 313
        }
      ]
    },
    {
      "cell_type": "code",
      "metadata": {
        "id": "uLPt8jWIUe5f",
        "colab_type": "code",
        "colab": {}
      },
      "source": [
        "train_images = tf.image.resize(train_images, (150, 150))\n",
        "valid_images = tf.image.resize(valid_images, (150, 150))\n",
        "test_images = tf.image.resize(test_images, (150, 150))"
      ],
      "execution_count": null,
      "outputs": []
    },
    {
      "cell_type": "code",
      "metadata": {
        "id": "8uzYObkAWC-t",
        "colab_type": "code",
        "colab": {
          "base_uri": "https://localhost:8080/",
          "height": 34
        },
        "outputId": "40fbaa2f-30be-403c-fe6a-82b3f95cf0e4"
      },
      "source": [
        "train_images.shape"
      ],
      "execution_count": null,
      "outputs": [
        {
          "output_type": "execute_result",
          "data": {
            "text/plain": [
              "TensorShape([32, 150, 150, 3])"
            ]
          },
          "metadata": {
            "tags": []
          },
          "execution_count": 315
        }
      ]
    },
    {
      "cell_type": "code",
      "metadata": {
        "id": "tFDKoR2svOZi",
        "colab_type": "code",
        "colab": {}
      },
      "source": [
        "from keras.preprocessing.image import ImageDataGenerator\n",
        "\n",
        "datagen = ImageDataGenerator(width_shift_range=0.1, height_shift_range=0.1,  horizontal_flip=True)\n",
        "\n",
        "it_gen = datagen.flow(train_images, train_labels, batch_size=32)"
      ],
      "execution_count": null,
      "outputs": []
    },
    {
      "cell_type": "code",
      "metadata": {
        "id": "mo45uihLMKmC",
        "colab_type": "code",
        "colab": {}
      },
      "source": [
        "from tensorflow.keras import Sequential \n",
        "from tensorflow.keras.layers import Conv2D, MaxPooling2D, Dense, Flatten, BatchNormalization, Dropout\n",
        "from tensorflow.keras import layers\n",
        "from tensorflow.keras import optimizers\n",
        "import numpy as np"
      ],
      "execution_count": null,
      "outputs": []
    },
    {
      "cell_type": "code",
      "metadata": {
        "id": "CtK7K3fPnLP2",
        "colab_type": "code",
        "colab": {
          "base_uri": "https://localhost:8080/",
          "height": 1000
        },
        "outputId": "fb8442b8-6ef5-4b27-f526-621f95544a1d"
      },
      "source": [
        " model = Sequential([\n",
        "                    Conv2D(32, 3, padding='same',  activation='relu',kernel_initializer='he_uniform', input_shape = [150, 150, 3]),\n",
        "                    MaxPooling2D(2),\n",
        "                    Conv2D(32, 3, padding='same', kernel_initializer='he_uniform', activation='relu'),\n",
        "                    MaxPooling2D(2),\n",
        "                    Conv2D(64, 3, padding='same', kernel_initializer='he_uniform',activation='relu'),\n",
        "                    MaxPooling2D(2),\n",
        "                    Conv2D(64, 3, padding='same', kernel_initializer='he_uniform',activation='relu'),\n",
        "                    MaxPooling2D(2),\n",
        "                    Conv2D(128, 3, padding='same', kernel_initializer='he_uniform',activation='relu'),\n",
        "                    MaxPooling2D(2),\n",
        "                    Flatten(),\n",
        "                    Dense(128, kernel_initializer='he_uniform',activation = 'relu'),\n",
        "                    Dense(3, activation = 'softmax'),\n",
        "                    ])\n",
        "steps = int(train_images.shape[0] / 32)\n",
        "model.compile(optimizer= optimizers.Adam(1e-3), loss='sparse_categorical_crossentropy', metrics=['accuracy'])\n",
        "early_stopping_cb = keras.callbacks.EarlyStopping(monitor='val_loss', patience=10)\n",
        "history = model.fit( it_gen, epochs = 200, validation_data = (valid_images, valid_labels), \n",
        "                    callbacks = [early_stopping_cb], steps_per_epoch=steps, verbose=2)\n"
      ],
      "execution_count": null,
      "outputs": [
        {
          "output_type": "stream",
          "text": [
            "Epoch 1/200\n",
            "1/1 - 0s - loss: 1.6053 - accuracy: 0.3438 - val_loss: 2.9378 - val_accuracy: 0.2976\n",
            "Epoch 2/200\n",
            "1/1 - 0s - loss: 3.0415 - accuracy: 0.3438 - val_loss: 1.8038 - val_accuracy: 0.3889\n",
            "Epoch 3/200\n",
            "1/1 - 0s - loss: 2.0154 - accuracy: 0.3125 - val_loss: 1.2478 - val_accuracy: 0.3889\n",
            "Epoch 4/200\n",
            "1/1 - 0s - loss: 1.3614 - accuracy: 0.3125 - val_loss: 1.0433 - val_accuracy: 0.3929\n",
            "Epoch 5/200\n",
            "1/1 - 0s - loss: 1.0882 - accuracy: 0.3438 - val_loss: 1.1089 - val_accuracy: 0.3135\n",
            "Epoch 6/200\n",
            "1/1 - 0s - loss: 1.0935 - accuracy: 0.3438 - val_loss: 1.1548 - val_accuracy: 0.3214\n",
            "Epoch 7/200\n",
            "1/1 - 0s - loss: 1.1239 - accuracy: 0.3438 - val_loss: 1.1245 - val_accuracy: 0.3730\n",
            "Epoch 8/200\n",
            "1/1 - 0s - loss: 1.0733 - accuracy: 0.5312 - val_loss: 1.0798 - val_accuracy: 0.4563\n",
            "Epoch 9/200\n",
            "1/1 - 0s - loss: 1.0617 - accuracy: 0.5938 - val_loss: 1.0488 - val_accuracy: 0.5317\n",
            "Epoch 10/200\n",
            "1/1 - 0s - loss: 1.0460 - accuracy: 0.5312 - val_loss: 1.0381 - val_accuracy: 0.4603\n",
            "Epoch 11/200\n",
            "1/1 - 0s - loss: 1.0605 - accuracy: 0.3438 - val_loss: 1.0421 - val_accuracy: 0.4762\n",
            "Epoch 12/200\n",
            "1/1 - 0s - loss: 1.0360 - accuracy: 0.4688 - val_loss: 1.0395 - val_accuracy: 0.4206\n",
            "Epoch 13/200\n",
            "1/1 - 0s - loss: 0.9954 - accuracy: 0.5938 - val_loss: 1.0298 - val_accuracy: 0.5119\n",
            "Epoch 14/200\n",
            "1/1 - 0s - loss: 0.9807 - accuracy: 0.6250 - val_loss: 1.0078 - val_accuracy: 0.5238\n",
            "Epoch 15/200\n",
            "1/1 - 0s - loss: 0.9440 - accuracy: 0.6562 - val_loss: 0.9896 - val_accuracy: 0.4603\n",
            "Epoch 16/200\n",
            "1/1 - 0s - loss: 0.9265 - accuracy: 0.5938 - val_loss: 0.9780 - val_accuracy: 0.4643\n",
            "Epoch 17/200\n",
            "1/1 - 0s - loss: 0.9354 - accuracy: 0.5312 - val_loss: 0.9142 - val_accuracy: 0.7659\n",
            "Epoch 18/200\n",
            "1/1 - 0s - loss: 0.9171 - accuracy: 0.6250 - val_loss: 0.8822 - val_accuracy: 0.8492\n",
            "Epoch 19/200\n",
            "1/1 - 0s - loss: 0.8282 - accuracy: 0.7812 - val_loss: 0.8962 - val_accuracy: 0.5238\n",
            "Epoch 20/200\n",
            "1/1 - 0s - loss: 0.8157 - accuracy: 0.6562 - val_loss: 0.8047 - val_accuracy: 0.8175\n",
            "Epoch 21/200\n",
            "1/1 - 0s - loss: 0.7441 - accuracy: 0.7812 - val_loss: 0.7620 - val_accuracy: 0.7024\n",
            "Epoch 22/200\n",
            "1/1 - 0s - loss: 0.7111 - accuracy: 0.7500 - val_loss: 0.7549 - val_accuracy: 0.6548\n",
            "Epoch 23/200\n",
            "1/1 - 0s - loss: 0.7021 - accuracy: 0.6875 - val_loss: 0.6891 - val_accuracy: 0.8452\n",
            "Epoch 24/200\n",
            "1/1 - 0s - loss: 0.7909 - accuracy: 0.6875 - val_loss: 0.6321 - val_accuracy: 0.8373\n",
            "Epoch 25/200\n",
            "1/1 - 0s - loss: 0.5822 - accuracy: 0.8438 - val_loss: 0.6351 - val_accuracy: 0.7024\n",
            "Epoch 26/200\n",
            "1/1 - 0s - loss: 0.6085 - accuracy: 0.7188 - val_loss: 0.5807 - val_accuracy: 0.8254\n",
            "Epoch 27/200\n",
            "1/1 - 0s - loss: 0.5541 - accuracy: 0.8125 - val_loss: 0.5142 - val_accuracy: 0.8730\n",
            "Epoch 28/200\n",
            "1/1 - 0s - loss: 0.4157 - accuracy: 0.9375 - val_loss: 0.5373 - val_accuracy: 0.8333\n",
            "Epoch 29/200\n",
            "1/1 - 0s - loss: 0.4820 - accuracy: 0.8750 - val_loss: 0.4228 - val_accuracy: 0.9603\n",
            "Epoch 30/200\n",
            "1/1 - 0s - loss: 0.3371 - accuracy: 0.9688 - val_loss: 0.4660 - val_accuracy: 0.8254\n",
            "Epoch 31/200\n",
            "1/1 - 0s - loss: 0.4423 - accuracy: 0.8438 - val_loss: 0.3859 - val_accuracy: 0.8611\n",
            "Epoch 32/200\n",
            "1/1 - 0s - loss: 0.3065 - accuracy: 0.9375 - val_loss: 0.4736 - val_accuracy: 0.7619\n",
            "Epoch 33/200\n",
            "1/1 - 0s - loss: 0.4690 - accuracy: 0.7812 - val_loss: 0.3580 - val_accuracy: 0.8770\n",
            "Epoch 34/200\n",
            "1/1 - 0s - loss: 0.3274 - accuracy: 0.8750 - val_loss: 0.2954 - val_accuracy: 0.9444\n",
            "Epoch 35/200\n",
            "1/1 - 0s - loss: 0.4213 - accuracy: 0.7812 - val_loss: 0.3324 - val_accuracy: 0.8333\n",
            "Epoch 36/200\n",
            "1/1 - 0s - loss: 0.1715 - accuracy: 0.9688 - val_loss: 0.5296 - val_accuracy: 0.7500\n",
            "Epoch 37/200\n",
            "1/1 - 0s - loss: 0.4114 - accuracy: 0.8125 - val_loss: 0.4983 - val_accuracy: 0.7262\n",
            "Epoch 38/200\n",
            "1/1 - 0s - loss: 0.4518 - accuracy: 0.6875 - val_loss: 0.2408 - val_accuracy: 0.9246\n",
            "Epoch 39/200\n",
            "1/1 - 0s - loss: 0.2109 - accuracy: 0.8750 - val_loss: 0.5065 - val_accuracy: 0.7063\n",
            "Epoch 40/200\n",
            "1/1 - 0s - loss: 0.4861 - accuracy: 0.7812 - val_loss: 0.2236 - val_accuracy: 0.9286\n",
            "Epoch 41/200\n",
            "1/1 - 0s - loss: 0.1953 - accuracy: 0.9375 - val_loss: 0.2717 - val_accuracy: 0.9008\n",
            "Epoch 42/200\n",
            "1/1 - 0s - loss: 0.2189 - accuracy: 0.9062 - val_loss: 0.3467 - val_accuracy: 0.8175\n",
            "Epoch 43/200\n",
            "1/1 - 0s - loss: 0.3584 - accuracy: 0.8125 - val_loss: 0.3298 - val_accuracy: 0.8730\n",
            "Epoch 44/200\n",
            "1/1 - 0s - loss: 0.1598 - accuracy: 1.0000 - val_loss: 0.4850 - val_accuracy: 0.7579\n",
            "Epoch 45/200\n",
            "1/1 - 0s - loss: 0.5431 - accuracy: 0.7188 - val_loss: 0.2099 - val_accuracy: 0.9444\n",
            "Epoch 46/200\n",
            "1/1 - 0s - loss: 0.2199 - accuracy: 0.9062 - val_loss: 0.2636 - val_accuracy: 0.9206\n",
            "Epoch 47/200\n",
            "1/1 - 0s - loss: 0.4364 - accuracy: 0.8125 - val_loss: 0.2592 - val_accuracy: 0.9246\n",
            "Epoch 48/200\n",
            "1/1 - 0s - loss: 0.2853 - accuracy: 0.9375 - val_loss: 0.3377 - val_accuracy: 0.8690\n",
            "Epoch 49/200\n",
            "1/1 - 0s - loss: 0.1878 - accuracy: 0.9688 - val_loss: 0.4270 - val_accuracy: 0.8413\n",
            "Epoch 50/200\n",
            "1/1 - 0s - loss: 0.4042 - accuracy: 0.8438 - val_loss: 0.3648 - val_accuracy: 0.8690\n",
            "Epoch 51/200\n",
            "1/1 - 0s - loss: 0.2481 - accuracy: 0.9375 - val_loss: 0.2621 - val_accuracy: 0.9206\n",
            "Epoch 52/200\n",
            "1/1 - 0s - loss: 0.1982 - accuracy: 1.0000 - val_loss: 0.2529 - val_accuracy: 0.9246\n",
            "Epoch 53/200\n",
            "1/1 - 0s - loss: 0.2725 - accuracy: 0.9062 - val_loss: 0.2074 - val_accuracy: 0.9524\n",
            "Epoch 54/200\n",
            "1/1 - 0s - loss: 0.2335 - accuracy: 0.9375 - val_loss: 0.1779 - val_accuracy: 0.9524\n",
            "Epoch 55/200\n",
            "1/1 - 0s - loss: 0.1812 - accuracy: 0.9688 - val_loss: 0.2185 - val_accuracy: 0.9008\n",
            "Epoch 56/200\n",
            "1/1 - 0s - loss: 0.2543 - accuracy: 0.8750 - val_loss: 0.2675 - val_accuracy: 0.9008\n",
            "Epoch 57/200\n",
            "1/1 - 0s - loss: 0.1449 - accuracy: 0.9688 - val_loss: 0.4178 - val_accuracy: 0.8452\n",
            "Epoch 58/200\n",
            "1/1 - 0s - loss: 0.2067 - accuracy: 0.9688 - val_loss: 0.4070 - val_accuracy: 0.8492\n",
            "Epoch 59/200\n",
            "1/1 - 0s - loss: 0.2513 - accuracy: 0.9375 - val_loss: 0.2209 - val_accuracy: 0.9127\n",
            "Epoch 60/200\n",
            "1/1 - 0s - loss: 0.0951 - accuracy: 1.0000 - val_loss: 0.1495 - val_accuracy: 0.9524\n",
            "Epoch 61/200\n",
            "1/1 - 0s - loss: 0.1018 - accuracy: 0.9688 - val_loss: 0.1013 - val_accuracy: 0.9841\n",
            "Epoch 62/200\n",
            "1/1 - 0s - loss: 0.1058 - accuracy: 0.9688 - val_loss: 0.0958 - val_accuracy: 0.9802\n",
            "Epoch 63/200\n",
            "1/1 - 0s - loss: 0.1414 - accuracy: 0.9688 - val_loss: 0.1045 - val_accuracy: 0.9722\n",
            "Epoch 64/200\n",
            "1/1 - 0s - loss: 0.0669 - accuracy: 1.0000 - val_loss: 0.1735 - val_accuracy: 0.9325\n",
            "Epoch 65/200\n",
            "1/1 - 0s - loss: 0.1068 - accuracy: 0.9688 - val_loss: 0.2402 - val_accuracy: 0.9008\n",
            "Epoch 66/200\n",
            "1/1 - 0s - loss: 0.1264 - accuracy: 0.9688 - val_loss: 0.3628 - val_accuracy: 0.8770\n",
            "Epoch 67/200\n",
            "1/1 - 0s - loss: 0.1788 - accuracy: 0.9688 - val_loss: 0.3253 - val_accuracy: 0.8929\n",
            "Epoch 68/200\n",
            "1/1 - 0s - loss: 0.1000 - accuracy: 0.9688 - val_loss: 0.1911 - val_accuracy: 0.9246\n",
            "Epoch 69/200\n",
            "1/1 - 0s - loss: 0.0606 - accuracy: 1.0000 - val_loss: 0.1147 - val_accuracy: 0.9524\n",
            "Epoch 70/200\n",
            "1/1 - 0s - loss: 0.0782 - accuracy: 0.9688 - val_loss: 0.0964 - val_accuracy: 0.9683\n",
            "Epoch 71/200\n",
            "1/1 - 0s - loss: 0.0528 - accuracy: 0.9688 - val_loss: 0.0995 - val_accuracy: 0.9563\n",
            "Epoch 72/200\n",
            "1/1 - 0s - loss: 0.0404 - accuracy: 1.0000 - val_loss: 0.1397 - val_accuracy: 0.9484\n"
          ],
          "name": "stdout"
        }
      ]
    },
    {
      "cell_type": "code",
      "metadata": {
        "id": "oA1mVYHcO-PK",
        "colab_type": "code",
        "colab": {
          "base_uri": "https://localhost:8080/",
          "height": 324
        },
        "outputId": "ee1dadff-c5ba-4e5e-fe09-6da54662608e"
      },
      "source": [
        "import pandas as pd\n",
        "import matplotlib.pyplot as plt\n",
        "pd.DataFrame(history.history).plot(figsize=(8, 5))\n",
        "plt.grid(True)\n",
        "plt.gca().set_ylim(0,5) # set the vertical range to [0-1]\n",
        "\n",
        "plt.show()"
      ],
      "execution_count": null,
      "outputs": [
        {
          "output_type": "display_data",
          "data": {
            "image/png": "[encoded data removed]",
            "text/plain": [
              "<Figure size 576x360 with 1 Axes>"
            ]
          },
          "metadata": {
            "tags": [],
            "needs_background": "light"
          }
        }
      ]
    },
    {
      "cell_type": "code",
      "metadata": {
        "id": "dVtZ0kDCOk4F",
        "colab_type": "code",
        "colab": {
          "base_uri": "https://localhost:8080/",
          "height": 34
        },
        "outputId": "18fb01a2-0907-4c96-88ab-182f78e110b3"
      },
      "source": [
        "#The first trial with conv 128 ended with a normal curve and accuracy of 53 but still under fitting\n",
        "#The second with 256 ended with just a very small curvy straight line with accuracy of 48\n",
        "#The third one with 512 follows the same thing with accuracy of 31\n",
        "74"
      ],
      "execution_count": null,
      "outputs": [
        {
          "output_type": "execute_result",
          "data": {
            "text/plain": [
              "74"
            ]
          },
          "metadata": {
            "tags": []
          },
          "execution_count": 320
        }
      ]
    },
    {
      "cell_type": "code",
      "metadata": {
        "id": "QyvuTBK2SVRM",
        "colab_type": "code",
        "colab": {
          "base_uri": "https://localhost:8080/",
          "height": 663
        },
        "outputId": "29ec11e8-9fd3-4d38-af90-73b70fe00849"
      },
      "source": [
        "model.summary()"
      ],
      "execution_count": null,
      "outputs": [
        {
          "output_type": "stream",
          "text": [
            "Model: \"sequential_120\"\n",
            "_________________________________________________________________\n",
            "Layer (type)                 Output Shape              Param #   \n",
            "=================================================================\n",
            "conv2d_646 (Conv2D)          (None, 150, 150, 32)      896       \n",
            "_________________________________________________________________\n",
            "max_pooling2d_429 (MaxPoolin (None, 75, 75, 32)        0         \n",
            "_________________________________________________________________\n",
            "conv2d_647 (Conv2D)          (None, 75, 75, 32)        9248      \n",
            "_________________________________________________________________\n",
            "max_pooling2d_430 (MaxPoolin (None, 37, 37, 32)        0         \n",
            "_________________________________________________________________\n",
            "conv2d_648 (Conv2D)          (None, 37, 37, 64)        18496     \n",
            "_________________________________________________________________\n",
            "max_pooling2d_431 (MaxPoolin (None, 18, 18, 64)        0         \n",
            "_________________________________________________________________\n",
            "conv2d_649 (Conv2D)          (None, 18, 18, 64)        36928     \n",
            "_________________________________________________________________\n",
            "max_pooling2d_432 (MaxPoolin (None, 9, 9, 64)          0         \n",
            "_________________________________________________________________\n",
            "conv2d_650 (Conv2D)          (None, 9, 9, 128)         73856     \n",
            "_________________________________________________________________\n",
            "max_pooling2d_433 (MaxPoolin (None, 4, 4, 128)         0         \n",
            "_________________________________________________________________\n",
            "conv2d_651 (Conv2D)          (None, 4, 4, 128)         147584    \n",
            "_________________________________________________________________\n",
            "max_pooling2d_434 (MaxPoolin (None, 2, 2, 128)         0         \n",
            "_________________________________________________________________\n",
            "flatten_119 (Flatten)        (None, 512)               0         \n",
            "_________________________________________________________________\n",
            "dense_240 (Dense)            (None, 128)               65664     \n",
            "_________________________________________________________________\n",
            "dense_241 (Dense)            (None, 3)                 387       \n",
            "=================================================================\n",
            "Total params: 353,059\n",
            "Trainable params: 353,059\n",
            "Non-trainable params: 0\n",
            "_________________________________________________________________\n"
          ],
          "name": "stdout"
        }
      ]
    },
    {
      "cell_type": "code",
      "metadata": {
        "id": "rryFYajAbdmD",
        "colab_type": "code",
        "colab": {
          "base_uri": "https://localhost:8080/",
          "height": 51
        },
        "outputId": "7b599058-341e-4d8a-9841-f2f423d4e475"
      },
      "source": [
        "model.evaluate(test_images, test_labels)"
      ],
      "execution_count": null,
      "outputs": [
        {
          "output_type": "stream",
          "text": [
            "12/12 [==============================] - 0s 8ms/step - loss: 0.1179 - accuracy: 0.9812\n"
          ],
          "name": "stdout"
        },
        {
          "output_type": "execute_result",
          "data": {
            "text/plain": [
              "[0.11788799613714218, 0.9811828136444092]"
            ]
          },
          "metadata": {
            "tags": []
          },
          "execution_count": 344
        }
      ]
    },
    {
      "cell_type": "code",
      "metadata": {
        "id": "eRvJn3XyssYW",
        "colab_type": "code",
        "colab": {}
      },
      "source": [
        ""
      ],
      "execution_count": null,
      "outputs": []
    }
  ]
}