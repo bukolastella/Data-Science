{
  "nbformat": 4,
  "nbformat_minor": 0,
  "metadata": {
    "colab": {
      "name": "Malarial_cell.ipynb",
      "provenance": []
    },
    "kernelspec": {
      "name": "python3",
      "display_name": "Python 3"
    }
  },
  "cells": [
    {
      "cell_type": "code",
      "metadata": {
        "id": "stUBGpV-JPKt",
        "colab_type": "code",
        "colab": {
          "base_uri": "https://localhost:8080/",
          "height": 34
        },
        "outputId": "852c2a43-8b3a-4461-b182-1232c299942a"
      },
      "source": [
        "from google.colab import drive\n",
        "drive.mount('/content/gdrive')"
      ],
      "execution_count": null,
      "outputs": [
        {
          "output_type": "stream",
          "text": [
            "Drive already mounted at /content/gdrive; to attempt to forcibly remount, call drive.mount(\"/content/gdrive\", force_remount=True).\n"
          ],
          "name": "stdout"
        }
      ]
    },
    {
      "cell_type": "code",
      "metadata": {
        "id": "iK7WqfP-JS4K",
        "colab_type": "code",
        "colab": {}
      },
      "source": [
        "import os\n",
        "os.environ['KAGGLE_CONFIG_DIR'] = \"/content/gdrive/My Drive/kaggle\""
      ],
      "execution_count": null,
      "outputs": []
    },
    {
      "cell_type": "code",
      "metadata": {
        "id": "A_2lJN7pJcoK",
        "colab_type": "code",
        "colab": {
          "base_uri": "https://localhost:8080/",
          "height": 34
        },
        "outputId": "5909c699-4caa-4fdf-c344-1cd8620d5167"
      },
      "source": [
        "%cd /content/gdrive/My Drive/kaggle"
      ],
      "execution_count": null,
      "outputs": [
        {
          "output_type": "stream",
          "text": [
            "/content/gdrive/My Drive/kaggle\n"
          ],
          "name": "stdout"
        }
      ]
    },
    {
      "cell_type": "code",
      "metadata": {
        "id": "883yNV_DJjQd",
        "colab_type": "code",
        "colab": {}
      },
      "source": [
        "#!kaggle datasets download -d iarunava/cell-images-for-detecting-malaria"
      ],
      "execution_count": null,
      "outputs": []
    },
    {
      "cell_type": "code",
      "metadata": {
        "id": "XJVokA3LR8nC",
        "colab_type": "code",
        "colab": {
          "base_uri": "https://localhost:8080/",
          "height": 85
        },
        "outputId": "c88d2181-a762-4023-fb08-ddbd691e8b4c"
      },
      "source": [
        "!ls"
      ],
      "execution_count": null,
      "outputs": [
        {
          "output_type": "stream",
          "text": [
            "a-rfr-ed.jpg  cell-images-for-detecting-malaria.zip  readme.md\tseg_train\n",
            "b\t      DB1_B\t\t\t\t     real\tSOCOFing\n",
            "big.file      intel-image-classification.zip\t     seg_pred\ttrain\n",
            "cell_images   kaggle.json\t\t\t     seg_test\n"
          ],
          "name": "stdout"
        }
      ]
    },
    {
      "cell_type": "code",
      "metadata": {
        "id": "LFOTsah8JpkW",
        "colab_type": "code",
        "colab": {}
      },
      "source": [
        "#!unzip '/content/gdrive/My Drive/kaggle/cell-images-for-detecting-malaria.zip'"
      ],
      "execution_count": null,
      "outputs": []
    },
    {
      "cell_type": "code",
      "metadata": {
        "id": "zZ4YW0T3Jzui",
        "colab_type": "code",
        "colab": {}
      },
      "source": [
        "#import necessary libraries\n",
        "import tensorflow as tf\n",
        "from tensorflow import keras\n",
        "import numpy as np\n",
        "import pandas as pd\n",
        "from keras.preprocessing.image import ImageDataGenerator"
      ],
      "execution_count": null,
      "outputs": []
    },
    {
      "cell_type": "code",
      "metadata": {
        "id": "vlwV12AsJ6Cu",
        "colab_type": "code",
        "colab": {}
      },
      "source": [
        "train_dir = '/content/gdrive/My Drive/kaggle/cell_images/cell_images/'"
      ],
      "execution_count": null,
      "outputs": []
    },
    {
      "cell_type": "code",
      "metadata": {
        "id": "Vmj5LHSEKGKM",
        "colab_type": "code",
        "colab": {}
      },
      "source": [
        "train_datagen = ImageDataGenerator(rescale = 1./255, validation_split = 0.2)\n",
        "test_datagen = ImageDataGenerator(rescale = 1./255)"
      ],
      "execution_count": null,
      "outputs": []
    },
    {
      "cell_type": "code",
      "metadata": {
        "id": "_WUvC2JXKMVM",
        "colab_type": "code",
        "colab": {
          "base_uri": "https://localhost:8080/",
          "height": 34
        },
        "outputId": "41736730-94d2-4877-83a8-2f99b70740f9"
      },
      "source": [
        "train_generator = train_datagen.flow_from_directory(\n",
        "    train_dir,\n",
        "    shuffle = True,\n",
        "    target_size = (150,150),\n",
        "    subset = 'training'\n",
        ")"
      ],
      "execution_count": null,
      "outputs": [
        {
          "output_type": "stream",
          "text": [
            "Found 22048 images belonging to 2 classes.\n"
          ],
          "name": "stdout"
        }
      ]
    },
    {
      "cell_type": "code",
      "metadata": {
        "id": "sWeCYA_XKQnB",
        "colab_type": "code",
        "colab": {
          "base_uri": "https://localhost:8080/",
          "height": 34
        },
        "outputId": "64ad9ea3-87ec-43dc-89b5-580e10f1327c"
      },
      "source": [
        "valid_generator = valid_datagen.flow_from_directory(\n",
        "    train_dir,\n",
        "    shuffle = True,\n",
        "    target_size = (150,150),\n",
        "    subset = 'validation'\n",
        ")"
      ],
      "execution_count": null,
      "outputs": [
        {
          "output_type": "stream",
          "text": [
            "Found 5510 images belonging to 2 classes.\n"
          ],
          "name": "stdout"
        }
      ]
    },
    {
      "cell_type": "markdown",
      "metadata": {
        "id": "c469C2sNKaYm",
        "colab_type": "text"
      },
      "source": [
        "**MODEL**"
      ]
    },
    {
      "cell_type": "code",
      "metadata": {
        "id": "X04ZgmMxKXUC",
        "colab_type": "code",
        "colab": {}
      },
      "source": [
        "from keras.layers import Conv2D, MaxPooling2D, Dense, Flatten\n",
        "from keras import layers\n",
        "from keras import optimizers\n",
        "from keras import  Sequential"
      ],
      "execution_count": null,
      "outputs": []
    },
    {
      "cell_type": "code",
      "metadata": {
        "id": "pxKWckL8KpEG",
        "colab_type": "code",
        "colab": {}
      },
      "source": [
        "model = Sequential([\n",
        "                    Conv2D(32, 3, padding='same',activation='relu',kernel_initializer='he_uniform', input_shape = [150, 150, 3]),\n",
        "                    MaxPooling2D(2),\n",
        "                    Conv2D(32, 3, padding='same',kernel_initializer='he_uniform', activation='relu'),\n",
        "                    MaxPooling2D(2),\n",
        "                    Conv2D(64, 3, padding='same',kernel_initializer='he_uniform', activation='relu'),\n",
        "                    MaxPooling2D(2),\n",
        "                    Conv2D(64, 3, padding='same',kernel_initializer='he_uniform', activation='relu'),\n",
        "                    MaxPooling2D(2),\n",
        "                    Conv2D(128, 3, padding='same',kernel_initializer='he_uniform', activation='relu'),\n",
        "                    MaxPooling2D(2),\n",
        "                    Conv2D(128, 3, padding='same',kernel_initializer='he_uniform', activation='relu'),\n",
        "                    MaxPooling2D(2),\n",
        "                    Flatten(),\n",
        "                    Dense(128,kernel_initializer='he_uniform',activation = 'relu'),\n",
        "                    Dense(128,kernel_initializer='he_uniform',activation = 'relu'),\n",
        "                    Dense(2, activation = 'softmax'),\n",
        "                    ])"
      ],
      "execution_count": null,
      "outputs": []
    },
    {
      "cell_type": "code",
      "metadata": {
        "id": "_4zb4TS7LSBz",
        "colab_type": "code",
        "colab": {}
      },
      "source": [
        "model.compile(optimizer = optimizers.Adam(1e-4), loss = 'categorical_crossentropy', metrics = ['accuracy'])"
      ],
      "execution_count": null,
      "outputs": []
    },
    {
      "cell_type": "code",
      "metadata": {
        "id": "exOxSF0ZLVQJ",
        "colab_type": "code",
        "colab": {
          "base_uri": "https://localhost:8080/",
          "height": 697
        },
        "outputId": "b3b9dfae-5c80-474d-8be3-6c244adbfa9d"
      },
      "source": [
        "steps = np.ceil(train_generator.samples/train_generator.batch_size)\n",
        "val_steps = np.ceil(valid_generator.samples/valid_generator.batch_size)\n",
        "early_stopping_cb = tf.keras.callbacks.EarlyStopping(monitor='val_loss', patience=10)\n",
        "\n",
        "history = model.fit(train_generator, epochs = 20, steps_per_epoch= steps,callbacks=[early_stopping_cb], validation_steps= val_steps, validation_data= (valid_generator))"
      ],
      "execution_count": null,
      "outputs": [
        {
          "output_type": "stream",
          "text": [
            "Epoch 1/20\n",
            "689/689 [==============================] - 107s 155ms/step - loss: 0.5893 - accuracy: 0.6791 - val_loss: 0.4125 - val_accuracy: 0.8020\n",
            "Epoch 2/20\n",
            "689/689 [==============================] - 105s 153ms/step - loss: 0.3105 - accuracy: 0.8645 - val_loss: 0.3491 - val_accuracy: 0.9227\n",
            "Epoch 3/20\n",
            "689/689 [==============================] - 107s 156ms/step - loss: 0.1473 - accuracy: 0.9498 - val_loss: 0.0677 - val_accuracy: 0.9370\n",
            "Epoch 4/20\n",
            "689/689 [==============================] - 106s 154ms/step - loss: 0.1246 - accuracy: 0.9573 - val_loss: 0.0341 - val_accuracy: 0.9416\n",
            "Epoch 5/20\n",
            "689/689 [==============================] - 106s 154ms/step - loss: 0.1092 - accuracy: 0.9623 - val_loss: 0.3122 - val_accuracy: 0.9399\n",
            "Epoch 6/20\n",
            "689/689 [==============================] - 108s 157ms/step - loss: 0.0996 - accuracy: 0.9655 - val_loss: 0.0869 - val_accuracy: 0.9359\n",
            "Epoch 7/20\n",
            "689/689 [==============================] - 109s 158ms/step - loss: 0.0875 - accuracy: 0.9698 - val_loss: 5.9220e-04 - val_accuracy: 0.9430\n",
            "Epoch 8/20\n",
            "689/689 [==============================] - 111s 161ms/step - loss: 0.0756 - accuracy: 0.9742 - val_loss: 0.0587 - val_accuracy: 0.9457\n",
            "Epoch 9/20\n",
            "689/689 [==============================] - 112s 162ms/step - loss: 0.0641 - accuracy: 0.9772 - val_loss: 0.0081 - val_accuracy: 0.9461\n",
            "Epoch 10/20\n",
            "689/689 [==============================] - 110s 160ms/step - loss: 0.0545 - accuracy: 0.9812 - val_loss: 0.1361 - val_accuracy: 0.9443\n",
            "Epoch 11/20\n",
            "689/689 [==============================] - 111s 161ms/step - loss: 0.0393 - accuracy: 0.9871 - val_loss: 0.0062 - val_accuracy: 0.9430\n",
            "Epoch 12/20\n",
            "689/689 [==============================] - 111s 161ms/step - loss: 0.0301 - accuracy: 0.9901 - val_loss: 5.3787e-04 - val_accuracy: 0.9416\n",
            "Epoch 13/20\n",
            "689/689 [==============================] - 109s 158ms/step - loss: 0.0277 - accuracy: 0.9902 - val_loss: 5.0128e-04 - val_accuracy: 0.9359\n",
            "Epoch 14/20\n",
            "689/689 [==============================] - 110s 159ms/step - loss: 0.0222 - accuracy: 0.9920 - val_loss: 0.4239 - val_accuracy: 0.9407\n",
            "Epoch 15/20\n",
            "689/689 [==============================] - 107s 155ms/step - loss: 0.0124 - accuracy: 0.9959 - val_loss: 1.0172e-05 - val_accuracy: 0.9417\n",
            "Epoch 16/20\n",
            "689/689 [==============================] - 107s 155ms/step - loss: 0.0194 - accuracy: 0.9933 - val_loss: 1.2229 - val_accuracy: 0.9374\n",
            "Epoch 17/20\n",
            "689/689 [==============================] - 109s 158ms/step - loss: 0.0103 - accuracy: 0.9965 - val_loss: 1.4058e-04 - val_accuracy: 0.9390\n",
            "Epoch 18/20\n",
            "689/689 [==============================] - 107s 155ms/step - loss: 0.0139 - accuracy: 0.9953 - val_loss: 2.6323e-04 - val_accuracy: 0.9372\n",
            "Epoch 19/20\n",
            "689/689 [==============================] - 107s 155ms/step - loss: 0.0140 - accuracy: 0.9948 - val_loss: 4.8279e-06 - val_accuracy: 0.9459\n",
            "Epoch 20/20\n",
            "689/689 [==============================] - 111s 161ms/step - loss: 0.0109 - accuracy: 0.9966 - val_loss: 0.9712 - val_accuracy: 0.9374\n"
          ],
          "name": "stdout"
        }
      ]
    },
    {
      "cell_type": "code",
      "metadata": {
        "id": "51ZAKqjWaEFG",
        "colab_type": "code",
        "colab": {
          "base_uri": "https://localhost:8080/",
          "height": 341
        },
        "outputId": "5751125c-2590-4610-9f0f-e32cebcd68a2"
      },
      "source": [
        "import matplotlib.pyplot as plt\n",
        "pd.DataFrame(history.history).plot(figsize = (8,5))\n",
        "plt.grid(True)\n",
        "plt.gca().set_ylim(0,1)\n"
      ],
      "execution_count": null,
      "outputs": [
        {
          "output_type": "execute_result",
          "data": {
            "text/plain": [
              "(0.0, 1.0)"
            ]
          },
          "metadata": {
            "tags": []
          },
          "execution_count": 90
        },
        {
          "output_type": "display_data",
          "data": {
            "image/png": "[encoded data removed]",
            "text/plain": [
              "<Figure size 576x360 with 1 Axes>"
            ]
          },
          "metadata": {
            "tags": [],
            "needs_background": "light"
          }
        }
      ]
    },
    {
      "cell_type": "code",
      "metadata": {
        "id": "jY-BmiRyqVIC",
        "colab_type": "code",
        "colab": {
          "base_uri": "https://localhost:8080/",
          "height": 697
        },
        "outputId": "2d298a65-923f-4a35-cb24-dc7ef78f1ae3"
      },
      "source": [
        "model.summary()"
      ],
      "execution_count": null,
      "outputs": [
        {
          "output_type": "stream",
          "text": [
            "Model: \"sequential_8\"\n",
            "_________________________________________________________________\n",
            "Layer (type)                 Output Shape              Param #   \n",
            "=================================================================\n",
            "conv2d_31 (Conv2D)           (None, 150, 150, 32)      896       \n",
            "_________________________________________________________________\n",
            "max_pooling2d_31 (MaxPooling (None, 75, 75, 32)        0         \n",
            "_________________________________________________________________\n",
            "conv2d_32 (Conv2D)           (None, 75, 75, 32)        9248      \n",
            "_________________________________________________________________\n",
            "max_pooling2d_32 (MaxPooling (None, 37, 37, 32)        0         \n",
            "_________________________________________________________________\n",
            "conv2d_33 (Conv2D)           (None, 37, 37, 64)        18496     \n",
            "_________________________________________________________________\n",
            "max_pooling2d_33 (MaxPooling (None, 18, 18, 64)        0         \n",
            "_________________________________________________________________\n",
            "conv2d_34 (Conv2D)           (None, 18, 18, 64)        36928     \n",
            "_________________________________________________________________\n",
            "max_pooling2d_34 (MaxPooling (None, 9, 9, 64)          0         \n",
            "_________________________________________________________________\n",
            "conv2d_35 (Conv2D)           (None, 9, 9, 128)         73856     \n",
            "_________________________________________________________________\n",
            "max_pooling2d_35 (MaxPooling (None, 4, 4, 128)         0         \n",
            "_________________________________________________________________\n",
            "conv2d_36 (Conv2D)           (None, 4, 4, 128)         147584    \n",
            "_________________________________________________________________\n",
            "max_pooling2d_36 (MaxPooling (None, 2, 2, 128)         0         \n",
            "_________________________________________________________________\n",
            "flatten_8 (Flatten)          (None, 512)               0         \n",
            "_________________________________________________________________\n",
            "dense_18 (Dense)             (None, 128)               65664     \n",
            "_________________________________________________________________\n",
            "dense_19 (Dense)             (None, 128)               16512     \n",
            "_________________________________________________________________\n",
            "dense_20 (Dense)             (None, 2)                 258       \n",
            "=================================================================\n",
            "Total params: 369,442\n",
            "Trainable params: 369,442\n",
            "Non-trainable params: 0\n",
            "_________________________________________________________________\n"
          ],
          "name": "stdout"
        }
      ]
    },
    {
      "cell_type": "code",
      "metadata": {
        "id": "vxs3qBp5PZv9",
        "colab_type": "code",
        "colab": {}
      },
      "source": [
        ""
      ],
      "execution_count": null,
      "outputs": []
    }
  ]
}