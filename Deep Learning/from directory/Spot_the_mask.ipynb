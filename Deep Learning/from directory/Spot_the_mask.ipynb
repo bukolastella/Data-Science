{
  "nbformat": 4,
  "nbformat_minor": 0,
  "metadata": {
    "colab": {
      "name": "Spot the mask.ipynb",
      "provenance": [],
      "authorship_tag": "ABX9TyPYWklU1XByKgv3sU5wp39s",
      "include_colab_link": true
    },
    "kernelspec": {
      "name": "python3",
      "display_name": "Python 3"
    },
    "accelerator": "GPU"
  },
  "cells": [
    {
      "cell_type": "markdown",
      "metadata": {
        "id": "view-in-github",
        "colab_type": "text"
      },
      "source": [
        "<a href=\"https://colab.research.google.com/github/bukolastella/Data-Science/blob/master/Deep%20Learning/from%20directory/Spot_the_mask.ipynb\" target=\"_parent\"><img src=\"https://colab.research.google.com/assets/colab-badge.svg\" alt=\"Open In Colab\"/></a>"
      ]
    },
    {
      "cell_type": "code",
      "metadata": {
        "id": "gcs5fZgTo-q6",
        "colab_type": "code",
        "colab": {
          "base_uri": "https://localhost:8080/",
          "height": 34
        },
        "outputId": "646efd7b-a360-4353-cbfa-0ee1caac68f2"
      },
      "source": [
        "from google.colab import drive\n",
        "drive.mount('/content/gdrive')"
      ],
      "execution_count": null,
      "outputs": [
        {
          "output_type": "stream",
          "text": [
            "Drive already mounted at /content/gdrive; to attempt to forcibly remount, call drive.mount(\"/content/gdrive\", force_remount=True).\n"
          ],
          "name": "stdout"
        }
      ]
    },
    {
      "cell_type": "code",
      "metadata": {
        "id": "p8kg9M0gpIzg",
        "colab_type": "code",
        "colab": {
          "base_uri": "https://localhost:8080/",
          "height": 34
        },
        "outputId": "43ba9df3-03d3-4261-e75a-6e2463034b39"
      },
      "source": [
        "import os \n",
        "os.environ['ZINDI_CONFIG_DIR'] = \"/content/gdrive/My Drive/Zindi\"\n",
        "\n",
        "%cd /content/gdrive/My Drive/Zindi"
      ],
      "execution_count": null,
      "outputs": [
        {
          "output_type": "stream",
          "text": [
            "/content/gdrive/My Drive/Zindi\n"
          ],
          "name": "stdout"
        }
      ]
    },
    {
      "cell_type": "code",
      "metadata": {
        "id": "whO4Tt1DpScN",
        "colab_type": "code",
        "colab": {
          "base_uri": "https://localhost:8080/",
          "height": 54
        },
        "outputId": "b510e1c1-75dc-421d-afbf-1ef1e81e97be"
      },
      "source": [
        "'''import requests\n",
        "import requests, zipfile\n",
        "\n",
        "#the url and auth_value from the website \n",
        "url = \"https://api.zindi.africa/v1/competitions/zindiweekendz-learning-spot-the-mask-challenge/files/images.zip\"\n",
        "myobj = {'auth_token': \"xQ1UFvv2GRNWc4CmZnvAcmmv\"} #use your own\n",
        "\n",
        "x = requests.post(url, data = myobj,stream=True)\n",
        "target_path = '/content/gdrive/My Drive/Zindi/images.zip'\n",
        "\n",
        "handle = open(target_path, \"wb\")\n",
        "for chunk in x.iter_content(chunk_size=512):\n",
        "  if chunk: # filter out keep-alive new chunks\n",
        "    handle.write(chunk)\n",
        "handle.close()'''"
      ],
      "execution_count": null,
      "outputs": [
        {
          "output_type": "execute_result",
          "data": {
            "text/plain": [
              "'import requests\\nimport requests, zipfile\\n\\n#the url and auth_value from the website \\nurl = \"https://api.zindi.africa/v1/competitions/zindiweekendz-learning-spot-the-mask-challenge/files/images.zip\"\\nmyobj = {\\'auth_token\\': \"xQ1UFvv2GRNWc4CmZnvAcmmv\"} #use your own\\n\\nx = requests.post(url, data = myobj,stream=True)\\ntarget_path = \\'/content/gdrive/My Drive/Zindi/images.zip\\'\\n\\nhandle = open(target_path, \"wb\")\\nfor chunk in x.iter_content(chunk_size=512):\\n  if chunk: # filter out keep-alive new chunks\\n    handle.write(chunk)\\nhandle.close()'"
            ]
          },
          "metadata": {
            "tags": []
          },
          "execution_count": 6
        }
      ]
    },
    {
      "cell_type": "code",
      "metadata": {
        "id": "0LvxkUPSpvNe",
        "colab_type": "code",
        "colab": {}
      },
      "source": [
        "#!unzip '/content/gdrive/My Drive/Zindi/images.zip'"
      ],
      "execution_count": null,
      "outputs": []
    },
    {
      "cell_type": "code",
      "metadata": {
        "id": "8DAZ5EYkse9r",
        "colab_type": "code",
        "colab": {
          "base_uri": "https://localhost:8080/",
          "height": 68
        },
        "outputId": "c973625e-5b85-4103-c5e7-292470aa9ac6"
      },
      "source": [
        "!ls"
      ],
      "execution_count": null,
      "outputs": [
        {
          "output_type": "stream",
          "text": [
            "all_data    potholes_test.csv  test_ids_only.csv     train_labels.csv\n",
            "images\t    sample_sub_v2.csv  train\t\t     Zebra.jfif\n",
            "images.zip  Test\t       train_ids_labels.csv\n"
          ],
          "name": "stdout"
        }
      ]
    },
    {
      "cell_type": "code",
      "metadata": {
        "id": "CJltdV6ZqFqw",
        "colab_type": "code",
        "colab": {}
      },
      "source": [
        "#We are going to use flow from dataframe\n",
        "#Since the ids in the train csv has image extension no need to create a function to add jpg\n",
        "#Training sample is small, going to use image Data augmentation "
      ],
      "execution_count": null,
      "outputs": []
    },
    {
      "cell_type": "code",
      "metadata": {
        "id": "jjESb55jq_2Q",
        "colab_type": "code",
        "colab": {
          "base_uri": "https://localhost:8080/",
          "height": 34
        },
        "outputId": "1029f1fa-021a-4d3c-b143-644a735d7e7e"
      },
      "source": [
        "#import necssary libraries\n",
        "import tensorflow as tf\n",
        "from tensorflow import keras\n",
        "from keras.preprocessing.image import ImageDataGenerator\n",
        "import pandas as pd\n",
        "import numpy as np"
      ],
      "execution_count": null,
      "outputs": [
        {
          "output_type": "stream",
          "text": [
            "Using TensorFlow backend.\n"
          ],
          "name": "stderr"
        }
      ]
    },
    {
      "cell_type": "code",
      "metadata": {
        "id": "Gth60Lr7sC9c",
        "colab_type": "code",
        "colab": {}
      },
      "source": [
        "#location of train and test csv\n",
        "traindf = pd.read_csv('/content/gdrive/My Drive/Zindi/train_labels.csv',dtype=str)\n",
        "train_dir = '/content/gdrive/My Drive/Zindi/images'"
      ],
      "execution_count": null,
      "outputs": []
    },
    {
      "cell_type": "code",
      "metadata": {
        "id": "8VkI2H3Oq1P8",
        "colab_type": "code",
        "colab": {}
      },
      "source": [
        "datagen = dict(rescale = 1./255, validation_split = 0.3)"
      ],
      "execution_count": null,
      "outputs": []
    },
    {
      "cell_type": "code",
      "metadata": {
        "id": "ltv8pFRSq38K",
        "colab_type": "code",
        "colab": {}
      },
      "source": [
        "train_datagen = ImageDataGenerator(**datagen, horizontal_flip=True)\n",
        "valid_datagen = ImageDataGenerator(**datagen)"
      ],
      "execution_count": null,
      "outputs": []
    },
    {
      "cell_type": "code",
      "metadata": {
        "id": "gDL9vgpxrzai",
        "colab_type": "code",
        "colab": {
          "base_uri": "https://localhost:8080/",
          "height": 34
        },
        "outputId": "f73fb99a-421e-43a1-92d0-a64d4c073302"
      },
      "source": [
        "train_generator = train_datagen.flow_from_dataframe(\n",
        "    dataframe = traindf,\n",
        "    directory = train_dir,\n",
        "    x_col = 'image',\n",
        "    y_col = 'target',\n",
        "    shuffle = True,\n",
        "    subset=\"training\",\n",
        "    seed = 42,\n",
        "    target_size = (150,150)\n",
        "\n",
        ")"
      ],
      "execution_count": null,
      "outputs": [
        {
          "output_type": "stream",
          "text": [
            "Found 916 validated image filenames belonging to 2 classes.\n"
          ],
          "name": "stdout"
        }
      ]
    },
    {
      "cell_type": "code",
      "metadata": {
        "id": "Y2uCrjc_ubNO",
        "colab_type": "code",
        "colab": {
          "base_uri": "https://localhost:8080/",
          "height": 34
        },
        "outputId": "098188ce-c674-4570-dbe1-0fba3ba1d65a"
      },
      "source": [
        "valid_generator = valid_datagen.flow_from_dataframe(\n",
        "    dataframe = traindf,\n",
        "    directory = train_dir,\n",
        "    x_col = 'image',\n",
        "    y_col = 'target',\n",
        "    shuffle = True,\n",
        "    subset=\"validation\",\n",
        "    seed = 42,\n",
        "    target_size = (150,150)\n",
        ")"
      ],
      "execution_count": null,
      "outputs": [
        {
          "output_type": "stream",
          "text": [
            "Found 392 validated image filenames belonging to 2 classes.\n"
          ],
          "name": "stdout"
        }
      ]
    },
    {
      "cell_type": "code",
      "metadata": {
        "id": "A4S9s9PvuZH1",
        "colab_type": "code",
        "colab": {
          "base_uri": "https://localhost:8080/",
          "height": 34
        },
        "outputId": "7ec2895f-71b5-466a-8d62-6a08f8b015a1"
      },
      "source": [
        "import numpy as np\n",
        "dataset_labels = sorted(train_generator.class_indices.items(), key = lambda pair:pair[1])\n",
        "\n",
        "dataset_labels = np.array([key.title() for key, value in dataset_labels])\n",
        "print(dataset_labels)"
      ],
      "execution_count": null,
      "outputs": [
        {
          "output_type": "stream",
          "text": [
            "['0' '1']\n"
          ],
          "name": "stdout"
        }
      ]
    },
    {
      "cell_type": "code",
      "metadata": {
        "id": "wGOCuV4GvBgI",
        "colab_type": "code",
        "colab": {}
      },
      "source": [
        "import tensorflow as tf\n",
        "from tensorflow import keras\n",
        "from tensorflow.keras.layers import Dense, Conv2D, Flatten, MaxPooling2D, BatchNormalization, Dropout\n",
        "from tensorflow.keras import Sequential\n",
        "from tensorflow.keras import layers\n",
        "from tensorflow.keras import optimizers\n",
        "\n",
        "model = Sequential([\n",
        "                    Conv2D(32, 3, padding = 'same',kernel_regularizer=tf.keras.regularizers.l2(0.01),  kernel_initializer='he_uniform', activation='relu', input_shape = [150,150,3]),\n",
        "                    MaxPooling2D(2),\n",
        "                    Conv2D(32, 3, padding = 'same',kernel_regularizer=tf.keras.regularizers.l2(0.01), kernel_initializer='he_uniform', activation='relu'),\n",
        "                    MaxPooling2D(2),\n",
        "                    Conv2D(64, 3, padding = 'same',kernel_regularizer=tf.keras.regularizers.l2(0.01), kernel_initializer='he_uniform', activation='relu'),\n",
        "                    MaxPooling2D(2),\n",
        "                    Conv2D(64, 3, padding = 'same',kernel_regularizer=tf.keras.regularizers.l2(0.01), kernel_initializer='he_uniform', activation='relu'),\n",
        "                    MaxPooling2D(2),\n",
        "                    Conv2D(128, 3, padding = 'same',kernel_regularizer=tf.keras.regularizers.l2(0.01), kernel_initializer='he_uniform', activation='relu'),\n",
        "                    MaxPooling2D(2),\n",
        "                    Conv2D(128, 3, padding = 'same',kernel_regularizer=tf.keras.regularizers.l2(0.01), kernel_initializer='he_uniform', activation='relu'),\n",
        "                    MaxPooling2D(2),\n",
        "                    Flatten(),\n",
        "                    Dense(128,kernel_regularizer=tf.keras.regularizers.l2(0.01),kernel_initializer='he_uniform', activation= 'relu'),\n",
        "                    Dense(2, activation= 'softmax')\n",
        "])"
      ],
      "execution_count": null,
      "outputs": []
    },
    {
      "cell_type": "code",
      "metadata": {
        "id": "uBROsSc5vO25",
        "colab_type": "code",
        "colab": {}
      },
      "source": [
        "model.compile(optimizer= optimizers.Adam(1e-3), loss = 'binary_crossentropy', metrics=['accuracy'])"
      ],
      "execution_count": null,
      "outputs": []
    },
    {
      "cell_type": "code",
      "metadata": {
        "id": "_EnIgGMvvSt2",
        "colab_type": "code",
        "colab": {
          "base_uri": "https://localhost:8080/",
          "height": 1000
        },
        "outputId": "563a4bde-273f-4da2-a1a7-7f16f28faa77"
      },
      "source": [
        "step = np.ceil(train_generator.samples/train_generator.batch_size)\n",
        "valid_step = np.ceil(valid_generator.samples/valid_generator.batch_size)\n",
        "early_stopping_cb = keras.callbacks.EarlyStopping(monitor = 'val_loss', patience = 10)\n",
        "\n",
        "history = model.fit(train_generator, steps_per_epoch=step, callbacks = [early_stopping_cb],epochs=50, validation_data= (valid_generator), validation_steps=valid_step)"
      ],
      "execution_count": null,
      "outputs": [
        {
          "output_type": "stream",
          "text": [
            "Epoch 1/50\n",
            "29/29 [==============================] - 14s 486ms/step - loss: 10.7209 - accuracy: 0.4956 - val_loss: 8.5933 - val_accuracy: 0.5102\n",
            "Epoch 2/50\n",
            "29/29 [==============================] - 13s 459ms/step - loss: 7.3910 - accuracy: 0.5764 - val_loss: 6.3183 - val_accuracy: 0.5408\n",
            "Epoch 3/50\n",
            "29/29 [==============================] - 13s 452ms/step - loss: 5.6003 - accuracy: 0.6081 - val_loss: 4.9351 - val_accuracy: 0.6556\n",
            "Epoch 4/50\n",
            "29/29 [==============================] - 14s 484ms/step - loss: 4.4777 - accuracy: 0.6736 - val_loss: 4.0357 - val_accuracy: 0.7347\n",
            "Epoch 5/50\n",
            "29/29 [==============================] - 13s 457ms/step - loss: 3.7417 - accuracy: 0.7140 - val_loss: 3.4755 - val_accuracy: 0.7066\n",
            "Epoch 6/50\n",
            "29/29 [==============================] - 13s 463ms/step - loss: 3.2552 - accuracy: 0.6954 - val_loss: 3.0122 - val_accuracy: 0.7551\n",
            "Epoch 7/50\n",
            "29/29 [==============================] - 13s 451ms/step - loss: 2.8543 - accuracy: 0.7434 - val_loss: 2.7078 - val_accuracy: 0.7500\n",
            "Epoch 8/50\n",
            "29/29 [==============================] - 13s 441ms/step - loss: 2.5395 - accuracy: 0.7467 - val_loss: 2.3963 - val_accuracy: 0.7602\n",
            "Epoch 9/50\n",
            "29/29 [==============================] - 13s 463ms/step - loss: 2.2799 - accuracy: 0.7576 - val_loss: 2.2531 - val_accuracy: 0.7041\n",
            "Epoch 10/50\n",
            "29/29 [==============================] - 13s 455ms/step - loss: 2.1018 - accuracy: 0.7467 - val_loss: 1.9951 - val_accuracy: 0.7679\n",
            "Epoch 11/50\n",
            "29/29 [==============================] - 13s 454ms/step - loss: 1.8949 - accuracy: 0.7697 - val_loss: 1.8256 - val_accuracy: 0.7908\n",
            "Epoch 12/50\n",
            "29/29 [==============================] - 13s 447ms/step - loss: 1.7501 - accuracy: 0.7740 - val_loss: 1.7028 - val_accuracy: 0.7883\n",
            "Epoch 13/50\n",
            "29/29 [==============================] - 13s 462ms/step - loss: 1.6179 - accuracy: 0.7838 - val_loss: 1.5768 - val_accuracy: 0.7781\n",
            "Epoch 14/50\n",
            "29/29 [==============================] - 13s 459ms/step - loss: 1.5144 - accuracy: 0.7893 - val_loss: 1.5364 - val_accuracy: 0.7679\n",
            "Epoch 15/50\n",
            "29/29 [==============================] - 13s 456ms/step - loss: 1.4043 - accuracy: 0.8090 - val_loss: 1.5461 - val_accuracy: 0.7219\n",
            "Epoch 16/50\n",
            "29/29 [==============================] - 13s 450ms/step - loss: 1.3475 - accuracy: 0.7784 - val_loss: 1.3262 - val_accuracy: 0.7883\n",
            "Epoch 17/50\n",
            "29/29 [==============================] - 13s 452ms/step - loss: 1.2266 - accuracy: 0.8275 - val_loss: 1.3861 - val_accuracy: 0.7577\n",
            "Epoch 18/50\n",
            "29/29 [==============================] - 13s 455ms/step - loss: 1.1713 - accuracy: 0.8122 - val_loss: 1.1882 - val_accuracy: 0.8189\n",
            "Epoch 19/50\n",
            "29/29 [==============================] - 13s 450ms/step - loss: 1.1232 - accuracy: 0.8253 - val_loss: 1.1590 - val_accuracy: 0.7883\n",
            "Epoch 20/50\n",
            "29/29 [==============================] - 13s 445ms/step - loss: 1.0557 - accuracy: 0.8395 - val_loss: 1.1186 - val_accuracy: 0.7959\n",
            "Epoch 21/50\n",
            "29/29 [==============================] - 13s 438ms/step - loss: 1.0052 - accuracy: 0.8395 - val_loss: 1.1444 - val_accuracy: 0.7628\n",
            "Epoch 22/50\n",
            "29/29 [==============================] - 13s 438ms/step - loss: 0.9647 - accuracy: 0.8439 - val_loss: 1.0498 - val_accuracy: 0.8087\n",
            "Epoch 23/50\n",
            "29/29 [==============================] - 13s 446ms/step - loss: 0.9180 - accuracy: 0.8439 - val_loss: 1.0031 - val_accuracy: 0.8163\n",
            "Epoch 24/50\n",
            "29/29 [==============================] - 13s 440ms/step - loss: 0.8787 - accuracy: 0.8614 - val_loss: 0.9945 - val_accuracy: 0.8189\n",
            "Epoch 25/50\n",
            "29/29 [==============================] - 13s 446ms/step - loss: 0.8809 - accuracy: 0.8406 - val_loss: 0.9928 - val_accuracy: 0.7934\n",
            "Epoch 26/50\n",
            "29/29 [==============================] - 13s 445ms/step - loss: 0.8815 - accuracy: 0.8472 - val_loss: 0.9472 - val_accuracy: 0.8189\n",
            "Epoch 27/50\n",
            "29/29 [==============================] - 13s 451ms/step - loss: 0.8091 - accuracy: 0.8624 - val_loss: 0.9302 - val_accuracy: 0.8163\n",
            "Epoch 28/50\n",
            "29/29 [==============================] - 13s 451ms/step - loss: 0.7682 - accuracy: 0.8810 - val_loss: 0.9530 - val_accuracy: 0.8163\n",
            "Epoch 29/50\n",
            "29/29 [==============================] - 13s 432ms/step - loss: 0.7713 - accuracy: 0.8624 - val_loss: 0.9590 - val_accuracy: 0.7832\n",
            "Epoch 30/50\n",
            "29/29 [==============================] - 13s 440ms/step - loss: 0.7680 - accuracy: 0.8646 - val_loss: 0.9046 - val_accuracy: 0.7959\n",
            "Epoch 31/50\n",
            "29/29 [==============================] - 12s 427ms/step - loss: 0.7419 - accuracy: 0.8679 - val_loss: 0.8672 - val_accuracy: 0.8061\n",
            "Epoch 32/50\n",
            "29/29 [==============================] - 13s 442ms/step - loss: 0.6974 - accuracy: 0.8832 - val_loss: 0.8637 - val_accuracy: 0.8214\n",
            "Epoch 33/50\n",
            "29/29 [==============================] - 12s 429ms/step - loss: 0.6847 - accuracy: 0.8854 - val_loss: 0.8747 - val_accuracy: 0.8112\n",
            "Epoch 34/50\n",
            "29/29 [==============================] - 13s 440ms/step - loss: 0.6611 - accuracy: 0.8886 - val_loss: 0.9707 - val_accuracy: 0.7500\n",
            "Epoch 35/50\n",
            "29/29 [==============================] - 13s 444ms/step - loss: 0.6914 - accuracy: 0.8624 - val_loss: 0.8807 - val_accuracy: 0.8036\n",
            "Epoch 36/50\n",
            "29/29 [==============================] - 13s 450ms/step - loss: 0.6502 - accuracy: 0.8952 - val_loss: 0.8321 - val_accuracy: 0.8240\n",
            "Epoch 37/50\n",
            "29/29 [==============================] - 13s 436ms/step - loss: 0.6415 - accuracy: 0.8963 - val_loss: 0.8258 - val_accuracy: 0.8189\n",
            "Epoch 38/50\n",
            "29/29 [==============================] - 13s 445ms/step - loss: 0.6020 - accuracy: 0.9159 - val_loss: 0.9120 - val_accuracy: 0.7959\n",
            "Epoch 39/50\n",
            "29/29 [==============================] - 13s 442ms/step - loss: 0.6050 - accuracy: 0.9039 - val_loss: 1.0350 - val_accuracy: 0.7526\n",
            "Epoch 40/50\n",
            "29/29 [==============================] - 13s 440ms/step - loss: 0.6169 - accuracy: 0.8886 - val_loss: 0.8810 - val_accuracy: 0.7755\n",
            "Epoch 41/50\n",
            "29/29 [==============================] - 13s 447ms/step - loss: 0.6169 - accuracy: 0.8941 - val_loss: 0.7917 - val_accuracy: 0.8163\n",
            "Epoch 42/50\n",
            "29/29 [==============================] - 13s 435ms/step - loss: 0.5686 - accuracy: 0.9116 - val_loss: 0.8992 - val_accuracy: 0.7883\n",
            "Epoch 43/50\n",
            "29/29 [==============================] - 13s 448ms/step - loss: 0.5874 - accuracy: 0.9017 - val_loss: 0.8701 - val_accuracy: 0.7781\n",
            "Epoch 44/50\n",
            "29/29 [==============================] - 12s 431ms/step - loss: 0.5616 - accuracy: 0.9170 - val_loss: 0.8609 - val_accuracy: 0.7959\n",
            "Epoch 45/50\n",
            "29/29 [==============================] - 13s 435ms/step - loss: 0.5518 - accuracy: 0.9170 - val_loss: 0.8116 - val_accuracy: 0.8214\n",
            "Epoch 46/50\n",
            "29/29 [==============================] - 13s 435ms/step - loss: 0.5254 - accuracy: 0.9301 - val_loss: 0.8491 - val_accuracy: 0.8163\n",
            "Epoch 47/50\n",
            "29/29 [==============================] - 13s 432ms/step - loss: 0.5822 - accuracy: 0.8985 - val_loss: 1.0088 - val_accuracy: 0.7321\n",
            "Epoch 48/50\n",
            "29/29 [==============================] - 13s 435ms/step - loss: 0.5398 - accuracy: 0.9236 - val_loss: 0.8354 - val_accuracy: 0.8189\n",
            "Epoch 49/50\n",
            "29/29 [==============================] - 13s 440ms/step - loss: 0.5324 - accuracy: 0.9192 - val_loss: 1.0328 - val_accuracy: 0.7398\n",
            "Epoch 50/50\n",
            "29/29 [==============================] - 13s 438ms/step - loss: 0.5103 - accuracy: 0.9356 - val_loss: 0.8178 - val_accuracy: 0.8112\n"
          ],
          "name": "stdout"
        }
      ]
    },
    {
      "cell_type": "code",
      "metadata": {
        "id": "ZOw9J0fpweMP",
        "colab_type": "code",
        "colab": {
          "base_uri": "https://localhost:8080/",
          "height": 341
        },
        "outputId": "6dac4510-7f16-4685-9a62-a8e4fafda6bb"
      },
      "source": [
        "import pandas as pd\n",
        "import matplotlib.pyplot as plt\n",
        "pd.DataFrame(history.history).plot(figsize = (8,5))\n",
        "plt.grid(True)\n",
        "plt.gca().set_ylim(0,9)"
      ],
      "execution_count": null,
      "outputs": [
        {
          "output_type": "execute_result",
          "data": {
            "text/plain": [
              "(0.0, 9.0)"
            ]
          },
          "metadata": {
            "tags": []
          },
          "execution_count": 76
        },
        {
          "output_type": "display_data",
          "data": {
            "image/png": "[encoded data removed]",
            "text/plain": [
              "<Figure size 576x360 with 1 Axes>"
            ]
          },
          "metadata": {
            "tags": [],
            "needs_background": "light"
          }
        }
      ]
    },
    {
      "cell_type": "code",
      "metadata": {
        "id": "vCjQug54Fh_E",
        "colab_type": "code",
        "colab": {}
      },
      "source": [
        "test_datagen = ImageDataGenerator(rescale = 1./255)"
      ],
      "execution_count": null,
      "outputs": []
    },
    {
      "cell_type": "code",
      "metadata": {
        "id": "ePAUqJpQIKBh",
        "colab_type": "code",
        "colab": {}
      },
      "source": [
        "testdf = pd.read_csv('/content/gdrive/My Drive/Zindi/sample_sub_v2.csv',dtype=str)"
      ],
      "execution_count": null,
      "outputs": []
    },
    {
      "cell_type": "code",
      "metadata": {
        "id": "Ybrbyz019xfI",
        "colab_type": "code",
        "colab": {
          "base_uri": "https://localhost:8080/",
          "height": 34
        },
        "outputId": "3987a499-00fc-4ed3-84bb-be0d9bf18291"
      },
      "source": [
        "test_generator = test_datagen.flow_from_dataframe( \n",
        "    dataframe = testdf,\n",
        "    directory = train_dir,\n",
        "    x_col = \"image\",\n",
        "    y_col = None,\n",
        "    shuffle = False,\n",
        "    class_mode=None,\n",
        "    batch_size=1,\n",
        "    target_size = (150,150),\n",
        ")"
      ],
      "execution_count": null,
      "outputs": [
        {
          "output_type": "stream",
          "text": [
            "Found 509 validated image filenames.\n"
          ],
          "name": "stdout"
        }
      ]
    },
    {
      "cell_type": "code",
      "metadata": {
        "id": "LpvVpLxhFn28",
        "colab_type": "code",
        "colab": {
          "base_uri": "https://localhost:8080/",
          "height": 88
        },
        "outputId": "34bff6ed-99e6-45b4-aadb-5a12d90f7a90"
      },
      "source": [
        "test_steps = np.ceil(test_generator.samples/test_generator.batch_size)\n",
        "pred = model.predict_generator(test_generator, steps = test_steps)"
      ],
      "execution_count": null,
      "outputs": [
        {
          "output_type": "stream",
          "text": [
            "WARNING:tensorflow:From <ipython-input-82-94d2b0c4715d>:2: Model.predict_generator (from tensorflow.python.keras.engine.training) is deprecated and will be removed in a future version.\n",
            "Instructions for updating:\n",
            "Please use Model.predict, which supports generators.\n"
          ],
          "name": "stdout"
        }
      ]
    },
    {
      "cell_type": "code",
      "metadata": {
        "id": "UXLTCLk9LdU4",
        "colab_type": "code",
        "colab": {
          "base_uri": "https://localhost:8080/",
          "height": 34
        },
        "outputId": "ccbf2779-79eb-43cb-dab1-10a5054ccb0e"
      },
      "source": [
        "acc"
      ],
      "execution_count": null,
      "outputs": [
        {
          "output_type": "execute_result",
          "data": {
            "text/plain": [
              "0.0"
            ]
          },
          "metadata": {
            "tags": []
          },
          "execution_count": 88
        }
      ]
    },
    {
      "cell_type": "code",
      "metadata": {
        "id": "W53B_TnyK0w2",
        "colab_type": "code",
        "colab": {
          "base_uri": "https://localhost:8080/",
          "height": 136
        },
        "outputId": "95c03b88-bf2a-4732-e295-07d6dfe7f63b"
      },
      "source": [
        "pred"
      ],
      "execution_count": null,
      "outputs": [
        {
          "output_type": "execute_result",
          "data": {
            "text/plain": [
              "array([[0.5776503 , 0.42234963],\n",
              "       [0.52780396, 0.472196  ],\n",
              "       [0.31040987, 0.6895901 ],\n",
              "       ...,\n",
              "       [0.9897002 , 0.01029978],\n",
              "       [0.12111753, 0.87888247],\n",
              "       [0.45768368, 0.5423163 ]], dtype=float32)"
            ]
          },
          "metadata": {
            "tags": []
          },
          "execution_count": 84
        }
      ]
    },
    {
      "cell_type": "code",
      "metadata": {
        "id": "To4WKciOFn6r",
        "colab_type": "code",
        "colab": {
          "base_uri": "https://localhost:8080/",
          "height": 1000
        },
        "outputId": "9c1cde50-1d96-4a2b-d66f-0da12f827086"
      },
      "source": [
        "pred.max(1)"
      ],
      "execution_count": null,
      "outputs": [
        {
          "output_type": "execute_result",
          "data": {
            "text/plain": [
              "array([0.5776503 , 0.52780396, 0.6895901 , 0.9173115 , 0.7395506 ,\n",
              "       0.9801682 , 0.982746  , 0.9414758 , 0.9959318 , 0.5680111 ,\n",
              "       0.9980281 , 0.9383794 , 0.99927634, 0.9993887 , 0.5392742 ,\n",
              "       0.9839401 , 0.72624063, 0.996005  , 0.9167277 , 0.7053851 ,\n",
              "       0.9569443 , 0.986406  , 0.609173  , 0.9795511 , 0.9976113 ,\n",
              "       0.94576645, 0.64137286, 0.63432086, 0.9553517 , 0.9968264 ,\n",
              "       0.9354201 , 0.9929651 , 0.997971  , 0.82198745, 0.7742128 ,\n",
              "       0.9448147 , 0.9180175 , 0.91186064, 0.99263024, 0.575458  ,\n",
              "       0.58640903, 0.9809048 , 0.78304774, 0.9705246 , 0.9668646 ,\n",
              "       0.98133355, 0.51582676, 0.8245529 , 0.7140953 , 0.7997981 ,\n",
              "       0.9898051 , 0.76130646, 0.5846556 , 0.8956845 , 0.998437  ,\n",
              "       0.9973246 , 0.93474615, 0.9997348 , 0.99623495, 0.99895597,\n",
              "       0.97829926, 0.90919024, 0.9065878 , 0.84726036, 0.73161894,\n",
              "       0.9299183 , 0.94094473, 0.8068187 , 0.97099686, 0.9831088 ,\n",
              "       0.97848606, 0.9246003 , 0.9870809 , 0.95769584, 0.9974021 ,\n",
              "       0.8828728 , 0.66551954, 0.9961804 , 0.98284894, 0.87937206,\n",
              "       0.9766585 , 0.9876479 , 0.91503906, 0.7542735 , 0.8284891 ,\n",
              "       0.99657   , 0.996896  , 0.9133815 , 0.9671622 , 0.9979286 ,\n",
              "       0.97461027, 0.8941465 , 0.9778406 , 0.65704644, 0.8906929 ,\n",
              "       0.5347519 , 0.9947436 , 0.92106885, 0.992174  , 0.6588509 ,\n",
              "       0.99611914, 0.8941971 , 0.99233514, 0.99039686, 0.98634887,\n",
              "       0.8994901 , 0.5648283 , 0.98661554, 0.6119847 , 0.9407868 ,\n",
              "       0.9958419 , 0.8173313 , 0.8193324 , 0.9400883 , 0.9607799 ,\n",
              "       0.96787137, 0.9855076 , 0.9913641 , 0.9129451 , 0.5681834 ,\n",
              "       0.9935545 , 0.9643065 , 0.98894054, 0.73944014, 0.9895097 ,\n",
              "       0.8656436 , 0.9703764 , 0.9747421 , 0.5367159 , 0.93793625,\n",
              "       0.9736126 , 0.9848623 , 0.98565894, 0.94044125, 0.99766195,\n",
              "       0.512974  , 0.9385556 , 0.99369204, 0.9060247 , 0.99703455,\n",
              "       0.89695513, 0.9992157 , 0.90348566, 0.5336645 , 0.9955023 ,\n",
              "       0.99439055, 0.9951165 , 0.9960801 , 0.9981036 , 0.9554001 ,\n",
              "       0.8351232 , 0.97375983, 0.97746354, 0.7354889 , 0.9956867 ,\n",
              "       0.9511808 , 0.9539882 , 0.80441535, 0.617836  , 0.95258325,\n",
              "       0.58561915, 0.8069274 , 0.65921247, 0.7673069 , 0.9834921 ,\n",
              "       0.9418184 , 0.9929947 , 0.9770288 , 0.9286771 , 0.84763014,\n",
              "       0.9352262 , 0.99230653, 0.77187306, 0.6546203 , 0.7881493 ,\n",
              "       0.8532288 , 0.9937676 , 0.9963517 , 0.6091608 , 0.93778956,\n",
              "       0.9491693 , 0.8908426 , 0.9961946 , 0.9940587 , 0.9996611 ,\n",
              "       0.8468079 , 0.9998647 , 0.99618477, 0.6396636 , 0.5447045 ,\n",
              "       0.7507235 , 0.5373436 , 0.98175263, 0.741448  , 0.96342933,\n",
              "       0.7817948 , 0.9717758 , 0.7391118 , 0.9723212 , 0.5649759 ,\n",
              "       0.7932264 , 0.98394036, 0.8653031 , 0.8959116 , 0.7709098 ,\n",
              "       0.56154567, 0.9430856 , 0.9883995 , 0.99828583, 0.72312987,\n",
              "       0.98982435, 0.7828754 , 0.84173864, 0.85163254, 0.58462   ,\n",
              "       0.9982717 , 0.9386984 , 0.96952134, 0.89845216, 0.69113827,\n",
              "       0.98710364, 0.9993943 , 0.96859086, 0.881308  , 0.89500546,\n",
              "       0.9943956 , 0.83406764, 0.9725673 , 0.9756363 , 0.9996673 ,\n",
              "       0.9408939 , 0.9437003 , 0.95810807, 0.7894671 , 0.95134175,\n",
              "       0.7738966 , 0.97282   , 0.9487698 , 0.973931  , 0.9392958 ,\n",
              "       0.9974491 , 0.7508509 , 0.99269557, 0.9771398 , 0.97845787,\n",
              "       0.8405631 , 0.9933236 , 0.98582655, 0.9104287 , 0.99158514,\n",
              "       0.9824003 , 0.94618356, 0.913754  , 0.88093495, 0.99197936,\n",
              "       0.99894506, 0.6234181 , 0.6396253 , 0.99171865, 0.86099976,\n",
              "       0.6780389 , 0.5578418 , 0.791066  , 0.70177895, 0.97597224,\n",
              "       0.99860865, 0.92350227, 0.98892564, 0.9868678 , 0.9967969 ,\n",
              "       0.8549875 , 0.7407815 , 0.6443767 , 0.993669  , 0.9894986 ,\n",
              "       0.83884346, 0.995174  , 0.96252614, 0.96648294, 0.58852834,\n",
              "       0.90452546, 0.9249377 , 0.5969466 , 0.90256596, 0.9644724 ,\n",
              "       0.97603613, 0.79532397, 0.9968478 , 0.9981481 , 0.93166196,\n",
              "       0.98807305, 0.9999114 , 0.9757557 , 0.64497447, 0.9608277 ,\n",
              "       0.89186513, 0.97607327, 0.6554481 , 0.98769623, 0.8680805 ,\n",
              "       0.9514086 , 0.9910256 , 0.81118166, 0.6880291 , 0.9832629 ,\n",
              "       0.93182164, 0.99991345, 0.5329607 , 0.9958125 , 0.82222295,\n",
              "       0.9950354 , 0.5538267 , 0.9900287 , 0.9823722 , 0.54751784,\n",
              "       0.9979335 , 0.9365258 , 0.99657464, 0.94732755, 0.99911934,\n",
              "       0.9741027 , 0.8610598 , 0.9691288 , 0.99767786, 0.88309854,\n",
              "       0.9941749 , 0.9994735 , 0.81058526, 0.8376071 , 0.76902264,\n",
              "       0.7372351 , 0.983061  , 0.7963916 , 0.5352526 , 0.5570424 ,\n",
              "       0.9066408 , 0.80099154, 0.9893433 , 0.8378204 , 0.9073759 ,\n",
              "       0.57464457, 0.9140506 , 0.6167751 , 0.9869131 , 0.98328686,\n",
              "       0.99814045, 0.85369414, 0.9908393 , 0.8118311 , 0.9998832 ,\n",
              "       0.6213098 , 0.94434625, 0.9288878 , 0.986754  , 0.99406415,\n",
              "       0.89292026, 0.9328007 , 0.8203783 , 0.9791418 , 0.60369587,\n",
              "       0.9469978 , 0.5010543 , 0.9759749 , 0.84408104, 0.54967654,\n",
              "       0.54379296, 0.99009705, 0.5139553 , 0.5820363 , 0.93751925,\n",
              "       0.9959021 , 0.9742808 , 0.98816645, 0.8679847 , 0.9987128 ,\n",
              "       0.9941949 , 0.6061029 , 0.7545467 , 0.9944799 , 0.7086863 ,\n",
              "       0.88589287, 0.9598765 , 0.98807853, 0.9988128 , 0.75968987,\n",
              "       0.5097074 , 0.62930393, 0.9962721 , 0.9582543 , 0.9963129 ,\n",
              "       0.8545667 , 0.9946116 , 0.7062721 , 0.87993044, 0.55920875,\n",
              "       0.87614334, 0.6757295 , 0.9967263 , 0.8806907 , 0.6839267 ,\n",
              "       0.95207   , 0.6455175 , 0.9716845 , 0.9689692 , 0.8958792 ,\n",
              "       0.6890744 , 0.9945339 , 0.99463403, 0.9934515 , 0.9909513 ,\n",
              "       0.998667  , 0.9641962 , 0.9413869 , 0.8937679 , 0.9949498 ,\n",
              "       0.6175923 , 0.9938333 , 0.8889958 , 0.55240774, 0.985218  ,\n",
              "       0.538162  , 0.67512655, 0.8708293 , 0.83294636, 0.6007866 ,\n",
              "       0.9817483 , 0.9995321 , 0.5022886 , 0.9313864 , 0.9770999 ,\n",
              "       0.99501544, 0.95914507, 0.7221393 , 0.9912122 , 0.9907906 ,\n",
              "       0.65892935, 0.8395121 , 0.99972516, 0.9970386 , 0.9944938 ,\n",
              "       0.89491713, 0.97455806, 0.9925759 , 0.98320985, 0.94626904,\n",
              "       0.89980185, 0.9967213 , 0.99636036, 0.58568865, 0.92698336,\n",
              "       0.9347507 , 0.51435906, 0.9975987 , 0.9940194 , 0.9855209 ,\n",
              "       0.98299605, 0.95145655, 0.99332035, 0.84238464, 0.532246  ,\n",
              "       0.9972698 , 0.9804514 , 0.7132416 , 0.9957113 , 0.98671824,\n",
              "       0.8069248 , 0.94914705, 0.9368618 , 0.9963432 , 0.9750506 ,\n",
              "       0.8640001 , 0.9310377 , 0.8846427 , 0.7042177 , 0.94134295,\n",
              "       0.83859646, 0.6456437 , 0.6988745 , 0.79157263, 0.89002347,\n",
              "       0.9243997 , 0.99453604, 0.9773522 , 0.97693455, 0.8165039 ,\n",
              "       0.78652793, 0.76959807, 0.9944782 , 0.910238  , 0.99348044,\n",
              "       0.9977233 , 0.84470683, 0.89972067, 0.57894176, 0.990524  ,\n",
              "       0.9700095 , 0.98315746, 0.6554297 , 0.93902934, 0.7023313 ,\n",
              "       0.99432915, 0.58747894, 0.9998597 , 0.9165661 , 0.9915826 ,\n",
              "       0.93615264, 0.9897002 , 0.87888247, 0.5423163 ], dtype=float32)"
            ]
          },
          "metadata": {
            "tags": []
          },
          "execution_count": 83
        }
      ]
    },
    {
      "cell_type": "code",
      "metadata": {
        "id": "x4PUG8aBFomK",
        "colab_type": "code",
        "colab": {}
      },
      "source": [
        "sample = pd.read_csv('/content/gdrive/My Drive/Zindi/sample_sub_v2.csv')"
      ],
      "execution_count": null,
      "outputs": []
    },
    {
      "cell_type": "code",
      "metadata": {
        "id": "VloY3SJeFotk",
        "colab_type": "code",
        "colab": {}
      },
      "source": [
        "sample['target'] = pred.max(1)"
      ],
      "execution_count": null,
      "outputs": []
    },
    {
      "cell_type": "code",
      "metadata": {
        "id": "ucC5Dh5_Foq6",
        "colab_type": "code",
        "colab": {
          "base_uri": "https://localhost:8080/",
          "height": 204
        },
        "outputId": "105adbbf-0ba3-4f20-a136-ecfa37804cf2"
      },
      "source": [
        "sample.head()"
      ],
      "execution_count": null,
      "outputs": [
        {
          "output_type": "execute_result",
          "data": {
            "text/html": [
              "<div>\n",
              "<style scoped>\n",
              "    .dataframe tbody tr th:only-of-type {\n",
              "        vertical-align: middle;\n",
              "    }\n",
              "\n",
              "    .dataframe tbody tr th {\n",
              "        vertical-align: top;\n",
              "    }\n",
              "\n",
              "    .dataframe thead th {\n",
              "        text-align: right;\n",
              "    }\n",
              "</style>\n",
              "<table border=\"1\" class=\"dataframe\">\n",
              "  <thead>\n",
              "    <tr style=\"text-align: right;\">\n",
              "      <th></th>\n",
              "      <th>image</th>\n",
              "      <th>target</th>\n",
              "    </tr>\n",
              "  </thead>\n",
              "  <tbody>\n",
              "    <tr>\n",
              "      <th>0</th>\n",
              "      <td>aadawlxbmapqrblgxyzarhjasgiobu.png</td>\n",
              "      <td>0.577650</td>\n",
              "    </tr>\n",
              "    <tr>\n",
              "      <th>1</th>\n",
              "      <td>abpxvdfyhaaohzcrngcucmhffwizxs.jpg</td>\n",
              "      <td>0.527804</td>\n",
              "    </tr>\n",
              "    <tr>\n",
              "      <th>2</th>\n",
              "      <td>aclkjfvackiieiznzfcwienplielrj.jpg</td>\n",
              "      <td>0.689590</td>\n",
              "    </tr>\n",
              "    <tr>\n",
              "      <th>3</th>\n",
              "      <td>aelkivmayxgsdjosiibfgmkvfrjvjk.jpg</td>\n",
              "      <td>0.917311</td>\n",
              "    </tr>\n",
              "    <tr>\n",
              "      <th>4</th>\n",
              "      <td>aelzzshpfxerelefnkatpczktuxjln.jpg</td>\n",
              "      <td>0.739551</td>\n",
              "    </tr>\n",
              "  </tbody>\n",
              "</table>\n",
              "</div>"
            ],
            "text/plain": [
              "                                image    target\n",
              "0  aadawlxbmapqrblgxyzarhjasgiobu.png  0.577650\n",
              "1  abpxvdfyhaaohzcrngcucmhffwizxs.jpg  0.527804\n",
              "2  aclkjfvackiieiznzfcwienplielrj.jpg  0.689590\n",
              "3  aelkivmayxgsdjosiibfgmkvfrjvjk.jpg  0.917311\n",
              "4  aelzzshpfxerelefnkatpczktuxjln.jpg  0.739551"
            ]
          },
          "metadata": {
            "tags": []
          },
          "execution_count": 91
        }
      ]
    },
    {
      "cell_type": "code",
      "metadata": {
        "id": "2gWTFaeKFopr",
        "colab_type": "code",
        "colab": {}
      },
      "source": [
        "sample.to_csv('/content/gdrive/My Drive/Zindi/mask_test1.csv', header=True, index=False)"
      ],
      "execution_count": null,
      "outputs": []
    },
    {
      "cell_type": "code",
      "metadata": {
        "id": "VQcXi-SwFoj3",
        "colab_type": "code",
        "colab": {}
      },
      "source": [
        "base_model = keras.applications.xception.Xception(weights=\"imagenet\",\n",
        " include_top=False)\n",
        "avg = keras.layers.GlobalAveragePooling2D()(base_model.output)\n",
        "output = keras.layers.Dense(2, activation=\"softmax\")(avg)\n",
        "model = keras.Model(inputs=base_model.input, outputs=output)\n"
      ],
      "execution_count": null,
      "outputs": []
    },
    {
      "cell_type": "code",
      "metadata": {
        "id": "1-jN5u6HFn0s",
        "colab_type": "code",
        "colab": {}
      },
      "source": [
        "for layer in base_model.layers:\n",
        " layer.trainable = False"
      ],
      "execution_count": null,
      "outputs": []
    },
    {
      "cell_type": "code",
      "metadata": {
        "id": "JRn6BasfFnyg",
        "colab_type": "code",
        "colab": {}
      },
      "source": [
        "model.compile(optimizer= optimizers.Adam(1e-3), loss = 'binary_crossentropy', metrics=['accuracy'])"
      ],
      "execution_count": null,
      "outputs": []
    },
    {
      "cell_type": "code",
      "metadata": {
        "id": "SNgzXvTLNn5i",
        "colab_type": "code",
        "colab": {
          "base_uri": "https://localhost:8080/",
          "height": 459
        },
        "outputId": "86ffa30c-ef70-492c-9cd9-f7756e5e19cc"
      },
      "source": [
        "step = np.ceil(train_generator.samples/train_generator.batch_size)\n",
        "valid_step = np.ceil(valid_generator.samples/valid_generator.batch_size)\n",
        "early_stopping_cb = keras.callbacks.EarlyStopping(monitor = 'val_loss', patience = 10)\n",
        "\n",
        "history = model.fit(train_generator, steps_per_epoch=step, callbacks = [early_stopping_cb],epochs=20, validation_data= (valid_generator), validation_steps=valid_step)"
      ],
      "execution_count": null,
      "outputs": [
        {
          "output_type": "stream",
          "text": [
            "Epoch 1/20\n",
            "29/29 [==============================] - 15s 524ms/step - loss: 0.4794 - accuracy: 0.7478 - val_loss: 0.3137 - val_accuracy: 0.8648\n",
            "Epoch 2/20\n",
            "29/29 [==============================] - 14s 497ms/step - loss: 0.2745 - accuracy: 0.8723 - val_loss: 0.3046 - val_accuracy: 0.8571\n",
            "Epoch 3/20\n",
            "29/29 [==============================] - 14s 496ms/step - loss: 0.2556 - accuracy: 0.8865 - val_loss: 0.3008 - val_accuracy: 0.8622\n",
            "Epoch 4/20\n",
            "29/29 [==============================] - 14s 486ms/step - loss: 0.2186 - accuracy: 0.9116 - val_loss: 0.3120 - val_accuracy: 0.8724\n",
            "Epoch 5/20\n",
            "29/29 [==============================] - 14s 482ms/step - loss: 0.2028 - accuracy: 0.9279 - val_loss: 0.3025 - val_accuracy: 0.8673\n",
            "Epoch 6/20\n",
            "29/29 [==============================] - 14s 483ms/step - loss: 0.2014 - accuracy: 0.9083 - val_loss: 0.3246 - val_accuracy: 0.8622\n",
            "Epoch 7/20\n",
            "29/29 [==============================] - 14s 489ms/step - loss: 0.1807 - accuracy: 0.9356 - val_loss: 0.3075 - val_accuracy: 0.8571\n",
            "Epoch 8/20\n",
            "29/29 [==============================] - 14s 489ms/step - loss: 0.1588 - accuracy: 0.9454 - val_loss: 0.3155 - val_accuracy: 0.8673\n",
            "Epoch 9/20\n",
            "29/29 [==============================] - 14s 479ms/step - loss: 0.1468 - accuracy: 0.9465 - val_loss: 0.3132 - val_accuracy: 0.8648\n",
            "Epoch 10/20\n",
            "29/29 [==============================] - 14s 486ms/step - loss: 0.1288 - accuracy: 0.9596 - val_loss: 0.3185 - val_accuracy: 0.8699\n",
            "Epoch 11/20\n",
            "29/29 [==============================] - 14s 467ms/step - loss: 0.1344 - accuracy: 0.9520 - val_loss: 0.3375 - val_accuracy: 0.8546\n",
            "Epoch 12/20\n",
            "29/29 [==============================] - 14s 478ms/step - loss: 0.1458 - accuracy: 0.9443 - val_loss: 0.3322 - val_accuracy: 0.8597\n",
            "Epoch 13/20\n",
            "29/29 [==============================] - 13s 459ms/step - loss: 0.1180 - accuracy: 0.9596 - val_loss: 0.3285 - val_accuracy: 0.8648\n"
          ],
          "name": "stdout"
        }
      ]
    },
    {
      "cell_type": "code",
      "metadata": {
        "id": "zVdj-mjTNtV-",
        "colab_type": "code",
        "colab": {
          "base_uri": "https://localhost:8080/",
          "height": 1000
        },
        "outputId": "136abbf2-1cd3-4952-bdbb-f926d8b57d1e"
      },
      "source": [
        "model.summary()"
      ],
      "execution_count": null,
      "outputs": [
        {
          "output_type": "stream",
          "text": [
            "Model: \"model_1\"\n",
            "__________________________________________________________________________________________________\n",
            "Layer (type)                    Output Shape         Param #     Connected to                     \n",
            "==================================================================================================\n",
            "input_4 (InputLayer)            [(None, None, None,  0                                            \n",
            "__________________________________________________________________________________________________\n",
            "block1_conv1 (Conv2D)           (None, None, None, 3 864         input_4[0][0]                    \n",
            "__________________________________________________________________________________________________\n",
            "block1_conv1_bn (BatchNormaliza (None, None, None, 3 128         block1_conv1[0][0]               \n",
            "__________________________________________________________________________________________________\n",
            "block1_conv1_act (Activation)   (None, None, None, 3 0           block1_conv1_bn[0][0]            \n",
            "__________________________________________________________________________________________________\n",
            "block1_conv2 (Conv2D)           (None, None, None, 6 18432       block1_conv1_act[0][0]           \n",
            "__________________________________________________________________________________________________\n",
            "block1_conv2_bn (BatchNormaliza (None, None, None, 6 256         block1_conv2[0][0]               \n",
            "__________________________________________________________________________________________________\n",
            "block1_conv2_act (Activation)   (None, None, None, 6 0           block1_conv2_bn[0][0]            \n",
            "__________________________________________________________________________________________________\n",
            "block2_sepconv1 (SeparableConv2 (None, None, None, 1 8768        block1_conv2_act[0][0]           \n",
            "__________________________________________________________________________________________________\n",
            "block2_sepconv1_bn (BatchNormal (None, None, None, 1 512         block2_sepconv1[0][0]            \n",
            "__________________________________________________________________________________________________\n",
            "block2_sepconv2_act (Activation (None, None, None, 1 0           block2_sepconv1_bn[0][0]         \n",
            "__________________________________________________________________________________________________\n",
            "block2_sepconv2 (SeparableConv2 (None, None, None, 1 17536       block2_sepconv2_act[0][0]        \n",
            "__________________________________________________________________________________________________\n",
            "block2_sepconv2_bn (BatchNormal (None, None, None, 1 512         block2_sepconv2[0][0]            \n",
            "__________________________________________________________________________________________________\n",
            "conv2d_101 (Conv2D)             (None, None, None, 1 8192        block1_conv2_act[0][0]           \n",
            "__________________________________________________________________________________________________\n",
            "block2_pool (MaxPooling2D)      (None, None, None, 1 0           block2_sepconv2_bn[0][0]         \n",
            "__________________________________________________________________________________________________\n",
            "batch_normalization_4 (BatchNor (None, None, None, 1 512         conv2d_101[0][0]                 \n",
            "__________________________________________________________________________________________________\n",
            "add_12 (Add)                    (None, None, None, 1 0           block2_pool[0][0]                \n",
            "                                                                 batch_normalization_4[0][0]      \n",
            "__________________________________________________________________________________________________\n",
            "block3_sepconv1_act (Activation (None, None, None, 1 0           add_12[0][0]                     \n",
            "__________________________________________________________________________________________________\n",
            "block3_sepconv1 (SeparableConv2 (None, None, None, 2 33920       block3_sepconv1_act[0][0]        \n",
            "__________________________________________________________________________________________________\n",
            "block3_sepconv1_bn (BatchNormal (None, None, None, 2 1024        block3_sepconv1[0][0]            \n",
            "__________________________________________________________________________________________________\n",
            "block3_sepconv2_act (Activation (None, None, None, 2 0           block3_sepconv1_bn[0][0]         \n",
            "__________________________________________________________________________________________________\n",
            "block3_sepconv2 (SeparableConv2 (None, None, None, 2 67840       block3_sepconv2_act[0][0]        \n",
            "__________________________________________________________________________________________________\n",
            "block3_sepconv2_bn (BatchNormal (None, None, None, 2 1024        block3_sepconv2[0][0]            \n",
            "__________________________________________________________________________________________________\n",
            "conv2d_102 (Conv2D)             (None, None, None, 2 32768       add_12[0][0]                     \n",
            "__________________________________________________________________________________________________\n",
            "block3_pool (MaxPooling2D)      (None, None, None, 2 0           block3_sepconv2_bn[0][0]         \n",
            "__________________________________________________________________________________________________\n",
            "batch_normalization_5 (BatchNor (None, None, None, 2 1024        conv2d_102[0][0]                 \n",
            "__________________________________________________________________________________________________\n",
            "add_13 (Add)                    (None, None, None, 2 0           block3_pool[0][0]                \n",
            "                                                                 batch_normalization_5[0][0]      \n",
            "__________________________________________________________________________________________________\n",
            "block4_sepconv1_act (Activation (None, None, None, 2 0           add_13[0][0]                     \n",
            "__________________________________________________________________________________________________\n",
            "block4_sepconv1 (SeparableConv2 (None, None, None, 7 188672      block4_sepconv1_act[0][0]        \n",
            "__________________________________________________________________________________________________\n",
            "block4_sepconv1_bn (BatchNormal (None, None, None, 7 2912        block4_sepconv1[0][0]            \n",
            "__________________________________________________________________________________________________\n",
            "block4_sepconv2_act (Activation (None, None, None, 7 0           block4_sepconv1_bn[0][0]         \n",
            "__________________________________________________________________________________________________\n",
            "block4_sepconv2 (SeparableConv2 (None, None, None, 7 536536      block4_sepconv2_act[0][0]        \n",
            "__________________________________________________________________________________________________\n",
            "block4_sepconv2_bn (BatchNormal (None, None, None, 7 2912        block4_sepconv2[0][0]            \n",
            "__________________________________________________________________________________________________\n",
            "conv2d_103 (Conv2D)             (None, None, None, 7 186368      add_13[0][0]                     \n",
            "__________________________________________________________________________________________________\n",
            "block4_pool (MaxPooling2D)      (None, None, None, 7 0           block4_sepconv2_bn[0][0]         \n",
            "__________________________________________________________________________________________________\n",
            "batch_normalization_6 (BatchNor (None, None, None, 7 2912        conv2d_103[0][0]                 \n",
            "__________________________________________________________________________________________________\n",
            "add_14 (Add)                    (None, None, None, 7 0           block4_pool[0][0]                \n",
            "                                                                 batch_normalization_6[0][0]      \n",
            "__________________________________________________________________________________________________\n",
            "block5_sepconv1_act (Activation (None, None, None, 7 0           add_14[0][0]                     \n",
            "__________________________________________________________________________________________________\n",
            "block5_sepconv1 (SeparableConv2 (None, None, None, 7 536536      block5_sepconv1_act[0][0]        \n",
            "__________________________________________________________________________________________________\n",
            "block5_sepconv1_bn (BatchNormal (None, None, None, 7 2912        block5_sepconv1[0][0]            \n",
            "__________________________________________________________________________________________________\n",
            "block5_sepconv2_act (Activation (None, None, None, 7 0           block5_sepconv1_bn[0][0]         \n",
            "__________________________________________________________________________________________________\n",
            "block5_sepconv2 (SeparableConv2 (None, None, None, 7 536536      block5_sepconv2_act[0][0]        \n",
            "__________________________________________________________________________________________________\n",
            "block5_sepconv2_bn (BatchNormal (None, None, None, 7 2912        block5_sepconv2[0][0]            \n",
            "__________________________________________________________________________________________________\n",
            "block5_sepconv3_act (Activation (None, None, None, 7 0           block5_sepconv2_bn[0][0]         \n",
            "__________________________________________________________________________________________________\n",
            "block5_sepconv3 (SeparableConv2 (None, None, None, 7 536536      block5_sepconv3_act[0][0]        \n",
            "__________________________________________________________________________________________________\n",
            "block5_sepconv3_bn (BatchNormal (None, None, None, 7 2912        block5_sepconv3[0][0]            \n",
            "__________________________________________________________________________________________________\n",
            "add_15 (Add)                    (None, None, None, 7 0           block5_sepconv3_bn[0][0]         \n",
            "                                                                 add_14[0][0]                     \n",
            "__________________________________________________________________________________________________\n",
            "block6_sepconv1_act (Activation (None, None, None, 7 0           add_15[0][0]                     \n",
            "__________________________________________________________________________________________________\n",
            "block6_sepconv1 (SeparableConv2 (None, None, None, 7 536536      block6_sepconv1_act[0][0]        \n",
            "__________________________________________________________________________________________________\n",
            "block6_sepconv1_bn (BatchNormal (None, None, None, 7 2912        block6_sepconv1[0][0]            \n",
            "__________________________________________________________________________________________________\n",
            "block6_sepconv2_act (Activation (None, None, None, 7 0           block6_sepconv1_bn[0][0]         \n",
            "__________________________________________________________________________________________________\n",
            "block6_sepconv2 (SeparableConv2 (None, None, None, 7 536536      block6_sepconv2_act[0][0]        \n",
            "__________________________________________________________________________________________________\n",
            "block6_sepconv2_bn (BatchNormal (None, None, None, 7 2912        block6_sepconv2[0][0]            \n",
            "__________________________________________________________________________________________________\n",
            "block6_sepconv3_act (Activation (None, None, None, 7 0           block6_sepconv2_bn[0][0]         \n",
            "__________________________________________________________________________________________________\n",
            "block6_sepconv3 (SeparableConv2 (None, None, None, 7 536536      block6_sepconv3_act[0][0]        \n",
            "__________________________________________________________________________________________________\n",
            "block6_sepconv3_bn (BatchNormal (None, None, None, 7 2912        block6_sepconv3[0][0]            \n",
            "__________________________________________________________________________________________________\n",
            "add_16 (Add)                    (None, None, None, 7 0           block6_sepconv3_bn[0][0]         \n",
            "                                                                 add_15[0][0]                     \n",
            "__________________________________________________________________________________________________\n",
            "block7_sepconv1_act (Activation (None, None, None, 7 0           add_16[0][0]                     \n",
            "__________________________________________________________________________________________________\n",
            "block7_sepconv1 (SeparableConv2 (None, None, None, 7 536536      block7_sepconv1_act[0][0]        \n",
            "__________________________________________________________________________________________________\n",
            "block7_sepconv1_bn (BatchNormal (None, None, None, 7 2912        block7_sepconv1[0][0]            \n",
            "__________________________________________________________________________________________________\n",
            "block7_sepconv2_act (Activation (None, None, None, 7 0           block7_sepconv1_bn[0][0]         \n",
            "__________________________________________________________________________________________________\n",
            "block7_sepconv2 (SeparableConv2 (None, None, None, 7 536536      block7_sepconv2_act[0][0]        \n",
            "__________________________________________________________________________________________________\n",
            "block7_sepconv2_bn (BatchNormal (None, None, None, 7 2912        block7_sepconv2[0][0]            \n",
            "__________________________________________________________________________________________________\n",
            "block7_sepconv3_act (Activation (None, None, None, 7 0           block7_sepconv2_bn[0][0]         \n",
            "__________________________________________________________________________________________________\n",
            "block7_sepconv3 (SeparableConv2 (None, None, None, 7 536536      block7_sepconv3_act[0][0]        \n",
            "__________________________________________________________________________________________________\n",
            "block7_sepconv3_bn (BatchNormal (None, None, None, 7 2912        block7_sepconv3[0][0]            \n",
            "__________________________________________________________________________________________________\n",
            "add_17 (Add)                    (None, None, None, 7 0           block7_sepconv3_bn[0][0]         \n",
            "                                                                 add_16[0][0]                     \n",
            "__________________________________________________________________________________________________\n",
            "block8_sepconv1_act (Activation (None, None, None, 7 0           add_17[0][0]                     \n",
            "__________________________________________________________________________________________________\n",
            "block8_sepconv1 (SeparableConv2 (None, None, None, 7 536536      block8_sepconv1_act[0][0]        \n",
            "__________________________________________________________________________________________________\n",
            "block8_sepconv1_bn (BatchNormal (None, None, None, 7 2912        block8_sepconv1[0][0]            \n",
            "__________________________________________________________________________________________________\n",
            "block8_sepconv2_act (Activation (None, None, None, 7 0           block8_sepconv1_bn[0][0]         \n",
            "__________________________________________________________________________________________________\n",
            "block8_sepconv2 (SeparableConv2 (None, None, None, 7 536536      block8_sepconv2_act[0][0]        \n",
            "__________________________________________________________________________________________________\n",
            "block8_sepconv2_bn (BatchNormal (None, None, None, 7 2912        block8_sepconv2[0][0]            \n",
            "__________________________________________________________________________________________________\n",
            "block8_sepconv3_act (Activation (None, None, None, 7 0           block8_sepconv2_bn[0][0]         \n",
            "__________________________________________________________________________________________________\n",
            "block8_sepconv3 (SeparableConv2 (None, None, None, 7 536536      block8_sepconv3_act[0][0]        \n",
            "__________________________________________________________________________________________________\n",
            "block8_sepconv3_bn (BatchNormal (None, None, None, 7 2912        block8_sepconv3[0][0]            \n",
            "__________________________________________________________________________________________________\n",
            "add_18 (Add)                    (None, None, None, 7 0           block8_sepconv3_bn[0][0]         \n",
            "                                                                 add_17[0][0]                     \n",
            "__________________________________________________________________________________________________\n",
            "block9_sepconv1_act (Activation (None, None, None, 7 0           add_18[0][0]                     \n",
            "__________________________________________________________________________________________________\n",
            "block9_sepconv1 (SeparableConv2 (None, None, None, 7 536536      block9_sepconv1_act[0][0]        \n",
            "__________________________________________________________________________________________________\n",
            "block9_sepconv1_bn (BatchNormal (None, None, None, 7 2912        block9_sepconv1[0][0]            \n",
            "__________________________________________________________________________________________________\n",
            "block9_sepconv2_act (Activation (None, None, None, 7 0           block9_sepconv1_bn[0][0]         \n",
            "__________________________________________________________________________________________________\n",
            "block9_sepconv2 (SeparableConv2 (None, None, None, 7 536536      block9_sepconv2_act[0][0]        \n",
            "__________________________________________________________________________________________________\n",
            "block9_sepconv2_bn (BatchNormal (None, None, None, 7 2912        block9_sepconv2[0][0]            \n",
            "__________________________________________________________________________________________________\n",
            "block9_sepconv3_act (Activation (None, None, None, 7 0           block9_sepconv2_bn[0][0]         \n",
            "__________________________________________________________________________________________________\n",
            "block9_sepconv3 (SeparableConv2 (None, None, None, 7 536536      block9_sepconv3_act[0][0]        \n",
            "__________________________________________________________________________________________________\n",
            "block9_sepconv3_bn (BatchNormal (None, None, None, 7 2912        block9_sepconv3[0][0]            \n",
            "__________________________________________________________________________________________________\n",
            "add_19 (Add)                    (None, None, None, 7 0           block9_sepconv3_bn[0][0]         \n",
            "                                                                 add_18[0][0]                     \n",
            "__________________________________________________________________________________________________\n",
            "block10_sepconv1_act (Activatio (None, None, None, 7 0           add_19[0][0]                     \n",
            "__________________________________________________________________________________________________\n",
            "block10_sepconv1 (SeparableConv (None, None, None, 7 536536      block10_sepconv1_act[0][0]       \n",
            "__________________________________________________________________________________________________\n",
            "block10_sepconv1_bn (BatchNorma (None, None, None, 7 2912        block10_sepconv1[0][0]           \n",
            "__________________________________________________________________________________________________\n",
            "block10_sepconv2_act (Activatio (None, None, None, 7 0           block10_sepconv1_bn[0][0]        \n",
            "__________________________________________________________________________________________________\n",
            "block10_sepconv2 (SeparableConv (None, None, None, 7 536536      block10_sepconv2_act[0][0]       \n",
            "__________________________________________________________________________________________________\n",
            "block10_sepconv2_bn (BatchNorma (None, None, None, 7 2912        block10_sepconv2[0][0]           \n",
            "__________________________________________________________________________________________________\n",
            "block10_sepconv3_act (Activatio (None, None, None, 7 0           block10_sepconv2_bn[0][0]        \n",
            "__________________________________________________________________________________________________\n",
            "block10_sepconv3 (SeparableConv (None, None, None, 7 536536      block10_sepconv3_act[0][0]       \n",
            "__________________________________________________________________________________________________\n",
            "block10_sepconv3_bn (BatchNorma (None, None, None, 7 2912        block10_sepconv3[0][0]           \n",
            "__________________________________________________________________________________________________\n",
            "add_20 (Add)                    (None, None, None, 7 0           block10_sepconv3_bn[0][0]        \n",
            "                                                                 add_19[0][0]                     \n",
            "__________________________________________________________________________________________________\n",
            "block11_sepconv1_act (Activatio (None, None, None, 7 0           add_20[0][0]                     \n",
            "__________________________________________________________________________________________________\n",
            "block11_sepconv1 (SeparableConv (None, None, None, 7 536536      block11_sepconv1_act[0][0]       \n",
            "__________________________________________________________________________________________________\n",
            "block11_sepconv1_bn (BatchNorma (None, None, None, 7 2912        block11_sepconv1[0][0]           \n",
            "__________________________________________________________________________________________________\n",
            "block11_sepconv2_act (Activatio (None, None, None, 7 0           block11_sepconv1_bn[0][0]        \n",
            "__________________________________________________________________________________________________\n",
            "block11_sepconv2 (SeparableConv (None, None, None, 7 536536      block11_sepconv2_act[0][0]       \n",
            "__________________________________________________________________________________________________\n",
            "block11_sepconv2_bn (BatchNorma (None, None, None, 7 2912        block11_sepconv2[0][0]           \n",
            "__________________________________________________________________________________________________\n",
            "block11_sepconv3_act (Activatio (None, None, None, 7 0           block11_sepconv2_bn[0][0]        \n",
            "__________________________________________________________________________________________________\n",
            "block11_sepconv3 (SeparableConv (None, None, None, 7 536536      block11_sepconv3_act[0][0]       \n",
            "__________________________________________________________________________________________________\n",
            "block11_sepconv3_bn (BatchNorma (None, None, None, 7 2912        block11_sepconv3[0][0]           \n",
            "__________________________________________________________________________________________________\n",
            "add_21 (Add)                    (None, None, None, 7 0           block11_sepconv3_bn[0][0]        \n",
            "                                                                 add_20[0][0]                     \n",
            "__________________________________________________________________________________________________\n",
            "block12_sepconv1_act (Activatio (None, None, None, 7 0           add_21[0][0]                     \n",
            "__________________________________________________________________________________________________\n",
            "block12_sepconv1 (SeparableConv (None, None, None, 7 536536      block12_sepconv1_act[0][0]       \n",
            "__________________________________________________________________________________________________\n",
            "block12_sepconv1_bn (BatchNorma (None, None, None, 7 2912        block12_sepconv1[0][0]           \n",
            "__________________________________________________________________________________________________\n",
            "block12_sepconv2_act (Activatio (None, None, None, 7 0           block12_sepconv1_bn[0][0]        \n",
            "__________________________________________________________________________________________________\n",
            "block12_sepconv2 (SeparableConv (None, None, None, 7 536536      block12_sepconv2_act[0][0]       \n",
            "__________________________________________________________________________________________________\n",
            "block12_sepconv2_bn (BatchNorma (None, None, None, 7 2912        block12_sepconv2[0][0]           \n",
            "__________________________________________________________________________________________________\n",
            "block12_sepconv3_act (Activatio (None, None, None, 7 0           block12_sepconv2_bn[0][0]        \n",
            "__________________________________________________________________________________________________\n",
            "block12_sepconv3 (SeparableConv (None, None, None, 7 536536      block12_sepconv3_act[0][0]       \n",
            "__________________________________________________________________________________________________\n",
            "block12_sepconv3_bn (BatchNorma (None, None, None, 7 2912        block12_sepconv3[0][0]           \n",
            "__________________________________________________________________________________________________\n",
            "add_22 (Add)                    (None, None, None, 7 0           block12_sepconv3_bn[0][0]        \n",
            "                                                                 add_21[0][0]                     \n",
            "__________________________________________________________________________________________________\n",
            "block13_sepconv1_act (Activatio (None, None, None, 7 0           add_22[0][0]                     \n",
            "__________________________________________________________________________________________________\n",
            "block13_sepconv1 (SeparableConv (None, None, None, 7 536536      block13_sepconv1_act[0][0]       \n",
            "__________________________________________________________________________________________________\n",
            "block13_sepconv1_bn (BatchNorma (None, None, None, 7 2912        block13_sepconv1[0][0]           \n",
            "__________________________________________________________________________________________________\n",
            "block13_sepconv2_act (Activatio (None, None, None, 7 0           block13_sepconv1_bn[0][0]        \n",
            "__________________________________________________________________________________________________\n",
            "block13_sepconv2 (SeparableConv (None, None, None, 1 752024      block13_sepconv2_act[0][0]       \n",
            "__________________________________________________________________________________________________\n",
            "block13_sepconv2_bn (BatchNorma (None, None, None, 1 4096        block13_sepconv2[0][0]           \n",
            "__________________________________________________________________________________________________\n",
            "conv2d_104 (Conv2D)             (None, None, None, 1 745472      add_22[0][0]                     \n",
            "__________________________________________________________________________________________________\n",
            "block13_pool (MaxPooling2D)     (None, None, None, 1 0           block13_sepconv2_bn[0][0]        \n",
            "__________________________________________________________________________________________________\n",
            "batch_normalization_7 (BatchNor (None, None, None, 1 4096        conv2d_104[0][0]                 \n",
            "__________________________________________________________________________________________________\n",
            "add_23 (Add)                    (None, None, None, 1 0           block13_pool[0][0]               \n",
            "                                                                 batch_normalization_7[0][0]      \n",
            "__________________________________________________________________________________________________\n",
            "block14_sepconv1 (SeparableConv (None, None, None, 1 1582080     add_23[0][0]                     \n",
            "__________________________________________________________________________________________________\n",
            "block14_sepconv1_bn (BatchNorma (None, None, None, 1 6144        block14_sepconv1[0][0]           \n",
            "__________________________________________________________________________________________________\n",
            "block14_sepconv1_act (Activatio (None, None, None, 1 0           block14_sepconv1_bn[0][0]        \n",
            "__________________________________________________________________________________________________\n",
            "block14_sepconv2 (SeparableConv (None, None, None, 2 3159552     block14_sepconv1_act[0][0]       \n",
            "__________________________________________________________________________________________________\n",
            "block14_sepconv2_bn (BatchNorma (None, None, None, 2 8192        block14_sepconv2[0][0]           \n",
            "__________________________________________________________________________________________________\n",
            "block14_sepconv2_act (Activatio (None, None, None, 2 0           block14_sepconv2_bn[0][0]        \n",
            "__________________________________________________________________________________________________\n",
            "global_average_pooling2d_1 (Glo (None, 2048)         0           block14_sepconv2_act[0][0]       \n",
            "__________________________________________________________________________________________________\n",
            "dense_39 (Dense)                (None, 2)            4098        global_average_pooling2d_1[0][0] \n",
            "==================================================================================================\n",
            "Total params: 20,865,578\n",
            "Trainable params: 4,098\n",
            "Non-trainable params: 20,861,480\n",
            "__________________________________________________________________________________________________\n"
          ],
          "name": "stdout"
        }
      ]
    },
    {
      "cell_type": "code",
      "metadata": {
        "id": "IB1z0mZFOtW2",
        "colab_type": "code",
        "colab": {}
      },
      "source": [
        "for layer in base_model.layers:\n",
        " layer.trainable = True"
      ],
      "execution_count": null,
      "outputs": []
    },
    {
      "cell_type": "code",
      "metadata": {
        "id": "p5wkYQWUPssE",
        "colab_type": "code",
        "colab": {}
      },
      "source": [
        "model.compile(optimizer= optimizers.Adam(1e-5), loss = 'binary_crossentropy', metrics=['accuracy'])"
      ],
      "execution_count": null,
      "outputs": []
    },
    {
      "cell_type": "code",
      "metadata": {
        "id": "YPfyGpy3QCtJ",
        "colab_type": "code",
        "colab": {
          "base_uri": "https://localhost:8080/",
          "height": 595
        },
        "outputId": "0eb2e023-2cf4-49ca-abb5-768f67305151"
      },
      "source": [
        "step = np.ceil(train_generator.samples/train_generator.batch_size)\n",
        "valid_step = np.ceil(valid_generator.samples/valid_generator.batch_size)\n",
        "early_stopping_cb = keras.callbacks.EarlyStopping(monitor = 'val_loss', patience = 10)\n",
        "\n",
        "history = model.fit(train_generator, steps_per_epoch=step, callbacks = [early_stopping_cb],epochs=50, validation_data= (valid_generator), validation_steps=valid_step)"
      ],
      "execution_count": null,
      "outputs": [
        {
          "output_type": "stream",
          "text": [
            "Epoch 1/50\n",
            "29/29 [==============================] - 16s 559ms/step - loss: 0.0244 - accuracy: 0.9891 - val_loss: 0.2377 - val_accuracy: 0.9362\n",
            "Epoch 2/50\n",
            "29/29 [==============================] - 16s 536ms/step - loss: 0.0257 - accuracy: 0.9913 - val_loss: 0.2166 - val_accuracy: 0.9286\n",
            "Epoch 3/50\n",
            "29/29 [==============================] - 16s 548ms/step - loss: 0.0138 - accuracy: 0.9956 - val_loss: 0.2039 - val_accuracy: 0.9388\n",
            "Epoch 4/50\n",
            "29/29 [==============================] - 16s 539ms/step - loss: 0.0298 - accuracy: 0.9902 - val_loss: 0.2022 - val_accuracy: 0.9439\n",
            "Epoch 5/50\n",
            "29/29 [==============================] - 16s 540ms/step - loss: 0.0264 - accuracy: 0.9956 - val_loss: 0.1976 - val_accuracy: 0.9464\n",
            "Epoch 6/50\n",
            "29/29 [==============================] - 16s 541ms/step - loss: 0.0097 - accuracy: 0.9978 - val_loss: 0.1955 - val_accuracy: 0.9464\n",
            "Epoch 7/50\n",
            "29/29 [==============================] - 16s 553ms/step - loss: 0.0161 - accuracy: 0.9934 - val_loss: 0.1937 - val_accuracy: 0.9490\n",
            "Epoch 8/50\n",
            "29/29 [==============================] - 16s 539ms/step - loss: 0.0067 - accuracy: 0.9978 - val_loss: 0.1947 - val_accuracy: 0.9541\n",
            "Epoch 9/50\n",
            "29/29 [==============================] - 15s 529ms/step - loss: 0.0131 - accuracy: 0.9945 - val_loss: 0.1969 - val_accuracy: 0.9566\n",
            "Epoch 10/50\n",
            "29/29 [==============================] - 16s 539ms/step - loss: 0.0085 - accuracy: 0.9989 - val_loss: 0.2020 - val_accuracy: 0.9490\n",
            "Epoch 11/50\n",
            "29/29 [==============================] - 15s 527ms/step - loss: 0.0206 - accuracy: 0.9945 - val_loss: 0.2037 - val_accuracy: 0.9490\n",
            "Epoch 12/50\n",
            "29/29 [==============================] - 16s 537ms/step - loss: 0.0057 - accuracy: 1.0000 - val_loss: 0.2011 - val_accuracy: 0.9490\n",
            "Epoch 13/50\n",
            "29/29 [==============================] - 16s 540ms/step - loss: 0.0042 - accuracy: 0.9989 - val_loss: 0.2015 - val_accuracy: 0.9490\n",
            "Epoch 14/50\n",
            "29/29 [==============================] - 15s 518ms/step - loss: 0.0036 - accuracy: 1.0000 - val_loss: 0.2037 - val_accuracy: 0.9515\n",
            "Epoch 15/50\n",
            "29/29 [==============================] - 15s 521ms/step - loss: 0.0063 - accuracy: 0.9989 - val_loss: 0.2059 - val_accuracy: 0.9515\n",
            "Epoch 16/50\n",
            "29/29 [==============================] - 15s 534ms/step - loss: 0.0059 - accuracy: 0.9989 - val_loss: 0.2056 - val_accuracy: 0.9490\n",
            "Epoch 17/50\n",
            "29/29 [==============================] - 15s 530ms/step - loss: 0.0064 - accuracy: 0.9989 - val_loss: 0.2079 - val_accuracy: 0.9490\n"
          ],
          "name": "stdout"
        }
      ]
    },
    {
      "cell_type": "code",
      "metadata": {
        "id": "4F4ctTYUQ6NJ",
        "colab_type": "code",
        "colab": {}
      },
      "source": [
        "test_steps = np.ceil(test_generator.samples/test_generator.batch_size)\n",
        "pred = model.predict_generator(test_generator, steps = test_steps)"
      ],
      "execution_count": null,
      "outputs": []
    },
    {
      "cell_type": "code",
      "metadata": {
        "id": "gYZhW96OQ6UH",
        "colab_type": "code",
        "colab": {}
      },
      "source": [
        ""
      ],
      "execution_count": null,
      "outputs": []
    },
    {
      "cell_type": "code",
      "metadata": {
        "id": "jGscrxwOQ6SQ",
        "colab_type": "code",
        "colab": {
          "base_uri": "https://localhost:8080/",
          "height": 136
        },
        "outputId": "febe4d75-8033-4846-9638-798fdaf3c6b6"
      },
      "source": [
        "pred"
      ],
      "execution_count": null,
      "outputs": [
        {
          "output_type": "execute_result",
          "data": {
            "text/plain": [
              "array([[0.25219986, 0.7478001 ],\n",
              "       [0.9332365 , 0.06676348],\n",
              "       [0.00101137, 0.99898857],\n",
              "       ...,\n",
              "       [0.65591025, 0.3440898 ],\n",
              "       [0.5267964 , 0.47320363],\n",
              "       [0.9867113 , 0.01328875]], dtype=float32)"
            ]
          },
          "metadata": {
            "tags": []
          },
          "execution_count": 135
        }
      ]
    },
    {
      "cell_type": "code",
      "metadata": {
        "id": "pMh-emNGQ6LS",
        "colab_type": "code",
        "colab": {}
      },
      "source": [
        "sample = pd.read_csv('/content/gdrive/My Drive/Zindi/sample_sub_v2.csv')\n",
        "sample['target'] = pred.max(1)"
      ],
      "execution_count": null,
      "outputs": []
    },
    {
      "cell_type": "code",
      "metadata": {
        "id": "BRJ94dZ2Q57S",
        "colab_type": "code",
        "colab": {}
      },
      "source": [
        "sample.to_csv('/content/gdrive/My Drive/Zindi/mask_test2.1.csv', header=True, index=False)"
      ],
      "execution_count": null,
      "outputs": []
    },
    {
      "cell_type": "code",
      "metadata": {
        "id": "4r99EBdXQ54s",
        "colab_type": "code",
        "colab": {}
      },
      "source": [
        ""
      ],
      "execution_count": null,
      "outputs": []
    },
    {
      "cell_type": "code",
      "metadata": {
        "id": "rMMQHhcjQ52d",
        "colab_type": "code",
        "colab": {}
      },
      "source": [
        ""
      ],
      "execution_count": null,
      "outputs": []
    },
    {
      "cell_type": "code",
      "metadata": {
        "id": "giakSPDNQ5wf",
        "colab_type": "code",
        "colab": {}
      },
      "source": [
        ""
      ],
      "execution_count": null,
      "outputs": []
    },
    {
      "cell_type": "code",
      "metadata": {
        "id": "1ORbBAaDQHRg",
        "colab_type": "code",
        "colab": {}
      },
      "source": [
        "from keras.applications import VGG16\n",
        "conv_base = VGG16(weights='imagenet',\n",
        "include_top=False,\n",
        "input_shape=(150, 150, 3))"
      ],
      "execution_count": null,
      "outputs": []
    },
    {
      "cell_type": "code",
      "metadata": {
        "id": "aAIf3Yg1Tr8-",
        "colab_type": "code",
        "colab": {}
      },
      "source": [
        "from keras import models\n",
        "from keras import layers\n",
        "model = models.Sequential()\n",
        "model.add(conv_base)\n",
        "model.add(layers.Flatten())\n",
        "model.add(layers.Dense(128, activation='relu'))\n",
        "model.add(layers.Dense(2, activation='softmax'))"
      ],
      "execution_count": null,
      "outputs": []
    },
    {
      "cell_type": "code",
      "metadata": {
        "id": "YHy_GdlNQboZ",
        "colab_type": "code",
        "colab": {}
      },
      "source": [
        "conv_base.trainable = False"
      ],
      "execution_count": null,
      "outputs": []
    },
    {
      "cell_type": "code",
      "metadata": {
        "id": "PZB_jNkHQ5yb",
        "colab_type": "code",
        "colab": {}
      },
      "source": [
        "model.compile(optimizer= optimizers.Adam(1e-3), loss = 'binary_crossentropy', metrics=['accuracy'])"
      ],
      "execution_count": null,
      "outputs": []
    },
    {
      "cell_type": "code",
      "metadata": {
        "id": "9THL1JjpQ59v",
        "colab_type": "code",
        "colab": {
          "base_uri": "https://localhost:8080/",
          "height": 697
        },
        "outputId": "84592a1b-2297-489b-e6f5-4b98987b9e67"
      },
      "source": [
        "step = np.ceil(train_generator.samples/train_generator.batch_size)\n",
        "valid_step = np.ceil(valid_generator.samples/valid_generator.batch_size)\n",
        "early_stopping_cb = keras.callbacks.EarlyStopping(monitor = 'val_loss', patience = 10)\n",
        "\n",
        "history = model.fit(train_generator, steps_per_epoch=step,epochs=20, validation_data= (valid_generator), validation_steps=valid_step)"
      ],
      "execution_count": null,
      "outputs": [
        {
          "output_type": "stream",
          "text": [
            "Epoch 1/20\n",
            "29/29 [==============================] - 13s 455ms/step - loss: 0.8235 - accuracy: 0.6550 - val_loss: 0.1234 - val_accuracy: 0.7526\n",
            "Epoch 2/20\n",
            "29/29 [==============================] - 12s 416ms/step - loss: 0.3698 - accuracy: 0.8308 - val_loss: 0.7761 - val_accuracy: 0.7832\n",
            "Epoch 3/20\n",
            "29/29 [==============================] - 12s 425ms/step - loss: 0.2957 - accuracy: 0.8701 - val_loss: 0.2292 - val_accuracy: 0.7908\n",
            "Epoch 4/20\n",
            "29/29 [==============================] - 12s 420ms/step - loss: 0.2208 - accuracy: 0.9159 - val_loss: 1.0267 - val_accuracy: 0.8444\n",
            "Epoch 5/20\n",
            "29/29 [==============================] - 12s 415ms/step - loss: 0.1982 - accuracy: 0.9214 - val_loss: 0.2341 - val_accuracy: 0.8214\n",
            "Epoch 6/20\n",
            "29/29 [==============================] - 12s 418ms/step - loss: 0.1485 - accuracy: 0.9607 - val_loss: 0.3399 - val_accuracy: 0.8189\n",
            "Epoch 7/20\n",
            "29/29 [==============================] - 12s 418ms/step - loss: 0.1012 - accuracy: 0.9705 - val_loss: 0.6164 - val_accuracy: 0.7628\n",
            "Epoch 8/20\n",
            "29/29 [==============================] - 12s 415ms/step - loss: 0.0954 - accuracy: 0.9782 - val_loss: 0.1924 - val_accuracy: 0.7270\n",
            "Epoch 9/20\n",
            "29/29 [==============================] - 12s 413ms/step - loss: 0.0776 - accuracy: 0.9858 - val_loss: 0.3215 - val_accuracy: 0.7883\n",
            "Epoch 10/20\n",
            "29/29 [==============================] - 12s 414ms/step - loss: 0.0548 - accuracy: 0.9924 - val_loss: 0.1703 - val_accuracy: 0.8240\n",
            "Epoch 11/20\n",
            "29/29 [==============================] - 12s 422ms/step - loss: 0.0354 - accuracy: 0.9967 - val_loss: 0.5096 - val_accuracy: 0.8240\n",
            "Epoch 12/20\n",
            "29/29 [==============================] - 12s 399ms/step - loss: 0.0252 - accuracy: 0.9989 - val_loss: 0.1494 - val_accuracy: 0.8265\n",
            "Epoch 13/20\n",
            "29/29 [==============================] - 12s 415ms/step - loss: 0.0236 - accuracy: 0.9989 - val_loss: 0.1148 - val_accuracy: 0.8367\n",
            "Epoch 14/20\n",
            "29/29 [==============================] - 12s 408ms/step - loss: 0.0199 - accuracy: 0.9989 - val_loss: 0.6926 - val_accuracy: 0.8214\n",
            "Epoch 15/20\n",
            "29/29 [==============================] - 12s 405ms/step - loss: 0.0140 - accuracy: 1.0000 - val_loss: 0.3947 - val_accuracy: 0.8316\n",
            "Epoch 16/20\n",
            "29/29 [==============================] - 12s 404ms/step - loss: 0.0105 - accuracy: 1.0000 - val_loss: 1.7301 - val_accuracy: 0.8291\n",
            "Epoch 17/20\n",
            "29/29 [==============================] - 12s 409ms/step - loss: 0.0088 - accuracy: 1.0000 - val_loss: 0.0207 - val_accuracy: 0.8316\n",
            "Epoch 18/20\n",
            "29/29 [==============================] - 12s 407ms/step - loss: 0.0077 - accuracy: 1.0000 - val_loss: 0.1780 - val_accuracy: 0.8291\n",
            "Epoch 19/20\n",
            "29/29 [==============================] - 12s 408ms/step - loss: 0.0064 - accuracy: 1.0000 - val_loss: 0.5513 - val_accuracy: 0.8342\n",
            "Epoch 20/20\n",
            "29/29 [==============================] - 12s 407ms/step - loss: 0.0058 - accuracy: 1.0000 - val_loss: 1.1342 - val_accuracy: 0.8316\n"
          ],
          "name": "stdout"
        }
      ]
    },
    {
      "cell_type": "code",
      "metadata": {
        "id": "4CCSidlBQbvZ",
        "colab_type": "code",
        "colab": {}
      },
      "source": [
        "conv_base.trainable = True\n",
        "set_trainable = False\n",
        "for layer in conv_base.layers:\n",
        "  if layer.name == 'block5_conv1':\n",
        "    set_trainable = True\n",
        "  if set_trainable:\n",
        "    layer.trainable = True\n",
        "  else:\n",
        "    layer.trainable = False"
      ],
      "execution_count": null,
      "outputs": []
    },
    {
      "cell_type": "code",
      "metadata": {
        "id": "YV0jJl6aQcCQ",
        "colab_type": "code",
        "colab": {}
      },
      "source": [
        "model.compile(optimizer= optimizers.Adam(1e-5), loss = 'binary_crossentropy', metrics=['accuracy'])"
      ],
      "execution_count": null,
      "outputs": []
    },
    {
      "cell_type": "code",
      "metadata": {
        "id": "BJvXBti_QcIb",
        "colab_type": "code",
        "colab": {
          "base_uri": "https://localhost:8080/",
          "height": 935
        },
        "outputId": "952777cd-baeb-43c9-efad-040a13a6ae83"
      },
      "source": [
        "step = np.ceil(train_generator.samples/train_generator.batch_size)\n",
        "valid_step = np.ceil(valid_generator.samples/valid_generator.batch_size)\n",
        "early_stopping_cb = keras.callbacks.EarlyStopping(monitor = 'val_loss', patience = 10)\n",
        "\n",
        "history = model.fit(train_generator, steps_per_epoch=step, callbacks = [early_stopping_cb],epochs=30, validation_data= (valid_generator), validation_steps=valid_step)"
      ],
      "execution_count": null,
      "outputs": [
        {
          "output_type": "stream",
          "text": [
            "Epoch 1/50\n",
            "29/29 [==============================] - 13s 458ms/step - loss: 0.0066 - accuracy: 1.0000 - val_loss: 1.4985 - val_accuracy: 0.8393\n",
            "Epoch 2/50\n",
            "29/29 [==============================] - 12s 410ms/step - loss: 0.0023 - accuracy: 1.0000 - val_loss: 0.0755 - val_accuracy: 0.8495\n",
            "Epoch 3/50\n",
            "29/29 [==============================] - 12s 413ms/step - loss: 0.0018 - accuracy: 1.0000 - val_loss: 1.5997 - val_accuracy: 0.8163\n",
            "Epoch 4/50\n",
            "29/29 [==============================] - 12s 419ms/step - loss: 0.0012 - accuracy: 1.0000 - val_loss: 1.1387 - val_accuracy: 0.8444\n",
            "Epoch 5/50\n",
            "29/29 [==============================] - 12s 414ms/step - loss: 6.0793e-04 - accuracy: 1.0000 - val_loss: 0.0433 - val_accuracy: 0.8342\n",
            "Epoch 6/50\n",
            "29/29 [==============================] - 12s 409ms/step - loss: 4.2759e-04 - accuracy: 1.0000 - val_loss: 1.3511 - val_accuracy: 0.8342\n",
            "Epoch 7/50\n",
            "29/29 [==============================] - 12s 414ms/step - loss: 4.4108e-04 - accuracy: 1.0000 - val_loss: 0.0144 - val_accuracy: 0.8367\n",
            "Epoch 8/50\n",
            "29/29 [==============================] - 12s 408ms/step - loss: 3.1102e-04 - accuracy: 1.0000 - val_loss: 2.9794 - val_accuracy: 0.8367\n",
            "Epoch 9/50\n",
            "29/29 [==============================] - 12s 410ms/step - loss: 2.4720e-04 - accuracy: 1.0000 - val_loss: 1.2426 - val_accuracy: 0.8444\n",
            "Epoch 10/50\n",
            "29/29 [==============================] - 12s 418ms/step - loss: 1.7555e-04 - accuracy: 1.0000 - val_loss: 2.3576 - val_accuracy: 0.8418\n",
            "Epoch 11/50\n",
            "29/29 [==============================] - 12s 413ms/step - loss: 1.6233e-04 - accuracy: 1.0000 - val_loss: 1.4953 - val_accuracy: 0.8393\n",
            "Epoch 12/50\n",
            "29/29 [==============================] - 12s 412ms/step - loss: 1.4143e-04 - accuracy: 1.0000 - val_loss: 0.1904 - val_accuracy: 0.8418\n",
            "Epoch 13/50\n",
            "29/29 [==============================] - 12s 406ms/step - loss: 1.3219e-04 - accuracy: 1.0000 - val_loss: 0.1788 - val_accuracy: 0.8418\n",
            "Epoch 14/50\n",
            "29/29 [==============================] - 12s 409ms/step - loss: 1.1132e-04 - accuracy: 1.0000 - val_loss: 0.0234 - val_accuracy: 0.8418\n",
            "Epoch 15/50\n",
            "29/29 [==============================] - 12s 415ms/step - loss: 1.0188e-04 - accuracy: 1.0000 - val_loss: 0.2060 - val_accuracy: 0.8418\n",
            "Epoch 16/50\n",
            "29/29 [==============================] - 12s 413ms/step - loss: 9.2220e-05 - accuracy: 1.0000 - val_loss: 0.3790 - val_accuracy: 0.8418\n",
            "Epoch 17/50\n",
            "29/29 [==============================] - 12s 417ms/step - loss: 7.9400e-05 - accuracy: 1.0000 - val_loss: 0.0112 - val_accuracy: 0.8418\n",
            "Epoch 18/50\n",
            "29/29 [==============================] - 12s 411ms/step - loss: 8.2994e-05 - accuracy: 1.0000 - val_loss: 2.6522 - val_accuracy: 0.8393\n",
            "Epoch 19/50\n",
            "29/29 [==============================] - 12s 411ms/step - loss: 6.9147e-05 - accuracy: 1.0000 - val_loss: 0.0391 - val_accuracy: 0.8418\n",
            "Epoch 20/50\n",
            "29/29 [==============================] - 12s 404ms/step - loss: 6.5408e-05 - accuracy: 1.0000 - val_loss: 0.0129 - val_accuracy: 0.8418\n",
            "Epoch 21/50\n",
            "29/29 [==============================] - 12s 416ms/step - loss: 5.6586e-05 - accuracy: 1.0000 - val_loss: 0.1585 - val_accuracy: 0.8418\n",
            "Epoch 22/50\n",
            "29/29 [==============================] - 12s 413ms/step - loss: 5.4665e-05 - accuracy: 1.0000 - val_loss: 0.2956 - val_accuracy: 0.8418\n",
            "Epoch 23/50\n",
            "29/29 [==============================] - 12s 410ms/step - loss: 5.3565e-05 - accuracy: 1.0000 - val_loss: 2.4061 - val_accuracy: 0.8444\n",
            "Epoch 24/50\n",
            "29/29 [==============================] - 12s 417ms/step - loss: 4.5063e-05 - accuracy: 1.0000 - val_loss: 1.0478 - val_accuracy: 0.8444\n",
            "Epoch 25/50\n",
            "29/29 [==============================] - 12s 411ms/step - loss: 4.4990e-05 - accuracy: 1.0000 - val_loss: 0.1717 - val_accuracy: 0.8418\n",
            "Epoch 26/50\n",
            "29/29 [==============================] - 12s 409ms/step - loss: 4.2820e-05 - accuracy: 1.0000 - val_loss: 1.1643 - val_accuracy: 0.8444\n",
            "Epoch 27/50\n",
            "29/29 [==============================] - 12s 419ms/step - loss: 4.0332e-05 - accuracy: 1.0000 - val_loss: 0.3379 - val_accuracy: 0.8418\n"
          ],
          "name": "stdout"
        }
      ]
    },
    {
      "cell_type": "code",
      "metadata": {
        "id": "ZG_04SqUaui9",
        "colab_type": "code",
        "colab": {}
      },
      "source": [
        "conv_base.trainable = True\n",
        "set_trainable = False\n",
        "for layer in conv_base.layers:\n",
        "  if layer.name == 'block4_conv1':\n",
        "    set_trainable = True\n",
        "  if set_trainable:\n",
        "    layer.trainable = True\n",
        "  else:\n",
        "    layer.trainable = False"
      ],
      "execution_count": null,
      "outputs": []
    },
    {
      "cell_type": "code",
      "metadata": {
        "id": "4y1dYNNvauu1",
        "colab_type": "code",
        "colab": {}
      },
      "source": [
        "model.compile(optimizer= optimizers.Adam(1e-5), loss = 'binary_crossentropy', metrics=['accuracy'])"
      ],
      "execution_count": null,
      "outputs": []
    },
    {
      "cell_type": "code",
      "metadata": {
        "id": "LWPVdW3Lau27",
        "colab_type": "code",
        "colab": {
          "base_uri": "https://localhost:8080/",
          "height": 833
        },
        "outputId": "c65253b0-7b70-481b-d383-33f9c1ff6d05"
      },
      "source": [
        "history = model.fit(train_generator, steps_per_epoch=step, callbacks = [early_stopping_cb],epochs=30, validation_data= (valid_generator), validation_steps=valid_step)"
      ],
      "execution_count": null,
      "outputs": [
        {
          "output_type": "stream",
          "text": [
            "Epoch 1/30\n",
            "29/29 [==============================] - 14s 469ms/step - loss: 4.9407e-04 - accuracy: 1.0000 - val_loss: 0.7515 - val_accuracy: 0.8393\n",
            "Epoch 2/30\n",
            "29/29 [==============================] - 13s 432ms/step - loss: 1.3802e-04 - accuracy: 1.0000 - val_loss: 0.1466 - val_accuracy: 0.8546\n",
            "Epoch 3/30\n",
            "29/29 [==============================] - 13s 431ms/step - loss: 1.2109e-04 - accuracy: 1.0000 - val_loss: 0.1539 - val_accuracy: 0.8189\n",
            "Epoch 4/30\n",
            "29/29 [==============================] - 12s 425ms/step - loss: 1.2570e-04 - accuracy: 1.0000 - val_loss: 0.2594 - val_accuracy: 0.8571\n",
            "Epoch 5/30\n",
            "29/29 [==============================] - 12s 424ms/step - loss: 0.0046 - accuracy: 0.9989 - val_loss: 0.7996 - val_accuracy: 0.8418\n",
            "Epoch 6/30\n",
            "29/29 [==============================] - 12s 430ms/step - loss: 0.0657 - accuracy: 0.9760 - val_loss: 1.3755 - val_accuracy: 0.8316\n",
            "Epoch 7/30\n",
            "29/29 [==============================] - 12s 429ms/step - loss: 0.0232 - accuracy: 0.9913 - val_loss: 0.0079 - val_accuracy: 0.8520\n",
            "Epoch 8/30\n",
            "29/29 [==============================] - 12s 426ms/step - loss: 0.0040 - accuracy: 0.9989 - val_loss: 0.7321 - val_accuracy: 0.8495\n",
            "Epoch 9/30\n",
            "29/29 [==============================] - 12s 428ms/step - loss: 7.8936e-04 - accuracy: 1.0000 - val_loss: 0.0239 - val_accuracy: 0.8597\n",
            "Epoch 10/30\n",
            "29/29 [==============================] - 12s 423ms/step - loss: 3.9591e-04 - accuracy: 1.0000 - val_loss: 0.8882 - val_accuracy: 0.8597\n",
            "Epoch 11/30\n",
            "29/29 [==============================] - 13s 436ms/step - loss: 2.4357e-04 - accuracy: 1.0000 - val_loss: 2.7163 - val_accuracy: 0.8571\n",
            "Epoch 12/30\n",
            "29/29 [==============================] - 13s 432ms/step - loss: 1.8550e-04 - accuracy: 1.0000 - val_loss: 2.3418 - val_accuracy: 0.8571\n",
            "Epoch 13/30\n",
            "29/29 [==============================] - 13s 431ms/step - loss: 1.6445e-04 - accuracy: 1.0000 - val_loss: 0.2496 - val_accuracy: 0.8597\n",
            "Epoch 14/30\n",
            "29/29 [==============================] - 12s 430ms/step - loss: 1.5324e-04 - accuracy: 1.0000 - val_loss: 1.4642e-04 - val_accuracy: 0.8597\n",
            "Epoch 15/30\n",
            "29/29 [==============================] - 13s 434ms/step - loss: 1.3509e-04 - accuracy: 1.0000 - val_loss: 1.0583 - val_accuracy: 0.8597\n",
            "Epoch 16/30\n",
            "29/29 [==============================] - 12s 425ms/step - loss: 1.0607e-04 - accuracy: 1.0000 - val_loss: 1.4833 - val_accuracy: 0.8622\n",
            "Epoch 17/30\n",
            "29/29 [==============================] - 12s 429ms/step - loss: 1.1367e-04 - accuracy: 1.0000 - val_loss: 0.2832 - val_accuracy: 0.8597\n",
            "Epoch 18/30\n",
            "29/29 [==============================] - 12s 423ms/step - loss: 1.0653e-04 - accuracy: 1.0000 - val_loss: 0.5753 - val_accuracy: 0.8597\n",
            "Epoch 19/30\n",
            "29/29 [==============================] - 13s 435ms/step - loss: 9.6398e-05 - accuracy: 1.0000 - val_loss: 0.0185 - val_accuracy: 0.8622\n",
            "Epoch 20/30\n",
            "29/29 [==============================] - 12s 427ms/step - loss: 8.6660e-05 - accuracy: 1.0000 - val_loss: 0.1852 - val_accuracy: 0.8648\n",
            "Epoch 21/30\n",
            "29/29 [==============================] - 13s 435ms/step - loss: 8.0116e-05 - accuracy: 1.0000 - val_loss: 0.3974 - val_accuracy: 0.8648\n",
            "Epoch 22/30\n",
            "29/29 [==============================] - 13s 433ms/step - loss: 8.4476e-05 - accuracy: 1.0000 - val_loss: 1.0215 - val_accuracy: 0.8648\n",
            "Epoch 23/30\n",
            "29/29 [==============================] - 13s 431ms/step - loss: 6.9882e-05 - accuracy: 1.0000 - val_loss: 0.8809 - val_accuracy: 0.8648\n",
            "Epoch 24/30\n",
            "29/29 [==============================] - 12s 429ms/step - loss: 7.2341e-05 - accuracy: 1.0000 - val_loss: 0.2754 - val_accuracy: 0.8648\n"
          ],
          "name": "stdout"
        }
      ]
    },
    {
      "cell_type": "code",
      "metadata": {
        "id": "zQ9KC3sRaufV",
        "colab_type": "code",
        "colab": {}
      },
      "source": [
        "for layer in conv_base.layers:\n",
        " layer.trainable = True"
      ],
      "execution_count": null,
      "outputs": []
    },
    {
      "cell_type": "code",
      "metadata": {
        "id": "yE0wVxkKccoE",
        "colab_type": "code",
        "colab": {}
      },
      "source": [
        "model.compile(optimizer= optimizers.Adam(1e-5), loss = 'binary_crossentropy', metrics=['accuracy'])"
      ],
      "execution_count": null,
      "outputs": []
    },
    {
      "cell_type": "code",
      "metadata": {
        "id": "cdYZIlticeUl",
        "colab_type": "code",
        "colab": {
          "base_uri": "https://localhost:8080/",
          "height": 799
        },
        "outputId": "88f62b93-6a55-4b67-ddef-73ba84c25d9f"
      },
      "source": [
        "history = model.fit(train_generator, steps_per_epoch=step, callbacks = [early_stopping_cb],epochs=30, validation_data= (valid_generator), validation_steps=valid_step)"
      ],
      "execution_count": null,
      "outputs": [
        {
          "output_type": "stream",
          "text": [
            "Epoch 1/30\n",
            "29/29 [==============================] - 16s 551ms/step - loss: 0.0048 - accuracy: 0.9978 - val_loss: 0.4327 - val_accuracy: 0.8597\n",
            "Epoch 2/30\n",
            "29/29 [==============================] - 14s 470ms/step - loss: 0.0017 - accuracy: 1.0000 - val_loss: 0.0029 - val_accuracy: 0.8673\n",
            "Epoch 3/30\n",
            "29/29 [==============================] - 14s 469ms/step - loss: 4.4871e-04 - accuracy: 1.0000 - val_loss: 0.3026 - val_accuracy: 0.8699\n",
            "Epoch 4/30\n",
            "29/29 [==============================] - 13s 465ms/step - loss: 1.2362e-04 - accuracy: 1.0000 - val_loss: 0.3443 - val_accuracy: 0.8776\n",
            "Epoch 5/30\n",
            "29/29 [==============================] - 14s 474ms/step - loss: 7.0748e-05 - accuracy: 1.0000 - val_loss: 0.8119 - val_accuracy: 0.8724\n",
            "Epoch 6/30\n",
            "29/29 [==============================] - 13s 465ms/step - loss: 3.2100e-05 - accuracy: 1.0000 - val_loss: 0.9382 - val_accuracy: 0.8724\n",
            "Epoch 7/30\n",
            "29/29 [==============================] - 14s 469ms/step - loss: 2.8222e-05 - accuracy: 1.0000 - val_loss: 0.0140 - val_accuracy: 0.8724\n",
            "Epoch 8/30\n",
            "29/29 [==============================] - 14s 467ms/step - loss: 2.1071e-05 - accuracy: 1.0000 - val_loss: 1.1617 - val_accuracy: 0.8699\n",
            "Epoch 9/30\n",
            "29/29 [==============================] - 14s 468ms/step - loss: 1.9099e-05 - accuracy: 1.0000 - val_loss: 0.3734 - val_accuracy: 0.8699\n",
            "Epoch 10/30\n",
            "29/29 [==============================] - 14s 471ms/step - loss: 1.9550e-05 - accuracy: 1.0000 - val_loss: 0.4819 - val_accuracy: 0.8699\n",
            "Epoch 11/30\n",
            "29/29 [==============================] - 14s 466ms/step - loss: 1.4100e-05 - accuracy: 1.0000 - val_loss: 0.0026 - val_accuracy: 0.8699\n",
            "Epoch 12/30\n",
            "29/29 [==============================] - 13s 464ms/step - loss: 1.3687e-05 - accuracy: 1.0000 - val_loss: 0.2362 - val_accuracy: 0.8699\n",
            "Epoch 13/30\n",
            "29/29 [==============================] - 14s 468ms/step - loss: 1.3552e-05 - accuracy: 1.0000 - val_loss: 2.7462e-04 - val_accuracy: 0.8673\n",
            "Epoch 14/30\n",
            "29/29 [==============================] - 14s 466ms/step - loss: 1.3189e-05 - accuracy: 1.0000 - val_loss: 0.0155 - val_accuracy: 0.8673\n",
            "Epoch 15/30\n",
            "29/29 [==============================] - 13s 463ms/step - loss: 1.1877e-05 - accuracy: 1.0000 - val_loss: 0.2498 - val_accuracy: 0.8673\n",
            "Epoch 16/30\n",
            "29/29 [==============================] - 13s 462ms/step - loss: 1.0184e-05 - accuracy: 1.0000 - val_loss: 0.5211 - val_accuracy: 0.8673\n",
            "Epoch 17/30\n",
            "29/29 [==============================] - 13s 463ms/step - loss: 1.0015e-05 - accuracy: 1.0000 - val_loss: 1.6750 - val_accuracy: 0.8699\n",
            "Epoch 18/30\n",
            "29/29 [==============================] - 14s 470ms/step - loss: 9.6768e-06 - accuracy: 1.0000 - val_loss: 0.7558 - val_accuracy: 0.8699\n",
            "Epoch 19/30\n",
            "29/29 [==============================] - 13s 459ms/step - loss: 8.5199e-06 - accuracy: 1.0000 - val_loss: 0.0281 - val_accuracy: 0.8699\n",
            "Epoch 20/30\n",
            "29/29 [==============================] - 13s 462ms/step - loss: 8.8550e-06 - accuracy: 1.0000 - val_loss: 1.1886 - val_accuracy: 0.8699\n",
            "Epoch 21/30\n",
            "29/29 [==============================] - 13s 456ms/step - loss: 8.3552e-06 - accuracy: 1.0000 - val_loss: 2.6563 - val_accuracy: 0.8699\n",
            "Epoch 22/30\n",
            "29/29 [==============================] - 13s 454ms/step - loss: 7.9754e-06 - accuracy: 1.0000 - val_loss: 2.4041 - val_accuracy: 0.8699\n",
            "Epoch 23/30\n",
            "29/29 [==============================] - 14s 470ms/step - loss: 6.8992e-06 - accuracy: 1.0000 - val_loss: 0.0018 - val_accuracy: 0.8699\n"
          ],
          "name": "stdout"
        }
      ]
    },
    {
      "cell_type": "code",
      "metadata": {
        "id": "2OMDGicxQcGj",
        "colab_type": "code",
        "colab": {}
      },
      "source": [
        "test_steps = np.ceil(test_generator.samples/test_generator.batch_size)\n",
        "pred = model.predict_generator(test_generator, steps = test_steps)"
      ],
      "execution_count": null,
      "outputs": []
    },
    {
      "cell_type": "code",
      "metadata": {
        "id": "yNzP3mgNQcAe",
        "colab_type": "code",
        "colab": {}
      },
      "source": [
        "sample = pd.read_csv('/content/gdrive/My Drive/Zindi/sample_sub_v2.csv')\n",
        "sample['target'] = pred.max(1)"
      ],
      "execution_count": null,
      "outputs": []
    },
    {
      "cell_type": "code",
      "metadata": {
        "id": "-cq3PVmEQbtO",
        "colab_type": "code",
        "colab": {}
      },
      "source": [
        "sample.to_csv('/content/gdrive/My Drive/Zindi/mask_test3.1.csv', header=True, index=False)"
      ],
      "execution_count": null,
      "outputs": []
    },
    {
      "cell_type": "code",
      "metadata": {
        "id": "J83bwvCcQbmg",
        "colab_type": "code",
        "colab": {}
      },
      "source": [
        ""
      ],
      "execution_count": null,
      "outputs": []
    }
  ]
}