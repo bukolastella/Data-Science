{
  "nbformat": 4,
  "nbformat_minor": 0,
  "metadata": {
    "colab": {
      "name": "Flower.ipynb",
      "provenance": [],
      "authorship_tag": "ABX9TyMVR9JsvFSwLyS/1r2tf98X",
      "include_colab_link": true
    },
    "kernelspec": {
      "name": "python3",
      "display_name": "Python 3"
    },
    "accelerator": "GPU"
  },
  "cells": [
    {
      "cell_type": "markdown",
      "metadata": {
        "id": "view-in-github",
        "colab_type": "text"
      },
      "source": [
        "<a href=\"https://colab.research.google.com/github/bukolastella/Data-Science/blob/master/Deep%20Learning/from%20directory/Flower.ipynb\" target=\"_parent\"><img src=\"https://colab.research.google.com/assets/colab-badge.svg\" alt=\"Open In Colab\"/></a>"
      ]
    },
    {
      "cell_type": "code",
      "metadata": {
        "id": "iXaYkg3BOlAu",
        "colab_type": "code",
        "colab": {
          "base_uri": "https://localhost:8080/",
          "height": 122
        },
        "outputId": "64f9fb01-8b28-4a86-affd-3abf59c02961"
      },
      "source": [
        "from google.colab import drive\n",
        "drive.mount('/content/gdrive')"
      ],
      "execution_count": null,
      "outputs": [
        {
          "output_type": "stream",
          "text": [
            "Go to this URL in a browser: https://accounts.google.com/o/oauth2/auth?client_id=947318989803-6bn6qk8qdgf4n4g3pfee6491hc0brc4i.apps.googleusercontent.com&redirect_uri=urn%3aietf%3awg%3aoauth%3a2.0%3aoob&response_type=code&scope=email%20https%3a%2f%2fwww.googleapis.com%2fauth%2fdocs.test%20https%3a%2f%2fwww.googleapis.com%2fauth%2fdrive%20https%3a%2f%2fwww.googleapis.com%2fauth%2fdrive.photos.readonly%20https%3a%2f%2fwww.googleapis.com%2fauth%2fpeopleapi.readonly\n",
            "\n",
            "Enter your authorization code:\n",
            "··········\n",
            "Mounted at /content/gdrive\n"
          ],
          "name": "stdout"
        }
      ]
    },
    {
      "cell_type": "code",
      "metadata": {
        "id": "g81PXk53Om6x",
        "colab_type": "code",
        "colab": {
          "base_uri": "https://localhost:8080/",
          "height": 34
        },
        "outputId": "6d060ad5-43f2-407d-9e02-ab783281157a"
      },
      "source": [
        "pwd"
      ],
      "execution_count": null,
      "outputs": [
        {
          "output_type": "execute_result",
          "data": {
            "text/plain": [
              "'/content'"
            ]
          },
          "metadata": {
            "tags": []
          },
          "execution_count": 3
        }
      ]
    },
    {
      "cell_type": "code",
      "metadata": {
        "id": "2tJyJxO3Qf_j",
        "colab_type": "code",
        "colab": {}
      },
      "source": [
        "import os\n",
        "os.environ['KAGGLE_CONFIG_DIR'] = \"/content/gdrive/My Drive/kaggle\""
      ],
      "execution_count": null,
      "outputs": []
    },
    {
      "cell_type": "code",
      "metadata": {
        "id": "M_k63r12RO-O",
        "colab_type": "code",
        "colab": {
          "base_uri": "https://localhost:8080/",
          "height": 34
        },
        "outputId": "f582246e-6350-4fa0-ab85-d2cedf24ee38"
      },
      "source": [
        "%cd /content/gdrive/My Drive/kaggle"
      ],
      "execution_count": null,
      "outputs": [
        {
          "output_type": "stream",
          "text": [
            "/content/gdrive/My Drive/kaggle\n"
          ],
          "name": "stdout"
        }
      ]
    },
    {
      "cell_type": "code",
      "metadata": {
        "id": "zgO6wVtYQh_t",
        "colab_type": "code",
        "colab": {
          "base_uri": "https://localhost:8080/",
          "height": 34
        },
        "outputId": "4cf23286-1ac2-4b4b-c9ca-3eb64baaf1e7"
      },
      "source": [
        "pwd"
      ],
      "execution_count": null,
      "outputs": [
        {
          "output_type": "execute_result",
          "data": {
            "text/plain": [
              "'/content/gdrive/My Drive/kaggle'"
            ]
          },
          "metadata": {
            "tags": []
          },
          "execution_count": 6
        }
      ]
    },
    {
      "cell_type": "code",
      "metadata": {
        "id": "InTNqgbfSX-S",
        "colab_type": "code",
        "colab": {
          "base_uri": "https://localhost:8080/",
          "height": 34
        },
        "outputId": "c74171fa-12d8-4f52-ba51-272c0731b46c"
      },
      "source": [
        "!ls flowers"
      ],
      "execution_count": null,
      "outputs": [
        {
          "output_type": "stream",
          "text": [
            "daisy  dandelion  rose\tsunflower  tulip\n"
          ],
          "name": "stdout"
        }
      ]
    },
    {
      "cell_type": "code",
      "metadata": {
        "id": "6AqOTpjPUAIx",
        "colab_type": "code",
        "colab": {
          "base_uri": "https://localhost:8080/",
          "height": 34
        },
        "outputId": "a4679323-f450-4fc1-d9e2-7efd0503d6ca"
      },
      "source": [
        "import tensorflow as tf\n",
        "from tensorflow import keras\n",
        "from tensorflow.keras import layers\n",
        "tf.__version__"
      ],
      "execution_count": null,
      "outputs": [
        {
          "output_type": "execute_result",
          "data": {
            "text/plain": [
              "'2.2.0'"
            ]
          },
          "metadata": {
            "tags": []
          },
          "execution_count": 8
        }
      ]
    },
    {
      "cell_type": "code",
      "metadata": {
        "id": "5YGclXCy-OKN",
        "colab_type": "code",
        "colab": {
          "base_uri": "https://localhost:8080/",
          "height": 34
        },
        "outputId": "bc9578fd-4c94-4d99-ca8e-389f3bcac471"
      },
      "source": [
        "pwd"
      ],
      "execution_count": null,
      "outputs": [
        {
          "output_type": "execute_result",
          "data": {
            "text/plain": [
              "'/content/gdrive/My Drive/kaggle'"
            ]
          },
          "metadata": {
            "tags": []
          },
          "execution_count": 9
        }
      ]
    },
    {
      "cell_type": "code",
      "metadata": {
        "id": "HdOn2hgYGmiC",
        "colab_type": "code",
        "colab": {}
      },
      "source": [
        "import numpy as np\n",
        "import matplotlib.pyplot as plt\n",
        "import os\n",
        "import cv2\n",
        "\n",
        "DATADIR = '/content/gdrive/My Drive/kaggle/flowers'\n",
        "CATEGORIES = ['daisy', 'dandelion', 'rose','sunflower','tulip']"
      ],
      "execution_count": null,
      "outputs": []
    },
    {
      "cell_type": "code",
      "metadata": {
        "id": "zf8fCmPbPSDA",
        "colab_type": "code",
        "colab": {
          "base_uri": "https://localhost:8080/",
          "height": 34
        },
        "outputId": "523ca1fc-48dd-4a24-a158-831ad81e7351"
      },
      "source": [
        "img_shape = (150,150)\n",
        "\n",
        "train_dir = str(DATADIR)\n",
        "print(train_dir)"
      ],
      "execution_count": null,
      "outputs": [
        {
          "output_type": "stream",
          "text": [
            "/content/gdrive/My Drive/kaggle/flowers\n"
          ],
          "name": "stdout"
        }
      ]
    },
    {
      "cell_type": "code",
      "metadata": {
        "id": "eSEl4JYJS6u2",
        "colab_type": "code",
        "colab": {
          "base_uri": "https://localhost:8080/",
          "height": 34
        },
        "outputId": "f85b470e-da6c-4bd7-9a64-691a53965b4a"
      },
      "source": [
        "datagen = dict(rescale= 1./255, validation_split=0.3)\n",
        "\n",
        "valid_datagen = tf.keras.preprocessing.image.ImageDataGenerator(**datagen)\n",
        "\n",
        "valid_generator = valid_datagen.flow_from_directory(\n",
        "    train_dir,\n",
        "    subset='validation',\n",
        "    shuffle = True,\n",
        "    target_size = img_shape\n",
        ")"
      ],
      "execution_count": null,
      "outputs": [
        {
          "output_type": "stream",
          "text": [
            "Found 1295 images belonging to 5 classes.\n"
          ],
          "name": "stdout"
        }
      ]
    },
    {
      "cell_type": "code",
      "metadata": {
        "id": "KxVIyMt3Vz_K",
        "colab_type": "code",
        "colab": {
          "base_uri": "https://localhost:8080/",
          "height": 34
        },
        "outputId": "f4ffd8bf-b4f9-4260-ff0e-35cbf0022fb3"
      },
      "source": [
        "train_datagen = tf.keras.preprocessing.image.ImageDataGenerator(**datagen)\n",
        "\n",
        "train_generator = train_datagen.flow_from_directory(\n",
        "    train_dir,\n",
        "    subset='training',\n",
        "    shuffle = True,\n",
        "    target_size = img_shape\n",
        ")"
      ],
      "execution_count": null,
      "outputs": [
        {
          "output_type": "stream",
          "text": [
            "Found 3028 images belonging to 5 classes.\n"
          ],
          "name": "stdout"
        }
      ]
    },
    {
      "cell_type": "code",
      "metadata": {
        "id": "6rY_WtggU-b7",
        "colab_type": "code",
        "colab": {
          "base_uri": "https://localhost:8080/",
          "height": 34
        },
        "outputId": "dea70f2a-86b1-4e04-cff4-ce1628d589da"
      },
      "source": [
        "train_images, train_labels = next(iter(train_generator))\n",
        "train_images.shape"
      ],
      "execution_count": null,
      "outputs": [
        {
          "output_type": "execute_result",
          "data": {
            "text/plain": [
              "(32, 150, 150, 3)"
            ]
          },
          "metadata": {
            "tags": []
          },
          "execution_count": 14
        }
      ]
    },
    {
      "cell_type": "code",
      "metadata": {
        "id": "otUpQVwsVGwg",
        "colab_type": "code",
        "colab": {
          "base_uri": "https://localhost:8080/",
          "height": 34
        },
        "outputId": "aa8307df-29ad-470b-c60a-1ca947de5fb8"
      },
      "source": [
        "train_labels.shape"
      ],
      "execution_count": null,
      "outputs": [
        {
          "output_type": "execute_result",
          "data": {
            "text/plain": [
              "(32, 5)"
            ]
          },
          "metadata": {
            "tags": []
          },
          "execution_count": 15
        }
      ]
    },
    {
      "cell_type": "code",
      "metadata": {
        "id": "DyZ0freKUx-S",
        "colab_type": "code",
        "colab": {
          "base_uri": "https://localhost:8080/",
          "height": 34
        },
        "outputId": "f36d3a0d-d539-4905-b201-0e29c1c28312"
      },
      "source": [
        "dataset_labels = sorted(train_generator.class_indices.items(), key = lambda pair:pair[1])\n",
        "\n",
        "dataset_labels = np.array([key.title() for key, value in dataset_labels])\n",
        "print(dataset_labels)"
      ],
      "execution_count": null,
      "outputs": [
        {
          "output_type": "stream",
          "text": [
            "['Daisy' 'Dandelion' 'Rose' 'Sunflower' 'Tulip']\n"
          ],
          "name": "stdout"
        }
      ]
    },
    {
      "cell_type": "code",
      "metadata": {
        "id": "5icSxP3SWJ8x",
        "colab_type": "code",
        "colab": {}
      },
      "source": [
        "from tensorflow.keras import Sequential \n",
        "from tensorflow.keras.layers import Conv2D, MaxPooling2D, Dense, Flatten, BatchNormalization, Dropout\n",
        "from tensorflow.keras import layers\n",
        "from tensorflow.keras import optimizers\n",
        "\n",
        "model = Sequential([\n",
        "                    Conv2D(32, 3, padding='same', kernel_regularizer= tf.keras.regularizers.l2(0.01),  activation='relu',kernel_initializer='he_uniform', input_shape = [150, 150, 3]),\n",
        "                    MaxPooling2D(2),\n",
        "                    Conv2D(32, 3, padding='same',kernel_regularizer= tf.keras.regularizers.l2(0.01), kernel_initializer='he_uniform', activation='relu'),\n",
        "                    MaxPooling2D(2),\n",
        "                    Conv2D(64, 3, padding='same', kernel_regularizer= tf.keras.regularizers.l2(0.01),kernel_initializer='he_uniform',activation='relu'),\n",
        "                    MaxPooling2D(2),\n",
        "                    Conv2D(64, 3, padding='same',kernel_regularizer= tf.keras.regularizers.l2(0.01), kernel_initializer='he_uniform',activation='relu'),\n",
        "                    MaxPooling2D(2),\n",
        "                    Flatten(),\n",
        "                    Dense(128,kernel_regularizer= tf.keras.regularizers.l2(0.01), kernel_initializer='he_uniform',activation = 'relu'),\n",
        "                    Dense(5, activation = 'softmax'),\n",
        "                    ])\n",
        " "
      ],
      "execution_count": null,
      "outputs": []
    },
    {
      "cell_type": "code",
      "metadata": {
        "id": "2liJ2XDUXPn6",
        "colab_type": "code",
        "colab": {
          "base_uri": "https://localhost:8080/",
          "height": 527
        },
        "outputId": "934cd23c-a9bd-4058-acf6-eb1327a29c5d"
      },
      "source": [
        "model.summary()"
      ],
      "execution_count": null,
      "outputs": [
        {
          "output_type": "stream",
          "text": [
            "Model: \"sequential\"\n",
            "_________________________________________________________________\n",
            "Layer (type)                 Output Shape              Param #   \n",
            "=================================================================\n",
            "conv2d (Conv2D)              (None, 150, 150, 32)      896       \n",
            "_________________________________________________________________\n",
            "max_pooling2d (MaxPooling2D) (None, 75, 75, 32)        0         \n",
            "_________________________________________________________________\n",
            "conv2d_1 (Conv2D)            (None, 75, 75, 32)        9248      \n",
            "_________________________________________________________________\n",
            "max_pooling2d_1 (MaxPooling2 (None, 37, 37, 32)        0         \n",
            "_________________________________________________________________\n",
            "conv2d_2 (Conv2D)            (None, 37, 37, 64)        18496     \n",
            "_________________________________________________________________\n",
            "max_pooling2d_2 (MaxPooling2 (None, 18, 18, 64)        0         \n",
            "_________________________________________________________________\n",
            "conv2d_3 (Conv2D)            (None, 18, 18, 64)        36928     \n",
            "_________________________________________________________________\n",
            "max_pooling2d_3 (MaxPooling2 (None, 9, 9, 64)          0         \n",
            "_________________________________________________________________\n",
            "flatten (Flatten)            (None, 5184)              0         \n",
            "_________________________________________________________________\n",
            "dense (Dense)                (None, 128)               663680    \n",
            "_________________________________________________________________\n",
            "dense_1 (Dense)              (None, 5)                 645       \n",
            "=================================================================\n",
            "Total params: 729,893\n",
            "Trainable params: 729,893\n",
            "Non-trainable params: 0\n",
            "_________________________________________________________________\n"
          ],
          "name": "stdout"
        }
      ]
    },
    {
      "cell_type": "code",
      "metadata": {
        "id": "dozLWuDnXRXI",
        "colab_type": "code",
        "colab": {}
      },
      "source": [
        "model.compile(optimizer = optimizers.Adam(1e-3), loss = 'categorical_crossentropy', metrics = ['accuracy'])"
      ],
      "execution_count": null,
      "outputs": []
    },
    {
      "cell_type": "code",
      "metadata": {
        "id": "RUOByrGVXW2Z",
        "colab_type": "code",
        "colab": {
          "base_uri": "https://localhost:8080/",
          "height": 697
        },
        "outputId": "c85c6662-99ce-4255-b594-78100301644f"
      },
      "source": [
        "steps = np.ceil(train_generator.samples/train_generator.batch_size)\n",
        "val_steps = np.ceil(valid_generator.samples/valid_generator.batch_size)\n",
        "\n",
        "history = model.fit(train_generator, epochs = 20, steps_per_epoch= steps, validation_steps= val_steps, validation_data= (valid_generator))"
      ],
      "execution_count": null,
      "outputs": [
        {
          "output_type": "stream",
          "text": [
            "Epoch 1/20\n",
            "95/95 [==============================] - 1392s 15s/step - loss: 5.4346 - accuracy: 0.3699 - val_loss: 3.9614 - val_accuracy: 0.5181\n",
            "Epoch 2/20\n",
            "95/95 [==============================] - 15s 160ms/step - loss: 3.3009 - accuracy: 0.5287 - val_loss: 2.9671 - val_accuracy: 0.5228\n",
            "Epoch 3/20\n",
            "95/95 [==============================] - 15s 160ms/step - loss: 2.5780 - accuracy: 0.5753 - val_loss: 2.3970 - val_accuracy: 0.5421\n",
            "Epoch 4/20\n",
            "95/95 [==============================] - 15s 161ms/step - loss: 2.1327 - accuracy: 0.6034 - val_loss: 2.1462 - val_accuracy: 0.5189\n",
            "Epoch 5/20\n",
            "95/95 [==============================] - 15s 162ms/step - loss: 1.8953 - accuracy: 0.6205 - val_loss: 1.8654 - val_accuracy: 0.5985\n",
            "Epoch 6/20\n",
            "95/95 [==============================] - 15s 161ms/step - loss: 1.7062 - accuracy: 0.6295 - val_loss: 1.7979 - val_accuracy: 0.5753\n",
            "Epoch 7/20\n",
            "95/95 [==============================] - 16s 164ms/step - loss: 1.5764 - accuracy: 0.6493 - val_loss: 1.6315 - val_accuracy: 0.6224\n",
            "Epoch 8/20\n",
            "95/95 [==============================] - 16s 170ms/step - loss: 1.4760 - accuracy: 0.6668 - val_loss: 1.5768 - val_accuracy: 0.6193\n",
            "Epoch 9/20\n",
            "95/95 [==============================] - 15s 160ms/step - loss: 1.4092 - accuracy: 0.6668 - val_loss: 1.6001 - val_accuracy: 0.5683\n",
            "Epoch 10/20\n",
            "95/95 [==============================] - 15s 162ms/step - loss: 1.3491 - accuracy: 0.6843 - val_loss: 1.4632 - val_accuracy: 0.6317\n",
            "Epoch 11/20\n",
            "95/95 [==============================] - 15s 161ms/step - loss: 1.2975 - accuracy: 0.6899 - val_loss: 1.4557 - val_accuracy: 0.6193\n",
            "Epoch 12/20\n",
            "95/95 [==============================] - 15s 160ms/step - loss: 1.2673 - accuracy: 0.6869 - val_loss: 1.4221 - val_accuracy: 0.6255\n",
            "Epoch 13/20\n",
            "95/95 [==============================] - 15s 161ms/step - loss: 1.2328 - accuracy: 0.6968 - val_loss: 1.3825 - val_accuracy: 0.6394\n",
            "Epoch 14/20\n",
            "95/95 [==============================] - 15s 160ms/step - loss: 1.1982 - accuracy: 0.7067 - val_loss: 1.3704 - val_accuracy: 0.6147\n",
            "Epoch 15/20\n",
            "95/95 [==============================] - 15s 161ms/step - loss: 1.1768 - accuracy: 0.7124 - val_loss: 1.3695 - val_accuracy: 0.6270\n",
            "Epoch 16/20\n",
            "95/95 [==============================] - 15s 162ms/step - loss: 1.1574 - accuracy: 0.7133 - val_loss: 1.3988 - val_accuracy: 0.6309\n",
            "Epoch 17/20\n",
            "95/95 [==============================] - 15s 160ms/step - loss: 1.1175 - accuracy: 0.7239 - val_loss: 1.3425 - val_accuracy: 0.6301\n",
            "Epoch 18/20\n",
            "95/95 [==============================] - 15s 161ms/step - loss: 1.1142 - accuracy: 0.7206 - val_loss: 1.3911 - val_accuracy: 0.6270\n",
            "Epoch 19/20\n",
            "95/95 [==============================] - 15s 159ms/step - loss: 1.0802 - accuracy: 0.7325 - val_loss: 1.3605 - val_accuracy: 0.6224\n",
            "Epoch 20/20\n",
            "95/95 [==============================] - 15s 162ms/step - loss: 1.0507 - accuracy: 0.7526 - val_loss: 1.3189 - val_accuracy: 0.6409\n"
          ],
          "name": "stdout"
        }
      ]
    },
    {
      "cell_type": "code",
      "metadata": {
        "id": "k1nGRq_WXeBI",
        "colab_type": "code",
        "colab": {
          "base_uri": "https://localhost:8080/",
          "height": 341
        },
        "outputId": "7f071a84-e5b0-41e2-842a-2afde5dc4a85"
      },
      "source": [
        "import pandas as pd\n",
        "import matplotlib.pyplot as plt\n",
        "pd.DataFrame(history.history).plot(figsize = (8,5))\n",
        "plt.grid(True)\n",
        "plt.gca().set_ylim(0,2)"
      ],
      "execution_count": null,
      "outputs": [
        {
          "output_type": "execute_result",
          "data": {
            "text/plain": [
              "(0.0, 2.0)"
            ]
          },
          "metadata": {
            "tags": []
          },
          "execution_count": 21
        },
        {
          "output_type": "display_data",
          "data": {
            "image/png": "[encoded data removed]",
            "text/plain": [
              "<Figure size 576x360 with 1 Axes>"
            ]
          },
          "metadata": {
            "tags": [],
            "needs_background": "light"
          }
        }
      ]
    },
    {
      "cell_type": "markdown",
      "metadata": {
        "id": "Y2Kx4iwzjewU",
        "colab_type": "text"
      },
      "source": [
        "**TRANSFER LEARNING**"
      ]
    },
    {
      "cell_type": "code",
      "metadata": {
        "id": "SZsLKkwmf2Hz",
        "colab_type": "code",
        "colab": {
          "base_uri": "https://localhost:8080/",
          "height": 51
        },
        "outputId": "7c9ea086-12bc-48af-8bb5-227781a1b5e4"
      },
      "source": [
        "base_model = keras.applications.xception.Xception(weights = 'imagenet', include_top = False, input_shape=(150,150,3))\n",
        "avg = keras.layers.GlobalAveragePooling2D()(base_model.output)\n",
        "output = Dense(5, activation='softmax')(avg)\n",
        "\n",
        "model = keras.Model(inputs = base_model.input, outputs = output)"
      ],
      "execution_count": null,
      "outputs": [
        {
          "output_type": "stream",
          "text": [
            "Downloading data from https://storage.googleapis.com/tensorflow/keras-applications/xception/xception_weights_tf_dim_ordering_tf_kernels_notop.h5\n",
            "83689472/83683744 [==============================] - 1s 0us/step\n"
          ],
          "name": "stdout"
        }
      ]
    },
    {
      "cell_type": "code",
      "metadata": {
        "id": "GFs4EPrLlF-8",
        "colab_type": "code",
        "colab": {}
      },
      "source": [
        "for layer  in base_model.layers:\n",
        "  layer.trainable = False"
      ],
      "execution_count": null,
      "outputs": []
    },
    {
      "cell_type": "code",
      "metadata": {
        "id": "Yv9OlwGola1t",
        "colab_type": "code",
        "colab": {}
      },
      "source": [
        "model.compile(optimizer = optimizers.Adam(1e-3), loss = 'categorical_crossentropy', metrics = ['accuracy'])"
      ],
      "execution_count": null,
      "outputs": []
    },
    {
      "cell_type": "code",
      "metadata": {
        "id": "llM8I_3ylfHS",
        "colab_type": "code",
        "colab": {
          "base_uri": "https://localhost:8080/",
          "height": 697
        },
        "outputId": "64394c10-c717-4588-fdf3-97babb54e775"
      },
      "source": [
        "steps = np.ceil(train_generator.samples/train_generator.batch_size)\n",
        "val_steps = np.ceil(valid_generator.samples/valid_generator.batch_size)\n",
        "\n",
        "history = model.fit(train_generator, epochs = 20, steps_per_epoch= steps, validation_steps= val_steps, validation_data= (valid_generator))"
      ],
      "execution_count": null,
      "outputs": [
        {
          "output_type": "stream",
          "text": [
            "Epoch 1/20\n",
            "95/95 [==============================] - 17s 177ms/step - loss: 0.7591 - accuracy: 0.7107 - val_loss: 0.6347 - val_accuracy: 0.7444\n",
            "Epoch 2/20\n",
            "95/95 [==============================] - 16s 169ms/step - loss: 0.4684 - accuracy: 0.8435 - val_loss: 0.5432 - val_accuracy: 0.7969\n",
            "Epoch 3/20\n",
            "95/95 [==============================] - 16s 168ms/step - loss: 0.3956 - accuracy: 0.8712 - val_loss: 0.5267 - val_accuracy: 0.7892\n",
            "Epoch 4/20\n",
            "95/95 [==============================] - 16s 167ms/step - loss: 0.3414 - accuracy: 0.8887 - val_loss: 0.5490 - val_accuracy: 0.7884\n",
            "Epoch 5/20\n",
            "95/95 [==============================] - 16s 169ms/step - loss: 0.3034 - accuracy: 0.9102 - val_loss: 0.5096 - val_accuracy: 0.8185\n",
            "Epoch 6/20\n",
            "95/95 [==============================] - 16s 171ms/step - loss: 0.2702 - accuracy: 0.9224 - val_loss: 0.4997 - val_accuracy: 0.8124\n",
            "Epoch 7/20\n",
            "95/95 [==============================] - 17s 175ms/step - loss: 0.2537 - accuracy: 0.9270 - val_loss: 0.4994 - val_accuracy: 0.8193\n",
            "Epoch 8/20\n",
            "95/95 [==============================] - 16s 169ms/step - loss: 0.2319 - accuracy: 0.9356 - val_loss: 0.5126 - val_accuracy: 0.8069\n",
            "Epoch 9/20\n",
            "95/95 [==============================] - 16s 168ms/step - loss: 0.2165 - accuracy: 0.9425 - val_loss: 0.5032 - val_accuracy: 0.8147\n",
            "Epoch 10/20\n",
            "95/95 [==============================] - 16s 169ms/step - loss: 0.1996 - accuracy: 0.9478 - val_loss: 0.5181 - val_accuracy: 0.8093\n",
            "Epoch 11/20\n",
            "95/95 [==============================] - 16s 169ms/step - loss: 0.1840 - accuracy: 0.9544 - val_loss: 0.5316 - val_accuracy: 0.8100\n",
            "Epoch 12/20\n",
            "95/95 [==============================] - 16s 168ms/step - loss: 0.1730 - accuracy: 0.9584 - val_loss: 0.5277 - val_accuracy: 0.8054\n",
            "Epoch 13/20\n",
            "95/95 [==============================] - 16s 168ms/step - loss: 0.1650 - accuracy: 0.9604 - val_loss: 0.5201 - val_accuracy: 0.8270\n",
            "Epoch 14/20\n",
            "95/95 [==============================] - 16s 168ms/step - loss: 0.1549 - accuracy: 0.9637 - val_loss: 0.5269 - val_accuracy: 0.8232\n",
            "Epoch 15/20\n",
            "95/95 [==============================] - 16s 168ms/step - loss: 0.1437 - accuracy: 0.9699 - val_loss: 0.5252 - val_accuracy: 0.8131\n",
            "Epoch 16/20\n",
            "95/95 [==============================] - 16s 170ms/step - loss: 0.1355 - accuracy: 0.9719 - val_loss: 0.5419 - val_accuracy: 0.8077\n",
            "Epoch 17/20\n",
            "95/95 [==============================] - 16s 168ms/step - loss: 0.1308 - accuracy: 0.9729 - val_loss: 0.5440 - val_accuracy: 0.8131\n",
            "Epoch 18/20\n",
            "95/95 [==============================] - 16s 168ms/step - loss: 0.1218 - accuracy: 0.9782 - val_loss: 0.5887 - val_accuracy: 0.8062\n",
            "Epoch 19/20\n",
            "95/95 [==============================] - 16s 168ms/step - loss: 0.1166 - accuracy: 0.9799 - val_loss: 0.5529 - val_accuracy: 0.8154\n",
            "Epoch 20/20\n",
            "95/95 [==============================] - 16s 168ms/step - loss: 0.1105 - accuracy: 0.9822 - val_loss: 0.5597 - val_accuracy: 0.8162\n"
          ],
          "name": "stdout"
        }
      ]
    },
    {
      "cell_type": "code",
      "metadata": {
        "id": "_MUW_JXxlmz0",
        "colab_type": "code",
        "colab": {}
      },
      "source": [
        "for layer in base_model.layers:\n",
        " layer.trainable = True"
      ],
      "execution_count": null,
      "outputs": []
    },
    {
      "cell_type": "code",
      "metadata": {
        "id": "FB-GeGRQnPUc",
        "colab_type": "code",
        "colab": {}
      },
      "source": [
        "model.compile(optimizer = optimizers.Adam(1e-5), loss = 'categorical_crossentropy', metrics = ['accuracy'])"
      ],
      "execution_count": null,
      "outputs": []
    },
    {
      "cell_type": "code",
      "metadata": {
        "id": "0jHBmznbnT4n",
        "colab_type": "code",
        "colab": {}
      },
      "source": [
        "early_stopping_cb  = keras.callbacks.EarlyStopping(monitor = 'val_loss', patience = 10)"
      ],
      "execution_count": null,
      "outputs": []
    },
    {
      "cell_type": "code",
      "metadata": {
        "id": "68U-u48rnWoP",
        "colab_type": "code",
        "colab": {
          "base_uri": "https://localhost:8080/",
          "height": 697
        },
        "outputId": "e43128ff-a90f-4cf1-ddbc-941bcc6188b1"
      },
      "source": [
        "steps = np.ceil(train_generator.samples/train_generator.batch_size)\n",
        "val_steps = np.ceil(valid_generator.samples/valid_generator.batch_size)\n",
        "\n",
        "history = model.fit(train_generator, epochs = 20, callbacks= early_stopping_cb,steps_per_epoch= steps, validation_steps= val_steps, validation_data= (valid_generator))"
      ],
      "execution_count": null,
      "outputs": [
        {
          "output_type": "stream",
          "text": [
            "Epoch 1/20\n",
            "95/95 [==============================] - 23s 239ms/step - loss: 0.6815 - accuracy: 0.7609 - val_loss: 0.5959 - val_accuracy: 0.7822\n",
            "Epoch 2/20\n",
            "95/95 [==============================] - 22s 233ms/step - loss: 0.4131 - accuracy: 0.8679 - val_loss: 0.6024 - val_accuracy: 0.7846\n",
            "Epoch 3/20\n",
            "95/95 [==============================] - 22s 232ms/step - loss: 0.3038 - accuracy: 0.9135 - val_loss: 0.6052 - val_accuracy: 0.8008\n",
            "Epoch 4/20\n",
            "95/95 [==============================] - 22s 233ms/step - loss: 0.2212 - accuracy: 0.9366 - val_loss: 0.5816 - val_accuracy: 0.8093\n",
            "Epoch 5/20\n",
            "95/95 [==============================] - 22s 232ms/step - loss: 0.1676 - accuracy: 0.9574 - val_loss: 0.6115 - val_accuracy: 0.8031\n",
            "Epoch 6/20\n",
            "95/95 [==============================] - 22s 232ms/step - loss: 0.1333 - accuracy: 0.9686 - val_loss: 0.5717 - val_accuracy: 0.8116\n",
            "Epoch 7/20\n",
            "95/95 [==============================] - 22s 232ms/step - loss: 0.1046 - accuracy: 0.9785 - val_loss: 0.5775 - val_accuracy: 0.8054\n",
            "Epoch 8/20\n",
            "95/95 [==============================] - 22s 233ms/step - loss: 0.0831 - accuracy: 0.9868 - val_loss: 0.5739 - val_accuracy: 0.8147\n",
            "Epoch 9/20\n",
            "95/95 [==============================] - 22s 232ms/step - loss: 0.0673 - accuracy: 0.9904 - val_loss: 0.5805 - val_accuracy: 0.8139\n",
            "Epoch 10/20\n",
            "95/95 [==============================] - 22s 232ms/step - loss: 0.0497 - accuracy: 0.9950 - val_loss: 0.5672 - val_accuracy: 0.8170\n",
            "Epoch 11/20\n",
            "95/95 [==============================] - 22s 233ms/step - loss: 0.0476 - accuracy: 0.9924 - val_loss: 0.5294 - val_accuracy: 0.8317\n",
            "Epoch 12/20\n",
            "95/95 [==============================] - 22s 232ms/step - loss: 0.0342 - accuracy: 0.9987 - val_loss: 0.5866 - val_accuracy: 0.8216\n",
            "Epoch 13/20\n",
            "95/95 [==============================] - 22s 232ms/step - loss: 0.0302 - accuracy: 0.9983 - val_loss: 0.5810 - val_accuracy: 0.8216\n",
            "Epoch 14/20\n",
            "95/95 [==============================] - 22s 233ms/step - loss: 0.0267 - accuracy: 0.9983 - val_loss: 0.5667 - val_accuracy: 0.8162\n",
            "Epoch 15/20\n",
            "95/95 [==============================] - 22s 232ms/step - loss: 0.0216 - accuracy: 0.9990 - val_loss: 0.5536 - val_accuracy: 0.8309\n",
            "Epoch 16/20\n",
            "95/95 [==============================] - 22s 232ms/step - loss: 0.0227 - accuracy: 0.9980 - val_loss: 0.6032 - val_accuracy: 0.8193\n",
            "Epoch 17/20\n",
            "95/95 [==============================] - 22s 234ms/step - loss: 0.0174 - accuracy: 0.9987 - val_loss: 0.5544 - val_accuracy: 0.8309\n",
            "Epoch 18/20\n",
            "95/95 [==============================] - 22s 235ms/step - loss: 0.0169 - accuracy: 0.9987 - val_loss: 0.5719 - val_accuracy: 0.8324\n",
            "Epoch 19/20\n",
            "95/95 [==============================] - 22s 232ms/step - loss: 0.0175 - accuracy: 0.9980 - val_loss: 0.5508 - val_accuracy: 0.8293\n",
            "Epoch 20/20\n",
            "95/95 [==============================] - 22s 233ms/step - loss: 0.0125 - accuracy: 0.9987 - val_loss: 0.6555 - val_accuracy: 0.8069\n"
          ],
          "name": "stdout"
        }
      ]
    },
    {
      "cell_type": "code",
      "metadata": {
        "id": "sz2trKk1nfOR",
        "colab_type": "code",
        "colab": {
          "base_uri": "https://localhost:8080/",
          "height": 68
        },
        "outputId": "381d2c3a-bd25-47b5-a4fa-efaf544dfe8e"
      },
      "source": [
        "from keras.applications import VGG16\n",
        "conv_base = VGG16(weights='imagenet',\n",
        "include_top=False,\n",
        "input_shape=(150, 150, 3))"
      ],
      "execution_count": null,
      "outputs": [
        {
          "output_type": "stream",
          "text": [
            "Downloading data from https://github.com/fchollet/deep-learning-models/releases/download/v0.1/vgg16_weights_tf_dim_ordering_tf_kernels_notop.h5\n"
          ],
          "name": "stdout"
        },
        {
          "output_type": "stream",
          "text": [
            "Using TensorFlow backend.\n"
          ],
          "name": "stderr"
        },
        {
          "output_type": "stream",
          "text": [
            "58892288/58889256 [==============================] - 2s 0us/step\n"
          ],
          "name": "stdout"
        }
      ]
    },
    {
      "cell_type": "code",
      "metadata": {
        "id": "8EKRSLGtqBXK",
        "colab_type": "code",
        "colab": {}
      },
      "source": [
        "from keras import models\n",
        "from keras import layers\n",
        "model = models.Sequential()\n",
        "model.add(conv_base)\n",
        "model.add(layers.Flatten())\n",
        "model.add(layers.Dense(256, activation='relu'))\n",
        "model.add(layers.Dense(5, activation='softmax'))"
      ],
      "execution_count": null,
      "outputs": []
    },
    {
      "cell_type": "code",
      "metadata": {
        "id": "cB3KrOThqMnQ",
        "colab_type": "code",
        "colab": {}
      },
      "source": [
        "conv_base.trainable = False"
      ],
      "execution_count": null,
      "outputs": []
    },
    {
      "cell_type": "code",
      "metadata": {
        "id": "APtZ3vOKqSAK",
        "colab_type": "code",
        "colab": {}
      },
      "source": [
        "model.compile(optimizer = optimizers.Adam(1e-5), loss = 'categorical_crossentropy', metrics = ['accuracy'])"
      ],
      "execution_count": null,
      "outputs": []
    },
    {
      "cell_type": "code",
      "metadata": {
        "id": "PoXgHRRuqaWs",
        "colab_type": "code",
        "colab": {
          "base_uri": "https://localhost:8080/",
          "height": 697
        },
        "outputId": "a70e2783-271a-478d-a556-f796c9fb4024"
      },
      "source": [
        "history = model.fit(train_generator, epochs = 20, steps_per_epoch= steps, validation_steps= val_steps, validation_data= (valid_generator))"
      ],
      "execution_count": null,
      "outputs": [
        {
          "output_type": "stream",
          "text": [
            "Epoch 1/20\n",
            "95/95 [==============================] - 17s 176ms/step - loss: 1.4724 - accuracy: 0.4085 - val_loss: 1.2111 - val_accuracy: 0.4927\n",
            "Epoch 2/20\n",
            "95/95 [==============================] - 15s 154ms/step - loss: 1.1483 - accuracy: 0.6087 - val_loss: 1.0538 - val_accuracy: 0.6015\n",
            "Epoch 3/20\n",
            "95/95 [==============================] - 15s 157ms/step - loss: 0.9736 - accuracy: 0.6859 - val_loss: 1.0659 - val_accuracy: 0.6286\n",
            "Epoch 4/20\n",
            "95/95 [==============================] - 15s 155ms/step - loss: 0.8592 - accuracy: 0.7322 - val_loss: 0.7732 - val_accuracy: 0.6641\n",
            "Epoch 5/20\n",
            "95/95 [==============================] - 15s 156ms/step - loss: 0.7776 - accuracy: 0.7576 - val_loss: 1.0612 - val_accuracy: 0.6903\n",
            "Epoch 6/20\n",
            "95/95 [==============================] - 15s 156ms/step - loss: 0.7173 - accuracy: 0.7784 - val_loss: 0.8950 - val_accuracy: 0.6888\n",
            "Epoch 7/20\n",
            "95/95 [==============================] - 15s 156ms/step - loss: 0.6698 - accuracy: 0.7949 - val_loss: 0.9988 - val_accuracy: 0.7205\n",
            "Epoch 8/20\n",
            "95/95 [==============================] - 15s 157ms/step - loss: 0.6302 - accuracy: 0.8111 - val_loss: 1.2641 - val_accuracy: 0.7081\n",
            "Epoch 9/20\n",
            "95/95 [==============================] - 15s 156ms/step - loss: 0.5969 - accuracy: 0.8230 - val_loss: 0.8811 - val_accuracy: 0.7197\n",
            "Epoch 10/20\n",
            "95/95 [==============================] - 15s 155ms/step - loss: 0.5673 - accuracy: 0.8316 - val_loss: 0.6554 - val_accuracy: 0.7259\n",
            "Epoch 11/20\n",
            "95/95 [==============================] - 15s 156ms/step - loss: 0.5419 - accuracy: 0.8405 - val_loss: 0.6220 - val_accuracy: 0.7344\n",
            "Epoch 12/20\n",
            "95/95 [==============================] - 15s 155ms/step - loss: 0.5190 - accuracy: 0.8484 - val_loss: 0.6838 - val_accuracy: 0.7266\n",
            "Epoch 13/20\n",
            "95/95 [==============================] - 15s 156ms/step - loss: 0.4971 - accuracy: 0.8587 - val_loss: 0.8270 - val_accuracy: 0.7328\n",
            "Epoch 14/20\n",
            "95/95 [==============================] - 15s 155ms/step - loss: 0.4775 - accuracy: 0.8659 - val_loss: 0.3916 - val_accuracy: 0.7375\n",
            "Epoch 15/20\n",
            "95/95 [==============================] - 15s 156ms/step - loss: 0.4589 - accuracy: 0.8738 - val_loss: 0.4094 - val_accuracy: 0.7351\n",
            "Epoch 16/20\n",
            "95/95 [==============================] - 15s 157ms/step - loss: 0.4437 - accuracy: 0.8791 - val_loss: 0.4745 - val_accuracy: 0.7421\n",
            "Epoch 17/20\n",
            "95/95 [==============================] - 15s 154ms/step - loss: 0.4261 - accuracy: 0.8838 - val_loss: 0.8739 - val_accuracy: 0.7390\n",
            "Epoch 18/20\n",
            "95/95 [==============================] - 15s 160ms/step - loss: 0.4106 - accuracy: 0.8907 - val_loss: 0.9259 - val_accuracy: 0.7490\n",
            "Epoch 19/20\n",
            "95/95 [==============================] - 15s 155ms/step - loss: 0.3978 - accuracy: 0.8950 - val_loss: 0.8394 - val_accuracy: 0.7498\n",
            "Epoch 20/20\n",
            "95/95 [==============================] - 15s 153ms/step - loss: 0.3833 - accuracy: 0.9003 - val_loss: 0.2566 - val_accuracy: 0.7452\n"
          ],
          "name": "stdout"
        }
      ]
    },
    {
      "cell_type": "code",
      "metadata": {
        "id": "VYiI3oXqqenK",
        "colab_type": "code",
        "colab": {}
      },
      "source": [
        "conv_base.trainable = True\n",
        "set_trainable = False\n",
        "for layer in conv_base.layers:\n",
        "  if layer.name == 'block5_conv1':\n",
        "    set_trainable = True\n",
        "  if set_trainable:\n",
        "    layer.trainable = True\n",
        "  else:\n",
        "    layer.trainable = False"
      ],
      "execution_count": null,
      "outputs": []
    },
    {
      "cell_type": "code",
      "metadata": {
        "id": "kupH9eQfrpyx",
        "colab_type": "code",
        "colab": {}
      },
      "source": [
        "model.compile(optimizer = optimizers.Adam(1e-5), loss = 'categorical_crossentropy', metrics = ['accuracy'])"
      ],
      "execution_count": null,
      "outputs": []
    },
    {
      "cell_type": "code",
      "metadata": {
        "id": "jwxO6mAMr1oT",
        "colab_type": "code",
        "colab": {
          "base_uri": "https://localhost:8080/",
          "height": 425
        },
        "outputId": "926b2888-13be-4486-b2bd-276db6999b62"
      },
      "source": [
        "early_stopping_cb  = keras.callbacks.EarlyStopping(monitor = 'val_loss', patience = 10)\n",
        "history = model.fit(train_generator, epochs = 100,steps_per_epoch= steps, callbacks = [early_stopping_cb], validation_steps= val_steps, validation_data= (valid_generator))"
      ],
      "execution_count": null,
      "outputs": [
        {
          "output_type": "stream",
          "text": [
            "Epoch 1/100\n",
            "95/95 [==============================] - 16s 172ms/step - loss: 0.3170 - accuracy: 0.8993 - val_loss: 0.8844 - val_accuracy: 0.7761\n",
            "Epoch 2/100\n",
            "95/95 [==============================] - 15s 158ms/step - loss: 0.1887 - accuracy: 0.9472 - val_loss: 0.0346 - val_accuracy: 0.7931\n",
            "Epoch 3/100\n",
            "95/95 [==============================] - 15s 159ms/step - loss: 0.1189 - accuracy: 0.9756 - val_loss: 0.6238 - val_accuracy: 0.8008\n",
            "Epoch 4/100\n",
            "95/95 [==============================] - 15s 160ms/step - loss: 0.0743 - accuracy: 0.9894 - val_loss: 0.9402 - val_accuracy: 0.7946\n",
            "Epoch 5/100\n",
            "95/95 [==============================] - 15s 158ms/step - loss: 0.0428 - accuracy: 0.9970 - val_loss: 0.4734 - val_accuracy: 0.7969\n",
            "Epoch 6/100\n",
            "95/95 [==============================] - 15s 157ms/step - loss: 0.0284 - accuracy: 0.9993 - val_loss: 0.4832 - val_accuracy: 0.8108\n",
            "Epoch 7/100\n",
            "95/95 [==============================] - 15s 159ms/step - loss: 0.0180 - accuracy: 0.9993 - val_loss: 0.1132 - val_accuracy: 0.8108\n",
            "Epoch 8/100\n",
            "95/95 [==============================] - 15s 158ms/step - loss: 0.0128 - accuracy: 1.0000 - val_loss: 0.9104 - val_accuracy: 0.8039\n",
            "Epoch 9/100\n",
            "95/95 [==============================] - 15s 158ms/step - loss: 0.0090 - accuracy: 1.0000 - val_loss: 0.3952 - val_accuracy: 0.8100\n",
            "Epoch 10/100\n",
            "95/95 [==============================] - 15s 158ms/step - loss: 0.0067 - accuracy: 1.0000 - val_loss: 1.4100 - val_accuracy: 0.8139\n",
            "Epoch 11/100\n",
            "95/95 [==============================] - 15s 158ms/step - loss: 0.0051 - accuracy: 1.0000 - val_loss: 0.9256 - val_accuracy: 0.8131\n",
            "Epoch 12/100\n",
            "95/95 [==============================] - 15s 158ms/step - loss: 0.0040 - accuracy: 1.0000 - val_loss: 0.0949 - val_accuracy: 0.8116\n"
          ],
          "name": "stdout"
        }
      ]
    },
    {
      "cell_type": "code",
      "metadata": {
        "id": "F07GowWkr-XQ",
        "colab_type": "code",
        "colab": {}
      },
      "source": [
        "conv_base.trainable = True\n",
        "set_trainable = False\n",
        "for layer in conv_base.layers:\n",
        "  if layer.name == 'block4_conv1':\n",
        "    set_trainable = True\n",
        "  if set_trainable:\n",
        "    layer.trainable = True\n",
        "  else:\n",
        "    layer.trainable = False"
      ],
      "execution_count": null,
      "outputs": []
    },
    {
      "cell_type": "code",
      "metadata": {
        "id": "U2qGfay58wYj",
        "colab_type": "code",
        "colab": {}
      },
      "source": [
        "model.compile(optimizer = optimizers.Adam(1e-10), loss = 'categorical_crossentropy', metrics = ['accuracy'])"
      ],
      "execution_count": null,
      "outputs": []
    },
    {
      "cell_type": "code",
      "metadata": {
        "id": "zB0AGqZ_86EO",
        "colab_type": "code",
        "colab": {
          "base_uri": "https://localhost:8080/",
          "height": 425
        },
        "outputId": "53ada700-9a12-40a7-9e9c-8bfaa3bc6a53"
      },
      "source": [
        "early_stopping_cb  = keras.callbacks.EarlyStopping(monitor = 'val_loss', patience = 10)\n",
        "history = model.fit(train_generator, epochs = 100,steps_per_epoch= steps, callbacks = [early_stopping_cb], validation_steps= val_steps, validation_data= (valid_generator))"
      ],
      "execution_count": null,
      "outputs": [
        {
          "output_type": "stream",
          "text": [
            "Epoch 1/100\n",
            "95/95 [==============================] - 17s 178ms/step - loss: 0.0016 - accuracy: 1.0000 - val_loss: 0.9358 - val_accuracy: 0.8131\n",
            "Epoch 2/100\n",
            "95/95 [==============================] - 15s 162ms/step - loss: 0.0017 - accuracy: 1.0000 - val_loss: 0.0919 - val_accuracy: 0.8131\n",
            "Epoch 3/100\n",
            "95/95 [==============================] - 15s 162ms/step - loss: 0.0017 - accuracy: 1.0000 - val_loss: 1.5028 - val_accuracy: 0.8131\n",
            "Epoch 4/100\n",
            "95/95 [==============================] - 15s 162ms/step - loss: 0.0016 - accuracy: 1.0000 - val_loss: 1.2919 - val_accuracy: 0.8131\n",
            "Epoch 5/100\n",
            "95/95 [==============================] - 15s 162ms/step - loss: 0.0016 - accuracy: 1.0000 - val_loss: 0.8735 - val_accuracy: 0.8131\n",
            "Epoch 6/100\n",
            "95/95 [==============================] - 16s 163ms/step - loss: 0.0016 - accuracy: 1.0000 - val_loss: 0.1387 - val_accuracy: 0.8131\n",
            "Epoch 7/100\n",
            "95/95 [==============================] - 15s 162ms/step - loss: 0.0017 - accuracy: 1.0000 - val_loss: 1.0792 - val_accuracy: 0.8131\n",
            "Epoch 8/100\n",
            "95/95 [==============================] - 15s 161ms/step - loss: 0.0017 - accuracy: 1.0000 - val_loss: 1.1013 - val_accuracy: 0.8131\n",
            "Epoch 9/100\n",
            "95/95 [==============================] - 16s 169ms/step - loss: 0.0017 - accuracy: 1.0000 - val_loss: 0.4361 - val_accuracy: 0.8131\n",
            "Epoch 10/100\n",
            "95/95 [==============================] - 16s 166ms/step - loss: 0.0016 - accuracy: 1.0000 - val_loss: 0.6095 - val_accuracy: 0.8131\n",
            "Epoch 11/100\n",
            "95/95 [==============================] - 16s 166ms/step - loss: 0.0017 - accuracy: 1.0000 - val_loss: 0.4139 - val_accuracy: 0.8131\n",
            "Epoch 12/100\n",
            "95/95 [==============================] - 15s 162ms/step - loss: 0.0016 - accuracy: 1.0000 - val_loss: 1.0545 - val_accuracy: 0.8131\n"
          ],
          "name": "stdout"
        }
      ]
    },
    {
      "cell_type": "code",
      "metadata": {
        "id": "U4qy1B_g9AGf",
        "colab_type": "code",
        "colab": {}
      },
      "source": [
        ""
      ],
      "execution_count": null,
      "outputs": []
    }
  ]
}