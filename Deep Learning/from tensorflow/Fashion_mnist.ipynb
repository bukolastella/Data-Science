{
  "nbformat": 4,
  "nbformat_minor": 0,
  "metadata": {
    "kernelspec": {
      "display_name": "Python 3",
      "language": "python",
      "name": "python3"
    },
    "language_info": {
      "codemirror_mode": {
        "name": "ipython",
        "version": 3
      },
      "file_extension": ".py",
      "mimetype": "text/x-python",
      "name": "python",
      "nbconvert_exporter": "python",
      "pygments_lexer": "ipython3",
      "version": "3.7.4"
    },
    "colab": {
      "name": "Fashion-mnist.ipynb",
      "provenance": [],
      "include_colab_link": true
    }
  },
  "cells": [
    {
      "cell_type": "markdown",
      "metadata": {
        "id": "view-in-github",
        "colab_type": "text"
      },
      "source": [
        "<a href=\"https://colab.research.google.com/github/bukolastella/Data-Science/blob/master/Data-Science/Deep%20Learning/from%20tensorflow/Fashion_mnist.ipynb\" target=\"_parent\"><img src=\"https://colab.research.google.com/assets/colab-badge.svg\" alt=\"Open In Colab\"/></a>"
      ]
    },
    {
      "cell_type": "code",
      "metadata": {
        "id": "hGMCExjcI_46",
        "colab_type": "code",
        "colab": {}
      },
      "source": [
        "#importing relevant libraries\n",
        "import numpy as np\n",
        "import tensorflow as tf\n",
        "from tensorflow import keras\n",
        "import matplotlib.pyplot as plt\n",
        "\n",
        "#Using tensorflow module\n",
        "import tensorflow_datasets as tfds"
      ],
      "execution_count": null,
      "outputs": []
    },
    {
      "cell_type": "markdown",
      "metadata": {
        "id": "YRLgLiX3I_7b",
        "colab_type": "text"
      },
      "source": [
        "### LOAD DATASET"
      ]
    },
    {
      "cell_type": "code",
      "metadata": {
        "id": "GxgPxAnvI_7d",
        "colab_type": "code",
        "colab": {}
      },
      "source": [
        "#Downloaded the fashion mnist dataset from keras\n",
        "fashion_mnist = keras.datasets.fashion_mnist\n",
        "\n",
        "(train_images, train_labels), (test_images, test_labels) = fashion_mnist.load_data()"
      ],
      "execution_count": null,
      "outputs": []
    },
    {
      "cell_type": "code",
      "metadata": {
        "id": "b-TYMpSlI_7q",
        "colab_type": "code",
        "colab": {},
        "outputId": "a137271a-2eed-4722-92c0-ba18a900949d"
      },
      "source": [
        "#Checking the label\n",
        "train_labels"
      ],
      "execution_count": null,
      "outputs": [
        {
          "output_type": "execute_result",
          "data": {
            "text/plain": [
              "array([9, 0, 0, ..., 3, 0, 5], dtype=uint8)"
            ]
          },
          "metadata": {
            "tags": []
          },
          "execution_count": 4
        }
      ]
    },
    {
      "cell_type": "code",
      "metadata": {
        "id": "NHKVyIMEI_74",
        "colab_type": "code",
        "colab": {},
        "outputId": "4eb028db-c72a-40cf-a494-d59485e608a0"
      },
      "source": [
        "train_images"
      ],
      "execution_count": null,
      "outputs": [
        {
          "output_type": "execute_result",
          "data": {
            "text/plain": [
              "array([[[0, 0, 0, ..., 0, 0, 0],\n",
              "        [0, 0, 0, ..., 0, 0, 0],\n",
              "        [0, 0, 0, ..., 0, 0, 0],\n",
              "        ...,\n",
              "        [0, 0, 0, ..., 0, 0, 0],\n",
              "        [0, 0, 0, ..., 0, 0, 0],\n",
              "        [0, 0, 0, ..., 0, 0, 0]],\n",
              "\n",
              "       [[0, 0, 0, ..., 0, 0, 0],\n",
              "        [0, 0, 0, ..., 0, 0, 0],\n",
              "        [0, 0, 0, ..., 0, 0, 0],\n",
              "        ...,\n",
              "        [0, 0, 0, ..., 0, 0, 0],\n",
              "        [0, 0, 0, ..., 0, 0, 0],\n",
              "        [0, 0, 0, ..., 0, 0, 0]],\n",
              "\n",
              "       [[0, 0, 0, ..., 0, 0, 0],\n",
              "        [0, 0, 0, ..., 0, 0, 0],\n",
              "        [0, 0, 0, ..., 0, 0, 0],\n",
              "        ...,\n",
              "        [0, 0, 0, ..., 0, 0, 0],\n",
              "        [0, 0, 0, ..., 0, 0, 0],\n",
              "        [0, 0, 0, ..., 0, 0, 0]],\n",
              "\n",
              "       ...,\n",
              "\n",
              "       [[0, 0, 0, ..., 0, 0, 0],\n",
              "        [0, 0, 0, ..., 0, 0, 0],\n",
              "        [0, 0, 0, ..., 0, 0, 0],\n",
              "        ...,\n",
              "        [0, 0, 0, ..., 0, 0, 0],\n",
              "        [0, 0, 0, ..., 0, 0, 0],\n",
              "        [0, 0, 0, ..., 0, 0, 0]],\n",
              "\n",
              "       [[0, 0, 0, ..., 0, 0, 0],\n",
              "        [0, 0, 0, ..., 0, 0, 0],\n",
              "        [0, 0, 0, ..., 0, 0, 0],\n",
              "        ...,\n",
              "        [0, 0, 0, ..., 0, 0, 0],\n",
              "        [0, 0, 0, ..., 0, 0, 0],\n",
              "        [0, 0, 0, ..., 0, 0, 0]],\n",
              "\n",
              "       [[0, 0, 0, ..., 0, 0, 0],\n",
              "        [0, 0, 0, ..., 0, 0, 0],\n",
              "        [0, 0, 0, ..., 0, 0, 0],\n",
              "        ...,\n",
              "        [0, 0, 0, ..., 0, 0, 0],\n",
              "        [0, 0, 0, ..., 0, 0, 0],\n",
              "        [0, 0, 0, ..., 0, 0, 0]]], dtype=uint8)"
            ]
          },
          "metadata": {
            "tags": []
          },
          "execution_count": 5
        }
      ]
    },
    {
      "cell_type": "code",
      "metadata": {
        "id": "Mn1cPfqjI_-h",
        "colab_type": "code",
        "colab": {}
      },
      "source": [
        "#Not stored in the dataset as too be stored manually\n",
        "class_names = ['T-shirt/top', 'Trouser', 'Pullover', 'Dress', 'Coat',\n",
        "               'Sandal', 'Shirt', 'Sneaker', 'Bag', 'Ankle boot']"
      ],
      "execution_count": null,
      "outputs": []
    },
    {
      "cell_type": "markdown",
      "metadata": {
        "id": "kkc5RC2WI_-p",
        "colab_type": "text"
      },
      "source": [
        "###  CHECK FORMAT"
      ]
    },
    {
      "cell_type": "code",
      "metadata": {
        "id": "c6_zUUgHI_-r",
        "colab_type": "code",
        "colab": {},
        "outputId": "ce2d7999-5bd2-454a-d10c-b29d8b52f1d5"
      },
      "source": [
        "#checked the shape of the images\n",
        "train_images.shape\n",
        "#60000 images for the train dataset of 28 by 28 pixels"
      ],
      "execution_count": null,
      "outputs": [
        {
          "output_type": "execute_result",
          "data": {
            "text/plain": [
              "(60000, 28, 28)"
            ]
          },
          "metadata": {
            "tags": []
          },
          "execution_count": 7
        }
      ]
    },
    {
      "cell_type": "code",
      "metadata": {
        "id": "EK6g_RhOI_-_",
        "colab_type": "code",
        "colab": {},
        "outputId": "93eb6025-dc3b-44fb-acd6-1d4b6d0b7361"
      },
      "source": [
        "len(train_labels)\n",
        "#60,000 labels of the train dataset"
      ],
      "execution_count": null,
      "outputs": [
        {
          "output_type": "execute_result",
          "data": {
            "text/plain": [
              "60000"
            ]
          },
          "metadata": {
            "tags": []
          },
          "execution_count": 8
        }
      ]
    },
    {
      "cell_type": "code",
      "metadata": {
        "id": "D5C8-M5AJABZ",
        "colab_type": "code",
        "colab": {},
        "outputId": "f94f1326-c2c2-48c5-e9ef-106d085c5428"
      },
      "source": [
        "train_labels[0]"
      ],
      "execution_count": null,
      "outputs": [
        {
          "output_type": "execute_result",
          "data": {
            "text/plain": [
              "9"
            ]
          },
          "metadata": {
            "tags": []
          },
          "execution_count": 9
        }
      ]
    },
    {
      "cell_type": "code",
      "metadata": {
        "id": "FK3azIfWJABk",
        "colab_type": "code",
        "colab": {},
        "outputId": "0316b01b-cc7b-4f32-d28f-eb6602e0ebfc"
      },
      "source": [
        "test_images.shape\n",
        "#Test dataset having 10,000 images of 28 by 28 pixels also"
      ],
      "execution_count": null,
      "outputs": [
        {
          "output_type": "execute_result",
          "data": {
            "text/plain": [
              "(10000, 28, 28)"
            ]
          },
          "metadata": {
            "tags": []
          },
          "execution_count": 8
        }
      ]
    },
    {
      "cell_type": "code",
      "metadata": {
        "id": "pjsBnaeDJABw",
        "colab_type": "code",
        "colab": {},
        "outputId": "7f3fce2b-c6b3-4e02-e1ce-060723c91b40"
      },
      "source": [
        "len(test_labels)\n",
        "#10,000 labels of the train dataset"
      ],
      "execution_count": null,
      "outputs": [
        {
          "output_type": "execute_result",
          "data": {
            "text/plain": [
              "10000"
            ]
          },
          "metadata": {
            "tags": []
          },
          "execution_count": 9
        }
      ]
    },
    {
      "cell_type": "markdown",
      "metadata": {
        "id": "JmoAiQHSJAD9",
        "colab_type": "text"
      },
      "source": [
        "### Preprocessing"
      ]
    },
    {
      "cell_type": "code",
      "metadata": {
        "id": "VKNcceLzJAD_",
        "colab_type": "code",
        "colab": {},
        "outputId": "6d3e85cd-53d1-44e9-8b84-542b7c48d0e7"
      },
      "source": [
        "#Exploring the image\n",
        "plt.figure()\n",
        "plt.imshow(train_images[0])\n",
        "plt.colorbar()\n",
        "plt.grid(False)\n",
        "plt.show()"
      ],
      "execution_count": null,
      "outputs": [
        {
          "output_type": "display_data",
          "data": {
            "image/png": "[encoded data removed]",
            "text/plain": [
              "<Figure size 432x288 with 2 Axes>"
            ]
          },
          "metadata": {
            "tags": [],
            "needs_background": "light"
          }
        }
      ]
    },
    {
      "cell_type": "code",
      "metadata": {
        "id": "vHFTf5OhJAEL",
        "colab_type": "code",
        "colab": {}
      },
      "source": [
        "train_images = train_images /255.0\n",
        "test_images = test_images /255.0"
      ],
      "execution_count": null,
      "outputs": []
    },
    {
      "cell_type": "code",
      "metadata": {
        "id": "JZbMz9IDJAET",
        "colab_type": "code",
        "colab": {},
        "outputId": "56bc4ff5-c587-47ca-dee9-c84a424f5603"
      },
      "source": [
        "#To verify that the data is in the correct format and that you're ready to build and train the network, \n",
        "#let's display the first 25 images from the training set and display the class name below each image.\n",
        "\n",
        "plt.figure(figsize=(10,10))\n",
        "for i in range(25):\n",
        "    plt.subplot(5,5,i+1)\n",
        "    plt.xticks([])\n",
        "    plt.yticks([])\n",
        "    plt.grid(False)\n",
        "    plt.imshow(train_images[i], cmap=plt.cm.binary)\n",
        "    plt.xlabel(class_names[train_labels[i]])\n",
        "plt.show()"
      ],
      "execution_count": null,
      "outputs": [
        {
          "output_type": "display_data",
          "data": {
            "image/png": "[encoded data removed]",
            "text/plain": [
              "<Figure size 720x720 with 25 Axes>"
            ]
          },
          "metadata": {
            "tags": []
          }
        }
      ]
    },
    {
      "cell_type": "markdown",
      "metadata": {
        "id": "hfdQ-QG-JAEa",
        "colab_type": "text"
      },
      "source": [
        "### TRying to SET VALIDATION SAMPLE\n"
      ]
    },
    {
      "cell_type": "code",
      "metadata": {
        "id": "IP_eE8sJJAEc",
        "colab_type": "code",
        "colab": {}
      },
      "source": [
        "num_validation = 0.1 * len(train_images)"
      ],
      "execution_count": null,
      "outputs": []
    },
    {
      "cell_type": "code",
      "metadata": {
        "id": "vRxF3Z6CJAGC",
        "colab_type": "code",
        "colab": {},
        "outputId": "82a034cd-b535-4f73-a26e-237fe2c5a1bc"
      },
      "source": [
        "num_validation\n",
        "#it did not work"
      ],
      "execution_count": null,
      "outputs": [
        {
          "output_type": "execute_result",
          "data": {
            "text/plain": [
              "6000.0"
            ]
          },
          "metadata": {
            "tags": []
          },
          "execution_count": 15
        }
      ]
    },
    {
      "cell_type": "markdown",
      "metadata": {
        "id": "A7LCpUZ0JAGO",
        "colab_type": "text"
      },
      "source": [
        "BUFFER_SIZE = 10000\n",
        "# this BUFFER_SIZE parameter is here for cases when we're dealing with enormous datasets\n",
        "# then we can't shuffle the whole dataset in one go because we can't fit it all in memory\n",
        "# so instead TF only stores BUFFER_SIZE samples in memory at a time and shuffles them\n",
        "# if BUFFER_SIZE=1 => no shuffling will actually happen\n",
        "# if BUFFER_SIZE >= num samples => shuffling is uniform\n",
        "# BUFFER_SIZE in between - a computational optimization to approximate uniform shuffling\n",
        "\n",
        "# luckily for us, there is a shuffle method readily available and we just need to specify the buffer size\n",
        "shuffled_train_and_validation_data = train_images.shuffle(BUFFER_SIZE)\n"
      ]
    },
    {
      "cell_type": "code",
      "metadata": {
        "id": "ZDvzdc91JAGk",
        "colab_type": "code",
        "colab": {}
      },
      "source": [
        ""
      ],
      "execution_count": null,
      "outputs": []
    },
    {
      "cell_type": "markdown",
      "metadata": {
        "id": "2CVzDbnUJAGy",
        "colab_type": "text"
      },
      "source": [
        "###  MODEL"
      ]
    },
    {
      "cell_type": "code",
      "metadata": {
        "id": "0xWdKhiXJAG3",
        "colab_type": "code",
        "colab": {}
      },
      "source": [
        "model = tf.keras.Sequential([\n",
        "    keras.layers.Flatten(input_shape=(28,28)),\n",
        "    keras.layers.Dense(128, activation = 'relu'),\n",
        "    keras.layers.Dense(10,activation = 'softmax'),\n",
        "    \n",
        "])\n",
        "\n",
        "model.compile(optimizer = 'rmsprop',  loss = tf.keras.losses.SparseCategoricalCrossentropy(from_logits=True),\n",
        "              metrics=['accuracy'])"
      ],
      "execution_count": null,
      "outputs": []
    },
    {
      "cell_type": "markdown",
      "metadata": {
        "id": "XXANsh-8JAH5",
        "colab_type": "text"
      },
      "source": [
        "### TRAIN OUR MODEL"
      ]
    },
    {
      "cell_type": "code",
      "metadata": {
        "id": "rUt50psiJAH6",
        "colab_type": "code",
        "colab": {},
        "outputId": "8f628ca7-a30d-4be5-d0b1-de1e17e6ef9c"
      },
      "source": [
        "model.fit(train_images, train_labels, epochs = 10, verbose = 2)"
      ],
      "execution_count": null,
      "outputs": [
        {
          "output_type": "stream",
          "text": [
            "Train on 60000 samples\n",
            "Epoch 1/10\n",
            "60000/60000 - 9s - loss: 1.7522 - accuracy: 0.7143\n",
            "Epoch 2/10\n",
            "60000/60000 - 7s - loss: 1.7119 - accuracy: 0.7491\n",
            "Epoch 3/10\n",
            "60000/60000 - 7s - loss: 1.7002 - accuracy: 0.7606\n",
            "Epoch 4/10\n",
            "60000/60000 - 6s - loss: 1.6938 - accuracy: 0.7662\n",
            "Epoch 5/10\n",
            "60000/60000 - 8s - loss: 1.6881 - accuracy: 0.7715\n",
            "Epoch 6/10\n",
            "60000/60000 - 7s - loss: 1.6060 - accuracy: 0.8561\n",
            "Epoch 7/10\n",
            "60000/60000 - 7s - loss: 1.5923 - accuracy: 0.8696\n",
            "Epoch 8/10\n",
            "60000/60000 - 6s - loss: 1.5889 - accuracy: 0.8724\n",
            "Epoch 9/10\n",
            "60000/60000 - 8s - loss: 1.5857 - accuracy: 0.8757\n",
            "Epoch 10/10\n",
            "60000/60000 - 9s - loss: 1.5836 - accuracy: 0.8776\n"
          ],
          "name": "stdout"
        },
        {
          "output_type": "execute_result",
          "data": {
            "text/plain": [
              "<tensorflow.python.keras.callbacks.History at 0x1b6eecdbcc8>"
            ]
          },
          "metadata": {
            "tags": []
          },
          "execution_count": 17
        }
      ]
    },
    {
      "cell_type": "code",
      "metadata": {
        "id": "gf2jTbH0JAIC",
        "colab_type": "code",
        "colab": {},
        "outputId": "a235bf61-75c9-4754-9298-107e75c59266"
      },
      "source": [
        "test_loss, test_acc = model.evaluate(test_images,  test_labels, verbose=2)\n",
        "\n",
        "print('\\nTest accuracy:', test_acc)"
      ],
      "execution_count": null,
      "outputs": [
        {
          "output_type": "stream",
          "text": [
            "10000/10000 - 1s - loss: 1.5999 - accuracy: 0.8614\n",
            "\n",
            "Test accuracy: 0.8614\n"
          ],
          "name": "stdout"
        }
      ]
    },
    {
      "cell_type": "code",
      "metadata": {
        "id": "R0FeTqvTJAIp",
        "colab_type": "code",
        "colab": {}
      },
      "source": [
        "predictions = model.predict(test_images)"
      ],
      "execution_count": null,
      "outputs": []
    },
    {
      "cell_type": "code",
      "metadata": {
        "id": "JiMi8pdaJAI0",
        "colab_type": "code",
        "colab": {},
        "outputId": "0f8bb932-27e0-4b14-927e-4b9e9ef2f107"
      },
      "source": [
        "np.argmax(predictions[12])"
      ],
      "execution_count": null,
      "outputs": [
        {
          "output_type": "execute_result",
          "data": {
            "text/plain": [
              "5"
            ]
          },
          "metadata": {
            "tags": []
          },
          "execution_count": 20
        }
      ]
    },
    {
      "cell_type": "code",
      "metadata": {
        "id": "H7tJvuugJALv",
        "colab_type": "code",
        "colab": {},
        "outputId": "8cfb7019-735b-43ef-fdce-cfdfbaf18a9e"
      },
      "source": [
        "predictions[12]"
      ],
      "execution_count": null,
      "outputs": [
        {
          "output_type": "execute_result",
          "data": {
            "text/plain": [
              "array([6.1534979e-18, 2.3591357e-19, 4.9554151e-15, 7.0504332e-14,\n",
              "       4.2312486e-19, 9.9995220e-01, 5.6898432e-17, 1.3824081e-05,\n",
              "       3.3941800e-05, 6.1762547e-13], dtype=float32)"
            ]
          },
          "metadata": {
            "tags": []
          },
          "execution_count": 21
        }
      ]
    },
    {
      "cell_type": "code",
      "metadata": {
        "id": "NlICE0dzJAL2",
        "colab_type": "code",
        "colab": {},
        "outputId": "185ebb11-7d0f-43e2-efc6-fd3c4545f88f"
      },
      "source": [
        "100*np.max(predictions[12])"
      ],
      "execution_count": null,
      "outputs": [
        {
          "output_type": "execute_result",
          "data": {
            "text/plain": [
              "99.99521970748901"
            ]
          },
          "metadata": {
            "tags": []
          },
          "execution_count": 22
        }
      ]
    },
    {
      "cell_type": "code",
      "metadata": {
        "id": "4vmEXa_hJAL9",
        "colab_type": "code",
        "colab": {}
      },
      "source": [
        "def plot_image(i, predictions_array, true_label, img):\n",
        "  predictions_array, true_label, img = predictions_array, true_label[i], img[i]\n",
        "  plt.grid(False)\n",
        "  plt.xticks([])\n",
        "  plt.yticks([])\n",
        "\n",
        "  plt.imshow(img, cmap=plt.cm.binary)\n",
        "\n",
        "  predicted_label = np.argmax(predictions_array)\n",
        "  if predicted_label == true_label:\n",
        "    color = 'blue'\n",
        "  else:\n",
        "    color = 'red'\n",
        "\n",
        "  plt.xlabel(\"{} {:2.0f}% ({})\".format(class_names[predicted_label],\n",
        "                                100*np.max(predictions_array),\n",
        "                                class_names[true_label]),\n",
        "                                color=color)\n",
        "\n",
        "def plot_value_array(i, predictions_array, true_label):\n",
        "  predictions_array, true_label = predictions_array, true_label[i]\n",
        "  plt.grid(False)\n",
        "  plt.xticks(range(10))\n",
        "  plt.yticks([])\n",
        "  thisplot = plt.bar(range(10), predictions_array, color=\"#777777\")\n",
        "  plt.ylim([0, 1])\n",
        "  predicted_label = np.argmax(predictions_array)\n",
        "\n",
        "  thisplot[predicted_label].set_color('red')\n",
        "  thisplot[true_label].set_color('blue')"
      ],
      "execution_count": null,
      "outputs": []
    },
    {
      "cell_type": "code",
      "metadata": {
        "id": "hLaoJbJZJAMH",
        "colab_type": "code",
        "colab": {},
        "outputId": "e3ff6c44-fe36-4cde-9bb9-51afa8f6a3e1"
      },
      "source": [
        "i = 0\n",
        "plt.figure(figsize=(6,3))\n",
        "plt.subplot(1,2,1)\n",
        "plot_image(i, predictions[i], test_labels, test_images)\n",
        "plt.subplot(1,2,2)\n",
        "plot_value_array(i, predictions[i],  test_labels)\n",
        "plt.show()"
      ],
      "execution_count": null,
      "outputs": [
        {
          "output_type": "display_data",
          "data": {
            "image/png": "[encoded data removed]",
            "text/plain": [
              "<Figure size 432x216 with 2 Axes>"
            ]
          },
          "metadata": {
            "tags": [],
            "needs_background": "light"
          }
        }
      ]
    },
    {
      "cell_type": "code",
      "metadata": {
        "id": "D691pZ6AJAMO",
        "colab_type": "code",
        "colab": {},
        "outputId": "6777179e-e0d7-455d-ebf2-f1db63982dad"
      },
      "source": [
        "i = 12\n",
        "plt.figure(figsize=(6,3))\n",
        "plt.subplot(1,2,1)\n",
        "plot_image(i, predictions[i], test_labels, test_images)\n",
        "plt.subplot(1,2,2)\n",
        "plot_value_array(i, predictions[i],  test_labels)\n",
        "plt.show()"
      ],
      "execution_count": null,
      "outputs": [
        {
          "output_type": "display_data",
          "data": {
            "image/png": "[encoded data removed]",
            "text/plain": [
              "<Figure size 432x216 with 2 Axes>"
            ]
          },
          "metadata": {
            "tags": [],
            "needs_background": "light"
          }
        }
      ]
    },
    {
      "cell_type": "code",
      "metadata": {
        "id": "RctF1XVBJAOP",
        "colab_type": "code",
        "colab": {},
        "outputId": "ffb69e5a-0f50-46ff-cf55-b3ac03578fff"
      },
      "source": [
        "# Plot the first X test images, their predicted labels, and the true labels.\n",
        "# Color correct predictions in blue and incorrect predictions in red.\n",
        "num_rows = 5\n",
        "num_cols = 3\n",
        "num_images = num_rows*num_cols\n",
        "plt.figure(figsize=(2*2*num_cols, 2*num_rows))\n",
        "for i in range(num_images):\n",
        "  plt.subplot(num_rows, 2*num_cols, 2*i+1)\n",
        "  plot_image(i, predictions[i], test_labels, test_images)\n",
        "  plt.subplot(num_rows, 2*num_cols, 2*i+2)\n",
        "  plot_value_array(i, predictions[i], test_labels)\n",
        "plt.tight_layout()\n",
        "plt.show()"
      ],
      "execution_count": null,
      "outputs": [
        {
          "output_type": "display_data",
          "data": {
            "image/png": "[encoded data removed]",
            "text/plain": [
              "<Figure size 864x720 with 30 Axes>"
            ]
          },
          "metadata": {
            "tags": [],
            "needs_background": "light"
          }
        }
      ]
    },
    {
      "cell_type": "code",
      "metadata": {
        "id": "_9zm9pH1JAOY",
        "colab_type": "code",
        "colab": {},
        "outputId": "0b33c82f-c988-4f66-be8c-68ac7c80fb18"
      },
      "source": [
        "# Grab an image from the test dataset.\n",
        "img = test_images[1]\n",
        "\n",
        "print(img.shape)"
      ],
      "execution_count": null,
      "outputs": [
        {
          "output_type": "stream",
          "text": [
            "(28, 28)\n"
          ],
          "name": "stdout"
        }
      ]
    },
    {
      "cell_type": "code",
      "metadata": {
        "id": "Xip5gomuJAOl",
        "colab_type": "code",
        "colab": {},
        "outputId": "5db29060-dba4-4e61-e3a0-745b4263fcb5"
      },
      "source": [
        "# Add the image to a batch where it's the only member.\n",
        "img = (np.expand_dims(img,0))\n",
        "\n",
        "print(img.shape)"
      ],
      "execution_count": null,
      "outputs": [
        {
          "output_type": "stream",
          "text": [
            "(1, 28, 28)\n"
          ],
          "name": "stdout"
        }
      ]
    },
    {
      "cell_type": "code",
      "metadata": {
        "id": "KI7FIhGVJAPk",
        "colab_type": "code",
        "colab": {},
        "outputId": "882c2dcf-59db-494a-d6cd-6b296616badf"
      },
      "source": [
        "predictions_single = model.predict(img)\n",
        "\n",
        "print(predictions_single)"
      ],
      "execution_count": null,
      "outputs": [
        {
          "output_type": "stream",
          "text": [
            "[[2.0505611e-29 4.7546743e-37 1.0000000e+00 3.5941203e-33 3.2809702e-26\n",
            "  5.4077228e-30 7.3415889e-26 0.0000000e+00 2.5463408e-24 0.0000000e+00]]\n"
          ],
          "name": "stdout"
        }
      ]
    },
    {
      "cell_type": "code",
      "metadata": {
        "id": "FbGbNLEUJAR1",
        "colab_type": "code",
        "colab": {},
        "outputId": "64670377-d82f-415f-915f-d3abe18c2877"
      },
      "source": [
        "plot_value_array(1, predictions_single[0], test_labels)\n",
        "_ = plt.xticks(range(10), class_names, rotation=45)"
      ],
      "execution_count": null,
      "outputs": [
        {
          "output_type": "display_data",
          "data": {
            "image/png": "[encoded data removed]",
            "text/plain": [
              "<Figure size 432x288 with 1 Axes>"
            ]
          },
          "metadata": {
            "tags": [],
            "needs_background": "light"
          }
        }
      ]
    },
    {
      "cell_type": "code",
      "metadata": {
        "id": "p3To-sK3JASJ",
        "colab_type": "code",
        "colab": {},
        "outputId": "6f0f7ef5-7808-4f2d-9107-3f943db94d57"
      },
      "source": [
        "np.argmax(predictions_single[0])"
      ],
      "execution_count": null,
      "outputs": [
        {
          "output_type": "execute_result",
          "data": {
            "text/plain": [
              "2"
            ]
          },
          "metadata": {
            "tags": []
          },
          "execution_count": 31
        }
      ]
    },
    {
      "cell_type": "code",
      "metadata": {
        "id": "vg0x0dYyJASS",
        "colab_type": "code",
        "colab": {}
      },
      "source": [
        ""
      ],
      "execution_count": null,
      "outputs": []
    },
    {
      "cell_type": "code",
      "metadata": {
        "id": "NXrJ9HE9JASb",
        "colab_type": "code",
        "colab": {}
      },
      "source": [
        ""
      ],
      "execution_count": null,
      "outputs": []
    },
    {
      "cell_type": "code",
      "metadata": {
        "id": "h6quGG7zJAUX",
        "colab_type": "code",
        "colab": {}
      },
      "source": [
        ""
      ],
      "execution_count": null,
      "outputs": []
    },
    {
      "cell_type": "code",
      "metadata": {
        "id": "dHeGfQHKJAUf",
        "colab_type": "code",
        "colab": {}
      },
      "source": [
        ""
      ],
      "execution_count": null,
      "outputs": []
    },
    {
      "cell_type": "code",
      "metadata": {
        "id": "ZTqahLTQJAUu",
        "colab_type": "code",
        "colab": {}
      },
      "source": [
        ""
      ],
      "execution_count": null,
      "outputs": []
    },
    {
      "cell_type": "code",
      "metadata": {
        "id": "3dCaNs_cJAU4",
        "colab_type": "code",
        "colab": {}
      },
      "source": [
        ""
      ],
      "execution_count": null,
      "outputs": []
    },
    {
      "cell_type": "code",
      "metadata": {
        "id": "ENw_kt8NJAXP",
        "colab_type": "code",
        "colab": {}
      },
      "source": [
        ""
      ],
      "execution_count": null,
      "outputs": []
    },
    {
      "cell_type": "code",
      "metadata": {
        "id": "l-kvfNIKJAXZ",
        "colab_type": "code",
        "colab": {}
      },
      "source": [
        ""
      ],
      "execution_count": null,
      "outputs": []
    },
    {
      "cell_type": "code",
      "metadata": {
        "id": "gIctsc--JAYG",
        "colab_type": "code",
        "colab": {}
      },
      "source": [
        ""
      ],
      "execution_count": null,
      "outputs": []
    },
    {
      "cell_type": "code",
      "metadata": {
        "id": "LDMFXD6gJAaR",
        "colab_type": "code",
        "colab": {}
      },
      "source": [
        ""
      ],
      "execution_count": null,
      "outputs": []
    }
  ]
}