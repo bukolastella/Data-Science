{
 "cells": [
  {
   "cell_type": "markdown",
   "metadata": {},
   "source": [
    "### INTRODUCTION\n",
    "\n",
    "#### Predicting the weight of fish through linear regression\n",
    "#### Steps taken in preprocessing includes Data cleaning, Assumption check, Outliers Removal, Standardization etc\n",
    "\n",
    "### SIDE NOTE\n",
    "#### You can leave your question about any unclear part in the comment section\n",
    "#### Any correction will be highly welcomed"
   ]
  },
  {
   "cell_type": "markdown",
   "metadata": {},
   "source": [
    "### LOADING THE DATA"
   ]
  },
  {
   "cell_type": "code",
   "execution_count": 1,
   "metadata": {},
   "outputs": [],
   "source": [
    "#importing the necessary libraries\n",
    "import numpy as np\n",
    "import pandas as pd\n",
    "import matplotlib.pyplot as plt\n",
    "import seaborn as sns\n",
    "sns.set()\n",
    "from sklearn.linear_model import LinearRegression\n",
    "from sklearn.model_selection import train_test_split\n",
    "from sklearn.preprocessing import StandardScaler"
   ]
  },
  {
   "cell_type": "code",
   "execution_count": 3,
   "metadata": {},
   "outputs": [
    {
     "data": {
      "text/html": [
       "<div>\n",
       "<style scoped>\n",
       "    .dataframe tbody tr th:only-of-type {\n",
       "        vertical-align: middle;\n",
       "    }\n",
       "\n",
       "    .dataframe tbody tr th {\n",
       "        vertical-align: top;\n",
       "    }\n",
       "\n",
       "    .dataframe thead th {\n",
       "        text-align: right;\n",
       "    }\n",
       "</style>\n",
       "<table border=\"1\" class=\"dataframe\">\n",
       "  <thead>\n",
       "    <tr style=\"text-align: right;\">\n",
       "      <th></th>\n",
       "      <th>Species</th>\n",
       "      <th>Weight</th>\n",
       "      <th>Length1</th>\n",
       "      <th>Length2</th>\n",
       "      <th>Length3</th>\n",
       "      <th>Height</th>\n",
       "      <th>Width</th>\n",
       "    </tr>\n",
       "  </thead>\n",
       "  <tbody>\n",
       "    <tr>\n",
       "      <td>0</td>\n",
       "      <td>Bream</td>\n",
       "      <td>242.0</td>\n",
       "      <td>23.2</td>\n",
       "      <td>25.4</td>\n",
       "      <td>30.0</td>\n",
       "      <td>11.5200</td>\n",
       "      <td>4.0200</td>\n",
       "    </tr>\n",
       "    <tr>\n",
       "      <td>1</td>\n",
       "      <td>Bream</td>\n",
       "      <td>290.0</td>\n",
       "      <td>24.0</td>\n",
       "      <td>26.3</td>\n",
       "      <td>31.2</td>\n",
       "      <td>12.4800</td>\n",
       "      <td>4.3056</td>\n",
       "    </tr>\n",
       "    <tr>\n",
       "      <td>2</td>\n",
       "      <td>Bream</td>\n",
       "      <td>340.0</td>\n",
       "      <td>23.9</td>\n",
       "      <td>26.5</td>\n",
       "      <td>31.1</td>\n",
       "      <td>12.3778</td>\n",
       "      <td>4.6961</td>\n",
       "    </tr>\n",
       "  </tbody>\n",
       "</table>\n",
       "</div>"
      ],
      "text/plain": [
       "  Species  Weight  Length1  Length2  Length3   Height   Width\n",
       "0   Bream   242.0     23.2     25.4     30.0  11.5200  4.0200\n",
       "1   Bream   290.0     24.0     26.3     31.2  12.4800  4.3056\n",
       "2   Bream   340.0     23.9     26.5     31.1  12.3778  4.6961"
      ]
     },
     "execution_count": 3,
     "metadata": {},
     "output_type": "execute_result"
    }
   ],
   "source": [
    "path = '..\\..\\dataset_git\\Fish.csv'\n",
    "\n",
    "df = pd.read_csv(path)\n",
    "\n",
    "df.head(3)"
   ]
  },
  {
   "cell_type": "code",
   "execution_count": 5,
   "metadata": {},
   "outputs": [
    {
     "data": {
      "text/html": [
       "<div>\n",
       "<style scoped>\n",
       "    .dataframe tbody tr th:only-of-type {\n",
       "        vertical-align: middle;\n",
       "    }\n",
       "\n",
       "    .dataframe tbody tr th {\n",
       "        vertical-align: top;\n",
       "    }\n",
       "\n",
       "    .dataframe thead th {\n",
       "        text-align: right;\n",
       "    }\n",
       "</style>\n",
       "<table border=\"1\" class=\"dataframe\">\n",
       "  <thead>\n",
       "    <tr style=\"text-align: right;\">\n",
       "      <th></th>\n",
       "      <th>Species</th>\n",
       "      <th>Weight</th>\n",
       "      <th>Length1</th>\n",
       "      <th>Length2</th>\n",
       "      <th>Length3</th>\n",
       "      <th>Height</th>\n",
       "      <th>Width</th>\n",
       "    </tr>\n",
       "  </thead>\n",
       "  <tbody>\n",
       "    <tr>\n",
       "      <td>count</td>\n",
       "      <td>159</td>\n",
       "      <td>159.000000</td>\n",
       "      <td>159.000000</td>\n",
       "      <td>159.000000</td>\n",
       "      <td>159.000000</td>\n",
       "      <td>159.000000</td>\n",
       "      <td>159.000000</td>\n",
       "    </tr>\n",
       "    <tr>\n",
       "      <td>unique</td>\n",
       "      <td>7</td>\n",
       "      <td>NaN</td>\n",
       "      <td>NaN</td>\n",
       "      <td>NaN</td>\n",
       "      <td>NaN</td>\n",
       "      <td>NaN</td>\n",
       "      <td>NaN</td>\n",
       "    </tr>\n",
       "    <tr>\n",
       "      <td>top</td>\n",
       "      <td>Perch</td>\n",
       "      <td>NaN</td>\n",
       "      <td>NaN</td>\n",
       "      <td>NaN</td>\n",
       "      <td>NaN</td>\n",
       "      <td>NaN</td>\n",
       "      <td>NaN</td>\n",
       "    </tr>\n",
       "    <tr>\n",
       "      <td>freq</td>\n",
       "      <td>56</td>\n",
       "      <td>NaN</td>\n",
       "      <td>NaN</td>\n",
       "      <td>NaN</td>\n",
       "      <td>NaN</td>\n",
       "      <td>NaN</td>\n",
       "      <td>NaN</td>\n",
       "    </tr>\n",
       "    <tr>\n",
       "      <td>mean</td>\n",
       "      <td>NaN</td>\n",
       "      <td>398.326415</td>\n",
       "      <td>26.247170</td>\n",
       "      <td>28.415723</td>\n",
       "      <td>31.227044</td>\n",
       "      <td>8.970994</td>\n",
       "      <td>4.417486</td>\n",
       "    </tr>\n",
       "    <tr>\n",
       "      <td>std</td>\n",
       "      <td>NaN</td>\n",
       "      <td>357.978317</td>\n",
       "      <td>9.996441</td>\n",
       "      <td>10.716328</td>\n",
       "      <td>11.610246</td>\n",
       "      <td>4.286208</td>\n",
       "      <td>1.685804</td>\n",
       "    </tr>\n",
       "    <tr>\n",
       "      <td>min</td>\n",
       "      <td>NaN</td>\n",
       "      <td>0.000000</td>\n",
       "      <td>7.500000</td>\n",
       "      <td>8.400000</td>\n",
       "      <td>8.800000</td>\n",
       "      <td>1.728400</td>\n",
       "      <td>1.047600</td>\n",
       "    </tr>\n",
       "    <tr>\n",
       "      <td>25%</td>\n",
       "      <td>NaN</td>\n",
       "      <td>120.000000</td>\n",
       "      <td>19.050000</td>\n",
       "      <td>21.000000</td>\n",
       "      <td>23.150000</td>\n",
       "      <td>5.944800</td>\n",
       "      <td>3.385650</td>\n",
       "    </tr>\n",
       "    <tr>\n",
       "      <td>50%</td>\n",
       "      <td>NaN</td>\n",
       "      <td>273.000000</td>\n",
       "      <td>25.200000</td>\n",
       "      <td>27.300000</td>\n",
       "      <td>29.400000</td>\n",
       "      <td>7.786000</td>\n",
       "      <td>4.248500</td>\n",
       "    </tr>\n",
       "    <tr>\n",
       "      <td>75%</td>\n",
       "      <td>NaN</td>\n",
       "      <td>650.000000</td>\n",
       "      <td>32.700000</td>\n",
       "      <td>35.500000</td>\n",
       "      <td>39.650000</td>\n",
       "      <td>12.365900</td>\n",
       "      <td>5.584500</td>\n",
       "    </tr>\n",
       "    <tr>\n",
       "      <td>max</td>\n",
       "      <td>NaN</td>\n",
       "      <td>1650.000000</td>\n",
       "      <td>59.000000</td>\n",
       "      <td>63.400000</td>\n",
       "      <td>68.000000</td>\n",
       "      <td>18.957000</td>\n",
       "      <td>8.142000</td>\n",
       "    </tr>\n",
       "  </tbody>\n",
       "</table>\n",
       "</div>"
      ],
      "text/plain": [
       "       Species       Weight     Length1     Length2     Length3      Height  \\\n",
       "count      159   159.000000  159.000000  159.000000  159.000000  159.000000   \n",
       "unique       7          NaN         NaN         NaN         NaN         NaN   \n",
       "top      Perch          NaN         NaN         NaN         NaN         NaN   \n",
       "freq        56          NaN         NaN         NaN         NaN         NaN   \n",
       "mean       NaN   398.326415   26.247170   28.415723   31.227044    8.970994   \n",
       "std        NaN   357.978317    9.996441   10.716328   11.610246    4.286208   \n",
       "min        NaN     0.000000    7.500000    8.400000    8.800000    1.728400   \n",
       "25%        NaN   120.000000   19.050000   21.000000   23.150000    5.944800   \n",
       "50%        NaN   273.000000   25.200000   27.300000   29.400000    7.786000   \n",
       "75%        NaN   650.000000   32.700000   35.500000   39.650000   12.365900   \n",
       "max        NaN  1650.000000   59.000000   63.400000   68.000000   18.957000   \n",
       "\n",
       "             Width  \n",
       "count   159.000000  \n",
       "unique         NaN  \n",
       "top            NaN  \n",
       "freq           NaN  \n",
       "mean      4.417486  \n",
       "std       1.685804  \n",
       "min       1.047600  \n",
       "25%       3.385650  \n",
       "50%       4.248500  \n",
       "75%       5.584500  \n",
       "max       8.142000  "
      ]
     },
     "execution_count": 5,
     "metadata": {},
     "output_type": "execute_result"
    }
   ],
   "source": [
    "df.describe(include = 'all')"
   ]
  },
  {
   "cell_type": "markdown",
   "metadata": {},
   "source": [
    "### DEALING WITH MISSING VALUES"
   ]
  },
  {
   "cell_type": "code",
   "execution_count": 6,
   "metadata": {},
   "outputs": [
    {
     "name": "stdout",
     "output_type": "stream",
     "text": [
      "<class 'pandas.core.frame.DataFrame'>\n",
      "RangeIndex: 159 entries, 0 to 158\n",
      "Data columns (total 7 columns):\n",
      "Species    159 non-null object\n",
      "Weight     159 non-null float64\n",
      "Length1    159 non-null float64\n",
      "Length2    159 non-null float64\n",
      "Length3    159 non-null float64\n",
      "Height     159 non-null float64\n",
      "Width      159 non-null float64\n",
      "dtypes: float64(6), object(1)\n",
      "memory usage: 8.8+ KB\n"
     ]
    }
   ],
   "source": [
    "df.info()"
   ]
  },
  {
   "cell_type": "markdown",
   "metadata": {},
   "source": [
    "#### This dataset is clean"
   ]
  },
  {
   "cell_type": "markdown",
   "metadata": {},
   "source": [
    "### DATASET ANALYSIS AND OUTLIERS REMOVAL"
   ]
  },
  {
   "cell_type": "markdown",
   "metadata": {},
   "source": [
    "#### we will plot the distribution of all  the numeric variables in other to be able to identify outliers and any other abnormalities\n",
    "#### Outliers will be dealt with by removing either top 1% or the bottom 1%"
   ]
  },
  {
   "cell_type": "code",
   "execution_count": 7,
   "metadata": {},
   "outputs": [
    {
     "data": {
      "text/plain": [
       "<matplotlib.axes._subplots.AxesSubplot at 0x1b98f13ba88>"
      ]
     },
     "execution_count": 7,
     "metadata": {},
     "output_type": "execute_result"
    },
    {
     "data": {
      "image/png": "[encoded data removed]",
      "text/plain": [
       "<Figure size 432x288 with 1 Axes>"
      ]
     },
     "metadata": {
      "needs_background": "light"
     },
     "output_type": "display_data"
    }
   ],
   "source": [
    "#plotting a distribution plot\n",
    "sns.distplot(df['Weight']) #we can see those few outliers shown by the longer right tail of the distribution"
   ]
  },
  {
   "cell_type": "code",
   "execution_count": 8,
   "metadata": {},
   "outputs": [
    {
     "data": {
      "text/plain": [
       "<matplotlib.axes._subplots.AxesSubplot at 0x1b98f138d88>"
      ]
     },
     "execution_count": 8,
     "metadata": {},
     "output_type": "execute_result"
    },
    {
     "data": {
      "image/png": "[encoded data removed]",
      "text/plain": [
       "<Figure size 432x288 with 1 Axes>"
      ]
     },
     "metadata": {
      "needs_background": "light"
     },
     "output_type": "display_data"
    }
   ],
   "source": [
    "#Removing the top 1% of the observation will help us to deal with the outliers\n",
    "q = df['Weight'].quantile(0.99)\n",
    "df = df[df['Weight']<q]\n",
    "\n",
    "sns.distplot(df['Weight']) "
   ]
  },
  {
   "cell_type": "code",
   "execution_count": 9,
   "metadata": {},
   "outputs": [
    {
     "data": {
      "text/plain": [
       "<matplotlib.axes._subplots.AxesSubplot at 0x1b98f4fe408>"
      ]
     },
     "execution_count": 9,
     "metadata": {},
     "output_type": "execute_result"
    },
    {
     "data": {
      "image/png": "[encoded data removed]",
      "text/plain": [
       "<Figure size 432x288 with 1 Axes>"
      ]
     },
     "metadata": {
      "needs_background": "light"
     },
     "output_type": "display_data"
    }
   ],
   "source": [
    "sns.distplot(df['Length1']) #we can see those few outliers shown by the longer right tail of the distribution"
   ]
  },
  {
   "cell_type": "code",
   "execution_count": 10,
   "metadata": {},
   "outputs": [
    {
     "data": {
      "text/plain": [
       "<matplotlib.axes._subplots.AxesSubplot at 0x1b98f593508>"
      ]
     },
     "execution_count": 10,
     "metadata": {},
     "output_type": "execute_result"
    },
    {
     "data": {
      "image/png": "[encoded data removed]",
      "text/plain": [
       "<Figure size 432x288 with 1 Axes>"
      ]
     },
     "metadata": {
      "needs_background": "light"
     },
     "output_type": "display_data"
    }
   ],
   "source": [
    "#Removing the top 1% of the observation will help us to deal with the outliers\n",
    "q = df['Length1'].quantile(0.99)\n",
    "df = df[df['Length1']<q]\n",
    "\n",
    "sns.distplot(df['Length1'])"
   ]
  },
  {
   "cell_type": "code",
   "execution_count": 11,
   "metadata": {},
   "outputs": [
    {
     "data": {
      "text/plain": [
       "<matplotlib.axes._subplots.AxesSubplot at 0x1b98f64c308>"
      ]
     },
     "execution_count": 11,
     "metadata": {},
     "output_type": "execute_result"
    },
    {
     "data": {
      "image/png": "[encoded data removed]",
      "text/plain": [
       "<Figure size 432x288 with 1 Axes>"
      ]
     },
     "metadata": {
      "needs_background": "light"
     },
     "output_type": "display_data"
    }
   ],
   "source": [
    "sns.distplot(df['Length2']) #we can see those few outliers shown by the longer right tail of the distribution"
   ]
  },
  {
   "cell_type": "code",
   "execution_count": 12,
   "metadata": {},
   "outputs": [
    {
     "data": {
      "text/plain": [
       "<matplotlib.axes._subplots.AxesSubplot at 0x1b98f6c56c8>"
      ]
     },
     "execution_count": 12,
     "metadata": {},
     "output_type": "execute_result"
    },
    {
     "data": {
      "image/png": "[encoded data removed]",
      "text/plain": [
       "<Figure size 432x288 with 1 Axes>"
      ]
     },
     "metadata": {
      "needs_background": "light"
     },
     "output_type": "display_data"
    }
   ],
   "source": [
    "#Removing the top 1% of the observation will help us to deal with the outliers\n",
    "q = df['Length2'].quantile(0.99)\n",
    "df = df[df['Length2']<q]\n",
    "\n",
    "sns.distplot(df['Length2'])"
   ]
  },
  {
   "cell_type": "code",
   "execution_count": 13,
   "metadata": {},
   "outputs": [
    {
     "data": {
      "text/plain": [
       "<matplotlib.axes._subplots.AxesSubplot at 0x1b98f73b0c8>"
      ]
     },
     "execution_count": 13,
     "metadata": {},
     "output_type": "execute_result"
    },
    {
     "data": {
      "image/png": "[encoded data removed]",
      "text/plain": [
       "<Figure size 432x288 with 1 Axes>"
      ]
     },
     "metadata": {
      "needs_background": "light"
     },
     "output_type": "display_data"
    }
   ],
   "source": [
    "sns.distplot(df['Length3']) #we can see those few outliers shown by the longer right tail of the distribution"
   ]
  },
  {
   "cell_type": "code",
   "execution_count": 14,
   "metadata": {},
   "outputs": [
    {
     "data": {
      "text/plain": [
       "<matplotlib.axes._subplots.AxesSubplot at 0x1b98f7abf08>"
      ]
     },
     "execution_count": 14,
     "metadata": {},
     "output_type": "execute_result"
    },
    {
     "data": {
      "image/png": "[encoded data removed]",
      "text/plain": [
       "<Figure size 432x288 with 1 Axes>"
      ]
     },
     "metadata": {
      "needs_background": "light"
     },
     "output_type": "display_data"
    }
   ],
   "source": [
    "#Removing the top 1% of the observation will help us to deal with the outliers\n",
    "q = df['Length3'].quantile(0.99)\n",
    "df = df[df['Length3']<q]\n",
    "\n",
    "sns.distplot(df['Length3'])"
   ]
  },
  {
   "cell_type": "code",
   "execution_count": 15,
   "metadata": {},
   "outputs": [],
   "source": [
    "#We need to reset index of the dataframe after droppinh those observation\n",
    "df.reset_index(drop = True, inplace = True)"
   ]
  },
  {
   "cell_type": "code",
   "execution_count": 16,
   "metadata": {},
   "outputs": [
    {
     "data": {
      "text/html": [
       "<div>\n",
       "<style scoped>\n",
       "    .dataframe tbody tr th:only-of-type {\n",
       "        vertical-align: middle;\n",
       "    }\n",
       "\n",
       "    .dataframe tbody tr th {\n",
       "        vertical-align: top;\n",
       "    }\n",
       "\n",
       "    .dataframe thead th {\n",
       "        text-align: right;\n",
       "    }\n",
       "</style>\n",
       "<table border=\"1\" class=\"dataframe\">\n",
       "  <thead>\n",
       "    <tr style=\"text-align: right;\">\n",
       "      <th></th>\n",
       "      <th>Weight</th>\n",
       "      <th>Length1</th>\n",
       "      <th>Length2</th>\n",
       "      <th>Length3</th>\n",
       "      <th>Height</th>\n",
       "      <th>Width</th>\n",
       "    </tr>\n",
       "  </thead>\n",
       "  <tbody>\n",
       "    <tr>\n",
       "      <td>count</td>\n",
       "      <td>151.000000</td>\n",
       "      <td>151.000000</td>\n",
       "      <td>151.000000</td>\n",
       "      <td>151.000000</td>\n",
       "      <td>151.000000</td>\n",
       "      <td>151.000000</td>\n",
       "    </tr>\n",
       "    <tr>\n",
       "      <td>mean</td>\n",
       "      <td>360.906623</td>\n",
       "      <td>24.980132</td>\n",
       "      <td>27.072848</td>\n",
       "      <td>29.843709</td>\n",
       "      <td>8.969083</td>\n",
       "      <td>4.333206</td>\n",
       "    </tr>\n",
       "    <tr>\n",
       "      <td>std</td>\n",
       "      <td>310.830536</td>\n",
       "      <td>8.435576</td>\n",
       "      <td>9.085703</td>\n",
       "      <td>10.047398</td>\n",
       "      <td>4.388229</td>\n",
       "      <td>1.676490</td>\n",
       "    </tr>\n",
       "    <tr>\n",
       "      <td>min</td>\n",
       "      <td>0.000000</td>\n",
       "      <td>7.500000</td>\n",
       "      <td>8.400000</td>\n",
       "      <td>8.800000</td>\n",
       "      <td>1.728400</td>\n",
       "      <td>1.047600</td>\n",
       "    </tr>\n",
       "    <tr>\n",
       "      <td>25%</td>\n",
       "      <td>120.000000</td>\n",
       "      <td>19.000000</td>\n",
       "      <td>20.900000</td>\n",
       "      <td>22.800000</td>\n",
       "      <td>5.896250</td>\n",
       "      <td>3.338300</td>\n",
       "    </tr>\n",
       "    <tr>\n",
       "      <td>50%</td>\n",
       "      <td>265.000000</td>\n",
       "      <td>24.000000</td>\n",
       "      <td>26.500000</td>\n",
       "      <td>28.900000</td>\n",
       "      <td>7.585200</td>\n",
       "      <td>4.204200</td>\n",
       "    </tr>\n",
       "    <tr>\n",
       "      <td>75%</td>\n",
       "      <td>600.000000</td>\n",
       "      <td>31.800000</td>\n",
       "      <td>34.750000</td>\n",
       "      <td>38.900000</td>\n",
       "      <td>12.406050</td>\n",
       "      <td>5.362700</td>\n",
       "    </tr>\n",
       "    <tr>\n",
       "      <td>max</td>\n",
       "      <td>1100.000000</td>\n",
       "      <td>41.100000</td>\n",
       "      <td>44.000000</td>\n",
       "      <td>46.600000</td>\n",
       "      <td>18.957000</td>\n",
       "      <td>8.142000</td>\n",
       "    </tr>\n",
       "  </tbody>\n",
       "</table>\n",
       "</div>"
      ],
      "text/plain": [
       "            Weight     Length1     Length2     Length3      Height       Width\n",
       "count   151.000000  151.000000  151.000000  151.000000  151.000000  151.000000\n",
       "mean    360.906623   24.980132   27.072848   29.843709    8.969083    4.333206\n",
       "std     310.830536    8.435576    9.085703   10.047398    4.388229    1.676490\n",
       "min       0.000000    7.500000    8.400000    8.800000    1.728400    1.047600\n",
       "25%     120.000000   19.000000   20.900000   22.800000    5.896250    3.338300\n",
       "50%     265.000000   24.000000   26.500000   28.900000    7.585200    4.204200\n",
       "75%     600.000000   31.800000   34.750000   38.900000   12.406050    5.362700\n",
       "max    1100.000000   41.100000   44.000000   46.600000   18.957000    8.142000"
      ]
     },
     "execution_count": 16,
     "metadata": {},
     "output_type": "execute_result"
    }
   ],
   "source": [
    "df.describe()"
   ]
  },
  {
   "cell_type": "code",
   "execution_count": 17,
   "metadata": {},
   "outputs": [
    {
     "data": {
      "text/plain": [
       "<matplotlib.axes._subplots.AxesSubplot at 0x1b98f80b748>"
      ]
     },
     "execution_count": 17,
     "metadata": {},
     "output_type": "execute_result"
    },
    {
     "data": {
      "image/png": "[encoded data removed]",
      "text/plain": [
       "<Figure size 432x288 with 1 Axes>"
      ]
     },
     "metadata": {
      "needs_background": "light"
     },
     "output_type": "display_data"
    }
   ],
   "source": [
    "sns.distplot(df['Height']) #we can see those few outliers shown by the longer right tail of the distribution"
   ]
  },
  {
   "cell_type": "code",
   "execution_count": 18,
   "metadata": {},
   "outputs": [
    {
     "data": {
      "text/plain": [
       "<matplotlib.axes._subplots.AxesSubplot at 0x1b98f8b3788>"
      ]
     },
     "execution_count": 18,
     "metadata": {},
     "output_type": "execute_result"
    },
    {
     "data": {
      "image/png": "[encoded data removed]",
      "text/plain": [
       "<Figure size 432x288 with 1 Axes>"
      ]
     },
     "metadata": {
      "needs_background": "light"
     },
     "output_type": "display_data"
    }
   ],
   "source": [
    "#Removing the top 1% of the observation will help us to deal with the outliers\n",
    "q = df['Height'].quantile(0.99)\n",
    "df = df[df['Height']<q]\n",
    "\n",
    "sns.distplot(df['Height'])"
   ]
  },
  {
   "cell_type": "code",
   "execution_count": 19,
   "metadata": {},
   "outputs": [
    {
     "data": {
      "text/plain": [
       "<matplotlib.axes._subplots.AxesSubplot at 0x1b98f925148>"
      ]
     },
     "execution_count": 19,
     "metadata": {},
     "output_type": "execute_result"
    },
    {
     "data": {
      "image/png": "[encoded data removed]",
      "text/plain": [
       "<Figure size 432x288 with 1 Axes>"
      ]
     },
     "metadata": {
      "needs_background": "light"
     },
     "output_type": "display_data"
    }
   ],
   "source": [
    "sns.distplot(df['Width']) #we can see those few outliers shown by the longer right tail of the distribution"
   ]
  },
  {
   "cell_type": "code",
   "execution_count": 20,
   "metadata": {},
   "outputs": [
    {
     "data": {
      "text/plain": [
       "<matplotlib.axes._subplots.AxesSubplot at 0x1b98f9a5b08>"
      ]
     },
     "execution_count": 20,
     "metadata": {},
     "output_type": "execute_result"
    },
    {
     "data": {
      "image/png": "[encoded data removed]",
      "text/plain": [
       "<Figure size 432x288 with 1 Axes>"
      ]
     },
     "metadata": {
      "needs_background": "light"
     },
     "output_type": "display_data"
    }
   ],
   "source": [
    "#Removing the top 1% of the observation will help us to deal with the outliers\n",
    "q = df['Width'].quantile(0.99)\n",
    "df = df[df['Width']<q]\n",
    "\n",
    "sns.distplot(df['Width'])"
   ]
  },
  {
   "cell_type": "code",
   "execution_count": 21,
   "metadata": {},
   "outputs": [
    {
     "data": {
      "text/html": [
       "<div>\n",
       "<style scoped>\n",
       "    .dataframe tbody tr th:only-of-type {\n",
       "        vertical-align: middle;\n",
       "    }\n",
       "\n",
       "    .dataframe tbody tr th {\n",
       "        vertical-align: top;\n",
       "    }\n",
       "\n",
       "    .dataframe thead th {\n",
       "        text-align: right;\n",
       "    }\n",
       "</style>\n",
       "<table border=\"1\" class=\"dataframe\">\n",
       "  <thead>\n",
       "    <tr style=\"text-align: right;\">\n",
       "      <th></th>\n",
       "      <th>Weight</th>\n",
       "      <th>Length1</th>\n",
       "      <th>Length2</th>\n",
       "      <th>Length3</th>\n",
       "      <th>Height</th>\n",
       "      <th>Width</th>\n",
       "    </tr>\n",
       "  </thead>\n",
       "  <tbody>\n",
       "    <tr>\n",
       "      <td>count</td>\n",
       "      <td>147.000000</td>\n",
       "      <td>147.000000</td>\n",
       "      <td>147.000000</td>\n",
       "      <td>147.000000</td>\n",
       "      <td>147.000000</td>\n",
       "      <td>147.000000</td>\n",
       "    </tr>\n",
       "    <tr>\n",
       "      <td>mean</td>\n",
       "      <td>345.114966</td>\n",
       "      <td>24.691156</td>\n",
       "      <td>26.755102</td>\n",
       "      <td>29.491156</td>\n",
       "      <td>8.792707</td>\n",
       "      <td>4.251862</td>\n",
       "    </tr>\n",
       "    <tr>\n",
       "      <td>std</td>\n",
       "      <td>299.440946</td>\n",
       "      <td>8.348119</td>\n",
       "      <td>8.983235</td>\n",
       "      <td>9.933346</td>\n",
       "      <td>4.275482</td>\n",
       "      <td>1.619938</td>\n",
       "    </tr>\n",
       "    <tr>\n",
       "      <td>min</td>\n",
       "      <td>0.000000</td>\n",
       "      <td>7.500000</td>\n",
       "      <td>8.400000</td>\n",
       "      <td>8.800000</td>\n",
       "      <td>1.728400</td>\n",
       "      <td>1.047600</td>\n",
       "    </tr>\n",
       "    <tr>\n",
       "      <td>25%</td>\n",
       "      <td>120.000000</td>\n",
       "      <td>19.000000</td>\n",
       "      <td>20.750000</td>\n",
       "      <td>22.650000</td>\n",
       "      <td>5.865500</td>\n",
       "      <td>3.323300</td>\n",
       "    </tr>\n",
       "    <tr>\n",
       "      <td>50%</td>\n",
       "      <td>250.000000</td>\n",
       "      <td>24.000000</td>\n",
       "      <td>26.000000</td>\n",
       "      <td>28.900000</td>\n",
       "      <td>7.405200</td>\n",
       "      <td>4.158000</td>\n",
       "    </tr>\n",
       "    <tr>\n",
       "      <td>75%</td>\n",
       "      <td>548.000000</td>\n",
       "      <td>31.450000</td>\n",
       "      <td>34.000000</td>\n",
       "      <td>38.650000</td>\n",
       "      <td>12.365900</td>\n",
       "      <td>5.279300</td>\n",
       "    </tr>\n",
       "    <tr>\n",
       "      <td>max</td>\n",
       "      <td>1100.000000</td>\n",
       "      <td>41.100000</td>\n",
       "      <td>44.000000</td>\n",
       "      <td>46.600000</td>\n",
       "      <td>18.635400</td>\n",
       "      <td>7.595800</td>\n",
       "    </tr>\n",
       "  </tbody>\n",
       "</table>\n",
       "</div>"
      ],
      "text/plain": [
       "            Weight     Length1     Length2     Length3      Height       Width\n",
       "count   147.000000  147.000000  147.000000  147.000000  147.000000  147.000000\n",
       "mean    345.114966   24.691156   26.755102   29.491156    8.792707    4.251862\n",
       "std     299.440946    8.348119    8.983235    9.933346    4.275482    1.619938\n",
       "min       0.000000    7.500000    8.400000    8.800000    1.728400    1.047600\n",
       "25%     120.000000   19.000000   20.750000   22.650000    5.865500    3.323300\n",
       "50%     250.000000   24.000000   26.000000   28.900000    7.405200    4.158000\n",
       "75%     548.000000   31.450000   34.000000   38.650000   12.365900    5.279300\n",
       "max    1100.000000   41.100000   44.000000   46.600000   18.635400    7.595800"
      ]
     },
     "execution_count": 21,
     "metadata": {},
     "output_type": "execute_result"
    }
   ],
   "source": [
    "df.describe()"
   ]
  },
  {
   "cell_type": "markdown",
   "metadata": {},
   "source": [
    "### ASSUMPTION CHECK\n",
    "### 1.The first assumption we will check is No multicollinearity\n",
    "#### The minimum variance inflation factor(vif) will be 10"
   ]
  },
  {
   "cell_type": "code",
   "execution_count": 22,
   "metadata": {},
   "outputs": [
    {
     "data": {
      "text/plain": [
       "array(['Species', 'Weight', 'Length1', 'Length2', 'Length3', 'Height',\n",
       "       'Width'], dtype=object)"
      ]
     },
     "execution_count": 22,
     "metadata": {},
     "output_type": "execute_result"
    }
   ],
   "source": [
    "df.columns.values"
   ]
  },
  {
   "cell_type": "code",
   "execution_count": 23,
   "metadata": {},
   "outputs": [
    {
     "name": "stderr",
     "output_type": "stream",
     "text": [
      "C:\\Users\\ABOLARIN BUKOLA\\Anaconda3\\lib\\site-packages\\numpy\\core\\fromnumeric.py:2389: FutureWarning: Method .ptp is deprecated and will be removed in a future version. Use numpy.ptp instead.\n",
      "  return ptp(axis=axis, out=out, **kwargs)\n"
     ]
    },
    {
     "data": {
      "text/html": [
       "<div>\n",
       "<style scoped>\n",
       "    .dataframe tbody tr th:only-of-type {\n",
       "        vertical-align: middle;\n",
       "    }\n",
       "\n",
       "    .dataframe tbody tr th {\n",
       "        vertical-align: top;\n",
       "    }\n",
       "\n",
       "    .dataframe thead th {\n",
       "        text-align: right;\n",
       "    }\n",
       "</style>\n",
       "<table border=\"1\" class=\"dataframe\">\n",
       "  <thead>\n",
       "    <tr style=\"text-align: right;\">\n",
       "      <th></th>\n",
       "      <th>VIF</th>\n",
       "      <th>features</th>\n",
       "    </tr>\n",
       "  </thead>\n",
       "  <tbody>\n",
       "    <tr>\n",
       "      <td>0</td>\n",
       "      <td>11.363704</td>\n",
       "      <td>const</td>\n",
       "    </tr>\n",
       "    <tr>\n",
       "      <td>1</td>\n",
       "      <td>1160.000094</td>\n",
       "      <td>Length1</td>\n",
       "    </tr>\n",
       "    <tr>\n",
       "      <td>2</td>\n",
       "      <td>1447.868681</td>\n",
       "      <td>Length2</td>\n",
       "    </tr>\n",
       "    <tr>\n",
       "      <td>3</td>\n",
       "      <td>297.012915</td>\n",
       "      <td>Length3</td>\n",
       "    </tr>\n",
       "    <tr>\n",
       "      <td>4</td>\n",
       "      <td>15.056790</td>\n",
       "      <td>Height</td>\n",
       "    </tr>\n",
       "    <tr>\n",
       "      <td>5</td>\n",
       "      <td>13.626161</td>\n",
       "      <td>Width</td>\n",
       "    </tr>\n",
       "  </tbody>\n",
       "</table>\n",
       "</div>"
      ],
      "text/plain": [
       "           VIF features\n",
       "0    11.363704    const\n",
       "1  1160.000094  Length1\n",
       "2  1447.868681  Length2\n",
       "3   297.012915  Length3\n",
       "4    15.056790   Height\n",
       "5    13.626161    Width"
      ]
     },
     "execution_count": 23,
     "metadata": {},
     "output_type": "execute_result"
    }
   ],
   "source": [
    "from statsmodels.stats.outliers_influence import variance_inflation_factor\n",
    "from statsmodels.tools.tools import add_constant\n",
    "\n",
    "# the target column (in this case 'weight') should not be included in variables\n",
    "#Categorical variables already turned into dummy indicator may or maynot be added if any\n",
    "variables = df[['Length1', 'Length2', 'Length3', 'Height','Width']]\n",
    "X = add_constant(variables)\n",
    "vif = pd.DataFrame()\n",
    "vif['VIF'] = [variance_inflation_factor(X.values, i) for i in range (X.shape[1]) ]\n",
    "vif['features'] = X.columns\n",
    "vif"
   ]
  },
  {
   "cell_type": "markdown",
   "metadata": {},
   "source": [
    "#### from the table above 'Length1' and  'Length2' are highly correlated with the rest of variables.\n",
    "#### Let's drop them and run the code again"
   ]
  },
  {
   "cell_type": "code",
   "execution_count": 24,
   "metadata": {},
   "outputs": [],
   "source": [
    "df.drop(['Length1','Length2'], axis = 1, inplace = True)"
   ]
  },
  {
   "cell_type": "code",
   "execution_count": 25,
   "metadata": {},
   "outputs": [
    {
     "data": {
      "text/html": [
       "<div>\n",
       "<style scoped>\n",
       "    .dataframe tbody tr th:only-of-type {\n",
       "        vertical-align: middle;\n",
       "    }\n",
       "\n",
       "    .dataframe tbody tr th {\n",
       "        vertical-align: top;\n",
       "    }\n",
       "\n",
       "    .dataframe thead th {\n",
       "        text-align: right;\n",
       "    }\n",
       "</style>\n",
       "<table border=\"1\" class=\"dataframe\">\n",
       "  <thead>\n",
       "    <tr style=\"text-align: right;\">\n",
       "      <th></th>\n",
       "      <th>VIF</th>\n",
       "      <th>features</th>\n",
       "    </tr>\n",
       "  </thead>\n",
       "  <tbody>\n",
       "    <tr>\n",
       "      <td>0</td>\n",
       "      <td>10.332900</td>\n",
       "      <td>const</td>\n",
       "    </tr>\n",
       "    <tr>\n",
       "      <td>1</td>\n",
       "      <td>7.339804</td>\n",
       "      <td>Length3</td>\n",
       "    </tr>\n",
       "    <tr>\n",
       "      <td>2</td>\n",
       "      <td>3.297824</td>\n",
       "      <td>Height</td>\n",
       "    </tr>\n",
       "    <tr>\n",
       "      <td>3</td>\n",
       "      <td>7.160986</td>\n",
       "      <td>Width</td>\n",
       "    </tr>\n",
       "  </tbody>\n",
       "</table>\n",
       "</div>"
      ],
      "text/plain": [
       "         VIF features\n",
       "0  10.332900    const\n",
       "1   7.339804  Length3\n",
       "2   3.297824   Height\n",
       "3   7.160986    Width"
      ]
     },
     "execution_count": 25,
     "metadata": {},
     "output_type": "execute_result"
    }
   ],
   "source": [
    "from statsmodels.stats.outliers_influence import variance_inflation_factor\n",
    "from statsmodels.tools.tools import add_constant\n",
    "\n",
    "variables = df[['Length3', 'Height','Width']]\n",
    "X = add_constant(variables)\n",
    "vif = pd.DataFrame()\n",
    "vif['VIF'] = [variance_inflation_factor(X.values, i) for i in range (X.shape[1]) ]\n",
    "vif['features'] = X.columns\n",
    "vif"
   ]
  },
  {
   "cell_type": "markdown",
   "metadata": {},
   "source": [
    "#### After dropping those variables and running the code again the result shows that Non of the variables are having a vif >= 10\n",
    "\n",
    "### 2.The next assumption we will like to check is LINEARITY\n",
    "#### Let's plot each numerical variable against our target variable 'Weight' and check to see if the resulting plot is linear"
   ]
  },
  {
   "cell_type": "code",
   "execution_count": 26,
   "metadata": {},
   "outputs": [
    {
     "data": {
      "text/plain": [
       "Text(0.5, 1.0, 'Width and weight')"
      ]
     },
     "execution_count": 26,
     "metadata": {},
     "output_type": "execute_result"
    },
    {
     "data": {
      "image/png": "[encoded data removed]",
      "text/plain": [
       "<Figure size 1080x216 with 3 Axes>"
      ]
     },
     "metadata": {
      "needs_background": "light"
     },
     "output_type": "display_data"
    }
   ],
   "source": [
    "fig,(ax1,ax2,ax3) = plt.subplots(1,3, figsize =(15,3))\n",
    "ax1.scatter(df['Length3'], df['Weight'])\n",
    "ax1.set_title('Length3 and weight')\n",
    "\n",
    "ax2.scatter(df['Height'], df['Weight'])\n",
    "ax2.set_title('Height and weight')\n",
    "\n",
    "ax3.scatter(df['Width'], df['Weight'])\n",
    "ax3.set_title('Width and weight')"
   ]
  },
  {
   "cell_type": "markdown",
   "metadata": {},
   "source": [
    "####  The resulting plots above gives us a rather curve line\n",
    "#### Let's try to correct this by taking the log of  our target variable 'Weight'"
   ]
  },
  {
   "cell_type": "code",
   "execution_count": 27,
   "metadata": {},
   "outputs": [
    {
     "name": "stderr",
     "output_type": "stream",
     "text": [
      "C:\\Users\\ABOLARIN BUKOLA\\Anaconda3\\lib\\site-packages\\pandas\\core\\series.py:853: RuntimeWarning: divide by zero encountered in log\n",
      "  result = getattr(ufunc, method)(*inputs, **kwargs)\n"
     ]
    }
   ],
   "source": [
    "#Creating a new column in our dataset containing log-of-weight\n",
    "df['log_weight'] = np.log(df['Weight'])"
   ]
  },
  {
   "cell_type": "code",
   "execution_count": 28,
   "metadata": {},
   "outputs": [
    {
     "data": {
      "text/plain": [
       "Text(0.5, 1.0, 'Width and log_weight')"
      ]
     },
     "execution_count": 28,
     "metadata": {},
     "output_type": "execute_result"
    },
    {
     "data": {
      "image/png": "[encoded data removed]",
      "text/plain": [
       "<Figure size 1080x216 with 3 Axes>"
      ]
     },
     "metadata": {
      "needs_background": "light"
     },
     "output_type": "display_data"
    }
   ],
   "source": [
    "#RE plotting the graphs but this time using 'log_weight' as our target variable\n",
    "fig,(ax1,ax2,ax3) = plt.subplots(1,3, figsize =(15,3))\n",
    "ax1.scatter(df['Length3'], df['log_weight'])\n",
    "ax1.set_title('Length3 and log_weight')\n",
    "\n",
    "ax2.scatter(df['Height'], df['log_weight'])\n",
    "ax2.set_title('Height and log_weight')\n",
    "\n",
    "ax3.scatter(df['Width'], df['log_weight'])\n",
    "ax3.set_title('Width and log_weight')"
   ]
  },
  {
   "cell_type": "markdown",
   "metadata": {},
   "source": [
    "#### The above plots till leads to a not so straight line, next we take the log of the numerical variables"
   ]
  },
  {
   "cell_type": "code",
   "execution_count": 29,
   "metadata": {},
   "outputs": [],
   "source": [
    "#Creating new columns to hold the logs of the variables\n",
    "df['log_length3'] = np.log(df['Length3'])\n",
    "\n",
    "df['log_width'] = np.log(df['Width'])\n",
    "\n",
    "df['log_height'] = np.log(df['Height'])"
   ]
  },
  {
   "cell_type": "code",
   "execution_count": 30,
   "metadata": {},
   "outputs": [
    {
     "data": {
      "text/plain": [
       "Text(0.5, 1.0, 'log_height and log_weight')"
      ]
     },
     "execution_count": 30,
     "metadata": {},
     "output_type": "execute_result"
    },
    {
     "data": {
      "image/png": "[encoded data removed]",
      "text/plain": [
       "<Figure size 1080x216 with 3 Axes>"
      ]
     },
     "metadata": {
      "needs_background": "light"
     },
     "output_type": "display_data"
    }
   ],
   "source": [
    "fig,(ax1,ax2,ax3) = plt.subplots(1,3, figsize =(15,3))\n",
    "ax1.scatter(df['log_length3'], df['log_weight'])\n",
    "ax1.set_title('log_weight and log_length 1')\n",
    "ax2.scatter(df['log_width'], df['log_weight'])\n",
    "ax2.set_title('log_width and log_weight')\n",
    "ax3.scatter(df['log_height'], df['log_weight'])\n",
    "ax3.set_title('log_height and log_weight')"
   ]
  },
  {
   "cell_type": "markdown",
   "metadata": {},
   "source": [
    "#### The above graph gives a straight line plot Therefore our Linearity assumption as been satified\n",
    "### 3. The next assumption to check is Normality and Homoscedasticity\n",
    "#### Normality is assumed while from the last graphs we can see that homoscedasticity as been achieved\n",
    "\n",
    "\n",
    "\n",
    "#### We are going to use the new log columns we created inplace of the former variables so let's drop those former variables"
   ]
  },
  {
   "cell_type": "code",
   "execution_count": 31,
   "metadata": {},
   "outputs": [
    {
     "data": {
      "text/plain": [
       "array(['Species', 'Weight', 'Length3', 'Height', 'Width', 'log_weight',\n",
       "       'log_length3', 'log_width', 'log_height'], dtype=object)"
      ]
     },
     "execution_count": 31,
     "metadata": {},
     "output_type": "execute_result"
    }
   ],
   "source": [
    "#Getting the present variables in our dataframe\n",
    "df.columns.values"
   ]
  },
  {
   "cell_type": "code",
   "execution_count": 32,
   "metadata": {},
   "outputs": [],
   "source": [
    "#Dropping those columns that as been logged\n",
    "df = df.drop(['Length3', 'Height', 'Width', 'Weight'], axis = 1)"
   ]
  },
  {
   "cell_type": "code",
   "execution_count": 33,
   "metadata": {},
   "outputs": [
    {
     "data": {
      "text/html": [
       "<div>\n",
       "<style scoped>\n",
       "    .dataframe tbody tr th:only-of-type {\n",
       "        vertical-align: middle;\n",
       "    }\n",
       "\n",
       "    .dataframe tbody tr th {\n",
       "        vertical-align: top;\n",
       "    }\n",
       "\n",
       "    .dataframe thead th {\n",
       "        text-align: right;\n",
       "    }\n",
       "</style>\n",
       "<table border=\"1\" class=\"dataframe\">\n",
       "  <thead>\n",
       "    <tr style=\"text-align: right;\">\n",
       "      <th></th>\n",
       "      <th>log_weight</th>\n",
       "      <th>log_length3</th>\n",
       "      <th>log_width</th>\n",
       "      <th>log_height</th>\n",
       "    </tr>\n",
       "  </thead>\n",
       "  <tbody>\n",
       "    <tr>\n",
       "      <td>count</td>\n",
       "      <td>147.000000</td>\n",
       "      <td>147.000000</td>\n",
       "      <td>147.000000</td>\n",
       "      <td>147.000000</td>\n",
       "    </tr>\n",
       "    <tr>\n",
       "      <td>mean</td>\n",
       "      <td>-inf</td>\n",
       "      <td>3.318205</td>\n",
       "      <td>1.356207</td>\n",
       "      <td>2.033067</td>\n",
       "    </tr>\n",
       "    <tr>\n",
       "      <td>std</td>\n",
       "      <td>NaN</td>\n",
       "      <td>0.382190</td>\n",
       "      <td>0.464544</td>\n",
       "      <td>0.572200</td>\n",
       "    </tr>\n",
       "    <tr>\n",
       "      <td>min</td>\n",
       "      <td>-inf</td>\n",
       "      <td>2.174752</td>\n",
       "      <td>0.046502</td>\n",
       "      <td>0.547196</td>\n",
       "    </tr>\n",
       "    <tr>\n",
       "      <td>25%</td>\n",
       "      <td>4.787492</td>\n",
       "      <td>3.120138</td>\n",
       "      <td>1.200958</td>\n",
       "      <td>1.769086</td>\n",
       "    </tr>\n",
       "    <tr>\n",
       "      <td>50%</td>\n",
       "      <td>5.521461</td>\n",
       "      <td>3.363842</td>\n",
       "      <td>1.425034</td>\n",
       "      <td>2.002182</td>\n",
       "    </tr>\n",
       "    <tr>\n",
       "      <td>75%</td>\n",
       "      <td>6.306169</td>\n",
       "      <td>3.654546</td>\n",
       "      <td>1.663794</td>\n",
       "      <td>2.514942</td>\n",
       "    </tr>\n",
       "    <tr>\n",
       "      <td>max</td>\n",
       "      <td>7.003065</td>\n",
       "      <td>3.841601</td>\n",
       "      <td>2.027595</td>\n",
       "      <td>2.925063</td>\n",
       "    </tr>\n",
       "  </tbody>\n",
       "</table>\n",
       "</div>"
      ],
      "text/plain": [
       "       log_weight  log_length3   log_width  log_height\n",
       "count  147.000000   147.000000  147.000000  147.000000\n",
       "mean         -inf     3.318205    1.356207    2.033067\n",
       "std           NaN     0.382190    0.464544    0.572200\n",
       "min          -inf     2.174752    0.046502    0.547196\n",
       "25%      4.787492     3.120138    1.200958    1.769086\n",
       "50%      5.521461     3.363842    1.425034    2.002182\n",
       "75%      6.306169     3.654546    1.663794    2.514942\n",
       "max      7.003065     3.841601    2.027595    2.925063"
      ]
     },
     "execution_count": 33,
     "metadata": {},
     "output_type": "execute_result"
    }
   ],
   "source": [
    "df.describe()"
   ]
  },
  {
   "cell_type": "markdown",
   "metadata": {},
   "source": [
    "#### From the the table above log_weight seems to have a minimum value of -inf(infinity) which is useless\n",
    "#### Let's locate and drop the row having the -inf value"
   ]
  },
  {
   "cell_type": "code",
   "execution_count": 34,
   "metadata": {},
   "outputs": [
    {
     "data": {
      "text/html": [
       "<div>\n",
       "<style scoped>\n",
       "    .dataframe tbody tr th:only-of-type {\n",
       "        vertical-align: middle;\n",
       "    }\n",
       "\n",
       "    .dataframe tbody tr th {\n",
       "        vertical-align: top;\n",
       "    }\n",
       "\n",
       "    .dataframe thead th {\n",
       "        text-align: right;\n",
       "    }\n",
       "</style>\n",
       "<table border=\"1\" class=\"dataframe\">\n",
       "  <thead>\n",
       "    <tr style=\"text-align: right;\">\n",
       "      <th></th>\n",
       "      <th>Species</th>\n",
       "      <th>log_weight</th>\n",
       "      <th>log_length3</th>\n",
       "      <th>log_width</th>\n",
       "      <th>log_height</th>\n",
       "    </tr>\n",
       "  </thead>\n",
       "  <tbody>\n",
       "    <tr>\n",
       "      <td>40</td>\n",
       "      <td>Roach</td>\n",
       "      <td>-inf</td>\n",
       "      <td>3.126761</td>\n",
       "      <td>1.209438</td>\n",
       "      <td>1.867979</td>\n",
       "    </tr>\n",
       "    <tr>\n",
       "      <td>72</td>\n",
       "      <td>Perch</td>\n",
       "      <td>1.774952</td>\n",
       "      <td>2.174752</td>\n",
       "      <td>0.342170</td>\n",
       "      <td>0.747635</td>\n",
       "    </tr>\n",
       "    <tr>\n",
       "      <td>137</td>\n",
       "      <td>Smelt</td>\n",
       "      <td>1.902108</td>\n",
       "      <td>2.379546</td>\n",
       "      <td>0.046502</td>\n",
       "      <td>0.553195</td>\n",
       "    </tr>\n",
       "    <tr>\n",
       "      <td>139</td>\n",
       "      <td>Smelt</td>\n",
       "      <td>1.945910</td>\n",
       "      <td>2.451005</td>\n",
       "      <td>0.138370</td>\n",
       "      <td>0.547196</td>\n",
       "    </tr>\n",
       "    <tr>\n",
       "      <td>138</td>\n",
       "      <td>Smelt</td>\n",
       "      <td>2.014903</td>\n",
       "      <td>2.451005</td>\n",
       "      <td>0.148420</td>\n",
       "      <td>0.679048</td>\n",
       "    </tr>\n",
       "    <tr>\n",
       "      <td>...</td>\n",
       "      <td>...</td>\n",
       "      <td>...</td>\n",
       "      <td>...</td>\n",
       "      <td>...</td>\n",
       "      <td>...</td>\n",
       "    </tr>\n",
       "    <tr>\n",
       "      <td>60</td>\n",
       "      <td>Whitefish</td>\n",
       "      <td>6.907755</td>\n",
       "      <td>3.772761</td>\n",
       "      <td>1.875641</td>\n",
       "      <td>2.513980</td>\n",
       "    </tr>\n",
       "    <tr>\n",
       "      <td>124</td>\n",
       "      <td>Perch</td>\n",
       "      <td>6.907755</td>\n",
       "      <td>3.811097</td>\n",
       "      <td>1.984746</td>\n",
       "      <td>2.479291</td>\n",
       "    </tr>\n",
       "    <tr>\n",
       "      <td>121</td>\n",
       "      <td>Perch</td>\n",
       "      <td>6.922644</td>\n",
       "      <td>3.747148</td>\n",
       "      <td>2.009877</td>\n",
       "      <td>2.516147</td>\n",
       "    </tr>\n",
       "    <tr>\n",
       "      <td>123</td>\n",
       "      <td>Perch</td>\n",
       "      <td>7.003065</td>\n",
       "      <td>3.797734</td>\n",
       "      <td>1.926931</td>\n",
       "      <td>2.549461</td>\n",
       "    </tr>\n",
       "    <tr>\n",
       "      <td>125</td>\n",
       "      <td>Perch</td>\n",
       "      <td>7.003065</td>\n",
       "      <td>3.817712</td>\n",
       "      <td>2.003707</td>\n",
       "      <td>2.526728</td>\n",
       "    </tr>\n",
       "  </tbody>\n",
       "</table>\n",
       "<p>147 rows × 5 columns</p>\n",
       "</div>"
      ],
      "text/plain": [
       "       Species  log_weight  log_length3  log_width  log_height\n",
       "40       Roach        -inf     3.126761   1.209438    1.867979\n",
       "72       Perch    1.774952     2.174752   0.342170    0.747635\n",
       "137      Smelt    1.902108     2.379546   0.046502    0.553195\n",
       "139      Smelt    1.945910     2.451005   0.138370    0.547196\n",
       "138      Smelt    2.014903     2.451005   0.148420    0.679048\n",
       "..         ...         ...          ...        ...         ...\n",
       "60   Whitefish    6.907755     3.772761   1.875641    2.513980\n",
       "124      Perch    6.907755     3.811097   1.984746    2.479291\n",
       "121      Perch    6.922644     3.747148   2.009877    2.516147\n",
       "123      Perch    7.003065     3.797734   1.926931    2.549461\n",
       "125      Perch    7.003065     3.817712   2.003707    2.526728\n",
       "\n",
       "[147 rows x 5 columns]"
      ]
     },
     "execution_count": 34,
     "metadata": {},
     "output_type": "execute_result"
    }
   ],
   "source": [
    "df[df['log_weight'].apply(lambda x: x < 1000)].sort_values('log_weight', ascending = True)"
   ]
  },
  {
   "cell_type": "code",
   "execution_count": 35,
   "metadata": {},
   "outputs": [],
   "source": [
    "#Drop a row with index number 40\n",
    "df.drop([40], inplace = True)\n",
    "\n",
    "#Resetting the index after dropping a row\n",
    "df.reset_index(drop = True, inplace = True)"
   ]
  },
  {
   "cell_type": "markdown",
   "metadata": {},
   "source": [
    "### Dummy Variables\n",
    "#### Species is a categorical variable so we need  to turn it into a dummy indicator before we can perform our regression"
   ]
  },
  {
   "cell_type": "code",
   "execution_count": 36,
   "metadata": {},
   "outputs": [],
   "source": [
    "df = pd.get_dummies(df, drop_first = True)"
   ]
  },
  {
   "cell_type": "code",
   "execution_count": 37,
   "metadata": {},
   "outputs": [
    {
     "data": {
      "text/html": [
       "<div>\n",
       "<style scoped>\n",
       "    .dataframe tbody tr th:only-of-type {\n",
       "        vertical-align: middle;\n",
       "    }\n",
       "\n",
       "    .dataframe tbody tr th {\n",
       "        vertical-align: top;\n",
       "    }\n",
       "\n",
       "    .dataframe thead th {\n",
       "        text-align: right;\n",
       "    }\n",
       "</style>\n",
       "<table border=\"1\" class=\"dataframe\">\n",
       "  <thead>\n",
       "    <tr style=\"text-align: right;\">\n",
       "      <th></th>\n",
       "      <th>log_weight</th>\n",
       "      <th>log_length3</th>\n",
       "      <th>log_width</th>\n",
       "      <th>log_height</th>\n",
       "      <th>Species_Parkki</th>\n",
       "      <th>Species_Perch</th>\n",
       "      <th>Species_Pike</th>\n",
       "      <th>Species_Roach</th>\n",
       "      <th>Species_Smelt</th>\n",
       "      <th>Species_Whitefish</th>\n",
       "    </tr>\n",
       "  </thead>\n",
       "  <tbody>\n",
       "    <tr>\n",
       "      <td>0</td>\n",
       "      <td>5.488938</td>\n",
       "      <td>3.401197</td>\n",
       "      <td>1.391282</td>\n",
       "      <td>2.444085</td>\n",
       "      <td>0</td>\n",
       "      <td>0</td>\n",
       "      <td>0</td>\n",
       "      <td>0</td>\n",
       "      <td>0</td>\n",
       "      <td>0</td>\n",
       "    </tr>\n",
       "    <tr>\n",
       "      <td>1</td>\n",
       "      <td>5.669881</td>\n",
       "      <td>3.440418</td>\n",
       "      <td>1.459917</td>\n",
       "      <td>2.524127</td>\n",
       "      <td>0</td>\n",
       "      <td>0</td>\n",
       "      <td>0</td>\n",
       "      <td>0</td>\n",
       "      <td>0</td>\n",
       "      <td>0</td>\n",
       "    </tr>\n",
       "    <tr>\n",
       "      <td>2</td>\n",
       "      <td>5.828946</td>\n",
       "      <td>3.437208</td>\n",
       "      <td>1.546732</td>\n",
       "      <td>2.515905</td>\n",
       "      <td>0</td>\n",
       "      <td>0</td>\n",
       "      <td>0</td>\n",
       "      <td>0</td>\n",
       "      <td>0</td>\n",
       "      <td>0</td>\n",
       "    </tr>\n",
       "    <tr>\n",
       "      <td>3</td>\n",
       "      <td>5.894403</td>\n",
       "      <td>3.511545</td>\n",
       "      <td>1.494139</td>\n",
       "      <td>2.543961</td>\n",
       "      <td>0</td>\n",
       "      <td>0</td>\n",
       "      <td>0</td>\n",
       "      <td>0</td>\n",
       "      <td>0</td>\n",
       "      <td>0</td>\n",
       "    </tr>\n",
       "    <tr>\n",
       "      <td>4</td>\n",
       "      <td>6.063785</td>\n",
       "      <td>3.526361</td>\n",
       "      <td>1.635885</td>\n",
       "      <td>2.521239</td>\n",
       "      <td>0</td>\n",
       "      <td>0</td>\n",
       "      <td>0</td>\n",
       "      <td>0</td>\n",
       "      <td>0</td>\n",
       "      <td>0</td>\n",
       "    </tr>\n",
       "  </tbody>\n",
       "</table>\n",
       "</div>"
      ],
      "text/plain": [
       "   log_weight  log_length3  log_width  log_height  Species_Parkki  \\\n",
       "0    5.488938     3.401197   1.391282    2.444085               0   \n",
       "1    5.669881     3.440418   1.459917    2.524127               0   \n",
       "2    5.828946     3.437208   1.546732    2.515905               0   \n",
       "3    5.894403     3.511545   1.494139    2.543961               0   \n",
       "4    6.063785     3.526361   1.635885    2.521239               0   \n",
       "\n",
       "   Species_Perch  Species_Pike  Species_Roach  Species_Smelt  \\\n",
       "0              0             0              0              0   \n",
       "1              0             0              0              0   \n",
       "2              0             0              0              0   \n",
       "3              0             0              0              0   \n",
       "4              0             0              0              0   \n",
       "\n",
       "   Species_Whitefish  \n",
       "0                  0  \n",
       "1                  0  \n",
       "2                  0  \n",
       "3                  0  \n",
       "4                  0  "
      ]
     },
     "execution_count": 37,
     "metadata": {},
     "output_type": "execute_result"
    }
   ],
   "source": [
    "df.head()"
   ]
  },
  {
   "cell_type": "markdown",
   "metadata": {},
   "source": [
    "### Standardization\n",
    "\n",
    "#### Standardizing helps to give our independent varibles a more standard and relatable numeric scale, it also helps in improving model accuracy"
   ]
  },
  {
   "cell_type": "code",
   "execution_count": 38,
   "metadata": {},
   "outputs": [],
   "source": [
    "#Declaring independent variable i.e x\n",
    "#Declaring Target variable i.e y\n",
    "y = df['log_weight']\n",
    "x = df.drop(['log_weight'], axis = 1)"
   ]
  },
  {
   "cell_type": "code",
   "execution_count": 39,
   "metadata": {},
   "outputs": [
    {
     "data": {
      "text/plain": [
       "StandardScaler(copy=True, with_mean=True, with_std=True)"
      ]
     },
     "execution_count": 39,
     "metadata": {},
     "output_type": "execute_result"
    }
   ],
   "source": [
    "scaler = StandardScaler() #Selecting the standardscaler\n",
    "scaler.fit(x)#fitting our independent variables"
   ]
  },
  {
   "cell_type": "code",
   "execution_count": 40,
   "metadata": {},
   "outputs": [],
   "source": [
    "scaled_x = scaler.transform(x)#scaling"
   ]
  },
  {
   "cell_type": "markdown",
   "metadata": {},
   "source": [
    "### MULTIPLE LINEAR REGRESSION\n",
    "#### It is time to create our model\n",
    "#### We will split our dataframe into two, one part for training the other for testing"
   ]
  },
  {
   "cell_type": "code",
   "execution_count": 41,
   "metadata": {},
   "outputs": [],
   "source": [
    "#Splitting our data into train and test dataframe\n",
    "x_train,x_test, y_train, y_test = train_test_split(scaled_x, y , test_size = 0.2, random_state = 47)"
   ]
  },
  {
   "cell_type": "code",
   "execution_count": 42,
   "metadata": {},
   "outputs": [
    {
     "data": {
      "text/plain": [
       "LinearRegression(copy_X=True, fit_intercept=True, n_jobs=None, normalize=False)"
      ]
     },
     "execution_count": 42,
     "metadata": {},
     "output_type": "execute_result"
    }
   ],
   "source": [
    "reg = LinearRegression()#Selecting our model\n",
    "reg.fit(x_train,y_train)"
   ]
  },
  {
   "cell_type": "code",
   "execution_count": 43,
   "metadata": {},
   "outputs": [],
   "source": [
    "#predicting using x_train\n",
    "y_hat = reg.predict(x_train)"
   ]
  },
  {
   "cell_type": "code",
   "execution_count": 44,
   "metadata": {},
   "outputs": [
    {
     "data": {
      "text/plain": [
       "<matplotlib.collections.PathCollection at 0x1b991835448>"
      ]
     },
     "execution_count": 44,
     "metadata": {},
     "output_type": "execute_result"
    },
    {
     "data": {
      "image/png": "[encoded data removed]",
      "text/plain": [
       "<Figure size 432x288 with 1 Axes>"
      ]
     },
     "metadata": {
      "needs_background": "light"
     },
     "output_type": "display_data"
    }
   ],
   "source": [
    "#Plotting y_train vs our predicted value(y_hat)\n",
    "fig, ax = plt.subplots()\n",
    "ax.scatter(y_train, y_hat)"
   ]
  },
  {
   "cell_type": "markdown",
   "metadata": {},
   "source": [
    "#### From the plot above we can see that our model was pretty decent in predicting \n",
    "### 4. No Endogeneity assumption\n",
    "#### Lets plot the residual graph to check for No Endogeneity assumption"
   ]
  },
  {
   "cell_type": "code",
   "execution_count": 45,
   "metadata": {},
   "outputs": [
    {
     "data": {
      "text/plain": [
       "Text(0.5, 1.0, 'Residual Graph')"
      ]
     },
     "execution_count": 45,
     "metadata": {},
     "output_type": "execute_result"
    },
    {
     "data": {
      "image/png": "[encoded data removed]",
      "text/plain": [
       "<Figure size 432x288 with 1 Axes>"
      ]
     },
     "metadata": {
      "needs_background": "light"
     },
     "output_type": "display_data"
    }
   ],
   "source": [
    "#Residual graph\n",
    "sns.distplot(y_train - y_hat)\n",
    "plt.title('Residual Graph')"
   ]
  },
  {
   "cell_type": "markdown",
   "metadata": {},
   "source": [
    "#### Our graph generally shows a normal distribution but with a  longer left tail and a sligthly longer right tail\n",
    "#### which means that our model tends to over estimate the target(a much higher value is predicted) a lot"
   ]
  },
  {
   "cell_type": "code",
   "execution_count": 46,
   "metadata": {},
   "outputs": [
    {
     "data": {
      "text/plain": [
       "0.9962105774646387"
      ]
     },
     "execution_count": 46,
     "metadata": {},
     "output_type": "execute_result"
    }
   ],
   "source": [
    "#R2\n",
    "reg.score(x_train, y_train)"
   ]
  },
  {
   "cell_type": "markdown",
   "metadata": {},
   "source": [
    "#### Our model is explaining 99.5% of the variabilty of the data which is quite excellent"
   ]
  },
  {
   "cell_type": "code",
   "execution_count": 47,
   "metadata": {},
   "outputs": [
    {
     "data": {
      "text/plain": [
       "5.290655929521912"
      ]
     },
     "execution_count": 47,
     "metadata": {},
     "output_type": "execute_result"
    }
   ],
   "source": [
    "#Intercept of the regression line\n",
    "reg.intercept_"
   ]
  },
  {
   "cell_type": "code",
   "execution_count": 48,
   "metadata": {},
   "outputs": [
    {
     "data": {
      "text/plain": [
       "array([0.6159191 , 0.2871849 , 0.41868436, 0.03017353, 0.11550548,\n",
       "       0.03264412, 0.03575196, 0.00950076, 0.0516536 ])"
      ]
     },
     "execution_count": 48,
     "metadata": {},
     "output_type": "execute_result"
    }
   ],
   "source": [
    "#Coefficient\n",
    "reg.coef_"
   ]
  },
  {
   "cell_type": "code",
   "execution_count": 49,
   "metadata": {},
   "outputs": [],
   "source": [
    "#Predicting with x_test\n",
    "y_hat_test = reg.predict(x_test)"
   ]
  },
  {
   "cell_type": "code",
   "execution_count": 50,
   "metadata": {},
   "outputs": [
    {
     "data": {
      "text/plain": [
       "0.993927512101692"
      ]
     },
     "execution_count": 50,
     "metadata": {},
     "output_type": "execute_result"
    }
   ],
   "source": [
    "reg.score(x_test, y_test)"
   ]
  },
  {
   "cell_type": "code",
   "execution_count": 51,
   "metadata": {},
   "outputs": [
    {
     "data": {
      "image/png": "[encoded data removed]",
      "text/plain": [
       "<Figure size 432x288 with 1 Axes>"
      ]
     },
     "metadata": {
      "needs_background": "light"
     },
     "output_type": "display_data"
    }
   ],
   "source": [
    "#Plotting predicted value against y_test\n",
    "plt.scatter(y_test, y_hat_test, alpha=0.5)\n",
    "plt.show()"
   ]
  },
  {
   "cell_type": "markdown",
   "metadata": {},
   "source": [
    "####  This plot shows that our model prediction is quite close to the expected values with an R2 of 99.3%"
   ]
  },
  {
   "cell_type": "markdown",
   "metadata": {},
   "source": [
    "### WEIGHT INTERPRETATION"
   ]
  },
  {
   "cell_type": "code",
   "execution_count": 52,
   "metadata": {},
   "outputs": [
    {
     "data": {
      "text/html": [
       "<div>\n",
       "<style scoped>\n",
       "    .dataframe tbody tr th:only-of-type {\n",
       "        vertical-align: middle;\n",
       "    }\n",
       "\n",
       "    .dataframe tbody tr th {\n",
       "        vertical-align: top;\n",
       "    }\n",
       "\n",
       "    .dataframe thead th {\n",
       "        text-align: right;\n",
       "    }\n",
       "</style>\n",
       "<table border=\"1\" class=\"dataframe\">\n",
       "  <thead>\n",
       "    <tr style=\"text-align: right;\">\n",
       "      <th></th>\n",
       "      <th>Features</th>\n",
       "      <th>Weight</th>\n",
       "    </tr>\n",
       "  </thead>\n",
       "  <tbody>\n",
       "    <tr>\n",
       "      <td>0</td>\n",
       "      <td>log_length3</td>\n",
       "      <td>0.615919</td>\n",
       "    </tr>\n",
       "    <tr>\n",
       "      <td>1</td>\n",
       "      <td>log_width</td>\n",
       "      <td>0.287185</td>\n",
       "    </tr>\n",
       "    <tr>\n",
       "      <td>2</td>\n",
       "      <td>log_height</td>\n",
       "      <td>0.418684</td>\n",
       "    </tr>\n",
       "    <tr>\n",
       "      <td>3</td>\n",
       "      <td>Species_Parkki</td>\n",
       "      <td>0.030174</td>\n",
       "    </tr>\n",
       "    <tr>\n",
       "      <td>4</td>\n",
       "      <td>Species_Perch</td>\n",
       "      <td>0.115505</td>\n",
       "    </tr>\n",
       "    <tr>\n",
       "      <td>5</td>\n",
       "      <td>Species_Pike</td>\n",
       "      <td>0.032644</td>\n",
       "    </tr>\n",
       "    <tr>\n",
       "      <td>6</td>\n",
       "      <td>Species_Roach</td>\n",
       "      <td>0.035752</td>\n",
       "    </tr>\n",
       "    <tr>\n",
       "      <td>7</td>\n",
       "      <td>Species_Smelt</td>\n",
       "      <td>0.009501</td>\n",
       "    </tr>\n",
       "    <tr>\n",
       "      <td>8</td>\n",
       "      <td>Species_Whitefish</td>\n",
       "      <td>0.051654</td>\n",
       "    </tr>\n",
       "  </tbody>\n",
       "</table>\n",
       "</div>"
      ],
      "text/plain": [
       "            Features    Weight\n",
       "0        log_length3  0.615919\n",
       "1          log_width  0.287185\n",
       "2         log_height  0.418684\n",
       "3     Species_Parkki  0.030174\n",
       "4      Species_Perch  0.115505\n",
       "5       Species_Pike  0.032644\n",
       "6      Species_Roach  0.035752\n",
       "7      Species_Smelt  0.009501\n",
       "8  Species_Whitefish  0.051654"
      ]
     },
     "execution_count": 52,
     "metadata": {},
     "output_type": "execute_result"
    }
   ],
   "source": [
    "#Creating a summary table containing coefficients for each variable\n",
    "summary = pd.DataFrame( data = x.columns.values, columns = ['Features'] )\n",
    "summary['Weight'] = reg.coef_\n",
    "summary"
   ]
  },
  {
   "cell_type": "markdown",
   "metadata": {},
   "source": [
    "#### Considering the summary table the higher the weight the higher the impact that means log_length3 is the most impactful feature\n",
    "#### A positive weight shows an increase in log_weight and weight respectively\n",
    "#### A negative weight shows a decrease in log_weight and weight respectively"
   ]
  },
  {
   "cell_type": "markdown",
   "metadata": {},
   "source": [
    "### CONCLUSION\n",
    "#### Let's take a closer look at the expected and predicted values"
   ]
  },
  {
   "cell_type": "code",
   "execution_count": 53,
   "metadata": {},
   "outputs": [],
   "source": [
    "#Creating a new dataframe\n",
    "df1 = pd.DataFrame( data = np.exp(y_hat_test), columns = ['Predictions'] )"
   ]
  },
  {
   "cell_type": "code",
   "execution_count": 54,
   "metadata": {},
   "outputs": [],
   "source": [
    "#Resetting index to match the index of y_test with that of the dataframe\n",
    "y_test = y_test.reset_index(drop = True)"
   ]
  },
  {
   "cell_type": "code",
   "execution_count": 55,
   "metadata": {},
   "outputs": [],
   "source": [
    "#target column will hold our predicted values\n",
    "df1['target'] = np.exp(y_test)\n"
   ]
  },
  {
   "cell_type": "code",
   "execution_count": 56,
   "metadata": {},
   "outputs": [],
   "source": [
    "#Substrating predictions from target to get the difference in value\n",
    "df1['Residual'] = df1['target'] - df1['Predictions']\n",
    "\n",
    "#Difference in percentage\n",
    "df1['Difference%'] = np.absolute(df1['Residual']/ df1['target'] * 100)"
   ]
  },
  {
   "cell_type": "code",
   "execution_count": 57,
   "metadata": {},
   "outputs": [
    {
     "data": {
      "text/html": [
       "<div>\n",
       "<style scoped>\n",
       "    .dataframe tbody tr th:only-of-type {\n",
       "        vertical-align: middle;\n",
       "    }\n",
       "\n",
       "    .dataframe tbody tr th {\n",
       "        vertical-align: top;\n",
       "    }\n",
       "\n",
       "    .dataframe thead th {\n",
       "        text-align: right;\n",
       "    }\n",
       "</style>\n",
       "<table border=\"1\" class=\"dataframe\">\n",
       "  <thead>\n",
       "    <tr style=\"text-align: right;\">\n",
       "      <th></th>\n",
       "      <th>Predictions</th>\n",
       "      <th>target</th>\n",
       "      <th>Residual</th>\n",
       "      <th>Difference%</th>\n",
       "    </tr>\n",
       "  </thead>\n",
       "  <tbody>\n",
       "    <tr>\n",
       "      <td>count</td>\n",
       "      <td>30.000000</td>\n",
       "      <td>30.000000</td>\n",
       "      <td>30.000000</td>\n",
       "      <td>30.000000</td>\n",
       "    </tr>\n",
       "    <tr>\n",
       "      <td>mean</td>\n",
       "      <td>357.615134</td>\n",
       "      <td>362.983333</td>\n",
       "      <td>5.368199</td>\n",
       "      <td>7.486182</td>\n",
       "    </tr>\n",
       "    <tr>\n",
       "      <td>std</td>\n",
       "      <td>251.303210</td>\n",
       "      <td>260.655004</td>\n",
       "      <td>24.194120</td>\n",
       "      <td>5.794146</td>\n",
       "    </tr>\n",
       "    <tr>\n",
       "      <td>min</td>\n",
       "      <td>7.249956</td>\n",
       "      <td>5.900000</td>\n",
       "      <td>-32.041422</td>\n",
       "      <td>1.090294</td>\n",
       "    </tr>\n",
       "    <tr>\n",
       "      <td>25%</td>\n",
       "      <td>147.373265</td>\n",
       "      <td>148.750000</td>\n",
       "      <td>-10.590449</td>\n",
       "      <td>2.816594</td>\n",
       "    </tr>\n",
       "    <tr>\n",
       "      <td>50%</td>\n",
       "      <td>319.525468</td>\n",
       "      <td>295.000000</td>\n",
       "      <td>5.933096</td>\n",
       "      <td>6.077233</td>\n",
       "    </tr>\n",
       "    <tr>\n",
       "      <td>75%</td>\n",
       "      <td>497.616138</td>\n",
       "      <td>507.500000</td>\n",
       "      <td>13.666074</td>\n",
       "      <td>11.084428</td>\n",
       "    </tr>\n",
       "    <tr>\n",
       "      <td>max</td>\n",
       "      <td>886.453009</td>\n",
       "      <td>900.000000</td>\n",
       "      <td>64.642731</td>\n",
       "      <td>22.880604</td>\n",
       "    </tr>\n",
       "  </tbody>\n",
       "</table>\n",
       "</div>"
      ],
      "text/plain": [
       "       Predictions      target   Residual  Difference%\n",
       "count    30.000000   30.000000  30.000000    30.000000\n",
       "mean    357.615134  362.983333   5.368199     7.486182\n",
       "std     251.303210  260.655004  24.194120     5.794146\n",
       "min       7.249956    5.900000 -32.041422     1.090294\n",
       "25%     147.373265  148.750000 -10.590449     2.816594\n",
       "50%     319.525468  295.000000   5.933096     6.077233\n",
       "75%     497.616138  507.500000  13.666074    11.084428\n",
       "max     886.453009  900.000000  64.642731    22.880604"
      ]
     },
     "execution_count": 57,
     "metadata": {},
     "output_type": "execute_result"
    }
   ],
   "source": [
    "df1.describe()"
   ]
  },
  {
   "cell_type": "markdown",
   "metadata": {},
   "source": [
    "#### Our minimum Difference in % is 1.09 while our maximum is 22.88"
   ]
  },
  {
   "cell_type": "code",
   "execution_count": 58,
   "metadata": {},
   "outputs": [
    {
     "data": {
      "text/html": [
       "<div>\n",
       "<style scoped>\n",
       "    .dataframe tbody tr th:only-of-type {\n",
       "        vertical-align: middle;\n",
       "    }\n",
       "\n",
       "    .dataframe tbody tr th {\n",
       "        vertical-align: top;\n",
       "    }\n",
       "\n",
       "    .dataframe thead th {\n",
       "        text-align: right;\n",
       "    }\n",
       "</style>\n",
       "<table border=\"1\" class=\"dataframe\">\n",
       "  <thead>\n",
       "    <tr style=\"text-align: right;\">\n",
       "      <th></th>\n",
       "      <th>Predictions</th>\n",
       "      <th>target</th>\n",
       "      <th>Residual</th>\n",
       "      <th>Difference%</th>\n",
       "    </tr>\n",
       "  </thead>\n",
       "  <tbody>\n",
       "    <tr>\n",
       "      <td>8</td>\n",
       "      <td>162.755373</td>\n",
       "      <td>161.0</td>\n",
       "      <td>-1.755373</td>\n",
       "      <td>1.090294</td>\n",
       "    </tr>\n",
       "    <tr>\n",
       "      <td>22</td>\n",
       "      <td>809.145197</td>\n",
       "      <td>820.0</td>\n",
       "      <td>10.854803</td>\n",
       "      <td>1.323756</td>\n",
       "    </tr>\n",
       "    <tr>\n",
       "      <td>20</td>\n",
       "      <td>886.453009</td>\n",
       "      <td>900.0</td>\n",
       "      <td>13.546991</td>\n",
       "      <td>1.505221</td>\n",
       "    </tr>\n",
       "    <tr>\n",
       "      <td>0</td>\n",
       "      <td>442.581859</td>\n",
       "      <td>450.0</td>\n",
       "      <td>7.418141</td>\n",
       "      <td>1.648476</td>\n",
       "    </tr>\n",
       "    <tr>\n",
       "      <td>5</td>\n",
       "      <td>596.834061</td>\n",
       "      <td>610.0</td>\n",
       "      <td>13.165939</td>\n",
       "      <td>2.158351</td>\n",
       "    </tr>\n",
       "    <tr>\n",
       "      <td>9</td>\n",
       "      <td>586.636255</td>\n",
       "      <td>600.0</td>\n",
       "      <td>13.363745</td>\n",
       "      <td>2.227291</td>\n",
       "    </tr>\n",
       "    <tr>\n",
       "      <td>23</td>\n",
       "      <td>223.606234</td>\n",
       "      <td>218.0</td>\n",
       "      <td>-5.606234</td>\n",
       "      <td>2.571667</td>\n",
       "    </tr>\n",
       "    <tr>\n",
       "      <td>26</td>\n",
       "      <td>486.294231</td>\n",
       "      <td>500.0</td>\n",
       "      <td>13.705769</td>\n",
       "      <td>2.741154</td>\n",
       "    </tr>\n",
       "    <tr>\n",
       "      <td>29</td>\n",
       "      <td>334.501938</td>\n",
       "      <td>345.0</td>\n",
       "      <td>10.498062</td>\n",
       "      <td>3.042916</td>\n",
       "    </tr>\n",
       "    <tr>\n",
       "      <td>7</td>\n",
       "      <td>374.310594</td>\n",
       "      <td>363.0</td>\n",
       "      <td>-11.310594</td>\n",
       "      <td>3.115866</td>\n",
       "    </tr>\n",
       "    <tr>\n",
       "      <td>2</td>\n",
       "      <td>707.628236</td>\n",
       "      <td>685.0</td>\n",
       "      <td>-22.628236</td>\n",
       "      <td>3.303392</td>\n",
       "    </tr>\n",
       "    <tr>\n",
       "      <td>27</td>\n",
       "      <td>115.551949</td>\n",
       "      <td>120.0</td>\n",
       "      <td>4.448051</td>\n",
       "      <td>3.706709</td>\n",
       "    </tr>\n",
       "    <tr>\n",
       "      <td>13</td>\n",
       "      <td>667.128633</td>\n",
       "      <td>700.0</td>\n",
       "      <td>32.871367</td>\n",
       "      <td>4.695910</td>\n",
       "    </tr>\n",
       "    <tr>\n",
       "      <td>3</td>\n",
       "      <td>501.390107</td>\n",
       "      <td>475.0</td>\n",
       "      <td>-26.390107</td>\n",
       "      <td>5.555812</td>\n",
       "    </tr>\n",
       "    <tr>\n",
       "      <td>11</td>\n",
       "      <td>317.009515</td>\n",
       "      <td>300.0</td>\n",
       "      <td>-17.009515</td>\n",
       "      <td>5.669838</td>\n",
       "    </tr>\n",
       "    <tr>\n",
       "      <td>21</td>\n",
       "      <td>138.430016</td>\n",
       "      <td>130.0</td>\n",
       "      <td>-8.430016</td>\n",
       "      <td>6.484628</td>\n",
       "    </tr>\n",
       "    <tr>\n",
       "      <td>18</td>\n",
       "      <td>241.942488</td>\n",
       "      <td>260.0</td>\n",
       "      <td>18.057512</td>\n",
       "      <td>6.945197</td>\n",
       "    </tr>\n",
       "    <tr>\n",
       "      <td>16</td>\n",
       "      <td>836.722720</td>\n",
       "      <td>900.0</td>\n",
       "      <td>63.277280</td>\n",
       "      <td>7.030809</td>\n",
       "    </tr>\n",
       "    <tr>\n",
       "      <td>19</td>\n",
       "      <td>110.689629</td>\n",
       "      <td>120.0</td>\n",
       "      <td>9.310371</td>\n",
       "      <td>7.758643</td>\n",
       "    </tr>\n",
       "    <tr>\n",
       "      <td>1</td>\n",
       "      <td>393.641200</td>\n",
       "      <td>430.0</td>\n",
       "      <td>36.358800</td>\n",
       "      <td>8.455535</td>\n",
       "    </tr>\n",
       "    <tr>\n",
       "      <td>15</td>\n",
       "      <td>132.872455</td>\n",
       "      <td>120.0</td>\n",
       "      <td>-12.872455</td>\n",
       "      <td>10.727046</td>\n",
       "    </tr>\n",
       "    <tr>\n",
       "      <td>12</td>\n",
       "      <td>322.041422</td>\n",
       "      <td>290.0</td>\n",
       "      <td>-32.041422</td>\n",
       "      <td>11.048766</td>\n",
       "    </tr>\n",
       "    <tr>\n",
       "      <td>14</td>\n",
       "      <td>142.245896</td>\n",
       "      <td>160.0</td>\n",
       "      <td>17.754104</td>\n",
       "      <td>11.096315</td>\n",
       "    </tr>\n",
       "    <tr>\n",
       "      <td>17</td>\n",
       "      <td>257.649361</td>\n",
       "      <td>290.0</td>\n",
       "      <td>32.350639</td>\n",
       "      <td>11.155393</td>\n",
       "    </tr>\n",
       "    <tr>\n",
       "      <td>28</td>\n",
       "      <td>445.357269</td>\n",
       "      <td>510.0</td>\n",
       "      <td>64.642731</td>\n",
       "      <td>12.675045</td>\n",
       "    </tr>\n",
       "    <tr>\n",
       "      <td>4</td>\n",
       "      <td>273.250581</td>\n",
       "      <td>242.0</td>\n",
       "      <td>-31.250581</td>\n",
       "      <td>12.913463</td>\n",
       "    </tr>\n",
       "    <tr>\n",
       "      <td>25</td>\n",
       "      <td>22.606051</td>\n",
       "      <td>19.7</td>\n",
       "      <td>-2.906051</td>\n",
       "      <td>14.751530</td>\n",
       "    </tr>\n",
       "    <tr>\n",
       "      <td>24</td>\n",
       "      <td>167.953030</td>\n",
       "      <td>145.0</td>\n",
       "      <td>-22.953030</td>\n",
       "      <td>15.829676</td>\n",
       "    </tr>\n",
       "    <tr>\n",
       "      <td>6</td>\n",
       "      <td>23.974756</td>\n",
       "      <td>19.9</td>\n",
       "      <td>-4.074756</td>\n",
       "      <td>20.476161</td>\n",
       "    </tr>\n",
       "    <tr>\n",
       "      <td>10</td>\n",
       "      <td>7.249956</td>\n",
       "      <td>5.9</td>\n",
       "      <td>-1.349956</td>\n",
       "      <td>22.880604</td>\n",
       "    </tr>\n",
       "  </tbody>\n",
       "</table>\n",
       "</div>"
      ],
      "text/plain": [
       "    Predictions  target   Residual  Difference%\n",
       "8    162.755373   161.0  -1.755373     1.090294\n",
       "22   809.145197   820.0  10.854803     1.323756\n",
       "20   886.453009   900.0  13.546991     1.505221\n",
       "0    442.581859   450.0   7.418141     1.648476\n",
       "5    596.834061   610.0  13.165939     2.158351\n",
       "9    586.636255   600.0  13.363745     2.227291\n",
       "23   223.606234   218.0  -5.606234     2.571667\n",
       "26   486.294231   500.0  13.705769     2.741154\n",
       "29   334.501938   345.0  10.498062     3.042916\n",
       "7    374.310594   363.0 -11.310594     3.115866\n",
       "2    707.628236   685.0 -22.628236     3.303392\n",
       "27   115.551949   120.0   4.448051     3.706709\n",
       "13   667.128633   700.0  32.871367     4.695910\n",
       "3    501.390107   475.0 -26.390107     5.555812\n",
       "11   317.009515   300.0 -17.009515     5.669838\n",
       "21   138.430016   130.0  -8.430016     6.484628\n",
       "18   241.942488   260.0  18.057512     6.945197\n",
       "16   836.722720   900.0  63.277280     7.030809\n",
       "19   110.689629   120.0   9.310371     7.758643\n",
       "1    393.641200   430.0  36.358800     8.455535\n",
       "15   132.872455   120.0 -12.872455    10.727046\n",
       "12   322.041422   290.0 -32.041422    11.048766\n",
       "14   142.245896   160.0  17.754104    11.096315\n",
       "17   257.649361   290.0  32.350639    11.155393\n",
       "28   445.357269   510.0  64.642731    12.675045\n",
       "4    273.250581   242.0 -31.250581    12.913463\n",
       "25    22.606051    19.7  -2.906051    14.751530\n",
       "24   167.953030   145.0 -22.953030    15.829676\n",
       "6     23.974756    19.9  -4.074756    20.476161\n",
       "10     7.249956     5.9  -1.349956    22.880604"
      ]
     },
     "execution_count": 58,
     "metadata": {},
     "output_type": "execute_result"
    }
   ],
   "source": [
    "df1.sort_values('Difference%')"
   ]
  },
  {
   "cell_type": "markdown",
   "metadata": {},
   "source": [
    "####  We notice that  from the table above the values with the highest Diffence% have both negative and positive residual values\n",
    "#### That can also mean that our model tends both overestimate and underestimate its target\n",
    "#### Over all our model is a very good model"
   ]
  },
  {
   "cell_type": "code",
   "execution_count": null,
   "metadata": {},
   "outputs": [],
   "source": []
  },
  {
   "cell_type": "markdown",
   "metadata": {},
   "source": [
    "#### If you find this notebook useful don't forget to upvote. #Happycoding"
   ]
  },
  {
   "cell_type": "code",
   "execution_count": null,
   "metadata": {},
   "outputs": [],
   "source": []
  }
 ],
 "metadata": {
  "kernelspec": {
   "display_name": "Python 3",
   "language": "python",
   "name": "python3"
  },
  "language_info": {
   "codemirror_mode": {
    "name": "ipython",
    "version": 3
   },
   "file_extension": ".py",
   "mimetype": "text/x-python",
   "name": "python",
   "nbconvert_exporter": "python",
   "pygments_lexer": "ipython3",
   "version": "3.7.4"
  }
 },
 "nbformat": 4,
 "nbformat_minor": 2
}
